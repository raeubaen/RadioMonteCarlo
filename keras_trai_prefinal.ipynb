{
  "cells": [
    {
      "cell_type": "markdown",
      "source": [
        "Our goal is to build a classifier for Radiative Muon Capture event selection with the Mu2e calorimeter  (https://iopscience.iop.org/article/10.1088/1748-0221/15/09/C09035/pdf), using a custom version of the ParticleNet Dynamical Graph CNN architecture (https://arxiv.org/abs/1902.08570)"
      ],
      "metadata": {
        "id": "N-nIX7kI6MNK"
      }
    },
    {
      "cell_type": "markdown",
      "source": [
        "There are three type of samples:\n",
        "- Photons from Radiative Muon Capture, as signal\n",
        "- Min-bias events due to the beam, as background\n",
        "- Cosmic rays, as background\n",
        "\n",
        "All the samples represent clusters in the upstream calorimeter disk. \n",
        "\n",
        "Each sample contains both summary information about the cluster (Energy, Time, Centroid Radius, Number of hits) and hits-level variables (Energy, Time and xy coordinates of each hit)."
      ],
      "metadata": {
        "id": "au2FgZqAdFDh"
      }
    },
    {
      "cell_type": "markdown",
      "source": [
        "  ### Model customization\n",
        "  - In order to help the training:​\n",
        "\n",
        "    - \"summary\" vector with Energy, Radius, Time and Number of active cells, directly sent to the 1st dense layer​​\n",
        "\n",
        "  - In order to adapt the model to the data:​\n",
        "\n",
        "      - Last layer changed from softmax to sigmoid, because we have only 2 classes​\n",
        "\n",
        "      - Number of nearest neighbors changed from 7 to 3, because the clusters are very small​\n",
        "\n",
        "    ​\n",
        "\n",
        "  - In order to reduce overfitting:​\n",
        "\n",
        "      - Number of edge-conv filters reduced​\n",
        "\n",
        "      - Number of neurons in 1st dense layer reduced​\n",
        "\n",
        "      - Dropout rate in 1st dense layer increased​"
      ],
      "metadata": {
        "id": "tLuwjFIt9XBO"
      }
    },
    {
      "cell_type": "markdown",
      "source": [
        "Original model: https://github.com/hqucms/ParticleNet/blob/master/tf-keras/tf_keras_model.py"
      ],
      "metadata": {
        "id": "6yYUA3CD-QaJ"
      }
    },
    {
      "cell_type": "code",
      "source": [
        "# importing  custom particle_net keras model \n",
        "!wget https://raw.githubusercontent.com/raeubaen/RadioMonteCarlo/main/tf_keras_model.py -O tf_keras_model.py"
      ],
      "metadata": {
        "id": "3gI9EJ0R2j5v",
        "outputId": "34b63106-7416-48c7-b3a9-e31ad6423b52",
        "colab": {
          "base_uri": "https://localhost:8080/"
        }
      },
      "execution_count": 3,
      "outputs": [
        {
          "output_type": "stream",
          "name": "stdout",
          "text": [
            "--2022-06-19 12:19:43--  https://raw.githubusercontent.com/raeubaen/RadioMonteCarlo/main/tf_keras_model.py\n",
            "Resolving raw.githubusercontent.com (raw.githubusercontent.com)... 185.199.108.133, 185.199.109.133, 185.199.110.133, ...\n",
            "Connecting to raw.githubusercontent.com (raw.githubusercontent.com)|185.199.108.133|:443... connected.\n",
            "HTTP request sent, awaiting response... 200 OK\n",
            "Length: 6795 (6.6K) [text/plain]\n",
            "Saving to: ‘tf_keras_model.py’\n",
            "\n",
            "\rtf_keras_model.py     0%[                    ]       0  --.-KB/s               \rtf_keras_model.py   100%[===================>]   6.64K  --.-KB/s    in 0s      \n",
            "\n",
            "2022-06-19 12:19:43 (91.1 MB/s) - ‘tf_keras_model.py’ saved [6795/6795]\n",
            "\n"
          ]
        }
      ]
    },
    {
      "cell_type": "code",
      "execution_count": 4,
      "metadata": {
        "id": "S3ag941H2g8d",
        "colab": {
          "base_uri": "https://localhost:8080/"
        },
        "outputId": "b7ba2c13-7e9e-437c-ac78-32ea50756922"
      },
      "outputs": [
        {
          "output_type": "stream",
          "name": "stderr",
          "text": [
            "[2022-06-19 12:19:45,868] INFO: NumExpr defaulting to 2 threads.\n"
          ]
        }
      ],
      "source": [
        "import tensorflow as tf\n",
        "from tensorflow import keras\n",
        "from tf_keras_model import get_particle_net_lite_custom"
      ]
    },
    {
      "cell_type": "code",
      "execution_count": 2,
      "metadata": {
        "id": "rabKUfn02g8b"
      },
      "outputs": [],
      "source": [
        "import logging\n",
        "logging.basicConfig(level=logging.INFO, format='[%(asctime)s] %(levelname)s: %(message)s')"
      ]
    },
    {
      "cell_type": "code",
      "execution_count": 1,
      "metadata": {
        "id": "qIv6ffW82g8W"
      },
      "outputs": [],
      "source": [
        "import numpy as np\n",
        "from sklearn.metrics import precision_recall_curve, auc\n",
        "import matplotlib.pyplot as plt"
      ]
    },
    {
      "cell_type": "markdown",
      "source": [
        "Data are imported in .npy format from Dropbox "
      ],
      "metadata": {
        "id": "F2FnfwfZc9Cx"
      }
    },
    {
      "cell_type": "code",
      "source": [
        "!wget https://www.dropbox.com/sh/oqlkgpajx6nu8i7/AABnJFTfOheRs2O3x_NT_q72a?dl=1 -O keras_input.zip\n",
        "!unzip keras_input.zip\n",
        "\n",
        "data_folder = \".\""
      ],
      "metadata": {
        "id": "Ez9vWLA_7qaP"
      },
      "execution_count": null,
      "outputs": []
    },
    {
      "cell_type": "markdown",
      "source": [
        "The three datasets are saved as dictionaries with 4 components:\n",
        "-  \"points\": Point Cloud (xy coordinates of each hit of a cluster) - padded to 50 maximum hits\n",
        "-  \"features\": Energy and Time of each hit of a cluster - paddes to 50 maximum hits\n",
        "-  \"mask\": Mask to distinguish real hits (the others are filled with 0) in a cluster\n",
        "-  \"summary\": Energy, Time, Radius, and Number of active cells for a cluster"
      ],
      "metadata": {
        "id": "fexKfaUI_Mzi"
      }
    },
    {
      "cell_type": "code",
      "execution_count": 6,
      "metadata": {
        "id": "Se9xg25k2g8f"
      },
      "outputs": [],
      "source": [
        "name_map = {\"points\": \"xy\", \"features\": \"et\", \"mask\": \"mask\", \"summary\": \"etrn\"}\n",
        "\n",
        "signal  = {key: np.load(f\"{data_folder}/signal_{ name_map[key]}.npy\") for key in name_map}\n",
        "\n",
        "mnbs    = {key: np.load(f\"{data_folder}/mnbs_{   name_map[key]}.npy\") for key in name_map}\n",
        "\n",
        "cosmics = {key: np.load(f\"{data_folder}/cosmics_{name_map[key]}.npy\") for key in name_map}"
      ]
    },
    {
      "cell_type": "markdown",
      "source": [
        "The datasets (generated with Monte Carlo) are weighted to match the real statistics of the data in one Mu2e injection cycle (1.33 s).\n"
      ],
      "metadata": {
        "id": "OZX7Akk1fWBM"
      }
    },
    {
      "cell_type": "code",
      "source": [
        "'''\n",
        "cluster on upstream disk in one injection cycle (1.33s):\n",
        "RMC: 330\n",
        "MNBS: 1.3M\n",
        "cosmici: 4\n",
        "\n",
        "MC cluster on upstream disk:\n",
        "RMC: 150k\n",
        "MNBS: 1.05M\n",
        "cosmici: 53k\n",
        "\n",
        "weights:\n",
        "RMC: 66/150k \n",
        "MNBS: \n",
        "Cosmici: 4/53k\n",
        "'''\n",
        "\n",
        "signal_weight = 330/150e3 * 100\n",
        "mnbs_weight = 0.24 * 100\n",
        "cosmics_weight = 4/53e3 * 100\n",
        "\n",
        "'''\n",
        "the MC has been filtered with ROOT\n",
        "using two pre-selection cuts:\n",
        "E > 50 MeV  &&  R > 480 mm\n",
        "The cuts are necessary because in the low-energy low-radius ragion the \n",
        "background due to the beam is huge\n",
        "'''\n",
        "\n",
        "print(end=\"\")"
      ],
      "metadata": {
        "id": "m1CHQLiEAXZQ"
      },
      "execution_count": 7,
      "outputs": []
    },
    {
      "cell_type": "markdown",
      "source": [
        "The samples are merged into a unique dataset, which is then shuffled, saving also labels and weights"
      ],
      "metadata": {
        "id": "-RADS0WTfqjL"
      }
    },
    {
      "cell_type": "code",
      "execution_count": 8,
      "metadata": {
        "id": "ZS-UFF0G2g8i"
      },
      "outputs": [],
      "source": [
        "S =  signal[\"mask\"].shape[0] #entries segnale\n",
        "F =    mnbs[\"mask\"].shape[0] #entries mnbs (background flash da fascio)\n",
        "C = cosmics[\"mask\"].shape[0] #entries cosmici\n",
        "\n",
        "N = S + F + C\n",
        "\n",
        "p = np.random.permutation(N) #"
      ]
    },
    {
      "cell_type": "code",
      "execution_count": 9,
      "metadata": {
        "id": "aXZ6qndr2g8m",
        "colab": {
          "base_uri": "https://localhost:8080/"
        },
        "outputId": "bfb368f8-46fd-439c-a236-c2a69f5e88bf"
      },
      "outputs": [
        {
          "output_type": "stream",
          "name": "stdout",
          "text": [
            "- Entries per signale, mnbs e cosmici:[41372, 1132, 41598]\n",
            "- Pesi per signale, mnbs e cosmici:[0.22, 24.0, 0.007547169811320755]\n"
          ]
        }
      ],
      "source": [
        "data = {key: np.concatenate( (signal[key], mnbs[key], cosmics[key]) )[p] for key in name_map}\n",
        "\n",
        "label_list = [1, 0, 0]\n",
        "entries_list = [S, F, C]\n",
        "weight_list = [signal_weight, mnbs_weight, cosmics_weight]\n",
        "\n",
        "print(f\"- Entries per signale, mnbs e cosmici:{entries_list}\")\n",
        "print(f\"- Pesi per signale, mnbs e cosmici:{weight_list}\")\n",
        "\n",
        "label = np.concatenate( \n",
        "    [ np.ones((e))*l for e, l in zip(entries_list,  label_list) ]\n",
        ")[p]\n",
        "\n",
        "sample_weight = np.concatenate( \n",
        "    [ np.ones((e))*w for e, w in zip(entries_list, weight_list) ]\n",
        ")[p]"
      ]
    },
    {
      "cell_type": "markdown",
      "source": [
        "The data are normalized to help the training "
      ],
      "metadata": {
        "id": "PsfwSDLcf9U-"
      }
    },
    {
      "cell_type": "code",
      "source": [
        "from sklearn.preprocessing import StandardScaler\n",
        "scaler = StandardScaler()\n",
        "\n",
        "for key in [\"points\", \"features\"]:\n",
        "  data[key][data[\"mask\"].reshape(N, 50)] = scaler.fit_transform(data[key][data[\"mask\"].reshape(N, 50)])\n",
        "\n",
        "data[\"summary\"] = scaler.fit_transform(data[\"summary\"])"
      ],
      "metadata": {
        "id": "xTsETQ4OAxEd"
      },
      "execution_count": 10,
      "outputs": []
    },
    {
      "cell_type": "markdown",
      "source": [
        "The dataset is split in training, validation and test set, with a 7:2:1 ratio "
      ],
      "metadata": {
        "id": "FcLMyfjTgHsO"
      }
    },
    {
      "cell_type": "code",
      "execution_count": 11,
      "metadata": {
        "id": "ZFNtoo8s2g8s"
      },
      "outputs": [],
      "source": [
        "train_data  = {key: data[key][int(N*0.0) : int(N*0.7)] for key in name_map}\n",
        "test_data   = {key: data[key][int(N*0.7) : int(N*0.9)] for key in name_map}\n",
        "val_data    = {key: data[key][int(N*0.9) : int(N*1.0)] for key in name_map}\n",
        "\n",
        "train_label = label[int(N*0.0) : int(N*0.7)]\n",
        "test_label  = label[int(N*0.7) : int(N*0.9)]\n",
        "val_label   = label[int(N*0.9) : int(N*1.0)]\n",
        "\n",
        "train_weight = sample_weight[int(N*0.0) : int(N*0.7)]\n",
        "test_weight  = sample_weight[int(N*0.7) : int(N*0.9)]\n",
        "val_weight   = sample_weight[int(N*0.9) : int(N*1.0)]"
      ]
    },
    {
      "cell_type": "markdown",
      "source": [
        "The custom keras model is imported from the library "
      ],
      "metadata": {
        "id": "TEdNF_JlgM4Z"
      }
    },
    {
      "cell_type": "code",
      "execution_count": 12,
      "metadata": {
        "scrolled": true,
        "id": "nfCI_M2d2g8u"
      },
      "outputs": [],
      "source": [
        "input_shapes = {'points': (50, 2), 'features': (50, 2), 'mask':(50, 1)}\n",
        "\n",
        "model = get_particle_net_lite_custom(input_shapes)"
      ]
    },
    {
      "cell_type": "code",
      "execution_count": 13,
      "metadata": {
        "id": "LFRJXncU2g8x"
      },
      "outputs": [],
      "source": [
        "# Training parameters\n",
        "batch_size = 1024\n",
        "epochs = 30"
      ]
    },
    {
      "cell_type": "markdown",
      "source": [
        "The learning rate is exponentially decreased by a 0.1 factor every 10 epochs,\n",
        "for a maximum of 30 epochs. The best initial learning rate was estimated using the learning rate finder technique (https://colab.research.google.com/github/sachinruk/blog/blob/master/_notebooks/2021-02-15-Tensorflow-Learning-Rate-Finder.ipynb)"
      ],
      "metadata": {
        "id": "3_gm4C99gebR"
      }
    },
    {
      "cell_type": "code",
      "execution_count": 14,
      "metadata": {
        "id": "RHvU72JY2g8z"
      },
      "outputs": [],
      "source": [
        "def lr_schedule(epoch):\n",
        "    lr = 1e-2\n",
        "    if epoch > 10:\n",
        "        lr *= 0.1\n",
        "    elif epoch > 20:\n",
        "        lr *= 0.01\n",
        "    logging.info('Learning rate: %f'%lr)\n",
        "    return lr"
      ]
    },
    {
      "cell_type": "markdown",
      "source": [
        "The model is compiled with:\n",
        "- Loss: binary crossentropy\n",
        "- Metric: Area under the Precision Recall curve (AURPC)\n",
        "- Optimizer: Adam\n",
        "\n",
        "The loss and the metric are weighted to match the real statistics"
      ],
      "metadata": {
        "id": "NvIByldWgvyC"
      }
    },
    {
      "cell_type": "code",
      "execution_count": 15,
      "metadata": {
        "scrolled": true,
        "id": "2IlFncmO2g82",
        "outputId": "32d128e4-b6b2-4fc2-e206-bafc3e5b6b33",
        "colab": {
          "base_uri": "https://localhost:8080/"
        }
      },
      "outputs": [
        {
          "output_type": "stream",
          "name": "stderr",
          "text": [
            "[2022-06-19 12:20:34,824] INFO: Learning rate: 0.010000\n"
          ]
        },
        {
          "output_type": "stream",
          "name": "stdout",
          "text": [
            "Model: \"ParticleNet\"\n",
            "__________________________________________________________________________________________________\n",
            " Layer (type)                   Output Shape         Param #     Connected to                     \n",
            "==================================================================================================\n",
            " mask (InputLayer)              [(None, 50, 1)]      0           []                               \n",
            "                                                                                                  \n",
            " tf.math.not_equal (TFOpLambda)  (None, 50, 1)       0           ['mask[0][0]']                   \n",
            "                                                                                                  \n",
            " tf.cast (TFOpLambda)           (None, 50, 1)        0           ['tf.math.not_equal[0][0]']      \n",
            "                                                                                                  \n",
            " tf.math.equal (TFOpLambda)     (None, 50, 1)        0           ['tf.cast[0][0]']                \n",
            "                                                                                                  \n",
            " tf.cast_1 (TFOpLambda)         (None, 50, 1)        0           ['tf.math.equal[0][0]']          \n",
            "                                                                                                  \n",
            " tf.math.multiply (TFOpLambda)  (None, 50, 1)        0           ['tf.cast_1[0][0]']              \n",
            "                                                                                                  \n",
            " points (InputLayer)            [(None, 50, 2)]      0           []                               \n",
            "                                                                                                  \n",
            " tf.math.add (TFOpLambda)       (None, 50, 2)        0           ['tf.math.multiply[0][0]',       \n",
            "                                                                  'points[0][0]']                 \n",
            "                                                                                                  \n",
            " features (InputLayer)          [(None, 50, 2)]      0           []                               \n",
            "                                                                                                  \n",
            " tf.compat.v1.transpose (TFOpLa  (None, 2, 50)       0           ['tf.math.add[0][0]']            \n",
            " mbda)                                                                                            \n",
            "                                                                                                  \n",
            " tf.expand_dims (TFOpLambda)    (None, 50, 1, 2)     0           ['features[0][0]']               \n",
            "                                                                                                  \n",
            " tf.math.multiply_1 (TFOpLambda  (None, 50, 2)       0           ['tf.math.add[0][0]',            \n",
            " )                                                                'tf.math.add[0][0]']            \n",
            "                                                                                                  \n",
            " tf.linalg.matmul (TFOpLambda)  (None, 50, 50)       0           ['tf.math.add[0][0]',            \n",
            "                                                                  'tf.compat.v1.transpose[0][0]'] \n",
            "                                                                                                  \n",
            " tf.math.multiply_2 (TFOpLambda  (None, 50, 2)       0           ['tf.math.add[0][0]',            \n",
            " )                                                                'tf.math.add[0][0]']            \n",
            "                                                                                                  \n",
            " ParticleNet_fts_bn (BatchNorma  (None, 50, 1, 2)    8           ['tf.expand_dims[0][0]']         \n",
            " lization)                                                                                        \n",
            "                                                                                                  \n",
            " tf.math.reduce_sum (TFOpLambda  (None, 50, 1)       0           ['tf.math.multiply_1[0][0]']     \n",
            " )                                                                                                \n",
            "                                                                                                  \n",
            " tf.math.multiply_3 (TFOpLambda  (None, 50, 50)      0           ['tf.linalg.matmul[0][0]']       \n",
            " )                                                                                                \n",
            "                                                                                                  \n",
            " tf.math.reduce_sum_1 (TFOpLamb  (None, 50, 1)       0           ['tf.math.multiply_2[0][0]']     \n",
            " da)                                                                                              \n",
            "                                                                                                  \n",
            " tf.compat.v1.squeeze (TFOpLamb  (None, 50, 2)       0           ['ParticleNet_fts_bn[0][0]']     \n",
            " da)                                                                                              \n",
            "                                                                                                  \n",
            " tf.math.subtract (TFOpLambda)  (None, 50, 50)       0           ['tf.math.reduce_sum[0][0]',     \n",
            "                                                                  'tf.math.multiply_3[0][0]']     \n",
            "                                                                                                  \n",
            " tf.compat.v1.transpose_1 (TFOp  (None, 1, 50)       0           ['tf.math.reduce_sum_1[0][0]']   \n",
            " Lambda)                                                                                          \n",
            "                                                                                                  \n",
            " tf.compat.v1.shape (TFOpLambda  (3,)                0           ['tf.compat.v1.squeeze[0][0]']   \n",
            " )                                                                                                \n",
            "                                                                                                  \n",
            " tf.__operators__.add (TFOpLamb  (None, 50, 50)      0           ['tf.math.subtract[0][0]',       \n",
            " da)                                                              'tf.compat.v1.transpose_1[0][0]'\n",
            "                                                                 ]                                \n",
            "                                                                                                  \n",
            " tf.__operators__.getitem_1 (Sl  ()                  0           ['tf.compat.v1.shape[0][0]']     \n",
            " icingOpLambda)                                                                                   \n",
            "                                                                                                  \n",
            " tf.math.negative (TFOpLambda)  (None, 50, 50)       0           ['tf.__operators__.add[0][0]']   \n",
            "                                                                                                  \n",
            " tf.range (TFOpLambda)          (None,)              0           ['tf.__operators__.getitem_1[0][0\n",
            "                                                                 ]']                              \n",
            "                                                                                                  \n",
            " tf.math.top_k (TFOpLambda)     TopKV2(values=(None  0           ['tf.math.negative[0][0]']       \n",
            "                                , 50, 4),                                                         \n",
            "                                 indices=(None, 50,                                               \n",
            "                                 4))                                                              \n",
            "                                                                                                  \n",
            " tf.reshape (TFOpLambda)        (None, 1, 1, 1)      0           ['tf.range[0][0]']               \n",
            "                                                                                                  \n",
            " tf.__operators__.getitem (Slic  (None, 50, 3)       0           ['tf.math.top_k[0][1]']          \n",
            " ingOpLambda)                                                                                     \n",
            "                                                                                                  \n",
            " tf.tile (TFOpLambda)           (None, 50, 3, 1)     0           ['tf.reshape[0][0]']             \n",
            "                                                                                                  \n",
            " tf.expand_dims_1 (TFOpLambda)  (None, 50, 3, 1)     0           ['tf.__operators__.getitem[0][0]'\n",
            "                                                                 ]                                \n",
            "                                                                                                  \n",
            " tf.expand_dims_2 (TFOpLambda)  (None, 50, 1, 2)     0           ['tf.compat.v1.squeeze[0][0]']   \n",
            "                                                                                                  \n",
            " tf.concat (TFOpLambda)         (None, 50, 3, 2)     0           ['tf.tile[0][0]',                \n",
            "                                                                  'tf.expand_dims_1[0][0]']       \n",
            "                                                                                                  \n",
            " tf.tile_1 (TFOpLambda)         (None, 50, 3, 2)     0           ['tf.expand_dims_2[0][0]']       \n",
            "                                                                                                  \n",
            " tf.compat.v1.gather_nd (TFOpLa  (None, 50, 3, 2)    0           ['tf.compat.v1.squeeze[0][0]',   \n",
            " mbda)                                                            'tf.concat[0][0]']              \n",
            "                                                                                                  \n",
            " tf.math.subtract_1 (TFOpLambda  (None, 50, 3, 2)    0           ['tf.compat.v1.gather_nd[0][0]', \n",
            " )                                                                'tf.tile_1[0][0]']              \n",
            "                                                                                                  \n",
            " tf.concat_1 (TFOpLambda)       (None, 50, 3, 4)     0           ['tf.tile_1[0][0]',              \n",
            "                                                                  'tf.math.subtract_1[0][0]']     \n",
            "                                                                                                  \n",
            " ParticleNet_EdgeConv0_conv0 (C  (None, 50, 3, 16)   64          ['tf.concat_1[0][0]']            \n",
            " onv2D)                                                                                           \n",
            "                                                                                                  \n",
            " ParticleNet_EdgeConv0_bn0 (Bat  (None, 50, 3, 16)   64          ['ParticleNet_EdgeConv0_conv0[0][\n",
            " chNormalization)                                                0]']                             \n",
            "                                                                                                  \n",
            " ParticleNet_EdgeConv0_act0 (Ac  (None, 50, 3, 16)   0           ['ParticleNet_EdgeConv0_bn0[0][0]\n",
            " tivation)                                                       ']                               \n",
            "                                                                                                  \n",
            " ParticleNet_EdgeConv0_conv1 (C  (None, 50, 3, 16)   256         ['ParticleNet_EdgeConv0_act0[0][0\n",
            " onv2D)                                                          ]']                              \n",
            "                                                                                                  \n",
            " ParticleNet_EdgeConv0_bn1 (Bat  (None, 50, 3, 16)   64          ['ParticleNet_EdgeConv0_conv1[0][\n",
            " chNormalization)                                                0]']                             \n",
            "                                                                                                  \n",
            " ParticleNet_EdgeConv0_act1 (Ac  (None, 50, 3, 16)   0           ['ParticleNet_EdgeConv0_bn1[0][0]\n",
            " tivation)                                                       ']                               \n",
            "                                                                                                  \n",
            " tf.expand_dims_3 (TFOpLambda)  (None, 50, 1, 2)     0           ['tf.compat.v1.squeeze[0][0]']   \n",
            "                                                                                                  \n",
            " ParticleNet_EdgeConv0_conv2 (C  (None, 50, 3, 16)   256         ['ParticleNet_EdgeConv0_act1[0][0\n",
            " onv2D)                                                          ]']                              \n",
            "                                                                                                  \n",
            " ParticleNet_EdgeConv0_sc_conv   (None, 50, 1, 16)   32          ['tf.expand_dims_3[0][0]']       \n",
            " (Conv2D)                                                                                         \n",
            "                                                                                                  \n",
            " ParticleNet_EdgeConv0_bn2 (Bat  (None, 50, 3, 16)   64          ['ParticleNet_EdgeConv0_conv2[0][\n",
            " chNormalization)                                                0]']                             \n",
            "                                                                                                  \n",
            " ParticleNet_EdgeConv0_sc_bn (B  (None, 50, 1, 16)   64          ['ParticleNet_EdgeConv0_sc_conv[0\n",
            " atchNormalization)                                              ][0]']                           \n",
            "                                                                                                  \n",
            " ParticleNet_EdgeConv0_act2 (Ac  (None, 50, 3, 16)   0           ['ParticleNet_EdgeConv0_bn2[0][0]\n",
            " tivation)                                                       ']                               \n",
            "                                                                                                  \n",
            " tf.compat.v1.squeeze_1 (TFOpLa  (None, 50, 16)      0           ['ParticleNet_EdgeConv0_sc_bn[0][\n",
            " mbda)                                                           0]']                             \n",
            "                                                                                                  \n",
            " tf.math.reduce_max (TFOpLambda  (None, 50, 16)      0           ['ParticleNet_EdgeConv0_act2[0][0\n",
            " )                                                               ]']                              \n",
            "                                                                                                  \n",
            " tf.__operators__.add_1 (TFOpLa  (None, 50, 16)      0           ['tf.compat.v1.squeeze_1[0][0]', \n",
            " mbda)                                                            'tf.math.reduce_max[0][0]']     \n",
            "                                                                                                  \n",
            " ParticleNet_EdgeConv0_sc_act (  (None, 50, 16)      0           ['tf.__operators__.add_1[0][0]'] \n",
            " Activation)                                                                                      \n",
            "                                                                                                  \n",
            " tf.math.add_1 (TFOpLambda)     (None, 50, 16)       0           ['tf.math.multiply[0][0]',       \n",
            "                                                                  'ParticleNet_EdgeConv0_sc_act[0]\n",
            "                                                                 [0]']                            \n",
            "                                                                                                  \n",
            " tf.compat.v1.transpose_2 (TFOp  (None, 16, 50)      0           ['tf.math.add_1[0][0]']          \n",
            " Lambda)                                                                                          \n",
            "                                                                                                  \n",
            " tf.math.multiply_4 (TFOpLambda  (None, 50, 16)      0           ['tf.math.add_1[0][0]',          \n",
            " )                                                                'tf.math.add_1[0][0]']          \n",
            "                                                                                                  \n",
            " tf.linalg.matmul_1 (TFOpLambda  (None, 50, 50)      0           ['tf.math.add_1[0][0]',          \n",
            " )                                                                'tf.compat.v1.transpose_2[0][0]'\n",
            "                                                                 ]                                \n",
            "                                                                                                  \n",
            " tf.math.multiply_5 (TFOpLambda  (None, 50, 16)      0           ['tf.math.add_1[0][0]',          \n",
            " )                                                                'tf.math.add_1[0][0]']          \n",
            "                                                                                                  \n",
            " tf.math.reduce_sum_2 (TFOpLamb  (None, 50, 1)       0           ['tf.math.multiply_4[0][0]']     \n",
            " da)                                                                                              \n",
            "                                                                                                  \n",
            " tf.math.multiply_6 (TFOpLambda  (None, 50, 50)      0           ['tf.linalg.matmul_1[0][0]']     \n",
            " )                                                                                                \n",
            "                                                                                                  \n",
            " tf.math.reduce_sum_3 (TFOpLamb  (None, 50, 1)       0           ['tf.math.multiply_5[0][0]']     \n",
            " da)                                                                                              \n",
            "                                                                                                  \n",
            " tf.math.subtract_2 (TFOpLambda  (None, 50, 50)      0           ['tf.math.reduce_sum_2[0][0]',   \n",
            " )                                                                'tf.math.multiply_6[0][0]']     \n",
            "                                                                                                  \n",
            " tf.compat.v1.transpose_3 (TFOp  (None, 1, 50)       0           ['tf.math.reduce_sum_3[0][0]']   \n",
            " Lambda)                                                                                          \n",
            "                                                                                                  \n",
            " tf.compat.v1.shape_1 (TFOpLamb  (3,)                0           ['ParticleNet_EdgeConv0_sc_act[0]\n",
            " da)                                                             [0]']                            \n",
            "                                                                                                  \n",
            " tf.__operators__.add_2 (TFOpLa  (None, 50, 50)      0           ['tf.math.subtract_2[0][0]',     \n",
            " mbda)                                                            'tf.compat.v1.transpose_3[0][0]'\n",
            "                                                                 ]                                \n",
            "                                                                                                  \n",
            " tf.__operators__.getitem_3 (Sl  ()                  0           ['tf.compat.v1.shape_1[0][0]']   \n",
            " icingOpLambda)                                                                                   \n",
            "                                                                                                  \n",
            " tf.math.negative_1 (TFOpLambda  (None, 50, 50)      0           ['tf.__operators__.add_2[0][0]'] \n",
            " )                                                                                                \n",
            "                                                                                                  \n",
            " tf.range_1 (TFOpLambda)        (None,)              0           ['tf.__operators__.getitem_3[0][0\n",
            "                                                                 ]']                              \n",
            "                                                                                                  \n",
            " tf.math.top_k_1 (TFOpLambda)   TopKV2(values=(None  0           ['tf.math.negative_1[0][0]']     \n",
            "                                , 50, 4),                                                         \n",
            "                                 indices=(None, 50,                                               \n",
            "                                 4))                                                              \n",
            "                                                                                                  \n",
            " tf.reshape_1 (TFOpLambda)      (None, 1, 1, 1)      0           ['tf.range_1[0][0]']             \n",
            "                                                                                                  \n",
            " tf.__operators__.getitem_2 (Sl  (None, 50, 3)       0           ['tf.math.top_k_1[0][1]']        \n",
            " icingOpLambda)                                                                                   \n",
            "                                                                                                  \n",
            " tf.tile_2 (TFOpLambda)         (None, 50, 3, 1)     0           ['tf.reshape_1[0][0]']           \n",
            "                                                                                                  \n",
            " tf.expand_dims_4 (TFOpLambda)  (None, 50, 3, 1)     0           ['tf.__operators__.getitem_2[0][0\n",
            "                                                                 ]']                              \n",
            "                                                                                                  \n",
            " tf.expand_dims_5 (TFOpLambda)  (None, 50, 1, 16)    0           ['ParticleNet_EdgeConv0_sc_act[0]\n",
            "                                                                 [0]']                            \n",
            "                                                                                                  \n",
            " tf.concat_2 (TFOpLambda)       (None, 50, 3, 2)     0           ['tf.tile_2[0][0]',              \n",
            "                                                                  'tf.expand_dims_4[0][0]']       \n",
            "                                                                                                  \n",
            " tf.tile_3 (TFOpLambda)         (None, 50, 3, 16)    0           ['tf.expand_dims_5[0][0]']       \n",
            "                                                                                                  \n",
            " tf.compat.v1.gather_nd_1 (TFOp  (None, 50, 3, 16)   0           ['ParticleNet_EdgeConv0_sc_act[0]\n",
            " Lambda)                                                         [0]',                            \n",
            "                                                                  'tf.concat_2[0][0]']            \n",
            "                                                                                                  \n",
            " tf.math.subtract_3 (TFOpLambda  (None, 50, 3, 16)   0           ['tf.compat.v1.gather_nd_1[0][0]'\n",
            " )                                                               , 'tf.tile_3[0][0]']             \n",
            "                                                                                                  \n",
            " tf.concat_3 (TFOpLambda)       (None, 50, 3, 32)    0           ['tf.tile_3[0][0]',              \n",
            "                                                                  'tf.math.subtract_3[0][0]']     \n",
            "                                                                                                  \n",
            " ParticleNet_EdgeConv1_conv0 (C  (None, 50, 3, 32)   1024        ['tf.concat_3[0][0]']            \n",
            " onv2D)                                                                                           \n",
            "                                                                                                  \n",
            " ParticleNet_EdgeConv1_bn0 (Bat  (None, 50, 3, 32)   128         ['ParticleNet_EdgeConv1_conv0[0][\n",
            " chNormalization)                                                0]']                             \n",
            "                                                                                                  \n",
            " ParticleNet_EdgeConv1_act0 (Ac  (None, 50, 3, 32)   0           ['ParticleNet_EdgeConv1_bn0[0][0]\n",
            " tivation)                                                       ']                               \n",
            "                                                                                                  \n",
            " ParticleNet_EdgeConv1_conv1 (C  (None, 50, 3, 32)   1024        ['ParticleNet_EdgeConv1_act0[0][0\n",
            " onv2D)                                                          ]']                              \n",
            "                                                                                                  \n",
            " ParticleNet_EdgeConv1_bn1 (Bat  (None, 50, 3, 32)   128         ['ParticleNet_EdgeConv1_conv1[0][\n",
            " chNormalization)                                                0]']                             \n",
            "                                                                                                  \n",
            " ParticleNet_EdgeConv1_act1 (Ac  (None, 50, 3, 32)   0           ['ParticleNet_EdgeConv1_bn1[0][0]\n",
            " tivation)                                                       ']                               \n",
            "                                                                                                  \n",
            " tf.expand_dims_6 (TFOpLambda)  (None, 50, 1, 16)    0           ['ParticleNet_EdgeConv0_sc_act[0]\n",
            "                                                                 [0]']                            \n",
            "                                                                                                  \n",
            " ParticleNet_EdgeConv1_conv2 (C  (None, 50, 3, 32)   1024        ['ParticleNet_EdgeConv1_act1[0][0\n",
            " onv2D)                                                          ]']                              \n",
            "                                                                                                  \n",
            " ParticleNet_EdgeConv1_sc_conv   (None, 50, 1, 32)   512         ['tf.expand_dims_6[0][0]']       \n",
            " (Conv2D)                                                                                         \n",
            "                                                                                                  \n",
            " ParticleNet_EdgeConv1_bn2 (Bat  (None, 50, 3, 32)   128         ['ParticleNet_EdgeConv1_conv2[0][\n",
            " chNormalization)                                                0]']                             \n",
            "                                                                                                  \n",
            " ParticleNet_EdgeConv1_sc_bn (B  (None, 50, 1, 32)   128         ['ParticleNet_EdgeConv1_sc_conv[0\n",
            " atchNormalization)                                              ][0]']                           \n",
            "                                                                                                  \n",
            " ParticleNet_EdgeConv1_act2 (Ac  (None, 50, 3, 32)   0           ['ParticleNet_EdgeConv1_bn2[0][0]\n",
            " tivation)                                                       ']                               \n",
            "                                                                                                  \n",
            " tf.compat.v1.squeeze_2 (TFOpLa  (None, 50, 32)      0           ['ParticleNet_EdgeConv1_sc_bn[0][\n",
            " mbda)                                                           0]']                             \n",
            "                                                                                                  \n",
            " tf.math.reduce_max_1 (TFOpLamb  (None, 50, 32)      0           ['ParticleNet_EdgeConv1_act2[0][0\n",
            " da)                                                             ]']                              \n",
            "                                                                                                  \n",
            " tf.__operators__.add_3 (TFOpLa  (None, 50, 32)      0           ['tf.compat.v1.squeeze_2[0][0]', \n",
            " mbda)                                                            'tf.math.reduce_max_1[0][0]']   \n",
            "                                                                                                  \n",
            " ParticleNet_EdgeConv1_sc_act (  (None, 50, 32)      0           ['tf.__operators__.add_3[0][0]'] \n",
            " Activation)                                                                                      \n",
            "                                                                                                  \n",
            " tf.math.multiply_7 (TFOpLambda  (None, 50, 32)      0           ['ParticleNet_EdgeConv1_sc_act[0]\n",
            " )                                                               [0]',                            \n",
            "                                                                  'tf.cast[0][0]']                \n",
            "                                                                                                  \n",
            " tf.math.reduce_mean (TFOpLambd  (None, 32)          0           ['tf.math.multiply_7[0][0]']     \n",
            " a)                                                                                               \n",
            "                                                                                                  \n",
            " summary (InputLayer)           [(None, 4)]          0           []                               \n",
            "                                                                                                  \n",
            " tf.concat_4 (TFOpLambda)       (None, 36)           0           ['tf.math.reduce_mean[0][0]',    \n",
            "                                                                  'summary[0][0]']                \n",
            "                                                                                                  \n",
            " dense (Dense)                  (None, 64)           2368        ['tf.concat_4[0][0]']            \n",
            "                                                                                                  \n",
            " dropout (Dropout)              (None, 64)           0           ['dense[0][0]']                  \n",
            "                                                                                                  \n",
            " dense_1 (Dense)                (None, 1)            65          ['dropout[0][0]']                \n",
            "                                                                                                  \n",
            "==================================================================================================\n",
            "Total params: 7,401\n",
            "Trainable params: 7,013\n",
            "Non-trainable params: 388\n",
            "__________________________________________________________________________________________________\n"
          ]
        }
      ],
      "source": [
        "model.compile(loss='binary_crossentropy',\n",
        "              optimizer=keras.optimizers.Adam(learning_rate=lr_schedule(0)),\n",
        "              weighted_metrics=[keras.metrics.AUC(curve=\"PR\")],\n",
        ")\n",
        "model.summary()"
      ]
    },
    {
      "cell_type": "markdown",
      "source": [
        "Keras checkpoints are employed to save the model with the best validation accuracy"
      ],
      "metadata": {
        "id": "_6fzlPPnhpJe"
      }
    },
    {
      "cell_type": "code",
      "execution_count": 16,
      "metadata": {
        "id": "hc6CsvjZ2g84"
      },
      "outputs": [],
      "source": [
        "# Prepare model model saving directory.\n",
        "import os\n",
        "save_dir = 'model_checkpoints'\n",
        "model_name = '%s_model-{val_auc:0.2f}-{epoch:03d}.h5' % \"lite\"\n",
        "if not os.path.isdir(save_dir):\n",
        "    os.makedirs(save_dir)\n",
        "filepath = os.path.join(save_dir, model_name)\n",
        "\n",
        "# Prepare callbacks for model saving and for learning rate adjustment.\n",
        "checkpoint = keras.callbacks.ModelCheckpoint(filepath=filepath,\n",
        "                             monitor='val_auc',\n",
        "                             verbose=1,\n",
        "                            )\n",
        "\n",
        "lr_scheduler = keras.callbacks.LearningRateScheduler(lr_schedule)\n",
        "progress_bar = keras.callbacks.ProgbarLogger()\n",
        "callbacks = [checkpoint, progress_bar, lr_scheduler]"
      ]
    },
    {
      "cell_type": "markdown",
      "source": [
        "The model is trained, weighting the data to match the real statistics, by means of the sample_weight attribute (for the training).\n",
        "Also the validation set is weighted, in order to select the model with the best performances on the real statistics."
      ],
      "metadata": {
        "id": "1ihs3qvIn0nI"
      }
    },
    {
      "cell_type": "code",
      "execution_count": null,
      "metadata": {
        "scrolled": true,
        "id": "98kE3T-I2g85"
      },
      "outputs": [],
      "source": [
        "history = model.fit(\n",
        "    [train_data[\"points\"], train_data[\"features\"], train_data[\"mask\"], train_data[\"summary\"]], \n",
        "    train_label,\n",
        "    batch_size=batch_size,\n",
        "    epochs=epochs,\n",
        "    validation_data=([val_data[\"points\"], val_data[\"features\"], val_data[\"mask\"], val_data[\"summary\"]], val_label, val_weight),\n",
        "    shuffle=True,\n",
        "    sample_weight=train_weight,\n",
        "    callbacks=callbacks\n",
        ")"
      ]
    },
    {
      "cell_type": "code",
      "source": [
        "plt.plot(history.history['loss'], label=\"Train Loss\")\n",
        "plt.plot(history.history['val_loss'], label=\"Validation Loss\")\n",
        "plt.legend()"
      ],
      "metadata": {
        "id": "-irxBo-j0Ifg",
        "colab": {
          "base_uri": "https://localhost:8080/",
          "height": 282
        },
        "outputId": "9025e5b3-b230-4350-cc03-d6eac987c9fe"
      },
      "execution_count": 18,
      "outputs": [
        {
          "output_type": "execute_result",
          "data": {
            "text/plain": [
              "<matplotlib.legend.Legend at 0x7f62fe652bd0>"
            ]
          },
          "metadata": {},
          "execution_count": 18
        },
        {
          "output_type": "display_data",
          "data": {
            "text/plain": [
              "<Figure size 432x288 with 1 Axes>"
            ],
            "image/png": "[encoded data removed]"
          },
          "metadata": {
            "needs_background": "light"
          }
        }
      ]
    },
    {
      "cell_type": "code",
      "source": [
        "plt.plot(history.history['auc'], label=\"Train AUPRC\")\n",
        "plt.plot(history.history['val_auc'], label=\"Validation AURPC\")\n",
        "plt.legend()"
      ],
      "metadata": {
        "id": "Fw0L9XiUEril",
        "colab": {
          "base_uri": "https://localhost:8080/",
          "height": 282
        },
        "outputId": "e8f81065-3c53-401a-a5b4-cda3b281b25b"
      },
      "execution_count": 19,
      "outputs": [
        {
          "output_type": "execute_result",
          "data": {
            "text/plain": [
              "<matplotlib.legend.Legend at 0x7f62feff5210>"
            ]
          },
          "metadata": {},
          "execution_count": 19
        },
        {
          "output_type": "display_data",
          "data": {
            "text/plain": [
              "<Figure size 432x288 with 1 Axes>"
            ],
            "image/png": "[encoded data removed]"
          },
          "metadata": {
            "needs_background": "light"
          }
        }
      ]
    },
    {
      "cell_type": "markdown",
      "source": [
        "The network weights from best model are loaded\n"
      ],
      "metadata": {
        "id": "BBYFXZ15C3AE"
      }
    },
    {
      "cell_type": "code",
      "source": [
        "# unfortunately we were not able to use save_best_only=True in ModelCheckPoint\n",
        "# so we are using a workaround to select the model with the best val_auc\n",
        "! ls -1 model_checkpoints/*model*.h5 | sort -n | tail -n 1\n",
        "!cp $(ls -1 model_checkpoints/*model*.h5 | sort -n | tail -n 1) model_checkpoints/last.h5"
      ],
      "metadata": {
        "colab": {
          "base_uri": "https://localhost:8080/"
        },
        "id": "ARM5hbprirZs",
        "outputId": "92ab1d0c-be9b-4b40-95e8-2b0c3c23bfa7"
      },
      "execution_count": 30,
      "outputs": [
        {
          "output_type": "stream",
          "name": "stdout",
          "text": [
            "model_checkpoints/lite_model-0.98-014.h5\n"
          ]
        }
      ]
    },
    {
      "cell_type": "code",
      "source": [
        "model.load_weights(\"model_checkpoints/last.h5\")"
      ],
      "metadata": {
        "id": "NGw0cUyR5TxX"
      },
      "execution_count": 31,
      "outputs": []
    },
    {
      "cell_type": "markdown",
      "source": [
        "Prediction probabilities are evaluated on the test set"
      ],
      "metadata": {
        "id": "y0UDcZstC7Zd"
      }
    },
    {
      "cell_type": "code",
      "source": [
        "probs = model.predict_on_batch(test_data)"
      ],
      "metadata": {
        "id": "Ldx5QeBFF_N3"
      },
      "execution_count": 32,
      "outputs": []
    },
    {
      "cell_type": "markdown",
      "source": [
        "Precision-recalll curve is plotted and AURPC is calculated"
      ],
      "metadata": {
        "id": "ZhjxRS0-Dp2H"
      }
    },
    {
      "cell_type": "code",
      "execution_count": 33,
      "metadata": {
        "id": "je0DvhbX2g86",
        "colab": {
          "base_uri": "https://localhost:8080/",
          "height": 282
        },
        "outputId": "983508d9-759f-4d77-b6c8-3dc589be94eb"
      },
      "outputs": [
        {
          "output_type": "stream",
          "name": "stdout",
          "text": [
            "0.9873540919076795\n"
          ]
        },
        {
          "output_type": "display_data",
          "data": {
            "text/plain": [
              "<Figure size 432x288 with 1 Axes>"
            ],
            "image/png": "[encoded data removed]"
          },
          "metadata": {
            "needs_background": "light"
          }
        }
      ],
      "source": [
        "precision, recall, thresholds = precision_recall_curve(test_label, probs, sample_weight=test_weight)\n",
        "plt.plot(recall, precision)\n",
        "print(auc(recall, precision))"
      ]
    }
  ],
  "metadata": {
    "kernelspec": {
      "display_name": "Python 3 (ipykernel)",
      "language": "python",
      "name": "python3"
    },
    "language_info": {
      "codemirror_mode": {
        "name": "ipython",
        "version": 3
      },
      "file_extension": ".py",
      "mimetype": "text/x-python",
      "name": "python",
      "nbconvert_exporter": "python",
      "pygments_lexer": "ipython3",
      "version": "3.8.10"
    },
    "colab": {
      "name": "keras_train.ipynb",
      "provenance": []
    },
    "accelerator": "GPU",
    "gpuClass": "standard"
  },
  "nbformat": 4,
  "nbformat_minor": 0
}