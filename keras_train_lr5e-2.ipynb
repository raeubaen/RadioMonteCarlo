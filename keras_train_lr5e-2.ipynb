{
  "cells": [
    {
      "cell_type": "code",
      "execution_count": 22,
      "metadata": {
        "id": "qIv6ffW82g8W"
      },
      "outputs": [],
      "source": [
        "import numpy as np\n",
        "from sklearn.metrics import precision_recall_curve\n",
        "import matplotlib.pyplot as plt"
      ]
    },
    {
      "cell_type": "code",
      "execution_count": 23,
      "metadata": {
        "id": "rabKUfn02g8b"
      },
      "outputs": [],
      "source": [
        "import logging\n",
        "logging.basicConfig(level=logging.INFO, format='[%(asctime)s] %(levelname)s: %(message)s')"
      ]
    },
    {
      "cell_type": "code",
      "source": [
        "!wget https://raw.githubusercontent.com/raeubaen/RadioMonteCarlo/main/tf_keras_model.py -O tf_keras_model.py"
      ],
      "metadata": {
        "id": "3gI9EJ0R2j5v",
        "outputId": "ed68535b-a732-4ddd-ff92-a5dac804bf22",
        "colab": {
          "base_uri": "https://localhost:8080/"
        }
      },
      "execution_count": 24,
      "outputs": [
        {
          "output_type": "stream",
          "name": "stdout",
          "text": [
            "--2022-06-16 21:17:50--  https://raw.githubusercontent.com/raeubaen/RadioMonteCarlo/main/tf_keras_model.py\n",
            "Resolving raw.githubusercontent.com (raw.githubusercontent.com)... 185.199.108.133, 185.199.109.133, 185.199.110.133, ...\n",
            "Connecting to raw.githubusercontent.com (raw.githubusercontent.com)|185.199.108.133|:443... connected.\n",
            "HTTP request sent, awaiting response... 200 OK\n",
            "Length: 6795 (6.6K) [text/plain]\n",
            "Saving to: ‘tf_keras_model.py’\n",
            "\n",
            "\rtf_keras_model.py     0%[                    ]       0  --.-KB/s               \rtf_keras_model.py   100%[===================>]   6.64K  --.-KB/s    in 0s      \n",
            "\n",
            "2022-06-16 21:17:51 (64.6 MB/s) - ‘tf_keras_model.py’ saved [6795/6795]\n",
            "\n"
          ]
        }
      ]
    },
    {
      "cell_type": "code",
      "source": [
        "!wget https://raw.githubusercontent.com/raeubaen/RadioMonteCarlo/main/lr_finder.py -O lr_finder.py"
      ],
      "metadata": {
        "colab": {
          "base_uri": "https://localhost:8080/"
        },
        "id": "aiNg1oOpajGC",
        "outputId": "eec6f800-be13-4bf6-dce1-2f4f2fec0377"
      },
      "execution_count": 56,
      "outputs": [
        {
          "output_type": "stream",
          "name": "stdout",
          "text": [
            "--2022-06-16 21:36:05--  https://raw.githubusercontent.com/raeubaen/RadioMonteCarlo/main/lr_finder.py\n",
            "Resolving raw.githubusercontent.com (raw.githubusercontent.com)... 185.199.108.133, 185.199.109.133, 185.199.110.133, ...\n",
            "Connecting to raw.githubusercontent.com (raw.githubusercontent.com)|185.199.108.133|:443... connected.\n",
            "HTTP request sent, awaiting response... 200 OK\n",
            "Length: 815 [text/plain]\n",
            "Saving to: ‘lr_finder.py’\n",
            "\n",
            "\rlr_finder.py          0%[                    ]       0  --.-KB/s               \rlr_finder.py        100%[===================>]     815  --.-KB/s    in 0s      \n",
            "\n",
            "2022-06-16 21:36:05 (55.0 MB/s) - ‘lr_finder.py’ saved [815/815]\n",
            "\n"
          ]
        }
      ]
    },
    {
      "cell_type": "code",
      "source": [
        "from google.colab import drive\n",
        "drive.mount('/content/drive')"
      ],
      "metadata": {
        "colab": {
          "base_uri": "https://localhost:8080/"
        },
        "id": "qMTnts0q2qFw",
        "outputId": "a4ec626a-1969-4fb9-b3d0-7527e0049558"
      },
      "execution_count": 25,
      "outputs": [
        {
          "output_type": "stream",
          "name": "stdout",
          "text": [
            "Drive already mounted at /content/drive; to attempt to forcibly remount, call drive.mount(\"/content/drive\", force_remount=True).\n"
          ]
        }
      ]
    },
    {
      "cell_type": "code",
      "source": [
        "# VANNO TUTTI CAMBIATI\n",
        "\n",
        "# !wget https://www.dropbox.com/s/6s5khncrval4rz9/bkg_et.npy?dl=1 -o bkg_et.npy\n",
        "# !wget https://www.dropbox.com/s/qc7z1nhqh5xvpbg/bkg_mask.npy?dl=1 -o bkg_mask.npy\n",
        "# !wget https://www.dropbox.com/s/fs5e9wuhqtr66xh/bkg_xy.npy?dl=1 -o bkg_xy.npy\n",
        "# !wget https://www.dropbox.com/s/w0b94xzyk2wg7y4/signal_et.npy?dl=1 -o signal_et.npy\n",
        "# !wget https://www.dropbox.com/s/3k6b0u3zz65xnyf/signal_mask.npy?dl=1 -o signal_mask.npy\n",
        "# !wget https://www.dropbox.com/s/chcep3q8terrj4k/signal_xy.npy?dl=1 -o signal_xy.npy"
      ],
      "metadata": {
        "id": "Ez9vWLA_7qaP"
      },
      "execution_count": null,
      "outputs": []
    },
    {
      "cell_type": "code",
      "execution_count": 60,
      "metadata": {
        "id": "S3ag941H2g8d"
      },
      "outputs": [],
      "source": [
        "import tensorflow as tf\n",
        "from tensorflow import keras\n",
        "from tf_keras_model import get_particle_net_lite_custom, edge_conv\n",
        "from lr_finder import LRFind"
      ]
    },
    {
      "cell_type": "code",
      "execution_count": 61,
      "metadata": {
        "id": "Se9xg25k2g8f"
      },
      "outputs": [],
      "source": [
        "data_folder = \"/content/drive/MyDrive/datiML\"\n",
        "\n",
        "name_map = {\"points\": \"xy\", \"features\": \"et\", \"mask\": \"mask\", \"summary\": \"etrn\"} # va provato sia xy che rphi\n",
        "\n",
        "signal  = {key: np.load(f\"{data_folder}/signal_{ name_map[key]}.npy\") for key in name_map}\n",
        "\n",
        "mnbs    = {key: np.load(f\"{data_folder}/mnbs_{   name_map[key]}.npy\") for key in name_map}\n",
        "\n",
        "cosmics = {key: np.load(f\"{data_folder}/cosmics_{name_map[key]}.npy\") for key in name_map}"
      ]
    },
    {
      "cell_type": "code",
      "execution_count": 62,
      "metadata": {
        "id": "ZS-UFF0G2g8i"
      },
      "outputs": [],
      "source": [
        "S =  signal[\"mask\"].shape[0] #entries segnale\n",
        "F =    mnbs[\"mask\"].shape[0] #entries mnbs (background flash da fascio)\n",
        "C = cosmics[\"mask\"].shape[0] #entries cosmici\n",
        "\n",
        "N = S + F + C\n",
        "\n",
        "p = np.random.permutation(N) #"
      ]
    },
    {
      "cell_type": "code",
      "source": [
        "'''\n",
        "cluster su disco 0 in un injection cycle (1.33s):\n",
        "RMC: 330\n",
        "MNBS: 1.3M\n",
        "cosmici: 4\n",
        "\n",
        "cluster simulati su disco 0:\n",
        "RMC: 150k\n",
        "MNBS: 1.05M\n",
        "cosmici: 53k\n",
        "\n",
        "pesi:\n",
        "RMC: 66/150k \n",
        "MNBS: \n",
        "Cosmici: 4/53k\n",
        "'''\n",
        "\n",
        "signal_weight = 330/150e3 * 100\n",
        "mnbs_weight = 0.24 * 100\n",
        "cosmics_weight = 4/53e3 * 100\n",
        "\n",
        "'''\n",
        "il campione MC è stato filtrato con ROOT\n",
        "effettuando due tagli di preselezione:\n",
        "E del cluster > 50 MeV  &&  R del centroide del cluster > 480 mm\n",
        "'''\n",
        "\n",
        "print(end=\"\")"
      ],
      "metadata": {
        "id": "m1CHQLiEAXZQ"
      },
      "execution_count": 63,
      "outputs": []
    },
    {
      "cell_type": "code",
      "execution_count": 64,
      "metadata": {
        "id": "aXZ6qndr2g8m",
        "colab": {
          "base_uri": "https://localhost:8080/"
        },
        "outputId": "51bb5c09-0dff-44a3-879a-4fda116f204d"
      },
      "outputs": [
        {
          "output_type": "stream",
          "name": "stdout",
          "text": [
            "- Entries per signale, mnbs e cosmici:[41372, 1132, 41598]\n",
            "- Pesi per signale, mnbs e cosmici:[0.22, 24.0, 0.007547169811320755]\n"
          ]
        }
      ],
      "source": [
        "data = {key: np.concatenate( (signal[key], mnbs[key], cosmics[key]) )[p] for key in name_map}\n",
        "\n",
        "label_list = [1, 0, 0]\n",
        "entries_list = [S, F, C]\n",
        "weight_list = [signal_weight, mnbs_weight, cosmics_weight]\n",
        "\n",
        "print(f\"- Entries per signale, mnbs e cosmici:{entries_list}\")\n",
        "print(f\"- Pesi per signale, mnbs e cosmici:{weight_list}\")\n",
        "\n",
        "label = np.concatenate( \n",
        "    [ np.ones((e))*l for e, l in zip(entries_list,  label_list) ]\n",
        ")[p]\n",
        "\n",
        "sample_weight = np.concatenate( \n",
        "    [ np.ones((e))*w for e, w in zip(entries_list, weight_list) ]\n",
        ")[p]"
      ]
    },
    {
      "cell_type": "code",
      "source": [
        "from sklearn.preprocessing import StandardScaler\n",
        "scaler = StandardScaler()\n",
        "\n",
        "for key in [\"points\", \"features\"]:\n",
        "  data[key][data[\"mask\"].reshape(N, 50)] = scaler.fit_transform(data[key][data[\"mask\"].reshape(N, 50)])\n",
        "\n",
        "data[\"summary\"] = scaler.fit_transform(data[\"summary\"])"
      ],
      "metadata": {
        "id": "xTsETQ4OAxEd"
      },
      "execution_count": 65,
      "outputs": []
    },
    {
      "cell_type": "code",
      "execution_count": 66,
      "metadata": {
        "id": "ZFNtoo8s2g8s"
      },
      "outputs": [],
      "source": [
        "train_data  = {key: data[key][int(N*0.0) : int(N*0.7)] for key in name_map}\n",
        "test_data   = {key: data[key][int(N*0.7) : int(N*0.9)] for key in name_map}\n",
        "val_data    = {key: data[key][int(N*0.9) : int(N*1.0)] for key in name_map}\n",
        "\n",
        "train_label = label[int(N*0.0) : int(N*0.7)]\n",
        "test_label  = label[int(N*0.7) : int(N*0.9)]\n",
        "val_label   = label[int(N*0.9) : int(N*1.0)]\n",
        "\n",
        "train_weight = sample_weight[int(N*0.0) : int(N*0.7)]\n",
        "test_weight  = sample_weight[int(N*0.7) : int(N*0.9)]\n",
        "val_weight   = sample_weight[int(N*0.9) : int(N*1.0)]"
      ]
    },
    {
      "cell_type": "code",
      "execution_count": 105,
      "metadata": {
        "scrolled": true,
        "id": "nfCI_M2d2g8u"
      },
      "outputs": [],
      "source": [
        "input_shapes = {'points': (50, 2), 'features': (50, 2), 'mask':(50, 1)}\n",
        "\n",
        "model = get_particle_net_lite_custom(num_classes, input_shapes)"
      ]
    },
    {
      "cell_type": "code",
      "execution_count": 68,
      "metadata": {
        "id": "LFRJXncU2g8x"
      },
      "outputs": [],
      "source": [
        "# Training parameters\n",
        "batch_size = 1024 if 'lite' in model_type else 384\n",
        "epochs = 30"
      ]
    },
    {
      "cell_type": "code",
      "execution_count": 113,
      "metadata": {
        "id": "RHvU72JY2g8z"
      },
      "outputs": [],
      "source": [
        "def lr_schedule(epoch):\n",
        "    lr = 5e-2\n",
        "    if epoch > 10:\n",
        "        lr *= 0.1\n",
        "    elif epoch > 20:\n",
        "        lr *= 0.01\n",
        "    logging.info('Learning rate: %f'%lr)\n",
        "    return lr"
      ]
    },
    {
      "cell_type": "code",
      "execution_count": 114,
      "metadata": {
        "scrolled": true,
        "id": "2IlFncmO2g82",
        "outputId": "b0c5e992-362a-42a5-d8b1-c1c1adc12f2f",
        "colab": {
          "base_uri": "https://localhost:8080/"
        }
      },
      "outputs": [
        {
          "output_type": "stream",
          "name": "stderr",
          "text": [
            "[2022-06-16 21:55:53,991] INFO: Learning rate: 0.050000\n"
          ]
        },
        {
          "output_type": "stream",
          "name": "stdout",
          "text": [
            "Model: \"ParticleNet\"\n",
            "__________________________________________________________________________________________________\n",
            " Layer (type)                   Output Shape         Param #     Connected to                     \n",
            "==================================================================================================\n",
            " mask (InputLayer)              [(None, 50, 1)]      0           []                               \n",
            "                                                                                                  \n",
            " tf.math.not_equal_4 (TFOpLambd  (None, 50, 1)       0           ['mask[0][0]']                   \n",
            " a)                                                                                               \n",
            "                                                                                                  \n",
            " tf.cast_8 (TFOpLambda)         (None, 50, 1)        0           ['tf.math.not_equal_4[0][0]']    \n",
            "                                                                                                  \n",
            " tf.math.equal_4 (TFOpLambda)   (None, 50, 1)        0           ['tf.cast_8[0][0]']              \n",
            "                                                                                                  \n",
            " tf.cast_9 (TFOpLambda)         (None, 50, 1)        0           ['tf.math.equal_4[0][0]']        \n",
            "                                                                                                  \n",
            " tf.math.multiply_32 (TFOpLambd  (None, 50, 1)       0           ['tf.cast_9[0][0]']              \n",
            " a)                                                                                               \n",
            "                                                                                                  \n",
            " points (InputLayer)            [(None, 50, 2)]      0           []                               \n",
            "                                                                                                  \n",
            " tf.math.add_8 (TFOpLambda)     (None, 50, 2)        0           ['tf.math.multiply_32[0][0]',    \n",
            "                                                                  'points[0][0]']                 \n",
            "                                                                                                  \n",
            " features (InputLayer)          [(None, 50, 2)]      0           []                               \n",
            "                                                                                                  \n",
            " tf.compat.v1.transpose_16 (TFO  (None, 2, 50)       0           ['tf.math.add_8[0][0]']          \n",
            " pLambda)                                                                                         \n",
            "                                                                                                  \n",
            " tf.expand_dims_28 (TFOpLambda)  (None, 50, 1, 2)    0           ['features[0][0]']               \n",
            "                                                                                                  \n",
            " tf.math.multiply_33 (TFOpLambd  (None, 50, 2)       0           ['tf.math.add_8[0][0]',          \n",
            " a)                                                               'tf.math.add_8[0][0]']          \n",
            "                                                                                                  \n",
            " tf.linalg.matmul_8 (TFOpLambda  (None, 50, 50)      0           ['tf.math.add_8[0][0]',          \n",
            " )                                                                'tf.compat.v1.transpose_16[0][0]\n",
            "                                                                 ']                               \n",
            "                                                                                                  \n",
            " tf.math.multiply_34 (TFOpLambd  (None, 50, 2)       0           ['tf.math.add_8[0][0]',          \n",
            " a)                                                               'tf.math.add_8[0][0]']          \n",
            "                                                                                                  \n",
            " ParticleNet_fts_bn (BatchNorma  (None, 50, 1, 2)    8           ['tf.expand_dims_28[0][0]']      \n",
            " lization)                                                                                        \n",
            "                                                                                                  \n",
            " tf.math.reduce_sum_16 (TFOpLam  (None, 50, 1)       0           ['tf.math.multiply_33[0][0]']    \n",
            " bda)                                                                                             \n",
            "                                                                                                  \n",
            " tf.math.multiply_35 (TFOpLambd  (None, 50, 50)      0           ['tf.linalg.matmul_8[0][0]']     \n",
            " a)                                                                                               \n",
            "                                                                                                  \n",
            " tf.math.reduce_sum_17 (TFOpLam  (None, 50, 1)       0           ['tf.math.multiply_34[0][0]']    \n",
            " bda)                                                                                             \n",
            "                                                                                                  \n",
            " tf.compat.v1.squeeze_12 (TFOpL  (None, 50, 2)       0           ['ParticleNet_fts_bn[0][0]']     \n",
            " ambda)                                                                                           \n",
            "                                                                                                  \n",
            " tf.math.subtract_16 (TFOpLambd  (None, 50, 50)      0           ['tf.math.reduce_sum_16[0][0]',  \n",
            " a)                                                               'tf.math.multiply_35[0][0]']    \n",
            "                                                                                                  \n",
            " tf.compat.v1.transpose_17 (TFO  (None, 1, 50)       0           ['tf.math.reduce_sum_17[0][0]']  \n",
            " pLambda)                                                                                         \n",
            "                                                                                                  \n",
            " tf.compat.v1.shape_8 (TFOpLamb  (3,)                0           ['tf.compat.v1.squeeze_12[0][0]']\n",
            " da)                                                                                              \n",
            "                                                                                                  \n",
            " tf.__operators__.add_16 (TFOpL  (None, 50, 50)      0           ['tf.math.subtract_16[0][0]',    \n",
            " ambda)                                                           'tf.compat.v1.transpose_17[0][0]\n",
            "                                                                 ']                               \n",
            "                                                                                                  \n",
            " tf.__operators__.getitem_17 (S  ()                  0           ['tf.compat.v1.shape_8[0][0]']   \n",
            " licingOpLambda)                                                                                  \n",
            "                                                                                                  \n",
            " tf.math.negative_8 (TFOpLambda  (None, 50, 50)      0           ['tf.__operators__.add_16[0][0]']\n",
            " )                                                                                                \n",
            "                                                                                                  \n",
            " tf.range_8 (TFOpLambda)        (None,)              0           ['tf.__operators__.getitem_17[0][\n",
            "                                                                 0]']                             \n",
            "                                                                                                  \n",
            " tf.math.top_k_8 (TFOpLambda)   TopKV2(values=(None  0           ['tf.math.negative_8[0][0]']     \n",
            "                                , 50, 4),                                                         \n",
            "                                 indices=(None, 50,                                               \n",
            "                                 4))                                                              \n",
            "                                                                                                  \n",
            " tf.reshape_8 (TFOpLambda)      (None, 1, 1, 1)      0           ['tf.range_8[0][0]']             \n",
            "                                                                                                  \n",
            " tf.__operators__.getitem_16 (S  (None, 50, 3)       0           ['tf.math.top_k_8[0][1]']        \n",
            " licingOpLambda)                                                                                  \n",
            "                                                                                                  \n",
            " tf.tile_16 (TFOpLambda)        (None, 50, 3, 1)     0           ['tf.reshape_8[0][0]']           \n",
            "                                                                                                  \n",
            " tf.expand_dims_29 (TFOpLambda)  (None, 50, 3, 1)    0           ['tf.__operators__.getitem_16[0][\n",
            "                                                                 0]']                             \n",
            "                                                                                                  \n",
            " tf.expand_dims_30 (TFOpLambda)  (None, 50, 1, 2)    0           ['tf.compat.v1.squeeze_12[0][0]']\n",
            "                                                                                                  \n",
            " tf.concat_20 (TFOpLambda)      (None, 50, 3, 2)     0           ['tf.tile_16[0][0]',             \n",
            "                                                                  'tf.expand_dims_29[0][0]']      \n",
            "                                                                                                  \n",
            " tf.tile_17 (TFOpLambda)        (None, 50, 3, 2)     0           ['tf.expand_dims_30[0][0]']      \n",
            "                                                                                                  \n",
            " tf.compat.v1.gather_nd_8 (TFOp  (None, 50, 3, 2)    0           ['tf.compat.v1.squeeze_12[0][0]',\n",
            " Lambda)                                                          'tf.concat_20[0][0]']           \n",
            "                                                                                                  \n",
            " tf.math.subtract_17 (TFOpLambd  (None, 50, 3, 2)    0           ['tf.compat.v1.gather_nd_8[0][0]'\n",
            " a)                                                              , 'tf.tile_17[0][0]']            \n",
            "                                                                                                  \n",
            " tf.concat_21 (TFOpLambda)      (None, 50, 3, 4)     0           ['tf.tile_17[0][0]',             \n",
            "                                                                  'tf.math.subtract_17[0][0]']    \n",
            "                                                                                                  \n",
            " ParticleNet_EdgeConv0_conv0 (C  (None, 50, 3, 16)   64          ['tf.concat_21[0][0]']           \n",
            " onv2D)                                                                                           \n",
            "                                                                                                  \n",
            " ParticleNet_EdgeConv0_bn0 (Bat  (None, 50, 3, 16)   64          ['ParticleNet_EdgeConv0_conv0[0][\n",
            " chNormalization)                                                0]']                             \n",
            "                                                                                                  \n",
            " ParticleNet_EdgeConv0_act0 (Ac  (None, 50, 3, 16)   0           ['ParticleNet_EdgeConv0_bn0[0][0]\n",
            " tivation)                                                       ']                               \n",
            "                                                                                                  \n",
            " ParticleNet_EdgeConv0_conv1 (C  (None, 50, 3, 16)   256         ['ParticleNet_EdgeConv0_act0[0][0\n",
            " onv2D)                                                          ]']                              \n",
            "                                                                                                  \n",
            " ParticleNet_EdgeConv0_bn1 (Bat  (None, 50, 3, 16)   64          ['ParticleNet_EdgeConv0_conv1[0][\n",
            " chNormalization)                                                0]']                             \n",
            "                                                                                                  \n",
            " ParticleNet_EdgeConv0_act1 (Ac  (None, 50, 3, 16)   0           ['ParticleNet_EdgeConv0_bn1[0][0]\n",
            " tivation)                                                       ']                               \n",
            "                                                                                                  \n",
            " tf.expand_dims_31 (TFOpLambda)  (None, 50, 1, 2)    0           ['tf.compat.v1.squeeze_12[0][0]']\n",
            "                                                                                                  \n",
            " ParticleNet_EdgeConv0_conv2 (C  (None, 50, 3, 16)   256         ['ParticleNet_EdgeConv0_act1[0][0\n",
            " onv2D)                                                          ]']                              \n",
            "                                                                                                  \n",
            " ParticleNet_EdgeConv0_sc_conv   (None, 50, 1, 16)   32          ['tf.expand_dims_31[0][0]']      \n",
            " (Conv2D)                                                                                         \n",
            "                                                                                                  \n",
            " ParticleNet_EdgeConv0_bn2 (Bat  (None, 50, 3, 16)   64          ['ParticleNet_EdgeConv0_conv2[0][\n",
            " chNormalization)                                                0]']                             \n",
            "                                                                                                  \n",
            " ParticleNet_EdgeConv0_sc_bn (B  (None, 50, 1, 16)   64          ['ParticleNet_EdgeConv0_sc_conv[0\n",
            " atchNormalization)                                              ][0]']                           \n",
            "                                                                                                  \n",
            " ParticleNet_EdgeConv0_act2 (Ac  (None, 50, 3, 16)   0           ['ParticleNet_EdgeConv0_bn2[0][0]\n",
            " tivation)                                                       ']                               \n",
            "                                                                                                  \n",
            " tf.compat.v1.squeeze_13 (TFOpL  (None, 50, 16)      0           ['ParticleNet_EdgeConv0_sc_bn[0][\n",
            " ambda)                                                          0]']                             \n",
            "                                                                                                  \n",
            " tf.math.reduce_max_8 (TFOpLamb  (None, 50, 16)      0           ['ParticleNet_EdgeConv0_act2[0][0\n",
            " da)                                                             ]']                              \n",
            "                                                                                                  \n",
            " tf.__operators__.add_17 (TFOpL  (None, 50, 16)      0           ['tf.compat.v1.squeeze_13[0][0]',\n",
            " ambda)                                                           'tf.math.reduce_max_8[0][0]']   \n",
            "                                                                                                  \n",
            " ParticleNet_EdgeConv0_sc_act (  (None, 50, 16)      0           ['tf.__operators__.add_17[0][0]']\n",
            " Activation)                                                                                      \n",
            "                                                                                                  \n",
            " tf.math.add_9 (TFOpLambda)     (None, 50, 16)       0           ['tf.math.multiply_32[0][0]',    \n",
            "                                                                  'ParticleNet_EdgeConv0_sc_act[0]\n",
            "                                                                 [0]']                            \n",
            "                                                                                                  \n",
            " tf.compat.v1.transpose_18 (TFO  (None, 16, 50)      0           ['tf.math.add_9[0][0]']          \n",
            " pLambda)                                                                                         \n",
            "                                                                                                  \n",
            " tf.math.multiply_36 (TFOpLambd  (None, 50, 16)      0           ['tf.math.add_9[0][0]',          \n",
            " a)                                                               'tf.math.add_9[0][0]']          \n",
            "                                                                                                  \n",
            " tf.linalg.matmul_9 (TFOpLambda  (None, 50, 50)      0           ['tf.math.add_9[0][0]',          \n",
            " )                                                                'tf.compat.v1.transpose_18[0][0]\n",
            "                                                                 ']                               \n",
            "                                                                                                  \n",
            " tf.math.multiply_37 (TFOpLambd  (None, 50, 16)      0           ['tf.math.add_9[0][0]',          \n",
            " a)                                                               'tf.math.add_9[0][0]']          \n",
            "                                                                                                  \n",
            " tf.math.reduce_sum_18 (TFOpLam  (None, 50, 1)       0           ['tf.math.multiply_36[0][0]']    \n",
            " bda)                                                                                             \n",
            "                                                                                                  \n",
            " tf.math.multiply_38 (TFOpLambd  (None, 50, 50)      0           ['tf.linalg.matmul_9[0][0]']     \n",
            " a)                                                                                               \n",
            "                                                                                                  \n",
            " tf.math.reduce_sum_19 (TFOpLam  (None, 50, 1)       0           ['tf.math.multiply_37[0][0]']    \n",
            " bda)                                                                                             \n",
            "                                                                                                  \n",
            " tf.math.subtract_18 (TFOpLambd  (None, 50, 50)      0           ['tf.math.reduce_sum_18[0][0]',  \n",
            " a)                                                               'tf.math.multiply_38[0][0]']    \n",
            "                                                                                                  \n",
            " tf.compat.v1.transpose_19 (TFO  (None, 1, 50)       0           ['tf.math.reduce_sum_19[0][0]']  \n",
            " pLambda)                                                                                         \n",
            "                                                                                                  \n",
            " tf.compat.v1.shape_9 (TFOpLamb  (3,)                0           ['ParticleNet_EdgeConv0_sc_act[0]\n",
            " da)                                                             [0]']                            \n",
            "                                                                                                  \n",
            " tf.__operators__.add_18 (TFOpL  (None, 50, 50)      0           ['tf.math.subtract_18[0][0]',    \n",
            " ambda)                                                           'tf.compat.v1.transpose_19[0][0]\n",
            "                                                                 ']                               \n",
            "                                                                                                  \n",
            " tf.__operators__.getitem_19 (S  ()                  0           ['tf.compat.v1.shape_9[0][0]']   \n",
            " licingOpLambda)                                                                                  \n",
            "                                                                                                  \n",
            " tf.math.negative_9 (TFOpLambda  (None, 50, 50)      0           ['tf.__operators__.add_18[0][0]']\n",
            " )                                                                                                \n",
            "                                                                                                  \n",
            " tf.range_9 (TFOpLambda)        (None,)              0           ['tf.__operators__.getitem_19[0][\n",
            "                                                                 0]']                             \n",
            "                                                                                                  \n",
            " tf.math.top_k_9 (TFOpLambda)   TopKV2(values=(None  0           ['tf.math.negative_9[0][0]']     \n",
            "                                , 50, 4),                                                         \n",
            "                                 indices=(None, 50,                                               \n",
            "                                 4))                                                              \n",
            "                                                                                                  \n",
            " tf.reshape_9 (TFOpLambda)      (None, 1, 1, 1)      0           ['tf.range_9[0][0]']             \n",
            "                                                                                                  \n",
            " tf.__operators__.getitem_18 (S  (None, 50, 3)       0           ['tf.math.top_k_9[0][1]']        \n",
            " licingOpLambda)                                                                                  \n",
            "                                                                                                  \n",
            " tf.tile_18 (TFOpLambda)        (None, 50, 3, 1)     0           ['tf.reshape_9[0][0]']           \n",
            "                                                                                                  \n",
            " tf.expand_dims_32 (TFOpLambda)  (None, 50, 3, 1)    0           ['tf.__operators__.getitem_18[0][\n",
            "                                                                 0]']                             \n",
            "                                                                                                  \n",
            " tf.expand_dims_33 (TFOpLambda)  (None, 50, 1, 16)   0           ['ParticleNet_EdgeConv0_sc_act[0]\n",
            "                                                                 [0]']                            \n",
            "                                                                                                  \n",
            " tf.concat_22 (TFOpLambda)      (None, 50, 3, 2)     0           ['tf.tile_18[0][0]',             \n",
            "                                                                  'tf.expand_dims_32[0][0]']      \n",
            "                                                                                                  \n",
            " tf.tile_19 (TFOpLambda)        (None, 50, 3, 16)    0           ['tf.expand_dims_33[0][0]']      \n",
            "                                                                                                  \n",
            " tf.compat.v1.gather_nd_9 (TFOp  (None, 50, 3, 16)   0           ['ParticleNet_EdgeConv0_sc_act[0]\n",
            " Lambda)                                                         [0]',                            \n",
            "                                                                  'tf.concat_22[0][0]']           \n",
            "                                                                                                  \n",
            " tf.math.subtract_19 (TFOpLambd  (None, 50, 3, 16)   0           ['tf.compat.v1.gather_nd_9[0][0]'\n",
            " a)                                                              , 'tf.tile_19[0][0]']            \n",
            "                                                                                                  \n",
            " tf.concat_23 (TFOpLambda)      (None, 50, 3, 32)    0           ['tf.tile_19[0][0]',             \n",
            "                                                                  'tf.math.subtract_19[0][0]']    \n",
            "                                                                                                  \n",
            " ParticleNet_EdgeConv1_conv0 (C  (None, 50, 3, 32)   1024        ['tf.concat_23[0][0]']           \n",
            " onv2D)                                                                                           \n",
            "                                                                                                  \n",
            " ParticleNet_EdgeConv1_bn0 (Bat  (None, 50, 3, 32)   128         ['ParticleNet_EdgeConv1_conv0[0][\n",
            " chNormalization)                                                0]']                             \n",
            "                                                                                                  \n",
            " ParticleNet_EdgeConv1_act0 (Ac  (None, 50, 3, 32)   0           ['ParticleNet_EdgeConv1_bn0[0][0]\n",
            " tivation)                                                       ']                               \n",
            "                                                                                                  \n",
            " ParticleNet_EdgeConv1_conv1 (C  (None, 50, 3, 32)   1024        ['ParticleNet_EdgeConv1_act0[0][0\n",
            " onv2D)                                                          ]']                              \n",
            "                                                                                                  \n",
            " ParticleNet_EdgeConv1_bn1 (Bat  (None, 50, 3, 32)   128         ['ParticleNet_EdgeConv1_conv1[0][\n",
            " chNormalization)                                                0]']                             \n",
            "                                                                                                  \n",
            " ParticleNet_EdgeConv1_act1 (Ac  (None, 50, 3, 32)   0           ['ParticleNet_EdgeConv1_bn1[0][0]\n",
            " tivation)                                                       ']                               \n",
            "                                                                                                  \n",
            " tf.expand_dims_34 (TFOpLambda)  (None, 50, 1, 16)   0           ['ParticleNet_EdgeConv0_sc_act[0]\n",
            "                                                                 [0]']                            \n",
            "                                                                                                  \n",
            " ParticleNet_EdgeConv1_conv2 (C  (None, 50, 3, 32)   1024        ['ParticleNet_EdgeConv1_act1[0][0\n",
            " onv2D)                                                          ]']                              \n",
            "                                                                                                  \n",
            " ParticleNet_EdgeConv1_sc_conv   (None, 50, 1, 32)   512         ['tf.expand_dims_34[0][0]']      \n",
            " (Conv2D)                                                                                         \n",
            "                                                                                                  \n",
            " ParticleNet_EdgeConv1_bn2 (Bat  (None, 50, 3, 32)   128         ['ParticleNet_EdgeConv1_conv2[0][\n",
            " chNormalization)                                                0]']                             \n",
            "                                                                                                  \n",
            " ParticleNet_EdgeConv1_sc_bn (B  (None, 50, 1, 32)   128         ['ParticleNet_EdgeConv1_sc_conv[0\n",
            " atchNormalization)                                              ][0]']                           \n",
            "                                                                                                  \n",
            " ParticleNet_EdgeConv1_act2 (Ac  (None, 50, 3, 32)   0           ['ParticleNet_EdgeConv1_bn2[0][0]\n",
            " tivation)                                                       ']                               \n",
            "                                                                                                  \n",
            " tf.compat.v1.squeeze_14 (TFOpL  (None, 50, 32)      0           ['ParticleNet_EdgeConv1_sc_bn[0][\n",
            " ambda)                                                          0]']                             \n",
            "                                                                                                  \n",
            " tf.math.reduce_max_9 (TFOpLamb  (None, 50, 32)      0           ['ParticleNet_EdgeConv1_act2[0][0\n",
            " da)                                                             ]']                              \n",
            "                                                                                                  \n",
            " tf.__operators__.add_19 (TFOpL  (None, 50, 32)      0           ['tf.compat.v1.squeeze_14[0][0]',\n",
            " ambda)                                                           'tf.math.reduce_max_9[0][0]']   \n",
            "                                                                                                  \n",
            " ParticleNet_EdgeConv1_sc_act (  (None, 50, 32)      0           ['tf.__operators__.add_19[0][0]']\n",
            " Activation)                                                                                      \n",
            "                                                                                                  \n",
            " tf.math.multiply_39 (TFOpLambd  (None, 50, 32)      0           ['ParticleNet_EdgeConv1_sc_act[0]\n",
            " a)                                                              [0]',                            \n",
            "                                                                  'tf.cast_8[0][0]']              \n",
            "                                                                                                  \n",
            " tf.math.reduce_mean_4 (TFOpLam  (None, 32)          0           ['tf.math.multiply_39[0][0]']    \n",
            " bda)                                                                                             \n",
            "                                                                                                  \n",
            " summary (InputLayer)           [(None, 4)]          0           []                               \n",
            "                                                                                                  \n",
            " tf.concat_24 (TFOpLambda)      (None, 36)           0           ['tf.math.reduce_mean_4[0][0]',  \n",
            "                                                                  'summary[0][0]']                \n",
            "                                                                                                  \n",
            " dense_8 (Dense)                (None, 64)           2368        ['tf.concat_24[0][0]']           \n",
            "                                                                                                  \n",
            " dropout_4 (Dropout)            (None, 64)           0           ['dense_8[0][0]']                \n",
            "                                                                                                  \n",
            " dense_9 (Dense)                (None, 1)            65          ['dropout_4[0][0]']              \n",
            "                                                                                                  \n",
            "==================================================================================================\n",
            "Total params: 7,401\n",
            "Trainable params: 7,013\n",
            "Non-trainable params: 388\n",
            "__________________________________________________________________________________________________\n"
          ]
        }
      ],
      "source": [
        "model.compile(loss='binary_crossentropy',\n",
        "              optimizer=keras.optimizers.Adam(learning_rate=lr_schedule(0)),\n",
        "              metrics=['accuracy', keras.metrics.Precision(), keras.metrics.Recall()])\n",
        "model.summary()"
      ]
    },
    {
      "cell_type": "code",
      "execution_count": 115,
      "metadata": {
        "id": "hc6CsvjZ2g84"
      },
      "outputs": [],
      "source": [
        "# Prepare model model saving directory.\n",
        "import os\n",
        "save_dir = 'model_checkpoints'\n",
        "model_name = '%s_model.{epoch:03d}.h5' % model_type\n",
        "if not os.path.isdir(save_dir):\n",
        "    os.makedirs(save_dir)\n",
        "filepath = os.path.join(save_dir, model_name)\n",
        "\n",
        "# Prepare callbacks for model saving and for learning rate adjustment.\n",
        "checkpoint = keras.callbacks.ModelCheckpoint(filepath=filepath,\n",
        "                             monitor='val_accuracy',\n",
        "                             verbose=1,\n",
        "                             save_best_only=True)\n",
        "\n",
        "lr_scheduler = keras.callbacks.LearningRateScheduler(lr_schedule)\n",
        "progress_bar = keras.callbacks.ProgbarLogger()\n",
        "'''\n",
        "lr_finder_steps = 400\n",
        "lr_find = LRFind(1e-6, 1e1, lr_finder_steps)\n",
        "'''\n",
        "callbacks = [checkpoint, progress_bar, lr_scheduler]"
      ]
    },
    {
      "cell_type": "code",
      "execution_count": 116,
      "metadata": {
        "scrolled": true,
        "id": "98kE3T-I2g85",
        "outputId": "d28820d0-81d1-403d-edd4-1a09a50b58bf",
        "colab": {
          "base_uri": "https://localhost:8080/"
        }
      },
      "outputs": [
        {
          "output_type": "stream",
          "name": "stdout",
          "text": [
            "Epoch 1/40\n"
          ]
        },
        {
          "output_type": "stream",
          "name": "stderr",
          "text": [
            "[2022-06-16 21:56:07,825] INFO: Learning rate: 0.050000\n"
          ]
        },
        {
          "output_type": "stream",
          "name": "stdout",
          "text": [
            "      0/Unknown - 10s 0s/sample - loss: 0.1463 - accuracy: 0.7054 - precision_6: 0.7307 - recall_6: 0.6382\n",
            "Epoch 1: val_accuracy improved from -inf to 0.82666, saving model to model_checkpoints/particle_net_lite_model.001.h5\n",
            "58/58 [==============================] - 13s 230ms/sample - loss: 0.1463 - accuracy: 0.7054 - precision_6: 0.7307 - recall_6: 0.6382 - val_loss: 0.4511 - val_accuracy: 0.8267 - val_precision_6: 0.7876 - val_recall_6: 0.8776\n",
            "Epoch 2/40\n"
          ]
        },
        {
          "output_type": "stream",
          "name": "stderr",
          "text": [
            "[2022-06-16 21:56:21,187] INFO: Learning rate: 0.050000\n"
          ]
        },
        {
          "output_type": "stream",
          "name": "stdout",
          "text": [
            " 0/58 [..............................] - ETA: 0s - loss: 0.1260 - accuracy: 0.6637 - precision_6: 0.7311 - recall_6: 0.5041\n",
            "Epoch 2: val_accuracy did not improve from 0.82666\n",
            "58/58 [==============================] - 10s 167ms/sample - loss: 0.1260 - accuracy: 0.6637 - precision_6: 0.7311 - recall_6: 0.5041 - val_loss: 0.1460 - val_accuracy: 0.7552 - val_precision_6: 0.7663 - val_recall_6: 0.7091\n",
            "Epoch 3/40\n"
          ]
        },
        {
          "output_type": "stream",
          "name": "stderr",
          "text": [
            "[2022-06-16 21:56:30,867] INFO: Learning rate: 0.050000\n"
          ]
        },
        {
          "output_type": "stream",
          "name": "stdout",
          "text": [
            " 0/58 [..............................] - ETA: 0s - loss: 0.1085 - accuracy: 0.7218 - precision_6: 0.7663 - recall_6: 0.6278\n",
            "Epoch 3: val_accuracy did not improve from 0.82666\n",
            "58/58 [==============================] - 10s 168ms/sample - loss: 0.1085 - accuracy: 0.7218 - precision_6: 0.7663 - recall_6: 0.6278 - val_loss: 0.0947 - val_accuracy: 0.7465 - val_precision_6: 0.7937 - val_recall_6: 0.6416\n",
            "Epoch 4/40\n"
          ]
        },
        {
          "output_type": "stream",
          "name": "stderr",
          "text": [
            "[2022-06-16 21:56:40,634] INFO: Learning rate: 0.050000\n"
          ]
        },
        {
          "output_type": "stream",
          "name": "stdout",
          "text": [
            " 0/58 [..............................] - ETA: 0s - loss: 0.1062 - accuracy: 0.7426 - precision_6: 0.7949 - recall_6: 0.6450\n",
            "Epoch 4: val_accuracy did not improve from 0.82666\n",
            "58/58 [==============================] - 10s 166ms/sample - loss: 0.1062 - accuracy: 0.7426 - precision_6: 0.7949 - recall_6: 0.6450 - val_loss: 0.0870 - val_accuracy: 0.7532 - val_precision_6: 0.7968 - val_recall_6: 0.6559\n",
            "Epoch 5/40\n"
          ]
        },
        {
          "output_type": "stream",
          "name": "stderr",
          "text": [
            "[2022-06-16 21:56:50,285] INFO: Learning rate: 0.050000\n"
          ]
        },
        {
          "output_type": "stream",
          "name": "stdout",
          "text": [
            " 0/58 [..............................] - ETA: 0s - loss: 0.0977 - accuracy: 0.7678 - precision_6: 0.8078 - recall_6: 0.6949\n",
            "Epoch 5: val_accuracy did not improve from 0.82666\n",
            "58/58 [==============================] - 10s 164ms/sample - loss: 0.0977 - accuracy: 0.7678 - precision_6: 0.8078 - recall_6: 0.6949 - val_loss: 0.0813 - val_accuracy: 0.7793 - val_precision_6: 0.8209 - val_recall_6: 0.6943\n",
            "Epoch 6/40\n"
          ]
        },
        {
          "output_type": "stream",
          "name": "stderr",
          "text": [
            "[2022-06-16 21:56:59,832] INFO: Learning rate: 0.050000\n"
          ]
        },
        {
          "output_type": "stream",
          "name": "stdout",
          "text": [
            " 0/58 [..............................] - ETA: 0s - loss: 0.0982 - accuracy: 0.7758 - precision_6: 0.8253 - recall_6: 0.6922\n",
            "Epoch 6: val_accuracy did not improve from 0.82666\n",
            "58/58 [==============================] - 10s 166ms/sample - loss: 0.0982 - accuracy: 0.7758 - precision_6: 0.8253 - recall_6: 0.6922 - val_loss: 0.0895 - val_accuracy: 0.8095 - val_precision_6: 0.8302 - val_recall_6: 0.7611\n",
            "Epoch 7/40\n"
          ]
        },
        {
          "output_type": "stream",
          "name": "stderr",
          "text": [
            "[2022-06-16 21:57:09,487] INFO: Learning rate: 0.050000\n"
          ]
        },
        {
          "output_type": "stream",
          "name": "stdout",
          "text": [
            " 0/58 [..............................] - ETA: 0s - loss: 0.1004 - accuracy: 0.7755 - precision_6: 0.8303 - recall_6: 0.6851\n",
            "Epoch 7: val_accuracy did not improve from 0.82666\n",
            "58/58 [==============================] - 9s 163ms/sample - loss: 0.1004 - accuracy: 0.7755 - precision_6: 0.8303 - recall_6: 0.6851 - val_loss: 0.0884 - val_accuracy: 0.7583 - val_precision_6: 0.8145 - val_recall_6: 0.6466\n",
            "Epoch 8/40\n"
          ]
        },
        {
          "output_type": "stream",
          "name": "stderr",
          "text": [
            "[2022-06-16 21:57:18,920] INFO: Learning rate: 0.050000\n"
          ]
        },
        {
          "output_type": "stream",
          "name": "stdout",
          "text": [
            " 0/58 [..............................] - ETA: 0s - loss: 0.0992 - accuracy: 0.7790 - precision_6: 0.8355 - recall_6: 0.6876\n",
            "Epoch 8: val_accuracy did not improve from 0.82666\n",
            "58/58 [==============================] - 9s 162ms/sample - loss: 0.0992 - accuracy: 0.7790 - precision_6: 0.8355 - recall_6: 0.6876 - val_loss: 0.0809 - val_accuracy: 0.7825 - val_precision_6: 0.8253 - val_recall_6: 0.6970\n",
            "Epoch 9/40\n"
          ]
        },
        {
          "output_type": "stream",
          "name": "stderr",
          "text": [
            "[2022-06-16 21:57:28,353] INFO: Learning rate: 0.050000\n"
          ]
        },
        {
          "output_type": "stream",
          "name": "stdout",
          "text": [
            " 0/58 [..............................] - ETA: 0s - loss: 0.0935 - accuracy: 0.7792 - precision_6: 0.8385 - recall_6: 0.6845\n",
            "Epoch 9: val_accuracy did not improve from 0.82666\n",
            "58/58 [==============================] - 9s 163ms/sample - loss: 0.0935 - accuracy: 0.7792 - precision_6: 0.8385 - recall_6: 0.6845 - val_loss: 0.1079 - val_accuracy: 0.7692 - val_precision_6: 0.8314 - val_recall_6: 0.6547\n",
            "Epoch 10/40\n"
          ]
        },
        {
          "output_type": "stream",
          "name": "stderr",
          "text": [
            "[2022-06-16 21:57:37,789] INFO: Learning rate: 0.050000\n"
          ]
        },
        {
          "output_type": "stream",
          "name": "stdout",
          "text": [
            " 0/58 [..............................] - ETA: 0s - loss: 0.0977 - accuracy: 0.7855 - precision_6: 0.8451 - recall_6: 0.6923\n",
            "Epoch 10: val_accuracy improved from 0.82666 to 0.82784, saving model to model_checkpoints/particle_net_lite_model.010.h5\n",
            "58/58 [==============================] - 10s 165ms/sample - loss: 0.0977 - accuracy: 0.7855 - precision_6: 0.8451 - recall_6: 0.6923 - val_loss: 0.0787 - val_accuracy: 0.8278 - val_precision_6: 0.8612 - val_recall_6: 0.7670\n",
            "Epoch 11/40\n"
          ]
        },
        {
          "output_type": "stream",
          "name": "stderr",
          "text": [
            "[2022-06-16 21:57:47,385] INFO: Learning rate: 0.050000\n"
          ]
        },
        {
          "output_type": "stream",
          "name": "stdout",
          "text": [
            " 0/58 [..............................] - ETA: 0s - loss: 0.0863 - accuracy: 0.8070 - precision_6: 0.8616 - recall_6: 0.7256\n",
            "Epoch 11: val_accuracy improved from 0.82784 to 0.87588, saving model to model_checkpoints/particle_net_lite_model.011.h5\n",
            "58/58 [==============================] - 10s 166ms/sample - loss: 0.0863 - accuracy: 0.8070 - precision_6: 0.8616 - recall_6: 0.7256 - val_loss: 0.1196 - val_accuracy: 0.8759 - val_precision_6: 0.8707 - val_recall_6: 0.8724\n",
            "Epoch 12/40\n"
          ]
        },
        {
          "output_type": "stream",
          "name": "stderr",
          "text": [
            "[2022-06-16 21:57:57,020] INFO: Learning rate: 0.005000\n"
          ]
        },
        {
          "output_type": "stream",
          "name": "stdout",
          "text": [
            " 0/58 [..............................] - ETA: 0s - loss: 0.0796 - accuracy: 0.8322 - precision_6: 0.8718 - recall_6: 0.7737\n",
            "Epoch 12: val_accuracy did not improve from 0.87588\n",
            "58/58 [==============================] - 9s 164ms/sample - loss: 0.0796 - accuracy: 0.8322 - precision_6: 0.8718 - recall_6: 0.7737 - val_loss: 0.0666 - val_accuracy: 0.8603 - val_precision_6: 0.8779 - val_recall_6: 0.8254\n",
            "Epoch 13/40\n"
          ]
        },
        {
          "output_type": "stream",
          "name": "stderr",
          "text": [
            "[2022-06-16 21:58:06,526] INFO: Learning rate: 0.005000\n"
          ]
        },
        {
          "output_type": "stream",
          "name": "stdout",
          "text": [
            " 0/58 [..............................] - ETA: 0s - loss: 0.0774 - accuracy: 0.8314 - precision_6: 0.8706 - recall_6: 0.7733\n",
            "Epoch 13: val_accuracy did not improve from 0.87588\n",
            "58/58 [==============================] - 9s 163ms/sample - loss: 0.0774 - accuracy: 0.8314 - precision_6: 0.8706 - recall_6: 0.7733 - val_loss: 0.0613 - val_accuracy: 0.8569 - val_precision_6: 0.8770 - val_recall_6: 0.8182\n",
            "Epoch 14/40\n"
          ]
        },
        {
          "output_type": "stream",
          "name": "stderr",
          "text": [
            "[2022-06-16 21:58:15,999] INFO: Learning rate: 0.005000\n"
          ]
        },
        {
          "output_type": "stream",
          "name": "stdout",
          "text": [
            " 0/58 [..............................] - ETA: 0s - loss: 0.0779 - accuracy: 0.8345 - precision_6: 0.8732 - recall_6: 0.7776\n",
            "Epoch 14: val_accuracy did not improve from 0.87588\n",
            "58/58 [==============================] - 9s 163ms/sample - loss: 0.0779 - accuracy: 0.8345 - precision_6: 0.8732 - recall_6: 0.7776 - val_loss: 0.0630 - val_accuracy: 0.8369 - val_precision_6: 0.8771 - val_recall_6: 0.7700\n",
            "Epoch 15/40\n"
          ]
        },
        {
          "output_type": "stream",
          "name": "stderr",
          "text": [
            "[2022-06-16 21:58:25,447] INFO: Learning rate: 0.005000\n"
          ]
        },
        {
          "output_type": "stream",
          "name": "stdout",
          "text": [
            " 0/58 [..............................] - ETA: 0s - loss: 0.0787 - accuracy: 0.8344 - precision_6: 0.8719 - recall_6: 0.7788\n",
            "Epoch 15: val_accuracy did not improve from 0.87588\n",
            "58/58 [==============================] - 9s 162ms/sample - loss: 0.0787 - accuracy: 0.8344 - precision_6: 0.8719 - recall_6: 0.7788 - val_loss: 0.0601 - val_accuracy: 0.8614 - val_precision_6: 0.8784 - val_recall_6: 0.8273\n",
            "Epoch 16/40\n"
          ]
        },
        {
          "output_type": "stream",
          "name": "stderr",
          "text": [
            "[2022-06-16 21:58:34,878] INFO: Learning rate: 0.005000\n"
          ]
        },
        {
          "output_type": "stream",
          "name": "stdout",
          "text": [
            " 0/58 [..............................] - ETA: 0s - loss: 0.0755 - accuracy: 0.8416 - precision_6: 0.8770 - recall_6: 0.7898\n",
            "Epoch 16: val_accuracy did not improve from 0.87588\n",
            "58/58 [==============================] - 9s 163ms/sample - loss: 0.0755 - accuracy: 0.8416 - precision_6: 0.8770 - recall_6: 0.7898 - val_loss: 0.0586 - val_accuracy: 0.8532 - val_precision_6: 0.8788 - val_recall_6: 0.8071\n",
            "Epoch 17/40\n"
          ]
        },
        {
          "output_type": "stream",
          "name": "stderr",
          "text": [
            "[2022-06-16 21:58:44,349] INFO: Learning rate: 0.005000\n"
          ]
        },
        {
          "output_type": "stream",
          "name": "stdout",
          "text": [
            " 0/58 [..............................] - ETA: 0s - loss: 0.0708 - accuracy: 0.8430 - precision_6: 0.8732 - recall_6: 0.7977\n",
            "Epoch 17: val_accuracy did not improve from 0.87588\n",
            "58/58 [==============================] - 9s 164ms/sample - loss: 0.0708 - accuracy: 0.8430 - precision_6: 0.8732 - recall_6: 0.7977 - val_loss: 0.0578 - val_accuracy: 0.8515 - val_precision_6: 0.8751 - val_recall_6: 0.8076\n",
            "Epoch 18/40\n"
          ]
        },
        {
          "output_type": "stream",
          "name": "stderr",
          "text": [
            "[2022-06-16 21:58:53,851] INFO: Learning rate: 0.005000\n"
          ]
        },
        {
          "output_type": "stream",
          "name": "stdout",
          "text": [
            " 0/58 [..............................] - ETA: 0s - loss: 0.0746 - accuracy: 0.8443 - precision_6: 0.8737 - recall_6: 0.8002\n",
            "Epoch 18: val_accuracy did not improve from 0.87588\n",
            "58/58 [==============================] - 9s 164ms/sample - loss: 0.0746 - accuracy: 0.8443 - precision_6: 0.8737 - recall_6: 0.8002 - val_loss: 0.0574 - val_accuracy: 0.8541 - val_precision_6: 0.8827 - val_recall_6: 0.8047\n",
            "Epoch 19/40\n"
          ]
        },
        {
          "output_type": "stream",
          "name": "stderr",
          "text": [
            "[2022-06-16 21:59:03,363] INFO: Learning rate: 0.005000\n"
          ]
        },
        {
          "output_type": "stream",
          "name": "stdout",
          "text": [
            " 0/58 [..............................] - ETA: 0s - loss: 0.0734 - accuracy: 0.8424 - precision_6: 0.8780 - recall_6: 0.7905\n",
            "Epoch 19: val_accuracy did not improve from 0.87588\n",
            "58/58 [==============================] - 10s 164ms/sample - loss: 0.0734 - accuracy: 0.8424 - precision_6: 0.8780 - recall_6: 0.7905 - val_loss: 0.0558 - val_accuracy: 0.8628 - val_precision_6: 0.8796 - val_recall_6: 0.8293\n",
            "Epoch 20/40\n"
          ]
        },
        {
          "output_type": "stream",
          "name": "stderr",
          "text": [
            "[2022-06-16 21:59:12,889] INFO: Learning rate: 0.005000\n"
          ]
        },
        {
          "output_type": "stream",
          "name": "stdout",
          "text": [
            " 0/58 [..............................] - ETA: 0s - loss: 0.0719 - accuracy: 0.8486 - precision_6: 0.8775 - recall_6: 0.8055\n",
            "Epoch 20: val_accuracy did not improve from 0.87588\n",
            "58/58 [==============================] - 10s 164ms/sample - loss: 0.0719 - accuracy: 0.8486 - precision_6: 0.8775 - recall_6: 0.8055 - val_loss: 0.0562 - val_accuracy: 0.8579 - val_precision_6: 0.8793 - val_recall_6: 0.8180\n",
            "Epoch 21/40\n"
          ]
        },
        {
          "output_type": "stream",
          "name": "stderr",
          "text": [
            "[2022-06-16 21:59:22,405] INFO: Learning rate: 0.005000\n"
          ]
        },
        {
          "output_type": "stream",
          "name": "stdout",
          "text": [
            " 0/58 [..............................] - ETA: 0s - loss: 0.0705 - accuracy: 0.8441 - precision_6: 0.8773 - recall_6: 0.7953\n",
            "Epoch 21: val_accuracy did not improve from 0.87588\n",
            "58/58 [==============================] - 10s 164ms/sample - loss: 0.0705 - accuracy: 0.8441 - precision_6: 0.8773 - recall_6: 0.7953 - val_loss: 0.0546 - val_accuracy: 0.8641 - val_precision_6: 0.8839 - val_recall_6: 0.8271\n",
            "Epoch 22/40\n"
          ]
        },
        {
          "output_type": "stream",
          "name": "stderr",
          "text": [
            "[2022-06-16 21:59:31,932] INFO: Learning rate: 0.005000\n"
          ]
        },
        {
          "output_type": "stream",
          "name": "stdout",
          "text": [
            " 0/58 [..............................] - ETA: 0s - loss: 0.0707 - accuracy: 0.8561 - precision_6: 0.8802 - recall_6: 0.8200\n",
            "Epoch 22: val_accuracy did not improve from 0.87588\n",
            "58/58 [==============================] - 10s 164ms/sample - loss: 0.0707 - accuracy: 0.8561 - precision_6: 0.8802 - recall_6: 0.8200 - val_loss: 0.0573 - val_accuracy: 0.8605 - val_precision_6: 0.8875 - val_recall_6: 0.8143\n",
            "Epoch 23/40\n"
          ]
        },
        {
          "output_type": "stream",
          "name": "stderr",
          "text": [
            "[2022-06-16 21:59:41,481] INFO: Learning rate: 0.005000\n"
          ]
        },
        {
          "output_type": "stream",
          "name": "stdout",
          "text": [
            " 0/58 [..............................] - ETA: 0s - loss: 0.0714 - accuracy: 0.8519 - precision_6: 0.8811 - recall_6: 0.8092\n",
            "Epoch 23: val_accuracy did not improve from 0.87588\n",
            "58/58 [==============================] - 10s 164ms/sample - loss: 0.0714 - accuracy: 0.8519 - precision_6: 0.8811 - recall_6: 0.8092 - val_loss: 0.0540 - val_accuracy: 0.8680 - val_precision_6: 0.8837 - val_recall_6: 0.8367\n",
            "Epoch 24/40\n"
          ]
        },
        {
          "output_type": "stream",
          "name": "stderr",
          "text": [
            "[2022-06-16 21:59:51,010] INFO: Learning rate: 0.005000\n"
          ]
        },
        {
          "output_type": "stream",
          "name": "stdout",
          "text": [
            " 0/58 [..............................] - ETA: 0s - loss: 0.0707 - accuracy: 0.8510 - precision_6: 0.8780 - recall_6: 0.8108\n",
            "Epoch 24: val_accuracy did not improve from 0.87588\n",
            "58/58 [==============================] - 10s 164ms/sample - loss: 0.0707 - accuracy: 0.8510 - precision_6: 0.8780 - recall_6: 0.8108 - val_loss: 0.0531 - val_accuracy: 0.8690 - val_precision_6: 0.8834 - val_recall_6: 0.8394\n",
            "Epoch 25/40\n"
          ]
        },
        {
          "output_type": "stream",
          "name": "stderr",
          "text": [
            "[2022-06-16 22:00:00,556] INFO: Learning rate: 0.005000\n"
          ]
        },
        {
          "output_type": "stream",
          "name": "stdout",
          "text": [
            " 0/58 [..............................] - ETA: 0s - loss: 0.0665 - accuracy: 0.8532 - precision_6: 0.8799 - recall_6: 0.8136\n",
            "Epoch 25: val_accuracy improved from 0.87588 to 0.88016, saving model to model_checkpoints/particle_net_lite_model.025.h5\n",
            "58/58 [==============================] - 10s 169ms/sample - loss: 0.0665 - accuracy: 0.8532 - precision_6: 0.8799 - recall_6: 0.8136 - val_loss: 0.0536 - val_accuracy: 0.8802 - val_precision_6: 0.8863 - val_recall_6: 0.8623\n",
            "Epoch 26/40\n"
          ]
        },
        {
          "output_type": "stream",
          "name": "stderr",
          "text": [
            "[2022-06-16 22:00:10,367] INFO: Learning rate: 0.005000\n"
          ]
        },
        {
          "output_type": "stream",
          "name": "stdout",
          "text": [
            " 0/58 [..............................] - ETA: 0s - loss: 0.0678 - accuracy: 0.8570 - precision_6: 0.8820 - recall_6: 0.8201\n",
            "Epoch 26: val_accuracy improved from 0.88016 to 0.88301, saving model to model_checkpoints/particle_net_lite_model.026.h5\n",
            "58/58 [==============================] - 10s 166ms/sample - loss: 0.0678 - accuracy: 0.8570 - precision_6: 0.8820 - recall_6: 0.8201 - val_loss: 0.0516 - val_accuracy: 0.8830 - val_precision_6: 0.8849 - val_recall_6: 0.8709\n",
            "Epoch 27/40\n"
          ]
        },
        {
          "output_type": "stream",
          "name": "stderr",
          "text": [
            "[2022-06-16 22:00:19,995] INFO: Learning rate: 0.005000\n"
          ]
        },
        {
          "output_type": "stream",
          "name": "stdout",
          "text": [
            " 0/58 [..............................] - ETA: 0s - loss: 0.0699 - accuracy: 0.8525 - precision_6: 0.8811 - recall_6: 0.8105\n",
            "Epoch 27: val_accuracy did not improve from 0.88301\n",
            "58/58 [==============================] - 10s 164ms/sample - loss: 0.0699 - accuracy: 0.8525 - precision_6: 0.8811 - recall_6: 0.8105 - val_loss: 0.0518 - val_accuracy: 0.8780 - val_precision_6: 0.8848 - val_recall_6: 0.8591\n",
            "Epoch 28/40\n"
          ]
        },
        {
          "output_type": "stream",
          "name": "stderr",
          "text": [
            "[2022-06-16 22:00:29,508] INFO: Learning rate: 0.005000\n"
          ]
        },
        {
          "output_type": "stream",
          "name": "stdout",
          "text": [
            " 0/58 [..............................] - ETA: 0s - loss: 0.0661 - accuracy: 0.8590 - precision_6: 0.8811 - recall_6: 0.8257\n",
            "Epoch 28: val_accuracy did not improve from 0.88301\n",
            "58/58 [==============================] - 10s 164ms/sample - loss: 0.0661 - accuracy: 0.8590 - precision_6: 0.8811 - recall_6: 0.8257 - val_loss: 0.0534 - val_accuracy: 0.8591 - val_precision_6: 0.8830 - val_recall_6: 0.8163\n",
            "Epoch 29/40\n"
          ]
        },
        {
          "output_type": "stream",
          "name": "stderr",
          "text": [
            "[2022-06-16 22:00:39,022] INFO: Learning rate: 0.005000\n"
          ]
        },
        {
          "output_type": "stream",
          "name": "stdout",
          "text": [
            " 0/58 [..............................] - ETA: 0s - loss: 0.0661 - accuracy: 0.8580 - precision_6: 0.8851 - recall_6: 0.8187\n",
            "Epoch 29: val_accuracy did not improve from 0.88301\n",
            "58/58 [==============================] - 10s 164ms/sample - loss: 0.0661 - accuracy: 0.8580 - precision_6: 0.8851 - recall_6: 0.8187 - val_loss: 0.0511 - val_accuracy: 0.8701 - val_precision_6: 0.8850 - val_recall_6: 0.8399\n",
            "Epoch 30/40\n"
          ]
        },
        {
          "output_type": "stream",
          "name": "stderr",
          "text": [
            "[2022-06-16 22:00:48,543] INFO: Learning rate: 0.005000\n"
          ]
        },
        {
          "output_type": "stream",
          "name": "stdout",
          "text": [
            " 0/58 [..............................] - ETA: 0s - loss: 0.0650 - accuracy: 0.8581 - precision_6: 0.8844 - recall_6: 0.8197\n",
            "Epoch 30: val_accuracy improved from 0.88301 to 0.88979, saving model to model_checkpoints/particle_net_lite_model.030.h5\n",
            "58/58 [==============================] - 10s 167ms/sample - loss: 0.0650 - accuracy: 0.8581 - precision_6: 0.8844 - recall_6: 0.8197 - val_loss: 0.0522 - val_accuracy: 0.8898 - val_precision_6: 0.8921 - val_recall_6: 0.8778\n",
            "Epoch 31/40\n"
          ]
        },
        {
          "output_type": "stream",
          "name": "stderr",
          "text": [
            "[2022-06-16 22:00:58,211] INFO: Learning rate: 0.005000\n"
          ]
        },
        {
          "output_type": "stream",
          "name": "stdout",
          "text": [
            " 0/58 [..............................] - ETA: 0s - loss: 0.0640 - accuracy: 0.8684 - precision_6: 0.8869 - recall_6: 0.8406\n",
            "Epoch 31: val_accuracy did not improve from 0.88979\n",
            "58/58 [==============================] - 9s 164ms/sample - loss: 0.0640 - accuracy: 0.8684 - precision_6: 0.8869 - recall_6: 0.8406 - val_loss: 0.0494 - val_accuracy: 0.8746 - val_precision_6: 0.8881 - val_recall_6: 0.8468\n",
            "Epoch 32/40\n"
          ]
        },
        {
          "output_type": "stream",
          "name": "stderr",
          "text": [
            "[2022-06-16 22:01:07,707] INFO: Learning rate: 0.005000\n"
          ]
        },
        {
          "output_type": "stream",
          "name": "stdout",
          "text": [
            " 0/58 [..............................] - ETA: 0s - loss: 0.0676 - accuracy: 0.8528 - precision_6: 0.8833 - recall_6: 0.8087\n",
            "Epoch 32: val_accuracy did not improve from 0.88979\n",
            "58/58 [==============================] - 10s 164ms/sample - loss: 0.0676 - accuracy: 0.8528 - precision_6: 0.8833 - recall_6: 0.8087 - val_loss: 0.0507 - val_accuracy: 0.8710 - val_precision_6: 0.8847 - val_recall_6: 0.8426\n",
            "Epoch 33/40\n"
          ]
        },
        {
          "output_type": "stream",
          "name": "stderr",
          "text": [
            "[2022-06-16 22:01:17,226] INFO: Learning rate: 0.005000\n"
          ]
        },
        {
          "output_type": "stream",
          "name": "stdout",
          "text": [
            " 0/58 [..............................] - ETA: 0s - loss: 0.0632 - accuracy: 0.8649 - precision_6: 0.8858 - recall_6: 0.8338\n",
            "Epoch 33: val_accuracy did not improve from 0.88979\n",
            "58/58 [==============================] - 9s 164ms/sample - loss: 0.0632 - accuracy: 0.8649 - precision_6: 0.8858 - recall_6: 0.8338 - val_loss: 0.0489 - val_accuracy: 0.8800 - val_precision_6: 0.8905 - val_recall_6: 0.8569\n",
            "Epoch 34/40\n"
          ]
        },
        {
          "output_type": "stream",
          "name": "stderr",
          "text": [
            "[2022-06-16 22:01:26,723] INFO: Learning rate: 0.005000\n"
          ]
        },
        {
          "output_type": "stream",
          "name": "stdout",
          "text": [
            " 0/58 [..............................] - ETA: 0s - loss: 0.0653 - accuracy: 0.8626 - precision_6: 0.8860 - recall_6: 0.8281\n",
            "Epoch 34: val_accuracy did not improve from 0.88979\n",
            "58/58 [==============================] - 10s 166ms/sample - loss: 0.0653 - accuracy: 0.8626 - precision_6: 0.8860 - recall_6: 0.8281 - val_loss: 0.0500 - val_accuracy: 0.8885 - val_precision_6: 0.8906 - val_recall_6: 0.8766\n",
            "Epoch 35/40\n"
          ]
        },
        {
          "output_type": "stream",
          "name": "stderr",
          "text": [
            "[2022-06-16 22:01:36,384] INFO: Learning rate: 0.005000\n"
          ]
        },
        {
          "output_type": "stream",
          "name": "stdout",
          "text": [
            " 0/58 [..............................] - ETA: 0s - loss: 0.0622 - accuracy: 0.8680 - precision_6: 0.8865 - recall_6: 0.8401\n",
            "Epoch 35: val_accuracy did not improve from 0.88979\n",
            "58/58 [==============================] - 10s 165ms/sample - loss: 0.0622 - accuracy: 0.8680 - precision_6: 0.8865 - recall_6: 0.8401 - val_loss: 0.0489 - val_accuracy: 0.8831 - val_precision_6: 0.8870 - val_recall_6: 0.8685\n",
            "Epoch 36/40\n"
          ]
        },
        {
          "output_type": "stream",
          "name": "stderr",
          "text": [
            "[2022-06-16 22:01:45,952] INFO: Learning rate: 0.005000\n"
          ]
        },
        {
          "output_type": "stream",
          "name": "stdout",
          "text": [
            " 0/58 [..............................] - ETA: 0s - loss: 0.0618 - accuracy: 0.8717 - precision_6: 0.8910 - recall_6: 0.8431\n",
            "Epoch 36: val_accuracy did not improve from 0.88979\n",
            "58/58 [==============================] - 9s 164ms/sample - loss: 0.0618 - accuracy: 0.8717 - precision_6: 0.8910 - recall_6: 0.8431 - val_loss: 0.0539 - val_accuracy: 0.8618 - val_precision_6: 0.8910 - val_recall_6: 0.8133\n",
            "Epoch 37/40\n"
          ]
        },
        {
          "output_type": "stream",
          "name": "stderr",
          "text": [
            "[2022-06-16 22:01:55,455] INFO: Learning rate: 0.005000\n"
          ]
        },
        {
          "output_type": "stream",
          "name": "stdout",
          "text": [
            " 0/58 [..............................] - ETA: 0s - loss: 0.0601 - accuracy: 0.8706 - precision_6: 0.8875 - recall_6: 0.8449\n",
            "Epoch 37: val_accuracy did not improve from 0.88979\n",
            "58/58 [==============================] - 9s 163ms/sample - loss: 0.0601 - accuracy: 0.8706 - precision_6: 0.8875 - recall_6: 0.8449 - val_loss: 0.0505 - val_accuracy: 0.8750 - val_precision_6: 0.8923 - val_recall_6: 0.8429\n",
            "Epoch 38/40\n"
          ]
        },
        {
          "output_type": "stream",
          "name": "stderr",
          "text": [
            "[2022-06-16 22:02:04,941] INFO: Learning rate: 0.005000\n"
          ]
        },
        {
          "output_type": "stream",
          "name": "stdout",
          "text": [
            " 0/58 [..............................] - ETA: 0s - loss: 0.0643 - accuracy: 0.8649 - precision_6: 0.8898 - recall_6: 0.8289\n",
            "Epoch 38: val_accuracy did not improve from 0.88979\n",
            "58/58 [==============================] - 10s 166ms/sample - loss: 0.0643 - accuracy: 0.8649 - precision_6: 0.8898 - recall_6: 0.8289 - val_loss: 0.0494 - val_accuracy: 0.8865 - val_precision_6: 0.8914 - val_recall_6: 0.8709\n",
            "Epoch 39/40\n"
          ]
        },
        {
          "output_type": "stream",
          "name": "stderr",
          "text": [
            "[2022-06-16 22:02:14,562] INFO: Learning rate: 0.005000\n"
          ]
        },
        {
          "output_type": "stream",
          "name": "stdout",
          "text": [
            " 0/58 [..............................] - ETA: 0s - loss: 0.0614 - accuracy: 0.8703 - precision_6: 0.8912 - recall_6: 0.8396\n",
            "Epoch 39: val_accuracy did not improve from 0.88979\n",
            "58/58 [==============================] - 10s 165ms/sample - loss: 0.0614 - accuracy: 0.8703 - precision_6: 0.8912 - recall_6: 0.8396 - val_loss: 0.0489 - val_accuracy: 0.8774 - val_precision_6: 0.8921 - val_recall_6: 0.8488\n",
            "Epoch 40/40\n"
          ]
        },
        {
          "output_type": "stream",
          "name": "stderr",
          "text": [
            "[2022-06-16 22:02:24,135] INFO: Learning rate: 0.005000\n"
          ]
        },
        {
          "output_type": "stream",
          "name": "stdout",
          "text": [
            " 0/58 [..............................] - ETA: 0s - loss: 0.0594 - accuracy: 0.8740 - precision_6: 0.8902 - recall_6: 0.8495\n",
            "Epoch 40: val_accuracy did not improve from 0.88979\n",
            "58/58 [==============================] - 10s 169ms/sample - loss: 0.0594 - accuracy: 0.8740 - precision_6: 0.8902 - recall_6: 0.8495 - val_loss: 0.0493 - val_accuracy: 0.8838 - val_precision_6: 0.9011 - val_recall_6: 0.8530\n"
          ]
        }
      ],
      "source": [
        "history = model.fit(\n",
        "    [train_data[\"points\"], train_data[\"features\"], train_data[\"mask\"], train_data[\"summary\"]], \n",
        "    train_label,\n",
        "    batch_size=batch_size,\n",
        "    epochs=40,\n",
        "    validation_data=(\n",
        "      [val_data[\"points\"], val_data[\"features\"], val_data[\"mask\"], val_data[\"summary\"]], \n",
        "      val_label, val_weight\n",
        "    ),\n",
        "    shuffle=True,\n",
        "    sample_weight=train_weight,\n",
        "    callbacks=callbacks,\n",
        ")\n"
      ]
    },
    {
      "cell_type": "code",
      "source": [
        "plt.plot(history.history['loss'], label=\"Train Loss\")\n",
        "plt.plot(history.history['val_loss'], label=\"Validation Loss\")\n",
        "plt.legend()"
      ],
      "metadata": {
        "id": "-irxBo-j0Ifg",
        "colab": {
          "base_uri": "https://localhost:8080/",
          "height": 282
        },
        "outputId": "712fdcca-1325-4832-cf70-1e76788bd75d"
      },
      "execution_count": 117,
      "outputs": [
        {
          "output_type": "execute_result",
          "data": {
            "text/plain": [
              "<matplotlib.legend.Legend at 0x7f99003cc8d0>"
            ]
          },
          "metadata": {},
          "execution_count": 117
        },
        {
          "output_type": "display_data",
          "data": {
            "text/plain": [
              "<Figure size 432x288 with 1 Axes>"
            ],
            "image/png": "[encoded data removed]"
          },
          "metadata": {
            "needs_background": "light"
          }
        }
      ]
    },
    {
      "cell_type": "code",
      "source": [
        "plt.plot(history.history['accuracy'], label=\"Train Accuracy\")\n",
        "plt.plot(history.history['val_accuracy'], label=\"Validation Accuracy\")\n",
        "plt.legend()"
      ],
      "metadata": {
        "id": "Fw0L9XiUEril",
        "colab": {
          "base_uri": "https://localhost:8080/",
          "height": 285
        },
        "outputId": "e1270e15-8d85-41a3-ad67-ad7fc5df59a7"
      },
      "execution_count": 118,
      "outputs": [
        {
          "output_type": "execute_result",
          "data": {
            "text/plain": [
              "<matplotlib.legend.Legend at 0x7f990039b690>"
            ]
          },
          "metadata": {},
          "execution_count": 118
        },
        {
          "output_type": "display_data",
          "data": {
            "text/plain": [
              "<Figure size 432x288 with 1 Axes>"
            ],
            "image/png": "[encoded data removed]"
          },
          "metadata": {
            "needs_background": "light"
          }
        }
      ]
    },
    {
      "cell_type": "code",
      "source": [
        "plt.plot(history.history['precision_6'], label=\"Train Purity\")\n",
        "plt.plot(history.history['val_precision_6'], label=\"Validation Purity\")\n",
        "plt.legend()"
      ],
      "metadata": {
        "id": "EvZiOlA1E1V-",
        "colab": {
          "base_uri": "https://localhost:8080/",
          "height": 282
        },
        "outputId": "58b4b2cb-925e-43da-f191-e4e816424110"
      },
      "execution_count": 119,
      "outputs": [
        {
          "output_type": "execute_result",
          "data": {
            "text/plain": [
              "<matplotlib.legend.Legend at 0x7f9900375c50>"
            ]
          },
          "metadata": {},
          "execution_count": 119
        },
        {
          "output_type": "display_data",
          "data": {
            "text/plain": [
              "<Figure size 432x288 with 1 Axes>"
            ],
            "image/png": "[encoded data removed]"
          },
          "metadata": {
            "needs_background": "light"
          }
        }
      ]
    },
    {
      "cell_type": "code",
      "source": [
        "plt.plot(history.history['recall_6'], label=\"Train Effciency\")\n",
        "plt.plot(history.history['val_recall_6'], label=\"Validation Efficiency\")\n",
        "plt.legend()"
      ],
      "metadata": {
        "id": "Wg0JLZOcE_89",
        "colab": {
          "base_uri": "https://localhost:8080/",
          "height": 282
        },
        "outputId": "a34df4b4-0caa-4b7c-8cd0-fd9586faca0c"
      },
      "execution_count": 120,
      "outputs": [
        {
          "output_type": "execute_result",
          "data": {
            "text/plain": [
              "<matplotlib.legend.Legend at 0x7f9900262c90>"
            ]
          },
          "metadata": {},
          "execution_count": 120
        },
        {
          "output_type": "display_data",
          "data": {
            "text/plain": [
              "<Figure size 432x288 with 1 Axes>"
            ],
            "image/png": "[encoded data removed]"
          },
          "metadata": {
            "needs_background": "light"
          }
        }
      ]
    },
    {
      "cell_type": "code",
      "source": [
        "!ls -1rt model_checkpoints/*model*.h5 | tail -n 1\n",
        "!cp $(ls -1rt model_checkpoints/*model*.h5 | tail -n 1) model_checkpoints/last.h5"
      ],
      "metadata": {
        "colab": {
          "base_uri": "https://localhost:8080/"
        },
        "id": "euw0LvIGaxat",
        "outputId": "e2d9ad4f-073c-49ed-cf3b-284be9439694"
      },
      "execution_count": 101,
      "outputs": [
        {
          "output_type": "stream",
          "name": "stdout",
          "text": [
            "model_checkpoints/particle_net_lite_model.033.h5\n"
          ]
        }
      ]
    },
    {
      "cell_type": "code",
      "source": [
        "model.load_weights(\"model_checkpoints/particle_net_lite_model.026.h5\")"
      ],
      "metadata": {
        "id": "NGw0cUyR5TxX"
      },
      "execution_count": 121,
      "outputs": []
    },
    {
      "cell_type": "code",
      "source": [
        "probs = model.predict_on_batch(test_data)"
      ],
      "metadata": {
        "id": "Ldx5QeBFF_N3"
      },
      "execution_count": 122,
      "outputs": []
    },
    {
      "cell_type": "code",
      "execution_count": 123,
      "metadata": {
        "id": "je0DvhbX2g86",
        "colab": {
          "base_uri": "https://localhost:8080/",
          "height": 282
        },
        "outputId": "bf9caae2-4dee-4287-db0e-9fd2e75b573d"
      },
      "outputs": [
        {
          "output_type": "stream",
          "name": "stdout",
          "text": [
            "0.9668040752580238\n"
          ]
        },
        {
          "output_type": "display_data",
          "data": {
            "text/plain": [
              "<Figure size 432x288 with 1 Axes>"
            ],
            "image/png": "[encoded data removed]"
          },
          "metadata": {
            "needs_background": "light"
          }
        }
      ],
      "source": [
        "precision, recall, thresholds = precision_recall_curve(test_label, probs, sample_weight=test_weight)\n",
        "plt.plot(recall, precision)\n",
        "print(auc(recall, precision))"
      ]
    }
  ],
  "metadata": {
    "kernelspec": {
      "display_name": "Python 3 (ipykernel)",
      "language": "python",
      "name": "python3"
    },
    "language_info": {
      "codemirror_mode": {
        "name": "ipython",
        "version": 3
      },
      "file_extension": ".py",
      "mimetype": "text/x-python",
      "name": "python",
      "nbconvert_exporter": "python",
      "pygments_lexer": "ipython3",
      "version": "3.8.10"
    },
    "colab": {
      "name": "keras_train.ipynb",
      "provenance": []
    },
    "accelerator": "GPU",
    "gpuClass": "standard"
  },
  "nbformat": 4,
  "nbformat_minor": 0
}