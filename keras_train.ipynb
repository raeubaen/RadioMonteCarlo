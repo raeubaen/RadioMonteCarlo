{
  "cells": [
    {
      "cell_type": "code",
      "execution_count": 1,
      "metadata": {
        "id": "qIv6ffW82g8W"
      },
      "outputs": [],
      "source": [
        "import numpy as np\n",
        "from sklearn.metrics import precision_recall_curve\n",
        "import matplotlib.pyplot as plt"
      ]
    },
    {
      "cell_type": "code",
      "execution_count": 2,
      "metadata": {
        "id": "rabKUfn02g8b"
      },
      "outputs": [],
      "source": [
        "import logging\n",
        "logging.basicConfig(level=logging.INFO, format='[%(asctime)s] %(levelname)s: %(message)s')"
      ]
    },
    {
      "cell_type": "code",
      "source": [
        "!wget https://raw.githubusercontent.com/raeubaen/RadioMonteCarlo/main/tf_keras_model.py"
      ],
      "metadata": {
        "id": "3gI9EJ0R2j5v",
        "outputId": "2bb3ab74-a2bc-4f79-a7d8-45485c4faec9",
        "colab": {
          "base_uri": "https://localhost:8080/"
        }
      },
      "execution_count": 3,
      "outputs": [
        {
          "output_type": "stream",
          "name": "stdout",
          "text": [
            "--2022-06-15 15:27:33--  https://raw.githubusercontent.com/raeubaen/RadioMonteCarlo/main/tf_keras_model.py\n",
            "Resolving raw.githubusercontent.com (raw.githubusercontent.com)... 185.199.108.133, 185.199.111.133, 185.199.109.133, ...\n",
            "Connecting to raw.githubusercontent.com (raw.githubusercontent.com)|185.199.108.133|:443... connected.\n",
            "HTTP request sent, awaiting response... 200 OK\n",
            "Length: 7649 (7.5K) [text/plain]\n",
            "Saving to: ‘tf_keras_model.py.3’\n",
            "\n",
            "\rtf_keras_model.py.3   0%[                    ]       0  --.-KB/s               \rtf_keras_model.py.3 100%[===================>]   7.47K  --.-KB/s    in 0s      \n",
            "\n",
            "2022-06-15 15:27:33 (105 MB/s) - ‘tf_keras_model.py.3’ saved [7649/7649]\n",
            "\n"
          ]
        }
      ]
    },
    {
      "cell_type": "code",
      "source": [
        "from google.colab import drive\n",
        "drive.mount('/content/drive')"
      ],
      "metadata": {
        "colab": {
          "base_uri": "https://localhost:8080/"
        },
        "id": "qMTnts0q2qFw",
        "outputId": "5e1e05c6-8a26-401f-af2a-322873f3cd43"
      },
      "execution_count": 4,
      "outputs": [
        {
          "output_type": "stream",
          "name": "stdout",
          "text": [
            "Drive already mounted at /content/drive; to attempt to forcibly remount, call drive.mount(\"/content/drive\", force_remount=True).\n"
          ]
        }
      ]
    },
    {
      "cell_type": "code",
      "source": [
        "# VANNO TUTTI CAMBIATI\n",
        "\n",
        "# !wget https://www.dropbox.com/s/6s5khncrval4rz9/bkg_et.npy?dl=1 -o bkg_et.npy\n",
        "# !wget https://www.dropbox.com/s/qc7z1nhqh5xvpbg/bkg_mask.npy?dl=1 -o bkg_mask.npy\n",
        "# !wget https://www.dropbox.com/s/fs5e9wuhqtr66xh/bkg_xy.npy?dl=1 -o bkg_xy.npy\n",
        "# !wget https://www.dropbox.com/s/w0b94xzyk2wg7y4/signal_et.npy?dl=1 -o signal_et.npy\n",
        "# !wget https://www.dropbox.com/s/3k6b0u3zz65xnyf/signal_mask.npy?dl=1 -o signal_mask.npy\n",
        "# !wget https://www.dropbox.com/s/chcep3q8terrj4k/signal_xy.npy?dl=1 -o signal_xy.npy"
      ],
      "metadata": {
        "id": "Ez9vWLA_7qaP"
      },
      "execution_count": 5,
      "outputs": []
    },
    {
      "cell_type": "code",
      "execution_count": 6,
      "metadata": {
        "id": "S3ag941H2g8d",
        "outputId": "915210b9-e788-42a4-e9eb-9552a5491e69",
        "colab": {
          "base_uri": "https://localhost:8080/"
        }
      },
      "outputs": [
        {
          "output_type": "stream",
          "name": "stderr",
          "text": [
            "[2022-06-15 15:27:38,798] INFO: NumExpr defaulting to 2 threads.\n"
          ]
        }
      ],
      "source": [
        "import tensorflow as tf\n",
        "from tensorflow import keras\n",
        "from tf_keras_model import get_particle_net, get_particle_net_lite, edge_conv"
      ]
    },
    {
      "cell_type": "code",
      "execution_count": 7,
      "metadata": {
        "id": "Se9xg25k2g8f"
      },
      "outputs": [],
      "source": [
        "data_folder = \"/content/drive/MyDrive/datiML\"\n",
        "\n",
        "name_map = {\"points\": \"xy\", \"features\": \"et\", \"mask\": \"mask\"} # va provato sia xy che rphi\n",
        "\n",
        "\n",
        "signal  = {key: np.load(f\"{data_folder}/signal_{ name_map[key]}.npy\") for key in name_map}\n",
        "\n",
        "mnbs    = {key: np.load(f\"{data_folder}/mnbs_{   name_map[key]}.npy\") for key in name_map}\n",
        "\n",
        "cosmics = {key: np.load(f\"{data_folder}/cosmics_{name_map[key]}.npy\") for key in name_map}"
      ]
    },
    {
      "cell_type": "code",
      "execution_count": 8,
      "metadata": {
        "id": "ZS-UFF0G2g8i"
      },
      "outputs": [],
      "source": [
        "S =  signal[\"mask\"].shape[0] #entries segnale\n",
        "F =    mnbs[\"mask\"].shape[0] #entries mnbs (background flash da fascio)\n",
        "C = cosmics[\"mask\"].shape[0] #entries cosmici\n",
        "\n",
        "N = S + F + C\n",
        "\n",
        "p = np.random.permutation(N) #"
      ]
    },
    {
      "cell_type": "code",
      "source": [
        "'''\n",
        "cluster su disco 0 sopra 50 MeV in un injection cycle:\n",
        "RMC: 66\n",
        "MNBS: 107k\n",
        "cosmici: 4\n",
        "\n",
        "cluster simulati su disco 0 sopra i 50 MeV:\n",
        "RMC: 150k\n",
        "MNBS: 16505 * 5 = 82k\n",
        "cosmici: 53k\n",
        "\n",
        "pesi:\n",
        "RMC: 66/150k \n",
        "MNBS: 107k/82k\n",
        "Cosmici: 4/53k\n",
        "'''\n",
        "\n",
        "signal_weight = 66/S * 100\n",
        "mnbs_weight = 1.07e3/F * 100\n",
        "cosmics_weight = 4/C * 100"
      ],
      "metadata": {
        "id": "m1CHQLiEAXZQ"
      },
      "execution_count": 9,
      "outputs": []
    },
    {
      "cell_type": "code",
      "execution_count": 10,
      "metadata": {
        "id": "aXZ6qndr2g8m",
        "colab": {
          "base_uri": "https://localhost:8080/"
        },
        "outputId": "efa2c290-c6d7-4136-f838-df9f6b47e6d6"
      },
      "outputs": [
        {
          "output_type": "stream",
          "name": "stdout",
          "text": [
            "[63721, 82213, 52984]\n",
            "[0.10357652893080774, 1.3014973301059445, 0.007549448890231013]\n"
          ]
        }
      ],
      "source": [
        "data = {key: np.concatenate( (signal[key], mnbs[key], cosmics[key]) )[p] for key in name_map}\n",
        "\n",
        "label_list = [1, 0, 0]\n",
        "entries_list = [S, F, C]\n",
        "weight_list = [signal_weight, mnbs_weight, cosmics_weight]\n",
        "\n",
        "print(f\"#Entries per signale, mnbs e cosmici:{entries_list}\")\n",
        "print(f\"#Pesi per signale, mnbs e cosmici:{weight_list}\")\n",
        "\n",
        "label = np.concatenate( \n",
        "    [ np.ones((e))*l for e, l in zip(entries_list,  label_list) ]\n",
        ")[p]\n",
        "\n",
        "sample_weight = np.concatenate( \n",
        "    [ np.ones((e))*w for e, w in zip(entries_list, weight_list) ]\n",
        ")[p]"
      ]
    },
    {
      "cell_type": "code",
      "execution_count": 11,
      "metadata": {
        "id": "ZFNtoo8s2g8s"
      },
      "outputs": [],
      "source": [
        "train_data  = {key: data[key][int(N*0.0) : int(N*0.7)] for key in name_map}\n",
        "test_data   = {key: data[key][int(N*0.7) : int(N*0.9)] for key in name_map}\n",
        "val_data    = {key: data[key][int(N*0.9) : int(N*1.0)] for key in name_map}\n",
        "\n",
        "train_label = label[int(N*0.0) : int(N*0.7)]\n",
        "test_label  = label[int(N*0.7) : int(N*0.9)]\n",
        "val_label   = label[int(N*0.9) : int(N*1.0)]\n",
        "\n",
        "train_weight = sample_weight[int(N*0.0) : int(N*0.7)]\n",
        "test_weight  = sample_weight[int(N*0.7) : int(N*0.9)]\n",
        "val_weight   = sample_weight[int(N*0.9) : int(N*1.0)]"
      ]
    },
    {
      "cell_type": "code",
      "execution_count": 18,
      "metadata": {
        "scrolled": true,
        "id": "nfCI_M2d2g8u"
      },
      "outputs": [],
      "source": [
        "model_type = 'particle_net_lite' # choose between 'particle_net' and 'particle_net_lite'\n",
        "num_classes = 2\n",
        "input_shapes = {'points': (50, 2), 'features': (50, 2), 'mask':(50, 1)}\n",
        "\n",
        "if 'lite' in model_type:\n",
        "    model = get_particle_net_lite(num_classes, input_shapes)\n",
        "else:\n",
        "    model = get_particle_net(num_classes, input_shapes)"
      ]
    },
    {
      "cell_type": "code",
      "execution_count": 13,
      "metadata": {
        "id": "LFRJXncU2g8x"
      },
      "outputs": [],
      "source": [
        "# Training parameters\n",
        "batch_size = 1024 if 'lite' in model_type else 384\n",
        "epochs = 30"
      ]
    },
    {
      "cell_type": "code",
      "execution_count": 14,
      "metadata": {
        "id": "RHvU72JY2g8z"
      },
      "outputs": [],
      "source": [
        "def lr_schedule(epoch):\n",
        "    lr = 1e-3\n",
        "    if epoch > 10:\n",
        "        lr *= 0.1\n",
        "    elif epoch > 20:\n",
        "        lr *= 0.01\n",
        "    logging.info('Learning rate: %f'%lr)\n",
        "    return lr"
      ]
    },
    {
      "cell_type": "code",
      "execution_count": 19,
      "metadata": {
        "scrolled": true,
        "id": "2IlFncmO2g82",
        "outputId": "dfa9f649-b688-4ee8-f987-9a3a1a53313a",
        "colab": {
          "base_uri": "https://localhost:8080/"
        }
      },
      "outputs": [
        {
          "output_type": "stream",
          "name": "stderr",
          "text": [
            "[2022-06-15 15:36:37,512] INFO: Learning rate: 0.001000\n"
          ]
        },
        {
          "output_type": "stream",
          "name": "stdout",
          "text": [
            "Model: \"ParticleNet\"\n",
            "__________________________________________________________________________________________________\n",
            " Layer (type)                   Output Shape         Param #     Connected to                     \n",
            "==================================================================================================\n",
            " mask (InputLayer)              [(None, 50, 1)]      0           []                               \n",
            "                                                                                                  \n",
            " tf.math.not_equal_1 (TFOpLambd  (None, 50, 1)       0           ['mask[0][0]']                   \n",
            " a)                                                                                               \n",
            "                                                                                                  \n",
            " tf.cast_2 (TFOpLambda)         (None, 50, 1)        0           ['tf.math.not_equal_1[0][0]']    \n",
            "                                                                                                  \n",
            " tf.math.equal_1 (TFOpLambda)   (None, 50, 1)        0           ['tf.cast_2[0][0]']              \n",
            "                                                                                                  \n",
            " tf.cast_3 (TFOpLambda)         (None, 50, 1)        0           ['tf.math.equal_1[0][0]']        \n",
            "                                                                                                  \n",
            " tf.math.multiply_8 (TFOpLambda  (None, 50, 1)       0           ['tf.cast_3[0][0]']              \n",
            " )                                                                                                \n",
            "                                                                                                  \n",
            " points (InputLayer)            [(None, 50, 2)]      0           []                               \n",
            "                                                                                                  \n",
            " tf.math.add_2 (TFOpLambda)     (None, 50, 2)        0           ['tf.math.multiply_8[0][0]',     \n",
            "                                                                  'points[0][0]']                 \n",
            "                                                                                                  \n",
            " features (InputLayer)          [(None, 50, 2)]      0           []                               \n",
            "                                                                                                  \n",
            " tf.compat.v1.transpose_4 (TFOp  (None, 2, 50)       0           ['tf.math.add_2[0][0]']          \n",
            " Lambda)                                                                                          \n",
            "                                                                                                  \n",
            " tf.expand_dims_7 (TFOpLambda)  (None, 50, 1, 2)     0           ['features[0][0]']               \n",
            "                                                                                                  \n",
            " tf.math.multiply_9 (TFOpLambda  (None, 50, 2)       0           ['tf.math.add_2[0][0]',          \n",
            " )                                                                'tf.math.add_2[0][0]']          \n",
            "                                                                                                  \n",
            " tf.linalg.matmul_2 (TFOpLambda  (None, 50, 50)      0           ['tf.math.add_2[0][0]',          \n",
            " )                                                                'tf.compat.v1.transpose_4[0][0]'\n",
            "                                                                 ]                                \n",
            "                                                                                                  \n",
            " tf.math.multiply_10 (TFOpLambd  (None, 50, 2)       0           ['tf.math.add_2[0][0]',          \n",
            " a)                                                               'tf.math.add_2[0][0]']          \n",
            "                                                                                                  \n",
            " ParticleNet_fts_bn (BatchNorma  (None, 50, 1, 2)    8           ['tf.expand_dims_7[0][0]']       \n",
            " lization)                                                                                        \n",
            "                                                                                                  \n",
            " tf.math.reduce_sum_4 (TFOpLamb  (None, 50, 1)       0           ['tf.math.multiply_9[0][0]']     \n",
            " da)                                                                                              \n",
            "                                                                                                  \n",
            " tf.math.multiply_11 (TFOpLambd  (None, 50, 50)      0           ['tf.linalg.matmul_2[0][0]']     \n",
            " a)                                                                                               \n",
            "                                                                                                  \n",
            " tf.math.reduce_sum_5 (TFOpLamb  (None, 50, 1)       0           ['tf.math.multiply_10[0][0]']    \n",
            " da)                                                                                              \n",
            "                                                                                                  \n",
            " tf.compat.v1.squeeze_3 (TFOpLa  (None, 50, 2)       0           ['ParticleNet_fts_bn[0][0]']     \n",
            " mbda)                                                                                            \n",
            "                                                                                                  \n",
            " tf.math.subtract_4 (TFOpLambda  (None, 50, 50)      0           ['tf.math.reduce_sum_4[0][0]',   \n",
            " )                                                                'tf.math.multiply_11[0][0]']    \n",
            "                                                                                                  \n",
            " tf.compat.v1.transpose_5 (TFOp  (None, 1, 50)       0           ['tf.math.reduce_sum_5[0][0]']   \n",
            " Lambda)                                                                                          \n",
            "                                                                                                  \n",
            " tf.compat.v1.shape_2 (TFOpLamb  (3,)                0           ['tf.compat.v1.squeeze_3[0][0]'] \n",
            " da)                                                                                              \n",
            "                                                                                                  \n",
            " tf.__operators__.add_4 (TFOpLa  (None, 50, 50)      0           ['tf.math.subtract_4[0][0]',     \n",
            " mbda)                                                            'tf.compat.v1.transpose_5[0][0]'\n",
            "                                                                 ]                                \n",
            "                                                                                                  \n",
            " tf.__operators__.getitem_5 (Sl  ()                  0           ['tf.compat.v1.shape_2[0][0]']   \n",
            " icingOpLambda)                                                                                   \n",
            "                                                                                                  \n",
            " tf.math.negative_2 (TFOpLambda  (None, 50, 50)      0           ['tf.__operators__.add_4[0][0]'] \n",
            " )                                                                                                \n",
            "                                                                                                  \n",
            " tf.range_2 (TFOpLambda)        (None,)              0           ['tf.__operators__.getitem_5[0][0\n",
            "                                                                 ]']                              \n",
            "                                                                                                  \n",
            " tf.math.top_k_2 (TFOpLambda)   TopKV2(values=(None  0           ['tf.math.negative_2[0][0]']     \n",
            "                                , 50, 8),                                                         \n",
            "                                 indices=(None, 50,                                               \n",
            "                                 8))                                                              \n",
            "                                                                                                  \n",
            " tf.reshape_2 (TFOpLambda)      (None, 1, 1, 1)      0           ['tf.range_2[0][0]']             \n",
            "                                                                                                  \n",
            " tf.__operators__.getitem_4 (Sl  (None, 50, 7)       0           ['tf.math.top_k_2[0][1]']        \n",
            " icingOpLambda)                                                                                   \n",
            "                                                                                                  \n",
            " tf.tile_4 (TFOpLambda)         (None, 50, 7, 1)     0           ['tf.reshape_2[0][0]']           \n",
            "                                                                                                  \n",
            " tf.expand_dims_8 (TFOpLambda)  (None, 50, 7, 1)     0           ['tf.__operators__.getitem_4[0][0\n",
            "                                                                 ]']                              \n",
            "                                                                                                  \n",
            " tf.expand_dims_9 (TFOpLambda)  (None, 50, 1, 2)     0           ['tf.compat.v1.squeeze_3[0][0]'] \n",
            "                                                                                                  \n",
            " tf.concat_4 (TFOpLambda)       (None, 50, 7, 2)     0           ['tf.tile_4[0][0]',              \n",
            "                                                                  'tf.expand_dims_8[0][0]']       \n",
            "                                                                                                  \n",
            " tf.tile_5 (TFOpLambda)         (None, 50, 7, 2)     0           ['tf.expand_dims_9[0][0]']       \n",
            "                                                                                                  \n",
            " tf.compat.v1.gather_nd_2 (TFOp  (None, 50, 7, 2)    0           ['tf.compat.v1.squeeze_3[0][0]', \n",
            " Lambda)                                                          'tf.concat_4[0][0]']            \n",
            "                                                                                                  \n",
            " tf.math.subtract_5 (TFOpLambda  (None, 50, 7, 2)    0           ['tf.compat.v1.gather_nd_2[0][0]'\n",
            " )                                                               , 'tf.tile_5[0][0]']             \n",
            "                                                                                                  \n",
            " tf.concat_5 (TFOpLambda)       (None, 50, 7, 4)     0           ['tf.tile_5[0][0]',              \n",
            "                                                                  'tf.math.subtract_5[0][0]']     \n",
            "                                                                                                  \n",
            " ParticleNet_EdgeConv0_conv0 (C  (None, 50, 7, 32)   128         ['tf.concat_5[0][0]']            \n",
            " onv2D)                                                                                           \n",
            "                                                                                                  \n",
            " ParticleNet_EdgeConv0_bn0 (Bat  (None, 50, 7, 32)   128         ['ParticleNet_EdgeConv0_conv0[0][\n",
            " chNormalization)                                                0]']                             \n",
            "                                                                                                  \n",
            " ParticleNet_EdgeConv0_act0 (Ac  (None, 50, 7, 32)   0           ['ParticleNet_EdgeConv0_bn0[0][0]\n",
            " tivation)                                                       ']                               \n",
            "                                                                                                  \n",
            " ParticleNet_EdgeConv0_conv1 (C  (None, 50, 7, 32)   1024        ['ParticleNet_EdgeConv0_act0[0][0\n",
            " onv2D)                                                          ]']                              \n",
            "                                                                                                  \n",
            " ParticleNet_EdgeConv0_bn1 (Bat  (None, 50, 7, 32)   128         ['ParticleNet_EdgeConv0_conv1[0][\n",
            " chNormalization)                                                0]']                             \n",
            "                                                                                                  \n",
            " ParticleNet_EdgeConv0_act1 (Ac  (None, 50, 7, 32)   0           ['ParticleNet_EdgeConv0_bn1[0][0]\n",
            " tivation)                                                       ']                               \n",
            "                                                                                                  \n",
            " tf.expand_dims_10 (TFOpLambda)  (None, 50, 1, 2)    0           ['tf.compat.v1.squeeze_3[0][0]'] \n",
            "                                                                                                  \n",
            " ParticleNet_EdgeConv0_conv2 (C  (None, 50, 7, 32)   1024        ['ParticleNet_EdgeConv0_act1[0][0\n",
            " onv2D)                                                          ]']                              \n",
            "                                                                                                  \n",
            " ParticleNet_EdgeConv0_sc_conv   (None, 50, 1, 32)   64          ['tf.expand_dims_10[0][0]']      \n",
            " (Conv2D)                                                                                         \n",
            "                                                                                                  \n",
            " ParticleNet_EdgeConv0_bn2 (Bat  (None, 50, 7, 32)   128         ['ParticleNet_EdgeConv0_conv2[0][\n",
            " chNormalization)                                                0]']                             \n",
            "                                                                                                  \n",
            " ParticleNet_EdgeConv0_sc_bn (B  (None, 50, 1, 32)   128         ['ParticleNet_EdgeConv0_sc_conv[0\n",
            " atchNormalization)                                              ][0]']                           \n",
            "                                                                                                  \n",
            " ParticleNet_EdgeConv0_act2 (Ac  (None, 50, 7, 32)   0           ['ParticleNet_EdgeConv0_bn2[0][0]\n",
            " tivation)                                                       ']                               \n",
            "                                                                                                  \n",
            " tf.compat.v1.squeeze_4 (TFOpLa  (None, 50, 32)      0           ['ParticleNet_EdgeConv0_sc_bn[0][\n",
            " mbda)                                                           0]']                             \n",
            "                                                                                                  \n",
            " tf.math.reduce_mean_3 (TFOpLam  (None, 50, 32)      0           ['ParticleNet_EdgeConv0_act2[0][0\n",
            " bda)                                                            ]']                              \n",
            "                                                                                                  \n",
            " tf.__operators__.add_5 (TFOpLa  (None, 50, 32)      0           ['tf.compat.v1.squeeze_4[0][0]', \n",
            " mbda)                                                            'tf.math.reduce_mean_3[0][0]']  \n",
            "                                                                                                  \n",
            " ParticleNet_EdgeConv0_sc_act (  (None, 50, 32)      0           ['tf.__operators__.add_5[0][0]'] \n",
            " Activation)                                                                                      \n",
            "                                                                                                  \n",
            " tf.math.add_3 (TFOpLambda)     (None, 50, 32)       0           ['tf.math.multiply_8[0][0]',     \n",
            "                                                                  'ParticleNet_EdgeConv0_sc_act[0]\n",
            "                                                                 [0]']                            \n",
            "                                                                                                  \n",
            " tf.compat.v1.transpose_6 (TFOp  (None, 32, 50)      0           ['tf.math.add_3[0][0]']          \n",
            " Lambda)                                                                                          \n",
            "                                                                                                  \n",
            " tf.math.multiply_12 (TFOpLambd  (None, 50, 32)      0           ['tf.math.add_3[0][0]',          \n",
            " a)                                                               'tf.math.add_3[0][0]']          \n",
            "                                                                                                  \n",
            " tf.linalg.matmul_3 (TFOpLambda  (None, 50, 50)      0           ['tf.math.add_3[0][0]',          \n",
            " )                                                                'tf.compat.v1.transpose_6[0][0]'\n",
            "                                                                 ]                                \n",
            "                                                                                                  \n",
            " tf.math.multiply_13 (TFOpLambd  (None, 50, 32)      0           ['tf.math.add_3[0][0]',          \n",
            " a)                                                               'tf.math.add_3[0][0]']          \n",
            "                                                                                                  \n",
            " tf.math.reduce_sum_6 (TFOpLamb  (None, 50, 1)       0           ['tf.math.multiply_12[0][0]']    \n",
            " da)                                                                                              \n",
            "                                                                                                  \n",
            " tf.math.multiply_14 (TFOpLambd  (None, 50, 50)      0           ['tf.linalg.matmul_3[0][0]']     \n",
            " a)                                                                                               \n",
            "                                                                                                  \n",
            " tf.math.reduce_sum_7 (TFOpLamb  (None, 50, 1)       0           ['tf.math.multiply_13[0][0]']    \n",
            " da)                                                                                              \n",
            "                                                                                                  \n",
            " tf.math.subtract_6 (TFOpLambda  (None, 50, 50)      0           ['tf.math.reduce_sum_6[0][0]',   \n",
            " )                                                                'tf.math.multiply_14[0][0]']    \n",
            "                                                                                                  \n",
            " tf.compat.v1.transpose_7 (TFOp  (None, 1, 50)       0           ['tf.math.reduce_sum_7[0][0]']   \n",
            " Lambda)                                                                                          \n",
            "                                                                                                  \n",
            " tf.compat.v1.shape_3 (TFOpLamb  (3,)                0           ['ParticleNet_EdgeConv0_sc_act[0]\n",
            " da)                                                             [0]']                            \n",
            "                                                                                                  \n",
            " tf.__operators__.add_6 (TFOpLa  (None, 50, 50)      0           ['tf.math.subtract_6[0][0]',     \n",
            " mbda)                                                            'tf.compat.v1.transpose_7[0][0]'\n",
            "                                                                 ]                                \n",
            "                                                                                                  \n",
            " tf.__operators__.getitem_7 (Sl  ()                  0           ['tf.compat.v1.shape_3[0][0]']   \n",
            " icingOpLambda)                                                                                   \n",
            "                                                                                                  \n",
            " tf.math.negative_3 (TFOpLambda  (None, 50, 50)      0           ['tf.__operators__.add_6[0][0]'] \n",
            " )                                                                                                \n",
            "                                                                                                  \n",
            " tf.range_3 (TFOpLambda)        (None,)              0           ['tf.__operators__.getitem_7[0][0\n",
            "                                                                 ]']                              \n",
            "                                                                                                  \n",
            " tf.math.top_k_3 (TFOpLambda)   TopKV2(values=(None  0           ['tf.math.negative_3[0][0]']     \n",
            "                                , 50, 8),                                                         \n",
            "                                 indices=(None, 50,                                               \n",
            "                                 8))                                                              \n",
            "                                                                                                  \n",
            " tf.reshape_3 (TFOpLambda)      (None, 1, 1, 1)      0           ['tf.range_3[0][0]']             \n",
            "                                                                                                  \n",
            " tf.__operators__.getitem_6 (Sl  (None, 50, 7)       0           ['tf.math.top_k_3[0][1]']        \n",
            " icingOpLambda)                                                                                   \n",
            "                                                                                                  \n",
            " tf.tile_6 (TFOpLambda)         (None, 50, 7, 1)     0           ['tf.reshape_3[0][0]']           \n",
            "                                                                                                  \n",
            " tf.expand_dims_11 (TFOpLambda)  (None, 50, 7, 1)    0           ['tf.__operators__.getitem_6[0][0\n",
            "                                                                 ]']                              \n",
            "                                                                                                  \n",
            " tf.expand_dims_12 (TFOpLambda)  (None, 50, 1, 32)   0           ['ParticleNet_EdgeConv0_sc_act[0]\n",
            "                                                                 [0]']                            \n",
            "                                                                                                  \n",
            " tf.concat_6 (TFOpLambda)       (None, 50, 7, 2)     0           ['tf.tile_6[0][0]',              \n",
            "                                                                  'tf.expand_dims_11[0][0]']      \n",
            "                                                                                                  \n",
            " tf.tile_7 (TFOpLambda)         (None, 50, 7, 32)    0           ['tf.expand_dims_12[0][0]']      \n",
            "                                                                                                  \n",
            " tf.compat.v1.gather_nd_3 (TFOp  (None, 50, 7, 32)   0           ['ParticleNet_EdgeConv0_sc_act[0]\n",
            " Lambda)                                                         [0]',                            \n",
            "                                                                  'tf.concat_6[0][0]']            \n",
            "                                                                                                  \n",
            " tf.math.subtract_7 (TFOpLambda  (None, 50, 7, 32)   0           ['tf.compat.v1.gather_nd_3[0][0]'\n",
            " )                                                               , 'tf.tile_7[0][0]']             \n",
            "                                                                                                  \n",
            " tf.concat_7 (TFOpLambda)       (None, 50, 7, 64)    0           ['tf.tile_7[0][0]',              \n",
            "                                                                  'tf.math.subtract_7[0][0]']     \n",
            "                                                                                                  \n",
            " ParticleNet_EdgeConv1_conv0 (C  (None, 50, 7, 64)   4096        ['tf.concat_7[0][0]']            \n",
            " onv2D)                                                                                           \n",
            "                                                                                                  \n",
            " ParticleNet_EdgeConv1_bn0 (Bat  (None, 50, 7, 64)   256         ['ParticleNet_EdgeConv1_conv0[0][\n",
            " chNormalization)                                                0]']                             \n",
            "                                                                                                  \n",
            " ParticleNet_EdgeConv1_act0 (Ac  (None, 50, 7, 64)   0           ['ParticleNet_EdgeConv1_bn0[0][0]\n",
            " tivation)                                                       ']                               \n",
            "                                                                                                  \n",
            " ParticleNet_EdgeConv1_conv1 (C  (None, 50, 7, 64)   4096        ['ParticleNet_EdgeConv1_act0[0][0\n",
            " onv2D)                                                          ]']                              \n",
            "                                                                                                  \n",
            " ParticleNet_EdgeConv1_bn1 (Bat  (None, 50, 7, 64)   256         ['ParticleNet_EdgeConv1_conv1[0][\n",
            " chNormalization)                                                0]']                             \n",
            "                                                                                                  \n",
            " ParticleNet_EdgeConv1_act1 (Ac  (None, 50, 7, 64)   0           ['ParticleNet_EdgeConv1_bn1[0][0]\n",
            " tivation)                                                       ']                               \n",
            "                                                                                                  \n",
            " tf.expand_dims_13 (TFOpLambda)  (None, 50, 1, 32)   0           ['ParticleNet_EdgeConv0_sc_act[0]\n",
            "                                                                 [0]']                            \n",
            "                                                                                                  \n",
            " ParticleNet_EdgeConv1_conv2 (C  (None, 50, 7, 64)   4096        ['ParticleNet_EdgeConv1_act1[0][0\n",
            " onv2D)                                                          ]']                              \n",
            "                                                                                                  \n",
            " ParticleNet_EdgeConv1_sc_conv   (None, 50, 1, 64)   2048        ['tf.expand_dims_13[0][0]']      \n",
            " (Conv2D)                                                                                         \n",
            "                                                                                                  \n",
            " ParticleNet_EdgeConv1_bn2 (Bat  (None, 50, 7, 64)   256         ['ParticleNet_EdgeConv1_conv2[0][\n",
            " chNormalization)                                                0]']                             \n",
            "                                                                                                  \n",
            " ParticleNet_EdgeConv1_sc_bn (B  (None, 50, 1, 64)   256         ['ParticleNet_EdgeConv1_sc_conv[0\n",
            " atchNormalization)                                              ][0]']                           \n",
            "                                                                                                  \n",
            " ParticleNet_EdgeConv1_act2 (Ac  (None, 50, 7, 64)   0           ['ParticleNet_EdgeConv1_bn2[0][0]\n",
            " tivation)                                                       ']                               \n",
            "                                                                                                  \n",
            " tf.compat.v1.squeeze_5 (TFOpLa  (None, 50, 64)      0           ['ParticleNet_EdgeConv1_sc_bn[0][\n",
            " mbda)                                                           0]']                             \n",
            "                                                                                                  \n",
            " tf.math.reduce_mean_4 (TFOpLam  (None, 50, 64)      0           ['ParticleNet_EdgeConv1_act2[0][0\n",
            " bda)                                                            ]']                              \n",
            "                                                                                                  \n",
            " tf.__operators__.add_7 (TFOpLa  (None, 50, 64)      0           ['tf.compat.v1.squeeze_5[0][0]', \n",
            " mbda)                                                            'tf.math.reduce_mean_4[0][0]']  \n",
            "                                                                                                  \n",
            " ParticleNet_EdgeConv1_sc_act (  (None, 50, 64)      0           ['tf.__operators__.add_7[0][0]'] \n",
            " Activation)                                                                                      \n",
            "                                                                                                  \n",
            " tf.math.multiply_15 (TFOpLambd  (None, 50, 64)      0           ['ParticleNet_EdgeConv1_sc_act[0]\n",
            " a)                                                              [0]',                            \n",
            "                                                                  'tf.cast_2[0][0]']              \n",
            "                                                                                                  \n",
            " tf.math.reduce_mean_5 (TFOpLam  (None, 64)          0           ['tf.math.multiply_15[0][0]']    \n",
            " bda)                                                                                             \n",
            "                                                                                                  \n",
            " dense_2 (Dense)                (None, 128)          8320        ['tf.math.reduce_mean_5[0][0]']  \n",
            "                                                                                                  \n",
            " dropout_1 (Dropout)            (None, 128)          0           ['dense_2[0][0]']                \n",
            "                                                                                                  \n",
            " dense_3 (Dense)                (None, 1)            129         ['dropout_1[0][0]']              \n",
            "                                                                                                  \n",
            "==================================================================================================\n",
            "Total params: 26,569\n",
            "Trainable params: 25,797\n",
            "Non-trainable params: 772\n",
            "__________________________________________________________________________________________________\n"
          ]
        }
      ],
      "source": [
        "model.compile(loss='binary_crossentropy',\n",
        "              optimizer=keras.optimizers.Adam(learning_rate=lr_schedule(0)),\n",
        "              metrics=['accuracy', keras.metrics.Precision(), keras.metrics.Recall()])\n",
        "model.summary()"
      ]
    },
    {
      "cell_type": "code",
      "execution_count": 20,
      "metadata": {
        "id": "hc6CsvjZ2g84"
      },
      "outputs": [],
      "source": [
        "# Prepare model model saving directory.\n",
        "import os\n",
        "save_dir = 'model_checkpoints'\n",
        "model_name = '%s_model.{epoch:03d}.h5' % model_type\n",
        "if not os.path.isdir(save_dir):\n",
        "    os.makedirs(save_dir)\n",
        "filepath = os.path.join(save_dir, model_name)\n",
        "\n",
        "# Prepare callbacks for model saving and for learning rate adjustment.\n",
        "checkpoint = keras.callbacks.ModelCheckpoint(filepath=filepath,\n",
        "                             monitor='val_accuracy',\n",
        "                             verbose=1,\n",
        "                             save_best_only=True)\n",
        "\n",
        "lr_scheduler = keras.callbacks.LearningRateScheduler(lr_schedule)\n",
        "progress_bar = keras.callbacks.ProgbarLogger()\n",
        "callbacks = [checkpoint, progress_bar] #, lr_scheduler"
      ]
    },
    {
      "cell_type": "code",
      "execution_count": 21,
      "metadata": {
        "scrolled": true,
        "id": "98kE3T-I2g85",
        "outputId": "5492c5d0-6de4-450c-e467-f8731716c0c5",
        "colab": {
          "base_uri": "https://localhost:8080/"
        }
      },
      "outputs": [
        {
          "output_type": "stream",
          "name": "stdout",
          "text": [
            "Epoch 1/30\n",
            "      0/Unknown - 29s 0s/sample - loss: 0.1098 - accuracy: 0.7026 - precision_1: 0.7230 - recall_1: 0.1151\n",
            "Epoch 1: val_accuracy improved from -inf to 0.72572, saving model to model_checkpoints/particle_net_lite_model.001.h5\n",
            "136/136 [==============================] - 36s 268ms/sample - loss: 0.1098 - accuracy: 0.7026 - precision_1: 0.7230 - recall_1: 0.1151 - val_loss: 0.2867 - val_accuracy: 0.7257 - val_precision_1: 0.5588 - val_recall_1: 0.6334\n",
            "Epoch 2/30\n",
            "  0/136 [..............................] - ETA: 0s - loss: 0.0731 - accuracy: 0.7879 - precision_1: 0.8761 - recall_1: 0.3929\n",
            "Epoch 2: val_accuracy improved from 0.72572 to 0.78961, saving model to model_checkpoints/particle_net_lite_model.002.h5\n",
            "136/136 [==============================] - 31s 227ms/sample - loss: 0.0731 - accuracy: 0.7879 - precision_1: 0.8761 - recall_1: 0.3929 - val_loss: 0.1535 - val_accuracy: 0.7896 - val_precision_1: 0.7712 - val_recall_1: 0.4766\n",
            "Epoch 3/30\n",
            "  0/136 [..............................] - ETA: 0s - loss: 0.0698 - accuracy: 0.8006 - precision_1: 0.8878 - recall_1: 0.4318\n",
            "Epoch 3: val_accuracy improved from 0.78961 to 0.81183, saving model to model_checkpoints/particle_net_lite_model.003.h5\n",
            "136/136 [==============================] - 31s 224ms/sample - loss: 0.0698 - accuracy: 0.8006 - precision_1: 0.8878 - recall_1: 0.4318 - val_loss: 0.1429 - val_accuracy: 0.8118 - val_precision_1: 0.7578 - val_recall_1: 0.5959\n",
            "Epoch 4/30\n",
            "  0/136 [..............................] - ETA: 0s - loss: 0.0687 - accuracy: 0.8033 - precision_1: 0.8797 - recall_1: 0.4464\n",
            "Epoch 4: val_accuracy improved from 0.81183 to 0.82837, saving model to model_checkpoints/particle_net_lite_model.004.h5\n",
            "136/136 [==============================] - 31s 224ms/sample - loss: 0.0687 - accuracy: 0.8033 - precision_1: 0.8797 - recall_1: 0.4464 - val_loss: 0.0755 - val_accuracy: 0.8284 - val_precision_1: 0.8565 - val_recall_1: 0.5498\n",
            "Epoch 5/30\n",
            "  0/136 [..............................] - ETA: 0s - loss: 0.0678 - accuracy: 0.8040 - precision_1: 0.8717 - recall_1: 0.4547\n",
            "Epoch 5: val_accuracy improved from 0.82837 to 0.83747, saving model to model_checkpoints/particle_net_lite_model.005.h5\n",
            "136/136 [==============================] - 31s 225ms/sample - loss: 0.0678 - accuracy: 0.8040 - precision_1: 0.8717 - recall_1: 0.4547 - val_loss: 0.0725 - val_accuracy: 0.8375 - val_precision_1: 0.9085 - val_recall_1: 0.5409\n",
            "Epoch 6/30\n",
            "  0/136 [..............................] - ETA: 0s - loss: 0.0667 - accuracy: 0.8104 - precision_1: 0.8874 - recall_1: 0.4668\n",
            "Epoch 6: val_accuracy did not improve from 0.83747\n",
            "136/136 [==============================] - 30s 223ms/sample - loss: 0.0667 - accuracy: 0.8104 - precision_1: 0.8874 - recall_1: 0.4668 - val_loss: 0.0721 - val_accuracy: 0.8313 - val_precision_1: 0.8561 - val_recall_1: 0.5614\n",
            "Epoch 7/30\n",
            "  0/136 [..............................] - ETA: 0s - loss: 0.0661 - accuracy: 0.8120 - precision_1: 0.8832 - recall_1: 0.4756\n",
            "Epoch 7: val_accuracy improved from 0.83747 to 0.84496, saving model to model_checkpoints/particle_net_lite_model.007.h5\n",
            "136/136 [==============================] - 31s 225ms/sample - loss: 0.0661 - accuracy: 0.8120 - precision_1: 0.8832 - recall_1: 0.4756 - val_loss: 0.0718 - val_accuracy: 0.8450 - val_precision_1: 0.8540 - val_recall_1: 0.6153\n",
            "Epoch 8/30\n",
            "  0/136 [..............................] - ETA: 0s - loss: 0.0653 - accuracy: 0.8128 - precision_1: 0.8836 - recall_1: 0.4783\n",
            "Epoch 8: val_accuracy did not improve from 0.84496\n",
            "136/136 [==============================] - 30s 224ms/sample - loss: 0.0653 - accuracy: 0.8128 - precision_1: 0.8836 - recall_1: 0.4783 - val_loss: 0.0667 - val_accuracy: 0.8415 - val_precision_1: 0.8662 - val_recall_1: 0.5903\n",
            "Epoch 9/30\n",
            "  0/136 [..............................] - ETA: 0s - loss: 0.0650 - accuracy: 0.8159 - precision_1: 0.8918 - recall_1: 0.4837\n",
            "Epoch 9: val_accuracy did not improve from 0.84496\n",
            "136/136 [==============================] - 30s 224ms/sample - loss: 0.0650 - accuracy: 0.8159 - precision_1: 0.8918 - recall_1: 0.4837 - val_loss: 0.0640 - val_accuracy: 0.8340 - val_precision_1: 0.9037 - val_recall_1: 0.5322\n",
            "Epoch 10/30\n",
            "  0/136 [..............................] - ETA: 0s - loss: 0.0647 - accuracy: 0.8174 - precision_1: 0.8957 - recall_1: 0.4861\n",
            "Epoch 10: val_accuracy did not improve from 0.84496\n",
            "136/136 [==============================] - 30s 223ms/sample - loss: 0.0647 - accuracy: 0.8174 - precision_1: 0.8957 - recall_1: 0.4861 - val_loss: 0.0651 - val_accuracy: 0.8331 - val_precision_1: 0.8506 - val_recall_1: 0.5733\n",
            "Epoch 11/30\n",
            "  0/136 [..............................] - ETA: 0s - loss: 0.0642 - accuracy: 0.8168 - precision_1: 0.8885 - recall_1: 0.4892\n",
            "Epoch 11: val_accuracy did not improve from 0.84496\n",
            "136/136 [==============================] - 30s 224ms/sample - loss: 0.0642 - accuracy: 0.8168 - precision_1: 0.8885 - recall_1: 0.4892 - val_loss: 0.0642 - val_accuracy: 0.8373 - val_precision_1: 0.8748 - val_recall_1: 0.5670\n",
            "Epoch 12/30\n",
            "  0/136 [..............................] - ETA: 0s - loss: 0.0638 - accuracy: 0.8187 - precision_1: 0.8944 - recall_1: 0.4917\n",
            "Epoch 12: val_accuracy did not improve from 0.84496\n",
            "136/136 [==============================] - 30s 224ms/sample - loss: 0.0638 - accuracy: 0.8187 - precision_1: 0.8944 - recall_1: 0.4917 - val_loss: 0.0658 - val_accuracy: 0.8378 - val_precision_1: 0.8716 - val_recall_1: 0.5717\n",
            "Epoch 13/30\n",
            "  0/136 [..............................] - ETA: 0s - loss: 0.0632 - accuracy: 0.8212 - precision_1: 0.9002 - recall_1: 0.4964\n",
            "Epoch 13: val_accuracy did not improve from 0.84496\n",
            "136/136 [==============================] - 31s 225ms/sample - loss: 0.0632 - accuracy: 0.8212 - precision_1: 0.9002 - recall_1: 0.4964 - val_loss: 0.0639 - val_accuracy: 0.8194 - val_precision_1: 0.8944 - val_recall_1: 0.4869\n",
            "Epoch 14/30\n",
            "  0/136 [..............................] - ETA: 0s - loss: 0.0636 - accuracy: 0.8200 - precision_1: 0.8992 - recall_1: 0.4929\n",
            "Epoch 14: val_accuracy did not improve from 0.84496\n",
            "136/136 [==============================] - 30s 224ms/sample - loss: 0.0636 - accuracy: 0.8200 - precision_1: 0.8992 - recall_1: 0.4929 - val_loss: 0.0617 - val_accuracy: 0.8351 - val_precision_1: 0.9120 - val_recall_1: 0.5299\n",
            "Epoch 15/30\n",
            "  0/136 [..............................] - ETA: 0s - loss: 0.0629 - accuracy: 0.8235 - precision_1: 0.9076 - recall_1: 0.4993\n",
            "Epoch 15: val_accuracy did not improve from 0.84496\n",
            "136/136 [==============================] - 30s 224ms/sample - loss: 0.0629 - accuracy: 0.8235 - precision_1: 0.9076 - recall_1: 0.4993 - val_loss: 0.0680 - val_accuracy: 0.8040 - val_precision_1: 0.9154 - val_recall_1: 0.4195\n",
            "Epoch 16/30\n",
            "  0/136 [..............................] - ETA: 0s - loss: 0.0629 - accuracy: 0.8218 - precision_1: 0.9039 - recall_1: 0.4960\n",
            "Epoch 16: val_accuracy did not improve from 0.84496\n",
            "136/136 [==============================] - 30s 224ms/sample - loss: 0.0629 - accuracy: 0.8218 - precision_1: 0.9039 - recall_1: 0.4960 - val_loss: 0.0620 - val_accuracy: 0.8327 - val_precision_1: 0.8751 - val_recall_1: 0.5498\n",
            "Epoch 17/30\n",
            "  0/136 [..............................] - ETA: 0s - loss: 0.0623 - accuracy: 0.8230 - precision_1: 0.9037 - recall_1: 0.5005\n",
            "Epoch 17: val_accuracy did not improve from 0.84496\n",
            "136/136 [==============================] - 30s 224ms/sample - loss: 0.0623 - accuracy: 0.8230 - precision_1: 0.9037 - recall_1: 0.5005 - val_loss: 0.0616 - val_accuracy: 0.8389 - val_precision_1: 0.9185 - val_recall_1: 0.5388\n",
            "Epoch 18/30\n",
            "  0/136 [..............................] - ETA: 0s - loss: 0.0624 - accuracy: 0.8224 - precision_1: 0.9012 - recall_1: 0.4999\n",
            "Epoch 18: val_accuracy did not improve from 0.84496\n",
            "136/136 [==============================] - 30s 224ms/sample - loss: 0.0624 - accuracy: 0.8224 - precision_1: 0.9012 - recall_1: 0.4999 - val_loss: 0.0668 - val_accuracy: 0.8004 - val_precision_1: 0.9279 - val_recall_1: 0.4005\n",
            "Epoch 19/30\n",
            "  0/136 [..............................] - ETA: 0s - loss: 0.0622 - accuracy: 0.8237 - precision_1: 0.9087 - recall_1: 0.4995\n",
            "Epoch 19: val_accuracy improved from 0.84496 to 0.84672, saving model to model_checkpoints/particle_net_lite_model.019.h5\n",
            "136/136 [==============================] - 31s 224ms/sample - loss: 0.0622 - accuracy: 0.8237 - precision_1: 0.9087 - recall_1: 0.4995 - val_loss: 0.0663 - val_accuracy: 0.8467 - val_precision_1: 0.8980 - val_recall_1: 0.5817\n",
            "Epoch 20/30\n",
            "  0/136 [..............................] - ETA: 0s - loss: 0.0618 - accuracy: 0.8258 - precision_1: 0.9096 - recall_1: 0.5059\n",
            "Epoch 20: val_accuracy did not improve from 0.84672\n",
            "136/136 [==============================] - 30s 224ms/sample - loss: 0.0618 - accuracy: 0.8258 - precision_1: 0.9096 - recall_1: 0.5059 - val_loss: 0.0597 - val_accuracy: 0.8274 - val_precision_1: 0.9192 - val_recall_1: 0.4985\n",
            "Epoch 21/30\n",
            "  0/136 [..............................] - ETA: 0s - loss: 0.0612 - accuracy: 0.8260 - precision_1: 0.9070 - recall_1: 0.5087\n",
            "Epoch 21: val_accuracy improved from 0.84672 to 0.86894, saving model to model_checkpoints/particle_net_lite_model.021.h5\n",
            "136/136 [==============================] - 31s 224ms/sample - loss: 0.0612 - accuracy: 0.8260 - precision_1: 0.9070 - recall_1: 0.5087 - val_loss: 0.0795 - val_accuracy: 0.8689 - val_precision_1: 0.8874 - val_recall_1: 0.6710\n",
            "Epoch 22/30\n",
            "  0/136 [..............................] - ETA: 0s - loss: 0.0611 - accuracy: 0.8259 - precision_1: 0.9067 - recall_1: 0.5085\n",
            "Epoch 22: val_accuracy did not improve from 0.86894\n",
            "136/136 [==============================] - 30s 223ms/sample - loss: 0.0611 - accuracy: 0.8259 - precision_1: 0.9067 - recall_1: 0.5085 - val_loss: 0.0619 - val_accuracy: 0.8321 - val_precision_1: 0.9156 - val_recall_1: 0.5171\n",
            "Epoch 23/30\n",
            "  0/136 [..............................] - ETA: 0s - loss: 0.0608 - accuracy: 0.8263 - precision_1: 0.9083 - recall_1: 0.5086\n",
            "Epoch 23: val_accuracy did not improve from 0.86894\n",
            "136/136 [==============================] - 30s 224ms/sample - loss: 0.0608 - accuracy: 0.8263 - precision_1: 0.9083 - recall_1: 0.5086 - val_loss: 0.0601 - val_accuracy: 0.8271 - val_precision_1: 0.9275 - val_recall_1: 0.4920\n",
            "Epoch 24/30\n",
            "  0/136 [..............................] - ETA: 0s - loss: 0.0607 - accuracy: 0.8262 - precision_1: 0.9049 - recall_1: 0.5107\n",
            "Epoch 24: val_accuracy did not improve from 0.86894\n",
            "136/136 [==============================] - 31s 225ms/sample - loss: 0.0607 - accuracy: 0.8262 - precision_1: 0.9049 - recall_1: 0.5107 - val_loss: 0.0687 - val_accuracy: 0.8085 - val_precision_1: 0.8916 - val_recall_1: 0.4494\n",
            "Epoch 25/30\n",
            "  0/136 [..............................] - ETA: 0s - loss: 0.0609 - accuracy: 0.8266 - precision_1: 0.9067 - recall_1: 0.5109\n",
            "Epoch 25: val_accuracy did not improve from 0.86894\n",
            "136/136 [==============================] - 30s 224ms/sample - loss: 0.0609 - accuracy: 0.8266 - precision_1: 0.9067 - recall_1: 0.5109 - val_loss: 0.0611 - val_accuracy: 0.8213 - val_precision_1: 0.9338 - val_recall_1: 0.4686\n",
            "Epoch 26/30\n",
            "  0/136 [..............................] - ETA: 0s - loss: 0.0602 - accuracy: 0.8283 - precision_1: 0.9105 - recall_1: 0.5141\n",
            "Epoch 26: val_accuracy did not improve from 0.86894\n",
            "136/136 [==============================] - 30s 223ms/sample - loss: 0.0602 - accuracy: 0.8283 - precision_1: 0.9105 - recall_1: 0.5141 - val_loss: 0.0584 - val_accuracy: 0.8303 - val_precision_1: 0.9076 - val_recall_1: 0.5163\n",
            "Epoch 27/30\n",
            "  0/136 [..............................] - ETA: 0s - loss: 0.0601 - accuracy: 0.8289 - precision_1: 0.9125 - recall_1: 0.5148\n",
            "Epoch 27: val_accuracy did not improve from 0.86894\n",
            "136/136 [==============================] - 30s 224ms/sample - loss: 0.0601 - accuracy: 0.8289 - precision_1: 0.9125 - recall_1: 0.5148 - val_loss: 0.0691 - val_accuracy: 0.8572 - val_precision_1: 0.8692 - val_recall_1: 0.6459\n",
            "Epoch 28/30\n",
            "  0/136 [..............................] - ETA: 0s - loss: 0.0600 - accuracy: 0.8295 - precision_1: 0.9081 - recall_1: 0.5199\n",
            "Epoch 28: val_accuracy did not improve from 0.86894\n",
            "136/136 [==============================] - 30s 223ms/sample - loss: 0.0600 - accuracy: 0.8295 - precision_1: 0.9081 - recall_1: 0.5199 - val_loss: 0.0633 - val_accuracy: 0.8514 - val_precision_1: 0.9160 - val_recall_1: 0.5840\n",
            "Epoch 29/30\n",
            "  0/136 [..............................] - ETA: 0s - loss: 0.0599 - accuracy: 0.8294 - precision_1: 0.9129 - recall_1: 0.5162\n",
            "Epoch 29: val_accuracy did not improve from 0.86894\n",
            "136/136 [==============================] - 30s 224ms/sample - loss: 0.0599 - accuracy: 0.8294 - precision_1: 0.9129 - recall_1: 0.5162 - val_loss: 0.0637 - val_accuracy: 0.8523 - val_precision_1: 0.8776 - val_recall_1: 0.6197\n",
            "Epoch 30/30\n",
            "  0/136 [..............................] - ETA: 0s - loss: 0.0601 - accuracy: 0.8284 - precision_1: 0.9081 - recall_1: 0.5162\n",
            "Epoch 30: val_accuracy did not improve from 0.86894\n",
            "136/136 [==============================] - 30s 223ms/sample - loss: 0.0601 - accuracy: 0.8284 - precision_1: 0.9081 - recall_1: 0.5162 - val_loss: 0.0594 - val_accuracy: 0.8256 - val_precision_1: 0.9168 - val_recall_1: 0.4937\n"
          ]
        }
      ],
      "source": [
        "history = model.fit(\n",
        "    [train_data[\"points\"], train_data[\"features\"], train_data[\"mask\"]], \n",
        "    train_label,\n",
        "    batch_size=batch_size,\n",
        "    epochs=epochs,\n",
        "    validation_data=([val_data[\"points\"], val_data[\"features\"], val_data[\"mask\"]], val_label, val_weight),\n",
        "    shuffle=True,\n",
        "    sample_weight=train_weight,\n",
        "    callbacks=callbacks\n",
        ")"
      ]
    },
    {
      "cell_type": "code",
      "source": [
        "plt.plot(history.history['loss'], label=\"Train Loss\")\n",
        "plt.plot(history.history['val_loss'], label=\"Validation Loss\")\n",
        "plt.legend()"
      ],
      "metadata": {
        "id": "-irxBo-j0Ifg",
        "outputId": "124412c4-19e5-4a29-efe8-23bdb366d272",
        "colab": {
          "base_uri": "https://localhost:8080/",
          "height": 282
        }
      },
      "execution_count": 22,
      "outputs": [
        {
          "output_type": "execute_result",
          "data": {
            "text/plain": [
              "<matplotlib.legend.Legend at 0x7f813206d0d0>"
            ]
          },
          "metadata": {},
          "execution_count": 22
        },
        {
          "output_type": "display_data",
          "data": {
            "text/plain": [
              "<Figure size 432x288 with 1 Axes>"
            ],
            "image/png": "[encoded data removed]"
          },
          "metadata": {
            "needs_background": "light"
          }
        }
      ]
    },
    {
      "cell_type": "code",
      "source": [
        "plt.plot(history.history['accuracy'], label=\"Train Accuracy\")\n",
        "plt.plot(history.history['val_accuracy'], label=\"Validation Accuracy\")\n",
        "plt.legend()"
      ],
      "metadata": {
        "id": "Fw0L9XiUEril",
        "outputId": "888cea6c-004e-48fb-ecaf-0ca123dcb9c0",
        "colab": {
          "base_uri": "https://localhost:8080/",
          "height": 284
        }
      },
      "execution_count": 23,
      "outputs": [
        {
          "output_type": "execute_result",
          "data": {
            "text/plain": [
              "<matplotlib.legend.Legend at 0x7f812e093950>"
            ]
          },
          "metadata": {},
          "execution_count": 23
        },
        {
          "output_type": "display_data",
          "data": {
            "text/plain": [
              "<Figure size 432x288 with 1 Axes>"
            ],
            "image/png": "[encoded data removed]"
          },
          "metadata": {
            "needs_background": "light"
          }
        }
      ]
    },
    {
      "cell_type": "code",
      "source": [
        "plt.plot(history.history['precision_1'], label=\"Train Purity\")\n",
        "plt.plot(history.history['val_precision_1'], label=\"Validation Purity\")\n",
        "plt.legend()"
      ],
      "metadata": {
        "id": "EvZiOlA1E1V-",
        "outputId": "626724b2-55fc-49e0-b2cd-c25bebe2f557",
        "colab": {
          "base_uri": "https://localhost:8080/",
          "height": 285
        }
      },
      "execution_count": 25,
      "outputs": [
        {
          "output_type": "execute_result",
          "data": {
            "text/plain": [
              "<matplotlib.legend.Legend at 0x7f812e033c90>"
            ]
          },
          "metadata": {},
          "execution_count": 25
        },
        {
          "output_type": "display_data",
          "data": {
            "text/plain": [
              "<Figure size 432x288 with 1 Axes>"
            ],
            "image/png": "[encoded data removed]"
          },
          "metadata": {
            "needs_background": "light"
          }
        }
      ]
    },
    {
      "cell_type": "code",
      "source": [
        "plt.plot(history.history['recall_1'], label=\"Train Effciency\")\n",
        "plt.plot(history.history['val_recall_1'], label=\"Validation Efficiency\")\n",
        "plt.legend()"
      ],
      "metadata": {
        "id": "Wg0JLZOcE_89",
        "outputId": "c671e098-12d5-4ec4-b73a-c2da134d31d8",
        "colab": {
          "base_uri": "https://localhost:8080/",
          "height": 282
        }
      },
      "execution_count": 26,
      "outputs": [
        {
          "output_type": "execute_result",
          "data": {
            "text/plain": [
              "<matplotlib.legend.Legend at 0x7f812d7a89d0>"
            ]
          },
          "metadata": {},
          "execution_count": 26
        },
        {
          "output_type": "display_data",
          "data": {
            "text/plain": [
              "<Figure size 432x288 with 1 Axes>"
            ],
            "image/png": "[encoded data removed]"
          },
          "metadata": {
            "needs_background": "light"
          }
        }
      ]
    },
    {
      "cell_type": "code",
      "execution_count": null,
      "metadata": {
        "id": "je0DvhbX2g86"
      },
      "outputs": [],
      "source": [
        "probs = model.predict_on_batch(test_data)\n",
        "precision, recall, thresholds = precision_recall_curve(test_label, probs, sample_weight=test_weight)\n",
        "plt.plot(recall, precision)"
      ]
    }
  ],
  "metadata": {
    "kernelspec": {
      "display_name": "Python 3 (ipykernel)",
      "language": "python",
      "name": "python3"
    },
    "language_info": {
      "codemirror_mode": {
        "name": "ipython",
        "version": 3
      },
      "file_extension": ".py",
      "mimetype": "text/x-python",
      "name": "python",
      "nbconvert_exporter": "python",
      "pygments_lexer": "ipython3",
      "version": "3.8.10"
    },
    "colab": {
      "name": "keras_train.ipynb",
      "provenance": []
    },
    "accelerator": "GPU",
    "gpuClass": "standard"
  },
  "nbformat": 4,
  "nbformat_minor": 0
}