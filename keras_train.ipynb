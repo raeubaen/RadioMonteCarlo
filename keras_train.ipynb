{
  "cells": [
    {
      "cell_type": "code",
      "execution_count": null,
      "metadata": {
        "id": "qIv6ffW82g8W"
      },
      "outputs": [],
      "source": [
        "import numpy as np"
      ]
    },
    {
      "cell_type": "code",
      "execution_count": null,
      "metadata": {
        "id": "rabKUfn02g8b"
      },
      "outputs": [],
      "source": [
        "import logging\n",
        "logging.basicConfig(level=logging.INFO, format='[%(asctime)s] %(levelname)s: %(message)s')"
      ]
    },
    {
      "cell_type": "code",
      "source": [
        "!wget https://raw.githubusercontent.com/raeubaen/RadioMonteCarlo/main/tf_keras_model.py"
      ],
      "metadata": {
        "id": "3gI9EJ0R2j5v"
      },
      "execution_count": null,
      "outputs": []
    },
    {
      "cell_type": "code",
      "source": [
        "!wget dati...."
      ],
      "metadata": {
        "id": "qMTnts0q2qFw"
      },
      "execution_count": null,
      "outputs": []
    },
    {
      "cell_type": "code",
      "execution_count": null,
      "metadata": {
        "id": "S3ag941H2g8d"
      },
      "outputs": [],
      "source": [
        "import tensorflow as tf\n",
        "from tensorflow import keras\n",
        "from tf_keras_model import get_particle_net, get_particle_net_lite, edge_conv"
      ]
    },
    {
      "cell_type": "code",
      "execution_count": null,
      "metadata": {
        "id": "Se9xg25k2g8f"
      },
      "outputs": [],
      "source": [
        "data_folder = \"../hits_data/keras_input\"\n",
        "\n",
        "name_map = {\"points\": \"rphi\", \"features\": \"et\", \"mask\": \"mask\"} # va provato sia xy che rphi\n",
        "\n",
        "\n",
        "nlim = 200000 # sta cazzo di ram da poveri porco tutto ma come cazzo dobbiamo fare\n",
        "\n",
        "\n",
        "signal = {key: np.load(f\"{data_folder}/signal_{name_map[key]}.npy\")[:nlim] for key in name_map}\n",
        "\n",
        "bkg    = {key: np.load(f\"{data_folder}/bkg_{   name_map[key]}.npy\")[:nlim] for key in name_map}"
      ]
    },
    {
      "cell_type": "code",
      "execution_count": null,
      "metadata": {
        "id": "ZS-UFF0G2g8i",
        "outputId": "59f9aa29-3903-4c82-ac30-268d2b617c9c"
      },
      "outputs": [
        {
          "name": "stdout",
          "output_type": "stream",
          "text": [
            "[237000 209529 119499 ...  66218 260195 290670]\n"
          ]
        }
      ],
      "source": [
        "S = signal[\"mask\"].shape[0]\n",
        "B =    bkg[\"mask\"].shape[0]\n",
        "\n",
        "N = S + B\n",
        "\n",
        "p = np.random.permutation(S+B)\n",
        "\n",
        "print(p)"
      ]
    },
    {
      "cell_type": "code",
      "execution_count": null,
      "metadata": {
        "id": "aXZ6qndr2g8m"
      },
      "outputs": [],
      "source": [
        "data = {key: np.concatenate( (signal[key], bkg[key]) )[p] for key in name_map}\n",
        "\n",
        "label = np.concatenate( ( np.ones( (S) ), np.zeros( (B) ) ) )[p]"
      ]
    },
    {
      "cell_type": "code",
      "execution_count": null,
      "metadata": {
        "id": "BOMDSosr2g8o",
        "outputId": "df4a5655-e7ff-4754-b019-e0d136c626e5"
      },
      "outputs": [
        {
          "data": {
            "text/plain": [
              "0.4307638011316416"
            ]
          },
          "execution_count": 7,
          "metadata": {},
          "output_type": "execute_result"
        }
      ],
      "source": [
        "np.sum(label)/len(label)"
      ]
    },
    {
      "cell_type": "code",
      "execution_count": null,
      "metadata": {
        "id": "ZFNtoo8s2g8s"
      },
      "outputs": [],
      "source": [
        "train_data  = {key: data[key][int(N*0.0) : int(N*0.7)] for key in name_map}\n",
        "test_data   = {key: data[key][int(N*0.7) : int(N*0.9)] for key in name_map}\n",
        "val_data    = {key: data[key][int(N*0.9) : int(N*1.0)] for key in name_map}\n",
        "\n",
        "train_label = label[int(N*0.0) : int(N*0.7)]\n",
        "test_label  = label[int(N*0.7) : int(N*0.9)]\n",
        "val_label   = label[int(N*0.9) : int(N*1.0)]"
      ]
    },
    {
      "cell_type": "code",
      "execution_count": null,
      "metadata": {
        "scrolled": true,
        "id": "nfCI_M2d2g8u",
        "outputId": "087b24f1-a18d-4eb7-d19c-337b21428a1e"
      },
      "outputs": [
        {
          "name": "stderr",
          "output_type": "stream",
          "text": [
            "2022-06-12 18:30:52.867168: W tensorflow/stream_executor/platform/default/dso_loader.cc:55] Could not load dynamic library 'libcuda.so.1'; dlerror: libcuda.so.1: cannot open shared object file: No such file or directory; LD_LIBRARY_PATH: /home/ruben/root/lib:/home/ruben/geant4/geant4.10.07.p02-install/lib:/usr/lib/x86_64-linux-gnu\n",
            "2022-06-12 18:30:52.867197: E tensorflow/stream_executor/cuda/cuda_driver.cc:313] failed call to cuInit: UNKNOWN ERROR (303)\n",
            "2022-06-12 18:30:52.867215: I tensorflow/stream_executor/cuda/cuda_diagnostics.cc:156] kernel driver does not appear to be running on this host (ruben): /proc/driver/nvidia/version does not exist\n",
            "2022-06-12 18:30:52.867460: I tensorflow/core/platform/cpu_feature_guard.cc:143] Your CPU supports instructions that this TensorFlow binary was not compiled to use: AVX2 FMA\n",
            "2022-06-12 18:30:52.901118: I tensorflow/core/platform/profile_utils/cpu_utils.cc:102] CPU Frequency: 2099940000 Hz\n",
            "2022-06-12 18:30:52.901954: I tensorflow/compiler/xla/service/service.cc:168] XLA service 0x7fbf60000b60 initialized for platform Host (this does not guarantee that XLA will be used). Devices:\n",
            "2022-06-12 18:30:52.902029: I tensorflow/compiler/xla/service/service.cc:176]   StreamExecutor device (0): Host, Default Version\n"
          ]
        }
      ],
      "source": [
        "model_type = 'particle_net_lite' # choose between 'particle_net' and 'particle_net_lite'\n",
        "num_classes = 2\n",
        "input_shapes = {'points': (50, 2), 'features': (50, 2), 'mask':(50, 1)}\n",
        "\n",
        "if 'lite' in model_type:\n",
        "    model = get_particle_net_lite(num_classes, input_shapes)\n",
        "else:\n",
        "    model = get_particle_net(num_classes, input_shapes)"
      ]
    },
    {
      "cell_type": "code",
      "execution_count": null,
      "metadata": {
        "id": "LFRJXncU2g8x"
      },
      "outputs": [],
      "source": [
        "# Training parameters\n",
        "batch_size = 1024 if 'lite' in model_type else 4096 # 384\n",
        "epochs = 30"
      ]
    },
    {
      "cell_type": "code",
      "execution_count": null,
      "metadata": {
        "id": "RHvU72JY2g8z"
      },
      "outputs": [],
      "source": [
        "def lr_schedule(epoch):\n",
        "    lr = 1e-3\n",
        "    if epoch > 10:\n",
        "        lr *= 0.1\n",
        "    elif epoch > 20:\n",
        "        lr *= 0.01\n",
        "    logging.info('Learning rate: %f'%lr)\n",
        "    return lr"
      ]
    },
    {
      "cell_type": "code",
      "execution_count": null,
      "metadata": {
        "scrolled": true,
        "id": "2IlFncmO2g82",
        "outputId": "01b906c6-8df8-410d-a941-2995ebf1ab5c"
      },
      "outputs": [
        {
          "name": "stderr",
          "output_type": "stream",
          "text": [
            "[2022-06-12 18:30:53,543] INFO: Learning rate: 0.001000\n"
          ]
        },
        {
          "name": "stdout",
          "output_type": "stream",
          "text": [
            "Model: \"ParticleNet\"\n",
            "__________________________________________________________________________________________________\n",
            "Layer (type)                    Output Shape         Param #     Connected to                     \n",
            "==================================================================================================\n",
            "mask (InputLayer)               [(None, 50, 1)]      0                                            \n",
            "__________________________________________________________________________________________________\n",
            "tf_op_layer_NotEqual (TensorFlo [(None, 50, 1)]      0           mask[0][0]                       \n",
            "__________________________________________________________________________________________________\n",
            "tf_op_layer_Cast (TensorFlowOpL [(None, 50, 1)]      0           tf_op_layer_NotEqual[0][0]       \n",
            "__________________________________________________________________________________________________\n",
            "tf_op_layer_Equal (TensorFlowOp [(None, 50, 1)]      0           tf_op_layer_Cast[0][0]           \n",
            "__________________________________________________________________________________________________\n",
            "tf_op_layer_Cast_1 (TensorFlowO [(None, 50, 1)]      0           tf_op_layer_Equal[0][0]          \n",
            "__________________________________________________________________________________________________\n",
            "tf_op_layer_Mul (TensorFlowOpLa [(None, 50, 1)]      0           tf_op_layer_Cast_1[0][0]         \n",
            "__________________________________________________________________________________________________\n",
            "points (InputLayer)             [(None, 50, 2)]      0                                            \n",
            "__________________________________________________________________________________________________\n",
            "tf_op_layer_Add (TensorFlowOpLa [(None, 50, 2)]      0           tf_op_layer_Mul[0][0]            \n",
            "                                                                 points[0][0]                     \n",
            "__________________________________________________________________________________________________\n",
            "features (InputLayer)           [(None, 50, 2)]      0                                            \n",
            "__________________________________________________________________________________________________\n",
            "tf_op_layer_Transpose (TensorFl [(None, 2, 50)]      0           tf_op_layer_Add[0][0]            \n",
            "__________________________________________________________________________________________________\n",
            "tf_op_layer_ExpandDims (TensorF [(None, 50, 1, 2)]   0           features[0][0]                   \n",
            "__________________________________________________________________________________________________\n",
            "tf_op_layer_Mul_1 (TensorFlowOp [(None, 50, 2)]      0           tf_op_layer_Add[0][0]            \n",
            "                                                                 tf_op_layer_Add[0][0]            \n",
            "__________________________________________________________________________________________________\n",
            "tf_op_layer_BatchMatMulV2 (Tens [(None, 50, 50)]     0           tf_op_layer_Add[0][0]            \n",
            "                                                                 tf_op_layer_Transpose[0][0]      \n",
            "__________________________________________________________________________________________________\n",
            "tf_op_layer_Mul_2 (TensorFlowOp [(None, 50, 2)]      0           tf_op_layer_Add[0][0]            \n",
            "                                                                 tf_op_layer_Add[0][0]            \n",
            "__________________________________________________________________________________________________\n",
            "ParticleNet_fts_bn (BatchNormal (None, 50, 1, 2)     8           tf_op_layer_ExpandDims[0][0]     \n",
            "__________________________________________________________________________________________________\n",
            "tf_op_layer_Sum (TensorFlowOpLa [(None, 50, 1)]      0           tf_op_layer_Mul_1[0][0]          \n",
            "__________________________________________________________________________________________________\n",
            "tf_op_layer_Mul_3 (TensorFlowOp [(None, 50, 50)]     0           tf_op_layer_BatchMatMulV2[0][0]  \n",
            "__________________________________________________________________________________________________\n",
            "tf_op_layer_Sum_1 (TensorFlowOp [(None, 50, 1)]      0           tf_op_layer_Mul_2[0][0]          \n",
            "__________________________________________________________________________________________________\n",
            "tf_op_layer_Squeeze (TensorFlow [(None, 50, 2)]      0           ParticleNet_fts_bn[0][0]         \n",
            "__________________________________________________________________________________________________\n",
            "tf_op_layer_Sub (TensorFlowOpLa [(None, 50, 50)]     0           tf_op_layer_Sum[0][0]            \n",
            "                                                                 tf_op_layer_Mul_3[0][0]          \n",
            "__________________________________________________________________________________________________\n",
            "tf_op_layer_Transpose_1 (Tensor [(None, 1, 50)]      0           tf_op_layer_Sum_1[0][0]          \n",
            "__________________________________________________________________________________________________\n",
            "tf_op_layer_Shape (TensorFlowOp [(3,)]               0           tf_op_layer_Squeeze[0][0]        \n",
            "__________________________________________________________________________________________________\n",
            "tf_op_layer_AddV2 (TensorFlowOp [(None, 50, 50)]     0           tf_op_layer_Sub[0][0]            \n",
            "                                                                 tf_op_layer_Transpose_1[0][0]    \n",
            "__________________________________________________________________________________________________\n",
            "tf_op_layer_strided_slice_1 (Te [()]                 0           tf_op_layer_Shape[0][0]          \n",
            "__________________________________________________________________________________________________\n",
            "tf_op_layer_Neg (TensorFlowOpLa [(None, 50, 50)]     0           tf_op_layer_AddV2[0][0]          \n",
            "__________________________________________________________________________________________________\n",
            "tf_op_layer_Range (TensorFlowOp [(None,)]            0           tf_op_layer_strided_slice_1[0][0]\n",
            "__________________________________________________________________________________________________\n",
            "tf_op_layer_TopKV2 (TensorFlowO [(None, 50, 8), (Non 0           tf_op_layer_Neg[0][0]            \n",
            "__________________________________________________________________________________________________\n",
            "tf_op_layer_Reshape (TensorFlow [(None, 1, 1, 1)]    0           tf_op_layer_Range[0][0]          \n",
            "__________________________________________________________________________________________________\n",
            "tf_op_layer_strided_slice (Tens [(None, 50, 7)]      0           tf_op_layer_TopKV2[0][1]         \n",
            "__________________________________________________________________________________________________\n",
            "tf_op_layer_Tile (TensorFlowOpL [(None, 50, 7, 1)]   0           tf_op_layer_Reshape[0][0]        \n",
            "__________________________________________________________________________________________________\n",
            "tf_op_layer_ExpandDims_1 (Tenso [(None, 50, 7, 1)]   0           tf_op_layer_strided_slice[0][0]  \n",
            "__________________________________________________________________________________________________\n",
            "tf_op_layer_ExpandDims_2 (Tenso [(None, 50, 1, 2)]   0           tf_op_layer_Squeeze[0][0]        \n",
            "__________________________________________________________________________________________________\n",
            "tf_op_layer_concat (TensorFlowO [(None, 50, 7, 2)]   0           tf_op_layer_Tile[0][0]           \n",
            "                                                                 tf_op_layer_ExpandDims_1[0][0]   \n",
            "__________________________________________________________________________________________________\n",
            "tf_op_layer_Tile_1 (TensorFlowO [(None, 50, 7, 2)]   0           tf_op_layer_ExpandDims_2[0][0]   \n",
            "__________________________________________________________________________________________________\n",
            "tf_op_layer_GatherNd (TensorFlo [(None, 50, 7, 2)]   0           tf_op_layer_Squeeze[0][0]        \n",
            "                                                                 tf_op_layer_concat[0][0]         \n",
            "__________________________________________________________________________________________________\n",
            "tf_op_layer_Sub_1 (TensorFlowOp [(None, 50, 7, 2)]   0           tf_op_layer_GatherNd[0][0]       \n",
            "                                                                 tf_op_layer_Tile_1[0][0]         \n",
            "__________________________________________________________________________________________________\n",
            "tf_op_layer_concat_1 (TensorFlo [(None, 50, 7, 4)]   0           tf_op_layer_Tile_1[0][0]         \n",
            "                                                                 tf_op_layer_Sub_1[0][0]          \n",
            "__________________________________________________________________________________________________\n",
            "ParticleNet_EdgeConv0_conv0 (Co (None, 50, 7, 32)    128         tf_op_layer_concat_1[0][0]       \n",
            "__________________________________________________________________________________________________\n",
            "ParticleNet_EdgeConv0_bn0 (Batc (None, 50, 7, 32)    128         ParticleNet_EdgeConv0_conv0[0][0]\n",
            "__________________________________________________________________________________________________\n",
            "ParticleNet_EdgeConv0_act0 (Act (None, 50, 7, 32)    0           ParticleNet_EdgeConv0_bn0[0][0]  \n",
            "__________________________________________________________________________________________________\n",
            "ParticleNet_EdgeConv0_conv1 (Co (None, 50, 7, 32)    1024        ParticleNet_EdgeConv0_act0[0][0] \n",
            "__________________________________________________________________________________________________\n",
            "ParticleNet_EdgeConv0_bn1 (Batc (None, 50, 7, 32)    128         ParticleNet_EdgeConv0_conv1[0][0]\n",
            "__________________________________________________________________________________________________\n",
            "ParticleNet_EdgeConv0_act1 (Act (None, 50, 7, 32)    0           ParticleNet_EdgeConv0_bn1[0][0]  \n",
            "__________________________________________________________________________________________________\n",
            "tf_op_layer_ExpandDims_3 (Tenso [(None, 50, 1, 2)]   0           tf_op_layer_Squeeze[0][0]        \n",
            "__________________________________________________________________________________________________\n",
            "ParticleNet_EdgeConv0_conv2 (Co (None, 50, 7, 32)    1024        ParticleNet_EdgeConv0_act1[0][0] \n",
            "__________________________________________________________________________________________________\n",
            "ParticleNet_EdgeConv0_sc_conv ( (None, 50, 1, 32)    64          tf_op_layer_ExpandDims_3[0][0]   \n",
            "__________________________________________________________________________________________________\n",
            "ParticleNet_EdgeConv0_bn2 (Batc (None, 50, 7, 32)    128         ParticleNet_EdgeConv0_conv2[0][0]\n",
            "__________________________________________________________________________________________________\n",
            "ParticleNet_EdgeConv0_sc_bn (Ba (None, 50, 1, 32)    128         ParticleNet_EdgeConv0_sc_conv[0][\n",
            "__________________________________________________________________________________________________\n",
            "ParticleNet_EdgeConv0_act2 (Act (None, 50, 7, 32)    0           ParticleNet_EdgeConv0_bn2[0][0]  \n",
            "__________________________________________________________________________________________________\n",
            "tf_op_layer_Squeeze_1 (TensorFl [(None, 50, 32)]     0           ParticleNet_EdgeConv0_sc_bn[0][0]\n",
            "__________________________________________________________________________________________________\n",
            "tf_op_layer_Mean (TensorFlowOpL [(None, 50, 32)]     0           ParticleNet_EdgeConv0_act2[0][0] \n",
            "__________________________________________________________________________________________________\n",
            "tf_op_layer_AddV2_1 (TensorFlow [(None, 50, 32)]     0           tf_op_layer_Squeeze_1[0][0]      \n",
            "                                                                 tf_op_layer_Mean[0][0]           \n",
            "__________________________________________________________________________________________________\n",
            "ParticleNet_EdgeConv0_sc_act (A (None, 50, 32)       0           tf_op_layer_AddV2_1[0][0]        \n",
            "__________________________________________________________________________________________________\n",
            "tf_op_layer_Add_1 (TensorFlowOp [(None, 50, 32)]     0           tf_op_layer_Mul[0][0]            \n",
            "                                                                 ParticleNet_EdgeConv0_sc_act[0][0\n",
            "__________________________________________________________________________________________________\n",
            "tf_op_layer_Transpose_2 (Tensor [(None, 32, 50)]     0           tf_op_layer_Add_1[0][0]          \n",
            "__________________________________________________________________________________________________\n",
            "tf_op_layer_Mul_4 (TensorFlowOp [(None, 50, 32)]     0           tf_op_layer_Add_1[0][0]          \n",
            "                                                                 tf_op_layer_Add_1[0][0]          \n",
            "__________________________________________________________________________________________________\n",
            "tf_op_layer_BatchMatMulV2_1 (Te [(None, 50, 50)]     0           tf_op_layer_Add_1[0][0]          \n",
            "                                                                 tf_op_layer_Transpose_2[0][0]    \n",
            "__________________________________________________________________________________________________\n",
            "tf_op_layer_Mul_5 (TensorFlowOp [(None, 50, 32)]     0           tf_op_layer_Add_1[0][0]          \n",
            "                                                                 tf_op_layer_Add_1[0][0]          \n",
            "__________________________________________________________________________________________________\n",
            "tf_op_layer_Sum_2 (TensorFlowOp [(None, 50, 1)]      0           tf_op_layer_Mul_4[0][0]          \n",
            "__________________________________________________________________________________________________\n",
            "tf_op_layer_Mul_6 (TensorFlowOp [(None, 50, 50)]     0           tf_op_layer_BatchMatMulV2_1[0][0]\n",
            "__________________________________________________________________________________________________\n",
            "tf_op_layer_Sum_3 (TensorFlowOp [(None, 50, 1)]      0           tf_op_layer_Mul_5[0][0]          \n",
            "__________________________________________________________________________________________________\n",
            "tf_op_layer_Sub_2 (TensorFlowOp [(None, 50, 50)]     0           tf_op_layer_Sum_2[0][0]          \n",
            "                                                                 tf_op_layer_Mul_6[0][0]          \n",
            "__________________________________________________________________________________________________\n",
            "tf_op_layer_Transpose_3 (Tensor [(None, 1, 50)]      0           tf_op_layer_Sum_3[0][0]          \n",
            "__________________________________________________________________________________________________\n",
            "tf_op_layer_Shape_1 (TensorFlow [(3,)]               0           ParticleNet_EdgeConv0_sc_act[0][0\n",
            "__________________________________________________________________________________________________\n",
            "tf_op_layer_AddV2_2 (TensorFlow [(None, 50, 50)]     0           tf_op_layer_Sub_2[0][0]          \n",
            "                                                                 tf_op_layer_Transpose_3[0][0]    \n",
            "__________________________________________________________________________________________________\n",
            "tf_op_layer_strided_slice_3 (Te [()]                 0           tf_op_layer_Shape_1[0][0]        \n",
            "__________________________________________________________________________________________________\n",
            "tf_op_layer_Neg_1 (TensorFlowOp [(None, 50, 50)]     0           tf_op_layer_AddV2_2[0][0]        \n",
            "__________________________________________________________________________________________________\n",
            "tf_op_layer_Range_1 (TensorFlow [(None,)]            0           tf_op_layer_strided_slice_3[0][0]\n",
            "__________________________________________________________________________________________________\n",
            "tf_op_layer_TopKV2_1 (TensorFlo [(None, 50, 8), (Non 0           tf_op_layer_Neg_1[0][0]          \n",
            "__________________________________________________________________________________________________\n",
            "tf_op_layer_Reshape_1 (TensorFl [(None, 1, 1, 1)]    0           tf_op_layer_Range_1[0][0]        \n",
            "__________________________________________________________________________________________________\n",
            "tf_op_layer_strided_slice_2 (Te [(None, 50, 7)]      0           tf_op_layer_TopKV2_1[0][1]       \n",
            "__________________________________________________________________________________________________\n",
            "tf_op_layer_Tile_2 (TensorFlowO [(None, 50, 7, 1)]   0           tf_op_layer_Reshape_1[0][0]      \n",
            "__________________________________________________________________________________________________\n",
            "tf_op_layer_ExpandDims_4 (Tenso [(None, 50, 7, 1)]   0           tf_op_layer_strided_slice_2[0][0]\n",
            "__________________________________________________________________________________________________\n",
            "tf_op_layer_ExpandDims_5 (Tenso [(None, 50, 1, 32)]  0           ParticleNet_EdgeConv0_sc_act[0][0\n",
            "__________________________________________________________________________________________________\n",
            "tf_op_layer_concat_2 (TensorFlo [(None, 50, 7, 2)]   0           tf_op_layer_Tile_2[0][0]         \n",
            "                                                                 tf_op_layer_ExpandDims_4[0][0]   \n",
            "__________________________________________________________________________________________________\n",
            "tf_op_layer_Tile_3 (TensorFlowO [(None, 50, 7, 32)]  0           tf_op_layer_ExpandDims_5[0][0]   \n",
            "__________________________________________________________________________________________________\n",
            "tf_op_layer_GatherNd_1 (TensorF [(None, 50, 7, 32)]  0           ParticleNet_EdgeConv0_sc_act[0][0\n",
            "                                                                 tf_op_layer_concat_2[0][0]       \n",
            "__________________________________________________________________________________________________\n",
            "tf_op_layer_Sub_3 (TensorFlowOp [(None, 50, 7, 32)]  0           tf_op_layer_GatherNd_1[0][0]     \n",
            "                                                                 tf_op_layer_Tile_3[0][0]         \n",
            "__________________________________________________________________________________________________\n",
            "tf_op_layer_concat_3 (TensorFlo [(None, 50, 7, 64)]  0           tf_op_layer_Tile_3[0][0]         \n",
            "                                                                 tf_op_layer_Sub_3[0][0]          \n",
            "__________________________________________________________________________________________________\n",
            "ParticleNet_EdgeConv1_conv0 (Co (None, 50, 7, 64)    4096        tf_op_layer_concat_3[0][0]       \n",
            "__________________________________________________________________________________________________\n",
            "ParticleNet_EdgeConv1_bn0 (Batc (None, 50, 7, 64)    256         ParticleNet_EdgeConv1_conv0[0][0]\n",
            "__________________________________________________________________________________________________\n",
            "ParticleNet_EdgeConv1_act0 (Act (None, 50, 7, 64)    0           ParticleNet_EdgeConv1_bn0[0][0]  \n",
            "__________________________________________________________________________________________________\n",
            "ParticleNet_EdgeConv1_conv1 (Co (None, 50, 7, 64)    4096        ParticleNet_EdgeConv1_act0[0][0] \n",
            "__________________________________________________________________________________________________\n",
            "ParticleNet_EdgeConv1_bn1 (Batc (None, 50, 7, 64)    256         ParticleNet_EdgeConv1_conv1[0][0]\n",
            "__________________________________________________________________________________________________\n",
            "ParticleNet_EdgeConv1_act1 (Act (None, 50, 7, 64)    0           ParticleNet_EdgeConv1_bn1[0][0]  \n",
            "__________________________________________________________________________________________________\n",
            "tf_op_layer_ExpandDims_6 (Tenso [(None, 50, 1, 32)]  0           ParticleNet_EdgeConv0_sc_act[0][0\n",
            "__________________________________________________________________________________________________\n",
            "ParticleNet_EdgeConv1_conv2 (Co (None, 50, 7, 64)    4096        ParticleNet_EdgeConv1_act1[0][0] \n",
            "__________________________________________________________________________________________________\n",
            "ParticleNet_EdgeConv1_sc_conv ( (None, 50, 1, 64)    2048        tf_op_layer_ExpandDims_6[0][0]   \n",
            "__________________________________________________________________________________________________\n",
            "ParticleNet_EdgeConv1_bn2 (Batc (None, 50, 7, 64)    256         ParticleNet_EdgeConv1_conv2[0][0]\n",
            "__________________________________________________________________________________________________\n",
            "ParticleNet_EdgeConv1_sc_bn (Ba (None, 50, 1, 64)    256         ParticleNet_EdgeConv1_sc_conv[0][\n",
            "__________________________________________________________________________________________________\n",
            "ParticleNet_EdgeConv1_act2 (Act (None, 50, 7, 64)    0           ParticleNet_EdgeConv1_bn2[0][0]  \n",
            "__________________________________________________________________________________________________\n",
            "tf_op_layer_Squeeze_2 (TensorFl [(None, 50, 64)]     0           ParticleNet_EdgeConv1_sc_bn[0][0]\n",
            "__________________________________________________________________________________________________\n",
            "tf_op_layer_Mean_1 (TensorFlowO [(None, 50, 64)]     0           ParticleNet_EdgeConv1_act2[0][0] \n",
            "__________________________________________________________________________________________________\n",
            "tf_op_layer_AddV2_3 (TensorFlow [(None, 50, 64)]     0           tf_op_layer_Squeeze_2[0][0]      \n",
            "                                                                 tf_op_layer_Mean_1[0][0]         \n",
            "__________________________________________________________________________________________________\n",
            "ParticleNet_EdgeConv1_sc_act (A (None, 50, 64)       0           tf_op_layer_AddV2_3[0][0]        \n",
            "__________________________________________________________________________________________________\n",
            "tf_op_layer_Mul_7 (TensorFlowOp [(None, 50, 64)]     0           ParticleNet_EdgeConv1_sc_act[0][0\n",
            "                                                                 tf_op_layer_Cast[0][0]           \n",
            "__________________________________________________________________________________________________\n",
            "tf_op_layer_Mean_2 (TensorFlowO [(None, 64)]         0           tf_op_layer_Mul_7[0][0]          \n",
            "__________________________________________________________________________________________________\n",
            "dense (Dense)                   (None, 128)          8320        tf_op_layer_Mean_2[0][0]         \n",
            "__________________________________________________________________________________________________\n",
            "dropout (Dropout)               (None, 128)          0           dense[0][0]                      \n",
            "__________________________________________________________________________________________________\n",
            "dense_1 (Dense)                 (None, 1)            129         dropout[0][0]                    \n",
            "==================================================================================================\n",
            "Total params: 26,569\n",
            "Trainable params: 25,797\n",
            "Non-trainable params: 772\n",
            "__________________________________________________________________________________________________\n"
          ]
        }
      ],
      "source": [
        "model.compile(loss='binary_crossentropy',\n",
        "              optimizer=keras.optimizers.Adam(learning_rate=lr_schedule(0)),\n",
        "              metrics=['accuracy'])\n",
        "model.summary()"
      ]
    },
    {
      "cell_type": "code",
      "execution_count": null,
      "metadata": {
        "id": "hc6CsvjZ2g84"
      },
      "outputs": [],
      "source": [
        "# Prepare model model saving directory.\n",
        "import os\n",
        "save_dir = 'model_checkpoints'\n",
        "model_name = '%s_model.{epoch:03d}.h5' % model_type\n",
        "if not os.path.isdir(save_dir):\n",
        "    os.makedirs(save_dir)\n",
        "filepath = os.path.join(save_dir, model_name)\n",
        "\n",
        "# Prepare callbacks for model saving and for learning rate adjustment.\n",
        "checkpoint = keras.callbacks.ModelCheckpoint(filepath=filepath,\n",
        "                             monitor='val_acc',\n",
        "                             verbose=1,\n",
        "                             save_best_only=True)\n",
        "\n",
        "lr_scheduler = keras.callbacks.LearningRateScheduler(lr_schedule)\n",
        "progress_bar = keras.callbacks.ProgbarLogger()\n",
        "callbacks = [checkpoint, lr_scheduler, progress_bar]"
      ]
    },
    {
      "cell_type": "code",
      "execution_count": null,
      "metadata": {
        "scrolled": true,
        "id": "98kE3T-I2g85",
        "outputId": "fc68524c-1a5e-4a09-c42c-1e2859dc04df"
      },
      "outputs": [
        {
          "name": "stderr",
          "output_type": "stream",
          "text": [
            "2022-06-12 18:30:53.658895: W tensorflow/core/framework/cpu_allocator_impl.cc:81] Allocation of 98377200 exceeds 10% of free system memory.\n",
            "2022-06-12 18:30:53.758906: W tensorflow/core/framework/cpu_allocator_impl.cc:81] Allocation of 98377200 exceeds 10% of free system memory.\n",
            "2022-06-12 18:30:55.533447: W tensorflow/core/framework/cpu_allocator_impl.cc:81] Allocation of 45875200 exceeds 10% of free system memory.\n",
            "2022-06-12 18:30:55.539819: W tensorflow/core/framework/cpu_allocator_impl.cc:81] Allocation of 45875200 exceeds 10% of free system memory.\n",
            "2022-06-12 18:30:55.587279: W tensorflow/core/framework/cpu_allocator_impl.cc:81] Allocation of 45875200 exceeds 10% of free system memory.\n"
          ]
        },
        {
          "name": "stdout",
          "output_type": "stream",
          "text": [
            "241/241 [==============================] - 458s 2s/step - loss: 0.4905 - accuracy: 0.7606 - val_loss: 0.5050 - val_accuracy: 0.7710\n"
          ]
        },
        {
          "data": {
            "text/plain": [
              "<tensorflow.python.keras.callbacks.History at 0x7fbfa82bfe50>"
            ]
          },
          "execution_count": 14,
          "metadata": {},
          "output_type": "execute_result"
        }
      ],
      "source": [
        "model.fit(\n",
        "    [train_data[\"points\"], train_data[\"features\"], train_data[\"mask\"]], \n",
        "    train_label,\n",
        "    batch_size=batch_size,\n",
        "    epochs=1, # --- train only for 1 epoch here for demonstration ---\n",
        "    validation_data=([val_data[\"points\"], val_data[\"features\"], val_data[\"mask\"]], val_label),\n",
        "    shuffle=True,\n",
        "    #callbacks=callbacks\n",
        ")"
      ]
    },
    {
      "cell_type": "code",
      "execution_count": null,
      "metadata": {
        "id": "je0DvhbX2g86"
      },
      "outputs": [],
      "source": [
        ""
      ]
    }
  ],
  "metadata": {
    "kernelspec": {
      "display_name": "Python 3 (ipykernel)",
      "language": "python",
      "name": "python3"
    },
    "language_info": {
      "codemirror_mode": {
        "name": "ipython",
        "version": 3
      },
      "file_extension": ".py",
      "mimetype": "text/x-python",
      "name": "python",
      "nbconvert_exporter": "python",
      "pygments_lexer": "ipython3",
      "version": "3.8.10"
    },
    "colab": {
      "name": "keras_train.ipynb",
      "provenance": []
    }
  },
  "nbformat": 4,
  "nbformat_minor": 0
}