{
  "cells": [
    {
      "cell_type": "code",
      "execution_count": 1,
      "metadata": {
        "id": "qIv6ffW82g8W"
      },
      "outputs": [],
      "source": [
        "import numpy as np\n",
        "from sklearn.metrics import precision_recall_curve, auc\n",
        "import matplotlib.pyplot as plt"
      ]
    },
    {
      "cell_type": "code",
      "execution_count": 2,
      "metadata": {
        "id": "rabKUfn02g8b"
      },
      "outputs": [],
      "source": [
        "import logging\n",
        "logging.basicConfig(level=logging.INFO, format='[%(asctime)s] %(levelname)s: %(message)s')"
      ]
    },
    {
      "cell_type": "code",
      "source": [
        "# importing  custom particle_net keras model \n",
        "!wget https://raw.githubusercontent.com/raeubaen/RadioMonteCarlo/main/tf_keras_model.py -O tf_keras_model.py"
      ],
      "metadata": {
        "id": "3gI9EJ0R2j5v",
        "outputId": "f9a69b67-0eab-495c-b528-74e965f14fab",
        "colab": {
          "base_uri": "https://localhost:8080/"
        }
      },
      "execution_count": 4,
      "outputs": [
        {
          "output_type": "stream",
          "name": "stdout",
          "text": [
            "--2022-06-19 10:09:36--  https://raw.githubusercontent.com/raeubaen/RadioMonteCarlo/main/tf_keras_model.py\n",
            "Resolving raw.githubusercontent.com (raw.githubusercontent.com)... 185.199.109.133, 185.199.111.133, 185.199.108.133, ...\n",
            "Connecting to raw.githubusercontent.com (raw.githubusercontent.com)|185.199.109.133|:443... connected.\n",
            "HTTP request sent, awaiting response... 200 OK\n",
            "Length: 6795 (6.6K) [text/plain]\n",
            "Saving to: ‘tf_keras_model.py’\n",
            "\n",
            "\rtf_keras_model.py     0%[                    ]       0  --.-KB/s               \rtf_keras_model.py   100%[===================>]   6.64K  --.-KB/s    in 0s      \n",
            "\n",
            "2022-06-19 10:09:36 (64.8 MB/s) - ‘tf_keras_model.py’ saved [6795/6795]\n",
            "\n"
          ]
        }
      ]
    },
    {
      "cell_type": "code",
      "execution_count": 7,
      "metadata": {
        "id": "S3ag941H2g8d"
      },
      "outputs": [],
      "source": [
        "import tensorflow as tf\n",
        "from tensorflow import keras\n",
        "from tf_keras_model import get_particle_net_lite_custom"
      ]
    },
    {
      "cell_type": "markdown",
      "source": [
        "Data are imported in .npy format from Dropbox "
      ],
      "metadata": {
        "id": "F2FnfwfZc9Cx"
      }
    },
    {
      "cell_type": "code",
      "source": [
        "'''\n",
        "from google.colab import drive\n",
        "drive.mount('/content/drive')\n",
        "\n",
        "data_folder = \"/content/drive/MyDrive/datiML\"\n",
        "'''"
      ],
      "metadata": {
        "colab": {
          "base_uri": "https://localhost:8080/"
        },
        "id": "qMTnts0q2qFw",
        "outputId": "a4ec626a-1969-4fb9-b3d0-7527e0049558"
      },
      "execution_count": null,
      "outputs": [
        {
          "output_type": "stream",
          "name": "stdout",
          "text": [
            "Drive already mounted at /content/drive; to attempt to forcibly remount, call drive.mount(\"/content/drive\", force_remount=True).\n"
          ]
        }
      ]
    },
    {
      "cell_type": "code",
      "source": [
        "!wget https://www.dropbox.com/sh/oqlkgpajx6nu8i7/AABnJFTfOheRs2O3x_NT_q72a?dl=1 -O keras_input.zip\n",
        "!unzip keras_input.zip\n",
        "\n",
        "data_folder = \".\""
      ],
      "metadata": {
        "id": "Ez9vWLA_7qaP",
        "outputId": "1ad6ee3a-f2eb-4a3d-d6a4-9905bc749406",
        "colab": {
          "base_uri": "https://localhost:8080/"
        }
      },
      "execution_count": 11,
      "outputs": [
        {
          "output_type": "stream",
          "name": "stdout",
          "text": [
            "--2022-06-19 10:32:21--  https://www.dropbox.com/sh/oqlkgpajx6nu8i7/AABnJFTfOheRs2O3x_NT_q72a?dl=1\n",
            "Resolving www.dropbox.com (www.dropbox.com)... 162.125.81.18, 2620:100:6025:18::a27d:4512\n",
            "Connecting to www.dropbox.com (www.dropbox.com)|162.125.81.18|:443... connected.\n",
            "HTTP request sent, awaiting response... 301 Moved Permanently\n",
            "Location: /sh/dl/oqlkgpajx6nu8i7/AABnJFTfOheRs2O3x_NT_q72a [following]\n",
            "--2022-06-19 10:32:22--  https://www.dropbox.com/sh/dl/oqlkgpajx6nu8i7/AABnJFTfOheRs2O3x_NT_q72a\n",
            "Reusing existing connection to www.dropbox.com:443.\n",
            "HTTP request sent, awaiting response... 302 Found\n",
            "Location: https://ucb0f9650dcd34334644e4d1aac2.dl.dropboxusercontent.com/zip_download_get/BK7x6fMlPpq-LjqDVNBoeGDHsuJRVTPyRqHMv28TytfLzcE1-5GxSh8xzY5XwSIT0snFb3Zx7vHQgPUKy4JyIsinfcgt3oeOvOlG85BRP-zr3Q?dl=1# [following]\n",
            "--2022-06-19 10:32:22--  https://ucb0f9650dcd34334644e4d1aac2.dl.dropboxusercontent.com/zip_download_get/BK7x6fMlPpq-LjqDVNBoeGDHsuJRVTPyRqHMv28TytfLzcE1-5GxSh8xzY5XwSIT0snFb3Zx7vHQgPUKy4JyIsinfcgt3oeOvOlG85BRP-zr3Q?dl=1\n",
            "Resolving ucb0f9650dcd34334644e4d1aac2.dl.dropboxusercontent.com (ucb0f9650dcd34334644e4d1aac2.dl.dropboxusercontent.com)... 162.125.69.15, 2620:100:6031:15::a27d:510f\n",
            "Connecting to ucb0f9650dcd34334644e4d1aac2.dl.dropboxusercontent.com (ucb0f9650dcd34334644e4d1aac2.dl.dropboxusercontent.com)|162.125.69.15|:443... connected.\n",
            "HTTP request sent, awaiting response... 200 OK\n",
            "Length: 208745172 (199M) [application/zip]\n",
            "Saving to: ‘keras_input.zip’\n",
            "\n",
            "keras_input.zip     100%[===================>] 199.07M  8.97MB/s    in 17s     \n",
            "\n",
            "2022-06-19 10:32:40 (11.5 MB/s) - ‘keras_input.zip’ saved [208745172/208745172]\n",
            "\n",
            "Archive:  keras_input.zip\n",
            "warning:  stripped absolute path spec from /\n",
            "mapname:  conversion of  failed\n",
            "replace mnbs_et.npy? [y]es, [n]o, [A]ll, [N]one, [r]ename: A\n",
            " extracting: mnbs_et.npy             \n",
            " extracting: mnbs_xy.npy             \n",
            " extracting: mnbs_mask.npy           \n",
            " extracting: mnbs_rphi.npy           \n",
            " extracting: mnbs_etrn.npy           \n",
            " extracting: signal_xy.npy           \n",
            " extracting: signal_et.npy           \n",
            " extracting: cosmics_xy.npy          \n",
            " extracting: cosmics_et.npy          \n",
            " extracting: signal_rphi.npy         \n",
            " extracting: signal_etrn.npy         \n",
            " extracting: signal_mask.npy         \n",
            " extracting: cosmics_rphi.npy        \n",
            " extracting: cosmics_mask.npy        \n",
            " extracting: cosmics_etrn.npy        \n"
          ]
        }
      ]
    },
    {
      "cell_type": "markdown",
      "source": [
        "There are three type of samples:\n",
        "- Photons from Radiative Muon Capture, as signal\n",
        "- Min-bias events due to the beam, as background\n",
        "- Cosmic rays, as background\n",
        "\n",
        "All the samples represent clusters in the upstream calorimeter disk.\n",
        "\n",
        "The datasets are saved as dictionaries with 4 components:\n",
        "-  \"points\": Point Cloud (xy coordinates of each hit of a cluster) - padded to 50 maximum hits\n",
        "-  \"features\": Energy and Time of each hit of a cluster - paddes to 50 maximum hits\n",
        "-  \"mask\": Mask to distinguish real hits (the others are filled with 0) in a cluster\n",
        "-  \"summary\": Energy, Time, Radius, and Number of active cells for a cluster"
      ],
      "metadata": {
        "id": "au2FgZqAdFDh"
      }
    },
    {
      "cell_type": "code",
      "execution_count": 12,
      "metadata": {
        "id": "Se9xg25k2g8f"
      },
      "outputs": [],
      "source": [
        "name_map = {\"points\": \"xy\", \"features\": \"et\", \"mask\": \"mask\", \"summary\": \"etrn\"}\n",
        "\n",
        "signal  = {key: np.load(f\"{data_folder}/signal_{ name_map[key]}.npy\") for key in name_map}\n",
        "\n",
        "mnbs    = {key: np.load(f\"{data_folder}/mnbs_{   name_map[key]}.npy\") for key in name_map}\n",
        "\n",
        "cosmics = {key: np.load(f\"{data_folder}/cosmics_{name_map[key]}.npy\") for key in name_map}"
      ]
    },
    {
      "cell_type": "markdown",
      "source": [
        "The dataset (generated with Monte Carlo) is weighted to match the real statistics of the data in one Mu2e injection cycle (1.33 s).\n"
      ],
      "metadata": {
        "id": "OZX7Akk1fWBM"
      }
    },
    {
      "cell_type": "code",
      "source": [
        "'''\n",
        "cluster su disco upstream in un injection cycle (1.33s):\n",
        "RMC: 330\n",
        "MNBS: 1.3M\n",
        "cosmici: 4\n",
        "\n",
        "cluster simulati su disco 0:\n",
        "RMC: 150k\n",
        "MNBS: 1.05M\n",
        "cosmici: 53k\n",
        "\n",
        "pesi:\n",
        "RMC: 66/150k \n",
        "MNBS: \n",
        "Cosmici: 4/53k\n",
        "'''\n",
        "\n",
        "signal_weight = 330/150e3 * 100\n",
        "mnbs_weight = 0.24 * 100\n",
        "cosmics_weight = 4/53e3 * 100\n",
        "\n",
        "'''\n",
        "il campione MC è stato filtrato con ROOT\n",
        "effettuando due tagli di preselezione:\n",
        "E del cluster > 50 MeV  &&  R del centroide del cluster > 480 mm\n",
        "'''\n",
        "\n",
        "print(end=\"\")"
      ],
      "metadata": {
        "id": "m1CHQLiEAXZQ"
      },
      "execution_count": 13,
      "outputs": []
    },
    {
      "cell_type": "markdown",
      "source": [
        "The samples are merged into a unique dataset, which is then shuffled, saving also labels and weights"
      ],
      "metadata": {
        "id": "-RADS0WTfqjL"
      }
    },
    {
      "cell_type": "code",
      "execution_count": 14,
      "metadata": {
        "id": "ZS-UFF0G2g8i"
      },
      "outputs": [],
      "source": [
        "S =  signal[\"mask\"].shape[0] #entries segnale\n",
        "F =    mnbs[\"mask\"].shape[0] #entries mnbs (background flash da fascio)\n",
        "C = cosmics[\"mask\"].shape[0] #entries cosmici\n",
        "\n",
        "N = S + F + C\n",
        "\n",
        "p = np.random.permutation(N) #"
      ]
    },
    {
      "cell_type": "code",
      "execution_count": 15,
      "metadata": {
        "id": "aXZ6qndr2g8m",
        "colab": {
          "base_uri": "https://localhost:8080/"
        },
        "outputId": "ffba7cca-e490-4d70-c243-2de676b9f2ca"
      },
      "outputs": [
        {
          "output_type": "stream",
          "name": "stdout",
          "text": [
            "- Entries per signale, mnbs e cosmici:[41372, 1132, 41598]\n",
            "- Pesi per signale, mnbs e cosmici:[0.22, 24.0, 0.007547169811320755]\n"
          ]
        }
      ],
      "source": [
        "data = {key: np.concatenate( (signal[key], mnbs[key], cosmics[key]) )[p] for key in name_map}\n",
        "\n",
        "label_list = [1, 0, 0]\n",
        "entries_list = [S, F, C]\n",
        "weight_list = [signal_weight, mnbs_weight, cosmics_weight]\n",
        "\n",
        "print(f\"- Entries per signale, mnbs e cosmici:{entries_list}\")\n",
        "print(f\"- Pesi per signale, mnbs e cosmici:{weight_list}\")\n",
        "\n",
        "label = np.concatenate( \n",
        "    [ np.ones((e))*l for e, l in zip(entries_list,  label_list) ]\n",
        ")[p]\n",
        "\n",
        "sample_weight = np.concatenate( \n",
        "    [ np.ones((e))*w for e, w in zip(entries_list, weight_list) ]\n",
        ")[p]"
      ]
    },
    {
      "cell_type": "markdown",
      "source": [
        "The data are normalized to help the training "
      ],
      "metadata": {
        "id": "PsfwSDLcf9U-"
      }
    },
    {
      "cell_type": "code",
      "source": [
        "from sklearn.preprocessing import StandardScaler\n",
        "scaler = StandardScaler()\n",
        "\n",
        "for key in [\"points\", \"features\"]:\n",
        "  data[key][data[\"mask\"].reshape(N, 50)] = scaler.fit_transform(data[key][data[\"mask\"].reshape(N, 50)])\n",
        "\n",
        "data[\"summary\"] = scaler.fit_transform(data[\"summary\"])"
      ],
      "metadata": {
        "id": "xTsETQ4OAxEd"
      },
      "execution_count": 16,
      "outputs": []
    },
    {
      "cell_type": "markdown",
      "source": [
        "The dataset is split in training, validation and test set"
      ],
      "metadata": {
        "id": "FcLMyfjTgHsO"
      }
    },
    {
      "cell_type": "code",
      "execution_count": 17,
      "metadata": {
        "id": "ZFNtoo8s2g8s"
      },
      "outputs": [],
      "source": [
        "train_data  = {key: data[key][int(N*0.0) : int(N*0.7)] for key in name_map}\n",
        "test_data   = {key: data[key][int(N*0.7) : int(N*0.9)] for key in name_map}\n",
        "val_data    = {key: data[key][int(N*0.9) : int(N*1.0)] for key in name_map}\n",
        "\n",
        "train_label = label[int(N*0.0) : int(N*0.7)]\n",
        "test_label  = label[int(N*0.7) : int(N*0.9)]\n",
        "val_label   = label[int(N*0.9) : int(N*1.0)]\n",
        "\n",
        "train_weight = sample_weight[int(N*0.0) : int(N*0.7)]\n",
        "test_weight  = sample_weight[int(N*0.7) : int(N*0.9)]\n",
        "val_weight   = sample_weight[int(N*0.9) : int(N*1.0)]"
      ]
    },
    {
      "cell_type": "markdown",
      "source": [
        "The keras model is imported from the library "
      ],
      "metadata": {
        "id": "TEdNF_JlgM4Z"
      }
    },
    {
      "cell_type": "code",
      "execution_count": 33,
      "metadata": {
        "scrolled": true,
        "id": "nfCI_M2d2g8u"
      },
      "outputs": [],
      "source": [
        "input_shapes = {'points': (50, 2), 'features': (50, 2), 'mask':(50, 1)}\n",
        "\n",
        "model = get_particle_net_lite_custom(input_shapes)"
      ]
    },
    {
      "cell_type": "code",
      "execution_count": 19,
      "metadata": {
        "id": "LFRJXncU2g8x"
      },
      "outputs": [],
      "source": [
        "# Training parameters\n",
        "\n",
        "batch_size = 1024\n",
        "epochs = 30"
      ]
    },
    {
      "cell_type": "markdown",
      "source": [
        "The learning rate is exponentially decreased by a 0.1 factor every 10 epochs, starting from 0.01. The best initial learning rate was estimated using the learning rate finder technique (https://colab.research.google.com/github/sachinruk/blog/blob/master/_notebooks/2021-02-15-Tensorflow-Learning-Rate-Finder.ipynb)"
      ],
      "metadata": {
        "id": "3_gm4C99gebR"
      }
    },
    {
      "cell_type": "code",
      "execution_count": 20,
      "metadata": {
        "id": "RHvU72JY2g8z"
      },
      "outputs": [],
      "source": [
        "def lr_schedule(epoch):\n",
        "    lr = 1e-2\n",
        "    if epoch > 10:\n",
        "        lr *= 0.1\n",
        "    elif epoch > 20:\n",
        "        lr *= 0.01\n",
        "    logging.info('Learning rate: %f'%lr)\n",
        "    return lr"
      ]
    },
    {
      "cell_type": "markdown",
      "source": [
        "The model is compiled with:\n",
        "- Loss: binary crossentropy\n",
        "- Metrics (weighted to match the real statistics): accuracy, precision and recall\n",
        "- Optimizer: Adam"
      ],
      "metadata": {
        "id": "NvIByldWgvyC"
      }
    },
    {
      "cell_type": "code",
      "execution_count": 34,
      "metadata": {
        "scrolled": true,
        "id": "2IlFncmO2g82",
        "outputId": "5f2badaf-3ea4-4538-c22b-90cae09c7e9d",
        "colab": {
          "base_uri": "https://localhost:8080/"
        }
      },
      "outputs": [
        {
          "output_type": "stream",
          "name": "stderr",
          "text": [
            "[2022-06-19 10:42:37,919] INFO: Learning rate: 0.010000\n"
          ]
        },
        {
          "output_type": "stream",
          "name": "stdout",
          "text": [
            "Model: \"ParticleNet\"\n",
            "__________________________________________________________________________________________________\n",
            " Layer (type)                   Output Shape         Param #     Connected to                     \n",
            "==================================================================================================\n",
            " mask (InputLayer)              [(None, 50, 1)]      0           []                               \n",
            "                                                                                                  \n",
            " tf.math.not_equal_1 (TFOpLambd  (None, 50, 1)       0           ['mask[0][0]']                   \n",
            " a)                                                                                               \n",
            "                                                                                                  \n",
            " tf.cast_2 (TFOpLambda)         (None, 50, 1)        0           ['tf.math.not_equal_1[0][0]']    \n",
            "                                                                                                  \n",
            " tf.math.equal_1 (TFOpLambda)   (None, 50, 1)        0           ['tf.cast_2[0][0]']              \n",
            "                                                                                                  \n",
            " tf.cast_3 (TFOpLambda)         (None, 50, 1)        0           ['tf.math.equal_1[0][0]']        \n",
            "                                                                                                  \n",
            " tf.math.multiply_8 (TFOpLambda  (None, 50, 1)       0           ['tf.cast_3[0][0]']              \n",
            " )                                                                                                \n",
            "                                                                                                  \n",
            " points (InputLayer)            [(None, 50, 2)]      0           []                               \n",
            "                                                                                                  \n",
            " tf.math.add_2 (TFOpLambda)     (None, 50, 2)        0           ['tf.math.multiply_8[0][0]',     \n",
            "                                                                  'points[0][0]']                 \n",
            "                                                                                                  \n",
            " features (InputLayer)          [(None, 50, 2)]      0           []                               \n",
            "                                                                                                  \n",
            " tf.compat.v1.transpose_4 (TFOp  (None, 2, 50)       0           ['tf.math.add_2[0][0]']          \n",
            " Lambda)                                                                                          \n",
            "                                                                                                  \n",
            " tf.expand_dims_7 (TFOpLambda)  (None, 50, 1, 2)     0           ['features[0][0]']               \n",
            "                                                                                                  \n",
            " tf.math.multiply_9 (TFOpLambda  (None, 50, 2)       0           ['tf.math.add_2[0][0]',          \n",
            " )                                                                'tf.math.add_2[0][0]']          \n",
            "                                                                                                  \n",
            " tf.linalg.matmul_2 (TFOpLambda  (None, 50, 50)      0           ['tf.math.add_2[0][0]',          \n",
            " )                                                                'tf.compat.v1.transpose_4[0][0]'\n",
            "                                                                 ]                                \n",
            "                                                                                                  \n",
            " tf.math.multiply_10 (TFOpLambd  (None, 50, 2)       0           ['tf.math.add_2[0][0]',          \n",
            " a)                                                               'tf.math.add_2[0][0]']          \n",
            "                                                                                                  \n",
            " ParticleNet_fts_bn (BatchNorma  (None, 50, 1, 2)    8           ['tf.expand_dims_7[0][0]']       \n",
            " lization)                                                                                        \n",
            "                                                                                                  \n",
            " tf.math.reduce_sum_4 (TFOpLamb  (None, 50, 1)       0           ['tf.math.multiply_9[0][0]']     \n",
            " da)                                                                                              \n",
            "                                                                                                  \n",
            " tf.math.multiply_11 (TFOpLambd  (None, 50, 50)      0           ['tf.linalg.matmul_2[0][0]']     \n",
            " a)                                                                                               \n",
            "                                                                                                  \n",
            " tf.math.reduce_sum_5 (TFOpLamb  (None, 50, 1)       0           ['tf.math.multiply_10[0][0]']    \n",
            " da)                                                                                              \n",
            "                                                                                                  \n",
            " tf.compat.v1.squeeze_3 (TFOpLa  (None, 50, 2)       0           ['ParticleNet_fts_bn[0][0]']     \n",
            " mbda)                                                                                            \n",
            "                                                                                                  \n",
            " tf.math.subtract_4 (TFOpLambda  (None, 50, 50)      0           ['tf.math.reduce_sum_4[0][0]',   \n",
            " )                                                                'tf.math.multiply_11[0][0]']    \n",
            "                                                                                                  \n",
            " tf.compat.v1.transpose_5 (TFOp  (None, 1, 50)       0           ['tf.math.reduce_sum_5[0][0]']   \n",
            " Lambda)                                                                                          \n",
            "                                                                                                  \n",
            " tf.compat.v1.shape_2 (TFOpLamb  (3,)                0           ['tf.compat.v1.squeeze_3[0][0]'] \n",
            " da)                                                                                              \n",
            "                                                                                                  \n",
            " tf.__operators__.add_4 (TFOpLa  (None, 50, 50)      0           ['tf.math.subtract_4[0][0]',     \n",
            " mbda)                                                            'tf.compat.v1.transpose_5[0][0]'\n",
            "                                                                 ]                                \n",
            "                                                                                                  \n",
            " tf.__operators__.getitem_5 (Sl  ()                  0           ['tf.compat.v1.shape_2[0][0]']   \n",
            " icingOpLambda)                                                                                   \n",
            "                                                                                                  \n",
            " tf.math.negative_2 (TFOpLambda  (None, 50, 50)      0           ['tf.__operators__.add_4[0][0]'] \n",
            " )                                                                                                \n",
            "                                                                                                  \n",
            " tf.range_2 (TFOpLambda)        (None,)              0           ['tf.__operators__.getitem_5[0][0\n",
            "                                                                 ]']                              \n",
            "                                                                                                  \n",
            " tf.math.top_k_2 (TFOpLambda)   TopKV2(values=(None  0           ['tf.math.negative_2[0][0]']     \n",
            "                                , 50, 4),                                                         \n",
            "                                 indices=(None, 50,                                               \n",
            "                                 4))                                                              \n",
            "                                                                                                  \n",
            " tf.reshape_2 (TFOpLambda)      (None, 1, 1, 1)      0           ['tf.range_2[0][0]']             \n",
            "                                                                                                  \n",
            " tf.__operators__.getitem_4 (Sl  (None, 50, 3)       0           ['tf.math.top_k_2[0][1]']        \n",
            " icingOpLambda)                                                                                   \n",
            "                                                                                                  \n",
            " tf.tile_4 (TFOpLambda)         (None, 50, 3, 1)     0           ['tf.reshape_2[0][0]']           \n",
            "                                                                                                  \n",
            " tf.expand_dims_8 (TFOpLambda)  (None, 50, 3, 1)     0           ['tf.__operators__.getitem_4[0][0\n",
            "                                                                 ]']                              \n",
            "                                                                                                  \n",
            " tf.expand_dims_9 (TFOpLambda)  (None, 50, 1, 2)     0           ['tf.compat.v1.squeeze_3[0][0]'] \n",
            "                                                                                                  \n",
            " tf.concat_5 (TFOpLambda)       (None, 50, 3, 2)     0           ['tf.tile_4[0][0]',              \n",
            "                                                                  'tf.expand_dims_8[0][0]']       \n",
            "                                                                                                  \n",
            " tf.tile_5 (TFOpLambda)         (None, 50, 3, 2)     0           ['tf.expand_dims_9[0][0]']       \n",
            "                                                                                                  \n",
            " tf.compat.v1.gather_nd_2 (TFOp  (None, 50, 3, 2)    0           ['tf.compat.v1.squeeze_3[0][0]', \n",
            " Lambda)                                                          'tf.concat_5[0][0]']            \n",
            "                                                                                                  \n",
            " tf.math.subtract_5 (TFOpLambda  (None, 50, 3, 2)    0           ['tf.compat.v1.gather_nd_2[0][0]'\n",
            " )                                                               , 'tf.tile_5[0][0]']             \n",
            "                                                                                                  \n",
            " tf.concat_6 (TFOpLambda)       (None, 50, 3, 4)     0           ['tf.tile_5[0][0]',              \n",
            "                                                                  'tf.math.subtract_5[0][0]']     \n",
            "                                                                                                  \n",
            " ParticleNet_EdgeConv0_conv0 (C  (None, 50, 3, 16)   64          ['tf.concat_6[0][0]']            \n",
            " onv2D)                                                                                           \n",
            "                                                                                                  \n",
            " ParticleNet_EdgeConv0_bn0 (Bat  (None, 50, 3, 16)   64          ['ParticleNet_EdgeConv0_conv0[0][\n",
            " chNormalization)                                                0]']                             \n",
            "                                                                                                  \n",
            " ParticleNet_EdgeConv0_act0 (Ac  (None, 50, 3, 16)   0           ['ParticleNet_EdgeConv0_bn0[0][0]\n",
            " tivation)                                                       ']                               \n",
            "                                                                                                  \n",
            " ParticleNet_EdgeConv0_conv1 (C  (None, 50, 3, 16)   256         ['ParticleNet_EdgeConv0_act0[0][0\n",
            " onv2D)                                                          ]']                              \n",
            "                                                                                                  \n",
            " ParticleNet_EdgeConv0_bn1 (Bat  (None, 50, 3, 16)   64          ['ParticleNet_EdgeConv0_conv1[0][\n",
            " chNormalization)                                                0]']                             \n",
            "                                                                                                  \n",
            " ParticleNet_EdgeConv0_act1 (Ac  (None, 50, 3, 16)   0           ['ParticleNet_EdgeConv0_bn1[0][0]\n",
            " tivation)                                                       ']                               \n",
            "                                                                                                  \n",
            " tf.expand_dims_10 (TFOpLambda)  (None, 50, 1, 2)    0           ['tf.compat.v1.squeeze_3[0][0]'] \n",
            "                                                                                                  \n",
            " ParticleNet_EdgeConv0_conv2 (C  (None, 50, 3, 16)   256         ['ParticleNet_EdgeConv0_act1[0][0\n",
            " onv2D)                                                          ]']                              \n",
            "                                                                                                  \n",
            " ParticleNet_EdgeConv0_sc_conv   (None, 50, 1, 16)   32          ['tf.expand_dims_10[0][0]']      \n",
            " (Conv2D)                                                                                         \n",
            "                                                                                                  \n",
            " ParticleNet_EdgeConv0_bn2 (Bat  (None, 50, 3, 16)   64          ['ParticleNet_EdgeConv0_conv2[0][\n",
            " chNormalization)                                                0]']                             \n",
            "                                                                                                  \n",
            " ParticleNet_EdgeConv0_sc_bn (B  (None, 50, 1, 16)   64          ['ParticleNet_EdgeConv0_sc_conv[0\n",
            " atchNormalization)                                              ][0]']                           \n",
            "                                                                                                  \n",
            " ParticleNet_EdgeConv0_act2 (Ac  (None, 50, 3, 16)   0           ['ParticleNet_EdgeConv0_bn2[0][0]\n",
            " tivation)                                                       ']                               \n",
            "                                                                                                  \n",
            " tf.compat.v1.squeeze_4 (TFOpLa  (None, 50, 16)      0           ['ParticleNet_EdgeConv0_sc_bn[0][\n",
            " mbda)                                                           0]']                             \n",
            "                                                                                                  \n",
            " tf.math.reduce_max_2 (TFOpLamb  (None, 50, 16)      0           ['ParticleNet_EdgeConv0_act2[0][0\n",
            " da)                                                             ]']                              \n",
            "                                                                                                  \n",
            " tf.__operators__.add_5 (TFOpLa  (None, 50, 16)      0           ['tf.compat.v1.squeeze_4[0][0]', \n",
            " mbda)                                                            'tf.math.reduce_max_2[0][0]']   \n",
            "                                                                                                  \n",
            " ParticleNet_EdgeConv0_sc_act (  (None, 50, 16)      0           ['tf.__operators__.add_5[0][0]'] \n",
            " Activation)                                                                                      \n",
            "                                                                                                  \n",
            " tf.math.add_3 (TFOpLambda)     (None, 50, 16)       0           ['tf.math.multiply_8[0][0]',     \n",
            "                                                                  'ParticleNet_EdgeConv0_sc_act[0]\n",
            "                                                                 [0]']                            \n",
            "                                                                                                  \n",
            " tf.compat.v1.transpose_6 (TFOp  (None, 16, 50)      0           ['tf.math.add_3[0][0]']          \n",
            " Lambda)                                                                                          \n",
            "                                                                                                  \n",
            " tf.math.multiply_12 (TFOpLambd  (None, 50, 16)      0           ['tf.math.add_3[0][0]',          \n",
            " a)                                                               'tf.math.add_3[0][0]']          \n",
            "                                                                                                  \n",
            " tf.linalg.matmul_3 (TFOpLambda  (None, 50, 50)      0           ['tf.math.add_3[0][0]',          \n",
            " )                                                                'tf.compat.v1.transpose_6[0][0]'\n",
            "                                                                 ]                                \n",
            "                                                                                                  \n",
            " tf.math.multiply_13 (TFOpLambd  (None, 50, 16)      0           ['tf.math.add_3[0][0]',          \n",
            " a)                                                               'tf.math.add_3[0][0]']          \n",
            "                                                                                                  \n",
            " tf.math.reduce_sum_6 (TFOpLamb  (None, 50, 1)       0           ['tf.math.multiply_12[0][0]']    \n",
            " da)                                                                                              \n",
            "                                                                                                  \n",
            " tf.math.multiply_14 (TFOpLambd  (None, 50, 50)      0           ['tf.linalg.matmul_3[0][0]']     \n",
            " a)                                                                                               \n",
            "                                                                                                  \n",
            " tf.math.reduce_sum_7 (TFOpLamb  (None, 50, 1)       0           ['tf.math.multiply_13[0][0]']    \n",
            " da)                                                                                              \n",
            "                                                                                                  \n",
            " tf.math.subtract_6 (TFOpLambda  (None, 50, 50)      0           ['tf.math.reduce_sum_6[0][0]',   \n",
            " )                                                                'tf.math.multiply_14[0][0]']    \n",
            "                                                                                                  \n",
            " tf.compat.v1.transpose_7 (TFOp  (None, 1, 50)       0           ['tf.math.reduce_sum_7[0][0]']   \n",
            " Lambda)                                                                                          \n",
            "                                                                                                  \n",
            " tf.compat.v1.shape_3 (TFOpLamb  (3,)                0           ['ParticleNet_EdgeConv0_sc_act[0]\n",
            " da)                                                             [0]']                            \n",
            "                                                                                                  \n",
            " tf.__operators__.add_6 (TFOpLa  (None, 50, 50)      0           ['tf.math.subtract_6[0][0]',     \n",
            " mbda)                                                            'tf.compat.v1.transpose_7[0][0]'\n",
            "                                                                 ]                                \n",
            "                                                                                                  \n",
            " tf.__operators__.getitem_7 (Sl  ()                  0           ['tf.compat.v1.shape_3[0][0]']   \n",
            " icingOpLambda)                                                                                   \n",
            "                                                                                                  \n",
            " tf.math.negative_3 (TFOpLambda  (None, 50, 50)      0           ['tf.__operators__.add_6[0][0]'] \n",
            " )                                                                                                \n",
            "                                                                                                  \n",
            " tf.range_3 (TFOpLambda)        (None,)              0           ['tf.__operators__.getitem_7[0][0\n",
            "                                                                 ]']                              \n",
            "                                                                                                  \n",
            " tf.math.top_k_3 (TFOpLambda)   TopKV2(values=(None  0           ['tf.math.negative_3[0][0]']     \n",
            "                                , 50, 4),                                                         \n",
            "                                 indices=(None, 50,                                               \n",
            "                                 4))                                                              \n",
            "                                                                                                  \n",
            " tf.reshape_3 (TFOpLambda)      (None, 1, 1, 1)      0           ['tf.range_3[0][0]']             \n",
            "                                                                                                  \n",
            " tf.__operators__.getitem_6 (Sl  (None, 50, 3)       0           ['tf.math.top_k_3[0][1]']        \n",
            " icingOpLambda)                                                                                   \n",
            "                                                                                                  \n",
            " tf.tile_6 (TFOpLambda)         (None, 50, 3, 1)     0           ['tf.reshape_3[0][0]']           \n",
            "                                                                                                  \n",
            " tf.expand_dims_11 (TFOpLambda)  (None, 50, 3, 1)    0           ['tf.__operators__.getitem_6[0][0\n",
            "                                                                 ]']                              \n",
            "                                                                                                  \n",
            " tf.expand_dims_12 (TFOpLambda)  (None, 50, 1, 16)   0           ['ParticleNet_EdgeConv0_sc_act[0]\n",
            "                                                                 [0]']                            \n",
            "                                                                                                  \n",
            " tf.concat_7 (TFOpLambda)       (None, 50, 3, 2)     0           ['tf.tile_6[0][0]',              \n",
            "                                                                  'tf.expand_dims_11[0][0]']      \n",
            "                                                                                                  \n",
            " tf.tile_7 (TFOpLambda)         (None, 50, 3, 16)    0           ['tf.expand_dims_12[0][0]']      \n",
            "                                                                                                  \n",
            " tf.compat.v1.gather_nd_3 (TFOp  (None, 50, 3, 16)   0           ['ParticleNet_EdgeConv0_sc_act[0]\n",
            " Lambda)                                                         [0]',                            \n",
            "                                                                  'tf.concat_7[0][0]']            \n",
            "                                                                                                  \n",
            " tf.math.subtract_7 (TFOpLambda  (None, 50, 3, 16)   0           ['tf.compat.v1.gather_nd_3[0][0]'\n",
            " )                                                               , 'tf.tile_7[0][0]']             \n",
            "                                                                                                  \n",
            " tf.concat_8 (TFOpLambda)       (None, 50, 3, 32)    0           ['tf.tile_7[0][0]',              \n",
            "                                                                  'tf.math.subtract_7[0][0]']     \n",
            "                                                                                                  \n",
            " ParticleNet_EdgeConv1_conv0 (C  (None, 50, 3, 32)   1024        ['tf.concat_8[0][0]']            \n",
            " onv2D)                                                                                           \n",
            "                                                                                                  \n",
            " ParticleNet_EdgeConv1_bn0 (Bat  (None, 50, 3, 32)   128         ['ParticleNet_EdgeConv1_conv0[0][\n",
            " chNormalization)                                                0]']                             \n",
            "                                                                                                  \n",
            " ParticleNet_EdgeConv1_act0 (Ac  (None, 50, 3, 32)   0           ['ParticleNet_EdgeConv1_bn0[0][0]\n",
            " tivation)                                                       ']                               \n",
            "                                                                                                  \n",
            " ParticleNet_EdgeConv1_conv1 (C  (None, 50, 3, 32)   1024        ['ParticleNet_EdgeConv1_act0[0][0\n",
            " onv2D)                                                          ]']                              \n",
            "                                                                                                  \n",
            " ParticleNet_EdgeConv1_bn1 (Bat  (None, 50, 3, 32)   128         ['ParticleNet_EdgeConv1_conv1[0][\n",
            " chNormalization)                                                0]']                             \n",
            "                                                                                                  \n",
            " ParticleNet_EdgeConv1_act1 (Ac  (None, 50, 3, 32)   0           ['ParticleNet_EdgeConv1_bn1[0][0]\n",
            " tivation)                                                       ']                               \n",
            "                                                                                                  \n",
            " tf.expand_dims_13 (TFOpLambda)  (None, 50, 1, 16)   0           ['ParticleNet_EdgeConv0_sc_act[0]\n",
            "                                                                 [0]']                            \n",
            "                                                                                                  \n",
            " ParticleNet_EdgeConv1_conv2 (C  (None, 50, 3, 32)   1024        ['ParticleNet_EdgeConv1_act1[0][0\n",
            " onv2D)                                                          ]']                              \n",
            "                                                                                                  \n",
            " ParticleNet_EdgeConv1_sc_conv   (None, 50, 1, 32)   512         ['tf.expand_dims_13[0][0]']      \n",
            " (Conv2D)                                                                                         \n",
            "                                                                                                  \n",
            " ParticleNet_EdgeConv1_bn2 (Bat  (None, 50, 3, 32)   128         ['ParticleNet_EdgeConv1_conv2[0][\n",
            " chNormalization)                                                0]']                             \n",
            "                                                                                                  \n",
            " ParticleNet_EdgeConv1_sc_bn (B  (None, 50, 1, 32)   128         ['ParticleNet_EdgeConv1_sc_conv[0\n",
            " atchNormalization)                                              ][0]']                           \n",
            "                                                                                                  \n",
            " ParticleNet_EdgeConv1_act2 (Ac  (None, 50, 3, 32)   0           ['ParticleNet_EdgeConv1_bn2[0][0]\n",
            " tivation)                                                       ']                               \n",
            "                                                                                                  \n",
            " tf.compat.v1.squeeze_5 (TFOpLa  (None, 50, 32)      0           ['ParticleNet_EdgeConv1_sc_bn[0][\n",
            " mbda)                                                           0]']                             \n",
            "                                                                                                  \n",
            " tf.math.reduce_max_3 (TFOpLamb  (None, 50, 32)      0           ['ParticleNet_EdgeConv1_act2[0][0\n",
            " da)                                                             ]']                              \n",
            "                                                                                                  \n",
            " tf.__operators__.add_7 (TFOpLa  (None, 50, 32)      0           ['tf.compat.v1.squeeze_5[0][0]', \n",
            " mbda)                                                            'tf.math.reduce_max_3[0][0]']   \n",
            "                                                                                                  \n",
            " ParticleNet_EdgeConv1_sc_act (  (None, 50, 32)      0           ['tf.__operators__.add_7[0][0]'] \n",
            " Activation)                                                                                      \n",
            "                                                                                                  \n",
            " tf.math.multiply_15 (TFOpLambd  (None, 50, 32)      0           ['ParticleNet_EdgeConv1_sc_act[0]\n",
            " a)                                                              [0]',                            \n",
            "                                                                  'tf.cast_2[0][0]']              \n",
            "                                                                                                  \n",
            " tf.math.reduce_mean_1 (TFOpLam  (None, 32)          0           ['tf.math.multiply_15[0][0]']    \n",
            " bda)                                                                                             \n",
            "                                                                                                  \n",
            " summary (InputLayer)           [(None, 4)]          0           []                               \n",
            "                                                                                                  \n",
            " tf.concat_9 (TFOpLambda)       (None, 36)           0           ['tf.math.reduce_mean_1[0][0]',  \n",
            "                                                                  'summary[0][0]']                \n",
            "                                                                                                  \n",
            " dense_2 (Dense)                (None, 64)           2368        ['tf.concat_9[0][0]']            \n",
            "                                                                                                  \n",
            " dropout_1 (Dropout)            (None, 64)           0           ['dense_2[0][0]']                \n",
            "                                                                                                  \n",
            " dense_3 (Dense)                (None, 1)            65          ['dropout_1[0][0]']              \n",
            "                                                                                                  \n",
            "==================================================================================================\n",
            "Total params: 7,401\n",
            "Trainable params: 7,013\n",
            "Non-trainable params: 388\n",
            "__________________________________________________________________________________________________\n"
          ]
        }
      ],
      "source": [
        "model.compile(loss='binary_crossentropy',\n",
        "              optimizer=keras.optimizers.Adam(learning_rate=lr_schedule(0)),\n",
        "              weighted_metrics=['accuracy', keras.metrics.Precision(), keras.metrics.Recall()])\n",
        "model.summary()"
      ]
    },
    {
      "cell_type": "markdown",
      "source": [
        "Keras checkpoints are employed to save the model with the best validation accuracy"
      ],
      "metadata": {
        "id": "_6fzlPPnhpJe"
      }
    },
    {
      "cell_type": "code",
      "execution_count": 35,
      "metadata": {
        "id": "hc6CsvjZ2g84"
      },
      "outputs": [],
      "source": [
        "# Prepare model model saving directory.\n",
        "import os\n",
        "save_dir = 'model_checkpoints'\n",
        "model_name = '%s_model.{epoch:03d}.h5' % \"lite\"\n",
        "if not os.path.isdir(save_dir):\n",
        "    os.makedirs(save_dir)\n",
        "filepath = os.path.join(save_dir, model_name)\n",
        "\n",
        "# Prepare callbacks for model saving and for learning rate adjustment.\n",
        "checkpoint = keras.callbacks.ModelCheckpoint(filepath=filepath,\n",
        "                             monitor='val_loss',\n",
        "                             verbose=1,\n",
        "                             save_best_only=True)\n",
        "\n",
        "lr_scheduler = keras.callbacks.LearningRateScheduler(lr_schedule)\n",
        "progress_bar = keras.callbacks.ProgbarLogger()\n",
        "callbacks = [checkpoint, progress_bar, lr_scheduler]"
      ]
    },
    {
      "cell_type": "code",
      "execution_count": null,
      "metadata": {
        "scrolled": true,
        "id": "98kE3T-I2g85",
        "outputId": "c3edecaf-90cb-4805-a456-baab026161eb",
        "colab": {
          "base_uri": "https://localhost:8080/"
        }
      },
      "outputs": [
        {
          "output_type": "stream",
          "name": "stdout",
          "text": [
            "Epoch 1/30\n"
          ]
        },
        {
          "output_type": "stream",
          "name": "stderr",
          "text": [
            "[2022-06-19 10:42:52,307] INFO: Learning rate: 0.010000\n"
          ]
        },
        {
          "output_type": "stream",
          "name": "stdout",
          "text": [
            "      0/Unknown - 10s 0s/sample - loss: 0.1242 - accuracy: 0.8817 - precision_1: 0.8182 - recall_1: 0.6678\n",
            "Epoch 1: val_loss improved from inf to 0.12936, saving model to model_checkpoints/lite_model.001.h5\n",
            "58/58 [==============================] - 14s 236ms/sample - loss: 0.1242 - accuracy: 0.8817 - precision_1: 0.8182 - recall_1: 0.6678 - val_loss: 0.1294 - val_accuracy: 0.8527 - val_precision_1: 0.7265 - val_recall_1: 0.6560\n",
            "Epoch 2/30\n"
          ]
        },
        {
          "output_type": "stream",
          "name": "stderr",
          "text": [
            "[2022-06-19 10:43:06,005] INFO: Learning rate: 0.010000\n"
          ]
        },
        {
          "output_type": "stream",
          "name": "stdout",
          "text": [
            " 0/58 [..............................] - ETA: 0s - loss: 0.0870 - accuracy: 0.9141 - precision_1: 0.8306 - recall_1: 0.8180\n",
            "Epoch 2: val_loss improved from 0.12936 to 0.09548, saving model to model_checkpoints/lite_model.002.h5\n",
            "58/58 [==============================] - 9s 162ms/sample - loss: 0.0870 - accuracy: 0.9141 - precision_1: 0.8306 - recall_1: 0.8180 - val_loss: 0.0955 - val_accuracy: 0.8895 - val_precision_1: 0.7645 - val_recall_1: 0.8040\n",
            "Epoch 3/30\n"
          ]
        },
        {
          "output_type": "stream",
          "name": "stderr",
          "text": [
            "[2022-06-19 10:43:15,412] INFO: Learning rate: 0.010000\n"
          ]
        },
        {
          "output_type": "stream",
          "name": "stdout",
          "text": [
            " 0/58 [..............................] - ETA: 0s - loss: 0.0787 - accuracy: 0.9312 - precision_1: 0.8756 - recall_1: 0.8399\n",
            "Epoch 3: val_loss improved from 0.09548 to 0.07530, saving model to model_checkpoints/lite_model.003.h5\n",
            "58/58 [==============================] - 9s 163ms/sample - loss: 0.0787 - accuracy: 0.9312 - precision_1: 0.8756 - recall_1: 0.8399 - val_loss: 0.0753 - val_accuracy: 0.9308 - val_precision_1: 0.9546 - val_recall_1: 0.7583\n",
            "Epoch 4/30\n"
          ]
        },
        {
          "output_type": "stream",
          "name": "stderr",
          "text": [
            "[2022-06-19 10:43:24,872] INFO: Learning rate: 0.010000\n"
          ]
        },
        {
          "output_type": "stream",
          "name": "stdout",
          "text": [
            " 0/58 [..............................] - ETA: 0s - loss: 0.0800 - accuracy: 0.9241 - precision_1: 0.8589 - recall_1: 0.8276\n",
            "Epoch 4: val_loss improved from 0.07530 to 0.07152, saving model to model_checkpoints/lite_model.004.h5\n",
            "58/58 [==============================] - 9s 163ms/sample - loss: 0.0800 - accuracy: 0.9241 - precision_1: 0.8589 - recall_1: 0.8276 - val_loss: 0.0715 - val_accuracy: 0.9394 - val_precision_1: 0.8456 - val_recall_1: 0.9260\n",
            "Epoch 5/30\n"
          ]
        },
        {
          "output_type": "stream",
          "name": "stderr",
          "text": [
            "[2022-06-19 10:43:34,323] INFO: Learning rate: 0.010000\n"
          ]
        },
        {
          "output_type": "stream",
          "name": "stdout",
          "text": [
            " 0/58 [..............................] - ETA: 0s - loss: 0.0719 - accuracy: 0.9375 - precision_1: 0.8848 - recall_1: 0.8576\n",
            "Epoch 5: val_loss did not improve from 0.07152\n",
            "58/58 [==============================] - 9s 160ms/sample - loss: 0.0719 - accuracy: 0.9375 - precision_1: 0.8848 - recall_1: 0.8576 - val_loss: 0.0920 - val_accuracy: 0.9173 - val_precision_1: 0.8345 - val_recall_1: 0.8335\n",
            "Epoch 6/30\n"
          ]
        },
        {
          "output_type": "stream",
          "name": "stderr",
          "text": [
            "[2022-06-19 10:43:43,634] INFO: Learning rate: 0.010000\n"
          ]
        },
        {
          "output_type": "stream",
          "name": "stdout",
          "text": [
            " 0/58 [..............................] - ETA: 0s - loss: 0.0618 - accuracy: 0.9496 - precision_1: 0.8999 - recall_1: 0.8947\n",
            "Epoch 6: val_loss did not improve from 0.07152\n",
            "58/58 [==============================] - 9s 159ms/sample - loss: 0.0618 - accuracy: 0.9496 - precision_1: 0.8999 - recall_1: 0.8947 - val_loss: 0.0734 - val_accuracy: 0.9538 - val_precision_1: 0.8731 - val_recall_1: 0.9533\n",
            "Epoch 7/30\n"
          ]
        },
        {
          "output_type": "stream",
          "name": "stderr",
          "text": [
            "[2022-06-19 10:43:52,863] INFO: Learning rate: 0.010000\n"
          ]
        },
        {
          "output_type": "stream",
          "name": "stdout",
          "text": [
            " 0/58 [..............................] - ETA: 0s - loss: 0.0599 - accuracy: 0.9513 - precision_1: 0.9108 - recall_1: 0.8893\n",
            "Epoch 7: val_loss did not improve from 0.07152\n",
            "58/58 [==============================] - 9s 159ms/sample - loss: 0.0599 - accuracy: 0.9513 - precision_1: 0.9108 - recall_1: 0.8893 - val_loss: 0.1304 - val_accuracy: 0.8912 - val_precision_1: 0.7148 - val_recall_1: 0.9372\n",
            "Epoch 8/30\n"
          ]
        },
        {
          "output_type": "stream",
          "name": "stderr",
          "text": [
            "[2022-06-19 10:44:02,078] INFO: Learning rate: 0.010000\n"
          ]
        },
        {
          "output_type": "stream",
          "name": "stdout",
          "text": [
            " 0/58 [..............................] - ETA: 0s - loss: 0.0653 - accuracy: 0.9457 - precision_1: 0.8999 - recall_1: 0.8771\n",
            "Epoch 8: val_loss did not improve from 0.07152\n",
            "58/58 [==============================] - 9s 158ms/sample - loss: 0.0653 - accuracy: 0.9457 - precision_1: 0.8999 - recall_1: 0.8771 - val_loss: 0.0751 - val_accuracy: 0.9393 - val_precision_1: 0.8333 - val_recall_1: 0.9456\n",
            "Epoch 9/30\n"
          ]
        },
        {
          "output_type": "stream",
          "name": "stderr",
          "text": [
            "[2022-06-19 10:44:11,281] INFO: Learning rate: 0.010000\n"
          ]
        },
        {
          "output_type": "stream",
          "name": "stdout",
          "text": [
            " 0/58 [..............................] - ETA: 0s - loss: 0.0622 - accuracy: 0.9483 - precision_1: 0.8971 - recall_1: 0.8923\n",
            "Epoch 9: val_loss did not improve from 0.07152\n",
            "58/58 [==============================] - 9s 159ms/sample - loss: 0.0622 - accuracy: 0.9483 - precision_1: 0.8971 - recall_1: 0.8923 - val_loss: 0.0756 - val_accuracy: 0.9514 - val_precision_1: 0.8556 - val_recall_1: 0.9684\n",
            "Epoch 10/30\n"
          ]
        },
        {
          "output_type": "stream",
          "name": "stderr",
          "text": [
            "[2022-06-19 10:44:20,487] INFO: Learning rate: 0.010000\n"
          ]
        },
        {
          "output_type": "stream",
          "name": "stdout",
          "text": [
            " 0/58 [..............................] - ETA: 0s - loss: 0.0566 - accuracy: 0.9541 - precision_1: 0.9098 - recall_1: 0.9030\n",
            "Epoch 10: val_loss improved from 0.07152 to 0.07134, saving model to model_checkpoints/lite_model.010.h5\n",
            "58/58 [==============================] - 9s 161ms/sample - loss: 0.0566 - accuracy: 0.9541 - precision_1: 0.9098 - recall_1: 0.9030 - val_loss: 0.0713 - val_accuracy: 0.9468 - val_precision_1: 0.8524 - val_recall_1: 0.9514\n",
            "Epoch 11/30\n"
          ]
        },
        {
          "output_type": "stream",
          "name": "stderr",
          "text": [
            "[2022-06-19 10:44:29,810] INFO: Learning rate: 0.010000\n"
          ]
        },
        {
          "output_type": "stream",
          "name": "stdout",
          "text": [
            " 0/58 [..............................] - ETA: 0s - loss: 0.0520 - accuracy: 0.9572 - precision_1: 0.9177 - recall_1: 0.9075\n",
            "Epoch 11: val_loss did not improve from 0.07134\n",
            "58/58 [==============================] - 9s 160ms/sample - loss: 0.0520 - accuracy: 0.9572 - precision_1: 0.9177 - recall_1: 0.9075 - val_loss: 0.0812 - val_accuracy: 0.9217 - val_precision_1: 0.9017 - val_recall_1: 0.7695\n",
            "Epoch 12/30\n"
          ]
        },
        {
          "output_type": "stream",
          "name": "stderr",
          "text": [
            "[2022-06-19 10:44:39,073] INFO: Learning rate: 0.001000\n"
          ]
        },
        {
          "output_type": "stream",
          "name": "stdout",
          "text": [
            " 0/58 [..............................] - ETA: 0s - loss: 0.0526 - accuracy: 0.9543 - precision_1: 0.9197 - recall_1: 0.8920\n",
            "Epoch 12: val_loss improved from 0.07134 to 0.05270, saving model to model_checkpoints/lite_model.012.h5\n",
            "58/58 [==============================] - 9s 161ms/sample - loss: 0.0526 - accuracy: 0.9543 - precision_1: 0.9197 - recall_1: 0.8920 - val_loss: 0.0527 - val_accuracy: 0.9524 - val_precision_1: 0.8741 - val_recall_1: 0.9449\n",
            "Epoch 13/30\n"
          ]
        },
        {
          "output_type": "stream",
          "name": "stderr",
          "text": [
            "[2022-06-19 10:44:48,442] INFO: Learning rate: 0.001000\n"
          ]
        },
        {
          "output_type": "stream",
          "name": "stdout",
          "text": [
            " 0/58 [..............................] - ETA: 0s - loss: 0.0445 - accuracy: 0.9638 - precision_1: 0.9231 - recall_1: 0.9304\n",
            "Epoch 13: val_loss improved from 0.05270 to 0.05101, saving model to model_checkpoints/lite_model.013.h5\n",
            "58/58 [==============================] - 9s 162ms/sample - loss: 0.0445 - accuracy: 0.9638 - precision_1: 0.9231 - recall_1: 0.9304 - val_loss: 0.0510 - val_accuracy: 0.9529 - val_precision_1: 0.8746 - val_recall_1: 0.9468\n",
            "Epoch 14/30\n"
          ]
        },
        {
          "output_type": "stream",
          "name": "stderr",
          "text": [
            "[2022-06-19 10:44:57,856] INFO: Learning rate: 0.001000\n"
          ]
        },
        {
          "output_type": "stream",
          "name": "stdout",
          "text": [
            " 0/58 [..............................] - ETA: 0s - loss: 0.0425 - accuracy: 0.9656 - precision_1: 0.9239 - recall_1: 0.9375\n",
            "Epoch 14: val_loss improved from 0.05101 to 0.04851, saving model to model_checkpoints/lite_model.014.h5\n",
            "58/58 [==============================] - 9s 163ms/sample - loss: 0.0425 - accuracy: 0.9656 - precision_1: 0.9239 - recall_1: 0.9375 - val_loss: 0.0485 - val_accuracy: 0.9490 - val_precision_1: 0.8726 - val_recall_1: 0.9315\n",
            "Epoch 15/30\n"
          ]
        },
        {
          "output_type": "stream",
          "name": "stderr",
          "text": [
            "[2022-06-19 10:45:07,340] INFO: Learning rate: 0.001000\n"
          ]
        },
        {
          "output_type": "stream",
          "name": "stdout",
          "text": [
            " 0/58 [..............................] - ETA: 0s - loss: 0.0411 - accuracy: 0.9668 - precision_1: 0.9373 - recall_1: 0.9272\n",
            "Epoch 15: val_loss did not improve from 0.04851\n",
            "58/58 [==============================] - 9s 161ms/sample - loss: 0.0411 - accuracy: 0.9668 - precision_1: 0.9373 - recall_1: 0.9272 - val_loss: 0.0520 - val_accuracy: 0.9495 - val_precision_1: 0.8555 - val_recall_1: 0.9593\n",
            "Epoch 16/30\n"
          ]
        },
        {
          "output_type": "stream",
          "name": "stderr",
          "text": [
            "[2022-06-19 10:45:16,699] INFO: Learning rate: 0.001000\n"
          ]
        },
        {
          "output_type": "stream",
          "name": "stdout",
          "text": [
            " 0/58 [..............................] - ETA: 0s - loss: 0.0399 - accuracy: 0.9662 - precision_1: 0.9275 - recall_1: 0.9361\n",
            "Epoch 16: val_loss did not improve from 0.04851\n",
            "58/58 [==============================] - 9s 161ms/sample - loss: 0.0399 - accuracy: 0.9662 - precision_1: 0.9275 - recall_1: 0.9361 - val_loss: 0.0512 - val_accuracy: 0.9506 - val_precision_1: 0.8561 - val_recall_1: 0.9636\n",
            "Epoch 17/30\n"
          ]
        },
        {
          "output_type": "stream",
          "name": "stderr",
          "text": [
            "[2022-06-19 10:45:26,024] INFO: Learning rate: 0.001000\n"
          ]
        },
        {
          "output_type": "stream",
          "name": "stdout",
          "text": [
            " 0/58 [..............................] - ETA: 0s - loss: 0.0388 - accuracy: 0.9691 - precision_1: 0.9314 - recall_1: 0.9442\n",
            "Epoch 17: val_loss improved from 0.04851 to 0.04788, saving model to model_checkpoints/lite_model.017.h5\n",
            "58/58 [==============================] - 9s 161ms/sample - loss: 0.0388 - accuracy: 0.9691 - precision_1: 0.9314 - recall_1: 0.9442 - val_loss: 0.0479 - val_accuracy: 0.9522 - val_precision_1: 0.8932 - val_recall_1: 0.9178\n",
            "Epoch 18/30\n"
          ]
        },
        {
          "output_type": "stream",
          "name": "stderr",
          "text": [
            "[2022-06-19 10:45:35,361] INFO: Learning rate: 0.001000\n"
          ]
        },
        {
          "output_type": "stream",
          "name": "stdout",
          "text": [
            " 0/58 [..............................] - ETA: 0s - loss: 0.0383 - accuracy: 0.9673 - precision_1: 0.9344 - recall_1: 0.9325\n",
            "Epoch 18: val_loss improved from 0.04788 to 0.04607, saving model to model_checkpoints/lite_model.018.h5\n",
            "58/58 [==============================] - 9s 161ms/sample - loss: 0.0383 - accuracy: 0.9673 - precision_1: 0.9344 - recall_1: 0.9325 - val_loss: 0.0461 - val_accuracy: 0.9528 - val_precision_1: 0.8746 - val_recall_1: 0.9463\n",
            "Epoch 19/30\n"
          ]
        },
        {
          "output_type": "stream",
          "name": "stderr",
          "text": [
            "[2022-06-19 10:45:44,723] INFO: Learning rate: 0.001000\n"
          ]
        },
        {
          "output_type": "stream",
          "name": "stdout",
          "text": [
            " 0/58 [..............................] - ETA: 0s - loss: 0.0369 - accuracy: 0.9709 - precision_1: 0.9385 - recall_1: 0.9436\n",
            "Epoch 19: val_loss improved from 0.04607 to 0.04603, saving model to model_checkpoints/lite_model.019.h5\n",
            "58/58 [==============================] - 9s 161ms/sample - loss: 0.0369 - accuracy: 0.9709 - precision_1: 0.9385 - recall_1: 0.9436 - val_loss: 0.0460 - val_accuracy: 0.9489 - val_precision_1: 0.8729 - val_recall_1: 0.9305\n",
            "Epoch 20/30\n"
          ]
        },
        {
          "output_type": "stream",
          "name": "stderr",
          "text": [
            "[2022-06-19 10:45:54,065] INFO: Learning rate: 0.001000\n"
          ]
        },
        {
          "output_type": "stream",
          "name": "stdout",
          "text": [
            " 0/58 [..............................] - ETA: 0s - loss: 0.0377 - accuracy: 0.9694 - precision_1: 0.9382 - recall_1: 0.9373\n",
            "Epoch 20: val_loss did not improve from 0.04603\n",
            "58/58 [==============================] - 9s 159ms/sample - loss: 0.0377 - accuracy: 0.9694 - precision_1: 0.9382 - recall_1: 0.9373 - val_loss: 0.0475 - val_accuracy: 0.9539 - val_precision_1: 0.8753 - val_recall_1: 0.9504\n",
            "Epoch 21/30\n"
          ]
        },
        {
          "output_type": "stream",
          "name": "stderr",
          "text": [
            "[2022-06-19 10:46:03,315] INFO: Learning rate: 0.001000\n"
          ]
        },
        {
          "output_type": "stream",
          "name": "stdout",
          "text": [
            " 0/58 [..............................] - ETA: 0s - loss: 0.0373 - accuracy: 0.9708 - precision_1: 0.9387 - recall_1: 0.9429\n",
            "Epoch 21: val_loss improved from 0.04603 to 0.04558, saving model to model_checkpoints/lite_model.021.h5\n",
            "58/58 [==============================] - 10s 169ms/sample - loss: 0.0373 - accuracy: 0.9708 - precision_1: 0.9387 - recall_1: 0.9429 - val_loss: 0.0456 - val_accuracy: 0.9544 - val_precision_1: 0.8945 - val_recall_1: 0.9260\n",
            "Epoch 22/30\n"
          ]
        },
        {
          "output_type": "stream",
          "name": "stderr",
          "text": [
            "[2022-06-19 10:46:13,135] INFO: Learning rate: 0.001000\n"
          ]
        },
        {
          "output_type": "stream",
          "name": "stdout",
          "text": [
            " 0/58 [..............................] - ETA: 0s - loss: 0.0364 - accuracy: 0.9714 - precision_1: 0.9427 - recall_1: 0.9390"
          ]
        }
      ],
      "source": [
        "history = model.fit(\n",
        "    [train_data[\"points\"], train_data[\"features\"], train_data[\"mask\"], train_data[\"summary\"]], \n",
        "    train_label,\n",
        "    batch_size=batch_size,\n",
        "    epochs=epochs,\n",
        "    validation_data=([val_data[\"points\"], val_data[\"features\"], val_data[\"mask\"], val_data[\"summary\"]], val_label, val_weight),\n",
        "    shuffle=True,\n",
        "    sample_weight=train_weight,\n",
        "    callbacks=callbacks\n",
        ")"
      ]
    },
    {
      "cell_type": "code",
      "source": [
        "plt.plot(history.history['loss'], label=\"Train Loss\")\n",
        "plt.plot(history.history['val_loss'], label=\"Validation Loss\")\n",
        "plt.legend()"
      ],
      "metadata": {
        "id": "-irxBo-j0Ifg"
      },
      "execution_count": null,
      "outputs": []
    },
    {
      "cell_type": "code",
      "source": [
        "plt.plot(history.history['accuracy'], label=\"Train Accuracy\")\n",
        "plt.plot(history.history['val_accuracy'], label=\"Validation Accuracy\")\n",
        "plt.legend()"
      ],
      "metadata": {
        "id": "Fw0L9XiUEril",
        "colab": {
          "base_uri": "https://localhost:8080/",
          "height": 285
        },
        "outputId": "126ad72b-f9fc-4d1c-b7e7-43b7db6fd172"
      },
      "execution_count": 25,
      "outputs": [
        {
          "output_type": "execute_result",
          "data": {
            "text/plain": [
              "<matplotlib.legend.Legend at 0x7fae0aefed10>"
            ]
          },
          "metadata": {},
          "execution_count": 25
        },
        {
          "output_type": "display_data",
          "data": {
            "text/plain": [
              "<Figure size 432x288 with 1 Axes>"
            ],
            "image/png": "[encoded data removed]"
          },
          "metadata": {
            "needs_background": "light"
          }
        }
      ]
    },
    {
      "cell_type": "code",
      "source": [
        "plt.plot(history.history['precision_1'], label=\"Train Purity\")\n",
        "plt.plot(history.history['val_precision_1'], label=\"Validation Purity\")\n",
        "plt.legend()"
      ],
      "metadata": {
        "id": "EvZiOlA1E1V-",
        "colab": {
          "base_uri": "https://localhost:8080/",
          "height": 282
        },
        "outputId": "f4a46738-5cfa-4506-a8ae-a2127f997b1b"
      },
      "execution_count": 26,
      "outputs": [
        {
          "output_type": "execute_result",
          "data": {
            "text/plain": [
              "<matplotlib.legend.Legend at 0x7fae0aed30d0>"
            ]
          },
          "metadata": {},
          "execution_count": 26
        },
        {
          "output_type": "display_data",
          "data": {
            "text/plain": [
              "<Figure size 432x288 with 1 Axes>"
            ],
            "image/png": "[encoded data removed]"
          },
          "metadata": {
            "needs_background": "light"
          }
        }
      ]
    },
    {
      "cell_type": "code",
      "source": [
        "plt.plot(history.history['recall_1'], label=\"Train Effciency\")\n",
        "plt.plot(history.history['val_recall_1'], label=\"Validation Efficiency\")\n",
        "plt.legend()"
      ],
      "metadata": {
        "id": "Wg0JLZOcE_89",
        "colab": {
          "base_uri": "https://localhost:8080/",
          "height": 282
        },
        "outputId": "bec05083-6ad0-41ce-8d63-796972a25289"
      },
      "execution_count": 27,
      "outputs": [
        {
          "output_type": "execute_result",
          "data": {
            "text/plain": [
              "<matplotlib.legend.Legend at 0x7fae0ae413d0>"
            ]
          },
          "metadata": {},
          "execution_count": 27
        },
        {
          "output_type": "display_data",
          "data": {
            "text/plain": [
              "<Figure size 432x288 with 1 Axes>"
            ],
            "image/png": "[encoded data removed]"
          },
          "metadata": {
            "needs_background": "light"
          }
        }
      ]
    },
    {
      "cell_type": "code",
      "source": [
        "! ls -1rt model_checkpoints/*.h5 | tail -n 1\n",
        "!cp $(ls -1rt model_checkpoints/*.h5 | tail -n 1) model_checkpoints/last.h5"
      ],
      "metadata": {
        "id": "ARM5hbprirZs",
        "outputId": "400bde8c-ad67-499b-bac0-cae5f6d7ba6b",
        "colab": {
          "base_uri": "https://localhost:8080/"
        }
      },
      "execution_count": 28,
      "outputs": [
        {
          "output_type": "stream",
          "name": "stdout",
          "text": [
            "model_checkpoints/lite_model.006.h5\n"
          ]
        }
      ]
    },
    {
      "cell_type": "code",
      "source": [
        "model.load_weights(\"model_checkpoints/last.h5\")"
      ],
      "metadata": {
        "id": "NGw0cUyR5TxX"
      },
      "execution_count": 29,
      "outputs": []
    },
    {
      "cell_type": "code",
      "source": [
        "probs = model.predict_on_batch(test_data)"
      ],
      "metadata": {
        "id": "Ldx5QeBFF_N3"
      },
      "execution_count": 30,
      "outputs": []
    },
    {
      "cell_type": "code",
      "execution_count": 32,
      "metadata": {
        "id": "je0DvhbX2g86",
        "colab": {
          "base_uri": "https://localhost:8080/",
          "height": 282
        },
        "outputId": "b501bc4c-c600-454f-b2e0-ece758e2fab3"
      },
      "outputs": [
        {
          "output_type": "stream",
          "name": "stdout",
          "text": [
            "0.9436910242885439\n"
          ]
        },
        {
          "output_type": "display_data",
          "data": {
            "text/plain": [
              "<Figure size 432x288 with 1 Axes>"
            ],
            "image/png": "[encoded data removed]"
          },
          "metadata": {
            "needs_background": "light"
          }
        }
      ],
      "source": [
        "precision, recall, thresholds = precision_recall_curve(test_label, probs, sample_weight=test_weight)\n",
        "plt.plot(recall, precision)\n",
        "print(auc(recall, precision))"
      ]
    }
  ],
  "metadata": {
    "kernelspec": {
      "display_name": "Python 3 (ipykernel)",
      "language": "python",
      "name": "python3"
    },
    "language_info": {
      "codemirror_mode": {
        "name": "ipython",
        "version": 3
      },
      "file_extension": ".py",
      "mimetype": "text/x-python",
      "name": "python",
      "nbconvert_exporter": "python",
      "pygments_lexer": "ipython3",
      "version": "3.8.10"
    },
    "colab": {
      "name": "keras_train.ipynb",
      "provenance": []
    },
    "accelerator": "GPU",
    "gpuClass": "standard"
  },
  "nbformat": 4,
  "nbformat_minor": 0
}