{
  "cells": [
    {
      "cell_type": "code",
      "execution_count": 1,
      "metadata": {
        "id": "qIv6ffW82g8W"
      },
      "outputs": [],
      "source": [
        "import numpy as np\n",
        "from sklearn.metrics import precision_recall_curve\n",
        "import matplotlib.pyplot as plt"
      ]
    },
    {
      "cell_type": "code",
      "execution_count": 2,
      "metadata": {
        "id": "rabKUfn02g8b"
      },
      "outputs": [],
      "source": [
        "import logging\n",
        "logging.basicConfig(level=logging.INFO, format='[%(asctime)s] %(levelname)s: %(message)s')"
      ]
    },
    {
      "cell_type": "code",
      "source": [
        "!wget https://raw.githubusercontent.com/raeubaen/RadioMonteCarlo/main/tf_keras_model.py -O tf_keras_model.py"
      ],
      "metadata": {
        "id": "3gI9EJ0R2j5v",
        "outputId": "326acc82-cfed-4363-ab0f-42586906b992",
        "colab": {
          "base_uri": "https://localhost:8080/"
        }
      },
      "execution_count": 4,
      "outputs": [
        {
          "output_type": "stream",
          "name": "stdout",
          "text": [
            "--2022-06-16 14:48:43--  https://raw.githubusercontent.com/raeubaen/RadioMonteCarlo/main/tf_keras_model.py\n",
            "Resolving raw.githubusercontent.com (raw.githubusercontent.com)... 185.199.109.133, 185.199.111.133, 185.199.110.133, ...\n",
            "Connecting to raw.githubusercontent.com (raw.githubusercontent.com)|185.199.109.133|:443... connected.\n",
            "HTTP request sent, awaiting response... 200 OK\n",
            "Length: 7801 (7.6K) [text/plain]\n",
            "Saving to: ‘tf_keras_model.py’\n",
            "\n",
            "\rtf_keras_model.py     0%[                    ]       0  --.-KB/s               \rtf_keras_model.py   100%[===================>]   7.62K  --.-KB/s    in 0.004s  \n",
            "\n",
            "2022-06-16 14:48:43 (1.69 MB/s) - ‘tf_keras_model.py’ saved [7801/7801]\n",
            "\n"
          ]
        }
      ]
    },
    {
      "cell_type": "code",
      "source": [
        "from google.colab import drive\n",
        "drive.mount('/content/drive')"
      ],
      "metadata": {
        "colab": {
          "base_uri": "https://localhost:8080/"
        },
        "id": "qMTnts0q2qFw",
        "outputId": "84f8f8e8-aa6e-4c1a-c6df-ecfda5c9813d"
      },
      "execution_count": 3,
      "outputs": [
        {
          "output_type": "stream",
          "name": "stdout",
          "text": [
            "Drive already mounted at /content/drive; to attempt to forcibly remount, call drive.mount(\"/content/drive\", force_remount=True).\n"
          ]
        }
      ]
    },
    {
      "cell_type": "code",
      "source": [
        "# VANNO TUTTI CAMBIATI\n",
        "\n",
        "# !wget https://www.dropbox.com/s/6s5khncrval4rz9/bkg_et.npy?dl=1 -o bkg_et.npy\n",
        "# !wget https://www.dropbox.com/s/qc7z1nhqh5xvpbg/bkg_mask.npy?dl=1 -o bkg_mask.npy\n",
        "# !wget https://www.dropbox.com/s/fs5e9wuhqtr66xh/bkg_xy.npy?dl=1 -o bkg_xy.npy\n",
        "# !wget https://www.dropbox.com/s/w0b94xzyk2wg7y4/signal_et.npy?dl=1 -o signal_et.npy\n",
        "# !wget https://www.dropbox.com/s/3k6b0u3zz65xnyf/signal_mask.npy?dl=1 -o signal_mask.npy\n",
        "# !wget https://www.dropbox.com/s/chcep3q8terrj4k/signal_xy.npy?dl=1 -o signal_xy.npy"
      ],
      "metadata": {
        "id": "Ez9vWLA_7qaP"
      },
      "execution_count": 4,
      "outputs": []
    },
    {
      "cell_type": "code",
      "execution_count": 5,
      "metadata": {
        "id": "S3ag941H2g8d",
        "colab": {
          "base_uri": "https://localhost:8080/"
        },
        "outputId": "37cf057c-ae9b-490c-d6f9-f249424cb9be"
      },
      "outputs": [
        {
          "output_type": "stream",
          "name": "stderr",
          "text": [
            "[2022-06-16 14:53:56,589] INFO: NumExpr defaulting to 2 threads.\n"
          ]
        }
      ],
      "source": [
        "import tensorflow as tf\n",
        "from tensorflow import keras\n",
        "from tf_keras_model import get_particle_net, get_particle_net_lite, edge_conv"
      ]
    },
    {
      "cell_type": "code",
      "execution_count": 15,
      "metadata": {
        "id": "Se9xg25k2g8f"
      },
      "outputs": [],
      "source": [
        "data_folder = \"/content/drive/MyDrive/datiML\"\n",
        "\n",
        "name_map = {\"points\": \"xy\", \"features\": \"et\", \"mask\": \"mask\", \"summary\": \"etrn\"} # va provato sia xy che rphi\n",
        "\n",
        "signal  = {key: np.load(f\"{data_folder}/signal_{ name_map[key]}.npy\") for key in name_map}\n",
        "\n",
        "mnbs    = {key: np.load(f\"{data_folder}/mnbs_{   name_map[key]}.npy\") for key in name_map}\n",
        "\n",
        "cosmics = {key: np.load(f\"{data_folder}/cosmics_{name_map[key]}.npy\") for key in name_map}"
      ]
    },
    {
      "cell_type": "code",
      "execution_count": 16,
      "metadata": {
        "id": "ZS-UFF0G2g8i"
      },
      "outputs": [],
      "source": [
        "S =  signal[\"mask\"].shape[0] #entries segnale\n",
        "F =    mnbs[\"mask\"].shape[0] #entries mnbs (background flash da fascio)\n",
        "C = cosmics[\"mask\"].shape[0] #entries cosmici\n",
        "\n",
        "N = S + F + C\n",
        "\n",
        "p = np.random.permutation(N) #"
      ]
    },
    {
      "cell_type": "code",
      "source": [
        "'''\n",
        "cluster su disco 0 in un injection cycle:\n",
        "RMC: 330\n",
        "MNBS: 107k\n",
        "cosmici: 4\n",
        "\n",
        "cluster simulati su disco 0:\n",
        "RMC: 150k\n",
        "MNBS: 16505 * 5 = 82k\n",
        "cosmici: 53k\n",
        "\n",
        "pesi:\n",
        "RMC: 66/150k \n",
        "MNBS: 107k/82k\n",
        "Cosmici: 4/53k\n",
        "'''\n",
        "\n",
        "signal_weight = 330/150e3 * 100\n",
        "mnbs_weight = 0.24 * 100\n",
        "cosmics_weight = 4/53e3 * 100"
      ],
      "metadata": {
        "id": "m1CHQLiEAXZQ"
      },
      "execution_count": 17,
      "outputs": []
    },
    {
      "cell_type": "code",
      "execution_count": 22,
      "metadata": {
        "id": "aXZ6qndr2g8m",
        "colab": {
          "base_uri": "https://localhost:8080/"
        },
        "outputId": "cab1f9ec-49c2-4a39-9975-19ca273f784b"
      },
      "outputs": [
        {
          "output_type": "stream",
          "name": "stdout",
          "text": [
            "#Entries per signale, mnbs e cosmici:[41372, 1132, 41598]\n",
            "#Pesi per signale, mnbs e cosmici:[0.22, 24.0, 0.007547169811320755]\n"
          ]
        }
      ],
      "source": [
        "data = {key: np.concatenate( (signal[key], mnbs[key], cosmics[key]) )[p] for key in name_map}\n",
        "\n",
        "label_list = [1, 0, 0]\n",
        "entries_list = [S, F, C]\n",
        "weight_list = [signal_weight, mnbs_weight, cosmics_weight]\n",
        "\n",
        "print(f\"#Entries per signale, mnbs e cosmici:{entries_list}\")\n",
        "print(f\"#Pesi per signale, mnbs e cosmici:{weight_list}\")\n",
        "\n",
        "label = np.concatenate( \n",
        "    [ np.ones((e))*l for e, l in zip(entries_list,  label_list) ]\n",
        ")[p]\n",
        "\n",
        "sample_weight = np.concatenate( \n",
        "    [ np.ones((e))*w for e, w in zip(entries_list, weight_list) ]\n",
        ")[p]"
      ]
    },
    {
      "cell_type": "code",
      "source": [
        "from sklearn.preprocessing import StandardScaler\n",
        "scaler = StandardScaler()\n",
        "\n",
        "for key in [\"points\", \"features\"]:\n",
        "  scaler.fit(data[key][data[\"mask\"].reshape(N, 50)])\n",
        "  data[key][data[\"mask\"].reshape(N, 50)] = scaler.transform(data[key][data[\"mask\"].reshape(N, 50)])\n",
        "\n",
        "scaler.fit(data[\"summary\"])\n",
        "data[\"summary\"] = scaler.transform(data[\"summary\"])"
      ],
      "metadata": {
        "id": "xTsETQ4OAxEd"
      },
      "execution_count": 23,
      "outputs": []
    },
    {
      "cell_type": "code",
      "execution_count": 24,
      "metadata": {
        "id": "ZFNtoo8s2g8s"
      },
      "outputs": [],
      "source": [
        "train_data  = {key: data[key][int(N*0.0) : int(N*0.7)] for key in name_map}\n",
        "test_data   = {key: data[key][int(N*0.7) : int(N*0.9)] for key in name_map}\n",
        "val_data    = {key: data[key][int(N*0.9) : int(N*1.0)] for key in name_map}\n",
        "\n",
        "train_label = label[int(N*0.0) : int(N*0.7)]\n",
        "test_label  = label[int(N*0.7) : int(N*0.9)]\n",
        "val_label   = label[int(N*0.9) : int(N*1.0)]\n",
        "\n",
        "train_weight = sample_weight[int(N*0.0) : int(N*0.7)]\n",
        "test_weight  = sample_weight[int(N*0.7) : int(N*0.9)]\n",
        "val_weight   = sample_weight[int(N*0.9) : int(N*1.0)]"
      ]
    },
    {
      "cell_type": "code",
      "execution_count": 37,
      "metadata": {
        "scrolled": true,
        "id": "nfCI_M2d2g8u"
      },
      "outputs": [],
      "source": [
        "model_type = 'particle_net_lite' # choose between 'particle_net' and 'particle_net_lite'\n",
        "num_classes = 2\n",
        "input_shapes = {'points': (50, 2), 'features': (50, 2), 'mask':(50, 1)}\n",
        "\n",
        "if 'lite' in model_type:\n",
        "    model = get_particle_net_lite(num_classes, input_shapes)\n",
        "else:\n",
        "    model = get_particle_net(num_classes, input_shapes)"
      ]
    },
    {
      "cell_type": "code",
      "execution_count": 38,
      "metadata": {
        "id": "LFRJXncU2g8x"
      },
      "outputs": [],
      "source": [
        "# Training parameters\n",
        "batch_size = 1024 if 'lite' in model_type else 384\n",
        "epochs = 30"
      ]
    },
    {
      "cell_type": "code",
      "execution_count": 39,
      "metadata": {
        "id": "RHvU72JY2g8z"
      },
      "outputs": [],
      "source": [
        "def lr_schedule(epoch):\n",
        "    lr = 1e-3\n",
        "    if epoch > 10:\n",
        "        lr *= 0.1\n",
        "    elif epoch > 20:\n",
        "        lr *= 0.01\n",
        "    logging.info('Learning rate: %f'%lr)\n",
        "    return lr"
      ]
    },
    {
      "cell_type": "code",
      "execution_count": 40,
      "metadata": {
        "scrolled": true,
        "id": "2IlFncmO2g82",
        "outputId": "24ab48a0-f482-4b09-90e1-43ca26d52401",
        "colab": {
          "base_uri": "https://localhost:8080/"
        }
      },
      "outputs": [
        {
          "output_type": "stream",
          "name": "stderr",
          "text": [
            "[2022-06-16 15:03:21,517] INFO: Learning rate: 0.001000\n"
          ]
        },
        {
          "output_type": "stream",
          "name": "stdout",
          "text": [
            "Model: \"ParticleNet\"\n",
            "__________________________________________________________________________________________________\n",
            " Layer (type)                   Output Shape         Param #     Connected to                     \n",
            "==================================================================================================\n",
            " mask (InputLayer)              [(None, 50, 1)]      0           []                               \n",
            "                                                                                                  \n",
            " tf.math.not_equal_2 (TFOpLambd  (None, 50, 1)       0           ['mask[0][0]']                   \n",
            " a)                                                                                               \n",
            "                                                                                                  \n",
            " tf.cast_4 (TFOpLambda)         (None, 50, 1)        0           ['tf.math.not_equal_2[0][0]']    \n",
            "                                                                                                  \n",
            " tf.math.equal_2 (TFOpLambda)   (None, 50, 1)        0           ['tf.cast_4[0][0]']              \n",
            "                                                                                                  \n",
            " tf.cast_5 (TFOpLambda)         (None, 50, 1)        0           ['tf.math.equal_2[0][0]']        \n",
            "                                                                                                  \n",
            " tf.math.multiply_16 (TFOpLambd  (None, 50, 1)       0           ['tf.cast_5[0][0]']              \n",
            " a)                                                                                               \n",
            "                                                                                                  \n",
            " points (InputLayer)            [(None, 50, 2)]      0           []                               \n",
            "                                                                                                  \n",
            " tf.math.add_4 (TFOpLambda)     (None, 50, 2)        0           ['tf.math.multiply_16[0][0]',    \n",
            "                                                                  'points[0][0]']                 \n",
            "                                                                                                  \n",
            " features (InputLayer)          [(None, 50, 2)]      0           []                               \n",
            "                                                                                                  \n",
            " tf.compat.v1.transpose_8 (TFOp  (None, 2, 50)       0           ['tf.math.add_4[0][0]']          \n",
            " Lambda)                                                                                          \n",
            "                                                                                                  \n",
            " tf.expand_dims_14 (TFOpLambda)  (None, 50, 1, 2)    0           ['features[0][0]']               \n",
            "                                                                                                  \n",
            " tf.math.multiply_17 (TFOpLambd  (None, 50, 2)       0           ['tf.math.add_4[0][0]',          \n",
            " a)                                                               'tf.math.add_4[0][0]']          \n",
            "                                                                                                  \n",
            " tf.linalg.matmul_4 (TFOpLambda  (None, 50, 50)      0           ['tf.math.add_4[0][0]',          \n",
            " )                                                                'tf.compat.v1.transpose_8[0][0]'\n",
            "                                                                 ]                                \n",
            "                                                                                                  \n",
            " tf.math.multiply_18 (TFOpLambd  (None, 50, 2)       0           ['tf.math.add_4[0][0]',          \n",
            " a)                                                               'tf.math.add_4[0][0]']          \n",
            "                                                                                                  \n",
            " ParticleNet_fts_bn (BatchNorma  (None, 50, 1, 2)    8           ['tf.expand_dims_14[0][0]']      \n",
            " lization)                                                                                        \n",
            "                                                                                                  \n",
            " tf.math.reduce_sum_8 (TFOpLamb  (None, 50, 1)       0           ['tf.math.multiply_17[0][0]']    \n",
            " da)                                                                                              \n",
            "                                                                                                  \n",
            " tf.math.multiply_19 (TFOpLambd  (None, 50, 50)      0           ['tf.linalg.matmul_4[0][0]']     \n",
            " a)                                                                                               \n",
            "                                                                                                  \n",
            " tf.math.reduce_sum_9 (TFOpLamb  (None, 50, 1)       0           ['tf.math.multiply_18[0][0]']    \n",
            " da)                                                                                              \n",
            "                                                                                                  \n",
            " tf.compat.v1.squeeze_6 (TFOpLa  (None, 50, 2)       0           ['ParticleNet_fts_bn[0][0]']     \n",
            " mbda)                                                                                            \n",
            "                                                                                                  \n",
            " tf.math.subtract_8 (TFOpLambda  (None, 50, 50)      0           ['tf.math.reduce_sum_8[0][0]',   \n",
            " )                                                                'tf.math.multiply_19[0][0]']    \n",
            "                                                                                                  \n",
            " tf.compat.v1.transpose_9 (TFOp  (None, 1, 50)       0           ['tf.math.reduce_sum_9[0][0]']   \n",
            " Lambda)                                                                                          \n",
            "                                                                                                  \n",
            " tf.compat.v1.shape_4 (TFOpLamb  (3,)                0           ['tf.compat.v1.squeeze_6[0][0]'] \n",
            " da)                                                                                              \n",
            "                                                                                                  \n",
            " tf.__operators__.add_8 (TFOpLa  (None, 50, 50)      0           ['tf.math.subtract_8[0][0]',     \n",
            " mbda)                                                            'tf.compat.v1.transpose_9[0][0]'\n",
            "                                                                 ]                                \n",
            "                                                                                                  \n",
            " tf.__operators__.getitem_9 (Sl  ()                  0           ['tf.compat.v1.shape_4[0][0]']   \n",
            " icingOpLambda)                                                                                   \n",
            "                                                                                                  \n",
            " tf.math.negative_4 (TFOpLambda  (None, 50, 50)      0           ['tf.__operators__.add_8[0][0]'] \n",
            " )                                                                                                \n",
            "                                                                                                  \n",
            " tf.range_4 (TFOpLambda)        (None,)              0           ['tf.__operators__.getitem_9[0][0\n",
            "                                                                 ]']                              \n",
            "                                                                                                  \n",
            " tf.math.top_k_4 (TFOpLambda)   TopKV2(values=(None  0           ['tf.math.negative_4[0][0]']     \n",
            "                                , 50, 4),                                                         \n",
            "                                 indices=(None, 50,                                               \n",
            "                                 4))                                                              \n",
            "                                                                                                  \n",
            " tf.reshape_4 (TFOpLambda)      (None, 1, 1, 1)      0           ['tf.range_4[0][0]']             \n",
            "                                                                                                  \n",
            " tf.__operators__.getitem_8 (Sl  (None, 50, 3)       0           ['tf.math.top_k_4[0][1]']        \n",
            " icingOpLambda)                                                                                   \n",
            "                                                                                                  \n",
            " tf.tile_8 (TFOpLambda)         (None, 50, 3, 1)     0           ['tf.reshape_4[0][0]']           \n",
            "                                                                                                  \n",
            " tf.expand_dims_15 (TFOpLambda)  (None, 50, 3, 1)    0           ['tf.__operators__.getitem_8[0][0\n",
            "                                                                 ]']                              \n",
            "                                                                                                  \n",
            " tf.expand_dims_16 (TFOpLambda)  (None, 50, 1, 2)    0           ['tf.compat.v1.squeeze_6[0][0]'] \n",
            "                                                                                                  \n",
            " tf.concat_10 (TFOpLambda)      (None, 50, 3, 2)     0           ['tf.tile_8[0][0]',              \n",
            "                                                                  'tf.expand_dims_15[0][0]']      \n",
            "                                                                                                  \n",
            " tf.tile_9 (TFOpLambda)         (None, 50, 3, 2)     0           ['tf.expand_dims_16[0][0]']      \n",
            "                                                                                                  \n",
            " tf.compat.v1.gather_nd_4 (TFOp  (None, 50, 3, 2)    0           ['tf.compat.v1.squeeze_6[0][0]', \n",
            " Lambda)                                                          'tf.concat_10[0][0]']           \n",
            "                                                                                                  \n",
            " tf.math.subtract_9 (TFOpLambda  (None, 50, 3, 2)    0           ['tf.compat.v1.gather_nd_4[0][0]'\n",
            " )                                                               , 'tf.tile_9[0][0]']             \n",
            "                                                                                                  \n",
            " tf.concat_11 (TFOpLambda)      (None, 50, 3, 4)     0           ['tf.tile_9[0][0]',              \n",
            "                                                                  'tf.math.subtract_9[0][0]']     \n",
            "                                                                                                  \n",
            " ParticleNet_EdgeConv0_conv0 (C  (None, 50, 3, 16)   64          ['tf.concat_11[0][0]']           \n",
            " onv2D)                                                                                           \n",
            "                                                                                                  \n",
            " ParticleNet_EdgeConv0_bn0 (Bat  (None, 50, 3, 16)   64          ['ParticleNet_EdgeConv0_conv0[0][\n",
            " chNormalization)                                                0]']                             \n",
            "                                                                                                  \n",
            " ParticleNet_EdgeConv0_act0 (Ac  (None, 50, 3, 16)   0           ['ParticleNet_EdgeConv0_bn0[0][0]\n",
            " tivation)                                                       ']                               \n",
            "                                                                                                  \n",
            " ParticleNet_EdgeConv0_conv1 (C  (None, 50, 3, 16)   256         ['ParticleNet_EdgeConv0_act0[0][0\n",
            " onv2D)                                                          ]']                              \n",
            "                                                                                                  \n",
            " ParticleNet_EdgeConv0_bn1 (Bat  (None, 50, 3, 16)   64          ['ParticleNet_EdgeConv0_conv1[0][\n",
            " chNormalization)                                                0]']                             \n",
            "                                                                                                  \n",
            " ParticleNet_EdgeConv0_act1 (Ac  (None, 50, 3, 16)   0           ['ParticleNet_EdgeConv0_bn1[0][0]\n",
            " tivation)                                                       ']                               \n",
            "                                                                                                  \n",
            " tf.expand_dims_17 (TFOpLambda)  (None, 50, 1, 2)    0           ['tf.compat.v1.squeeze_6[0][0]'] \n",
            "                                                                                                  \n",
            " ParticleNet_EdgeConv0_conv2 (C  (None, 50, 3, 16)   256         ['ParticleNet_EdgeConv0_act1[0][0\n",
            " onv2D)                                                          ]']                              \n",
            "                                                                                                  \n",
            " ParticleNet_EdgeConv0_sc_conv   (None, 50, 1, 16)   32          ['tf.expand_dims_17[0][0]']      \n",
            " (Conv2D)                                                                                         \n",
            "                                                                                                  \n",
            " ParticleNet_EdgeConv0_bn2 (Bat  (None, 50, 3, 16)   64          ['ParticleNet_EdgeConv0_conv2[0][\n",
            " chNormalization)                                                0]']                             \n",
            "                                                                                                  \n",
            " ParticleNet_EdgeConv0_sc_bn (B  (None, 50, 1, 16)   64          ['ParticleNet_EdgeConv0_sc_conv[0\n",
            " atchNormalization)                                              ][0]']                           \n",
            "                                                                                                  \n",
            " ParticleNet_EdgeConv0_act2 (Ac  (None, 50, 3, 16)   0           ['ParticleNet_EdgeConv0_bn2[0][0]\n",
            " tivation)                                                       ']                               \n",
            "                                                                                                  \n",
            " tf.compat.v1.squeeze_7 (TFOpLa  (None, 50, 16)      0           ['ParticleNet_EdgeConv0_sc_bn[0][\n",
            " mbda)                                                           0]']                             \n",
            "                                                                                                  \n",
            " tf.math.reduce_max_4 (TFOpLamb  (None, 50, 16)      0           ['ParticleNet_EdgeConv0_act2[0][0\n",
            " da)                                                             ]']                              \n",
            "                                                                                                  \n",
            " tf.__operators__.add_9 (TFOpLa  (None, 50, 16)      0           ['tf.compat.v1.squeeze_7[0][0]', \n",
            " mbda)                                                            'tf.math.reduce_max_4[0][0]']   \n",
            "                                                                                                  \n",
            " ParticleNet_EdgeConv0_sc_act (  (None, 50, 16)      0           ['tf.__operators__.add_9[0][0]'] \n",
            " Activation)                                                                                      \n",
            "                                                                                                  \n",
            " tf.math.add_5 (TFOpLambda)     (None, 50, 16)       0           ['tf.math.multiply_16[0][0]',    \n",
            "                                                                  'ParticleNet_EdgeConv0_sc_act[0]\n",
            "                                                                 [0]']                            \n",
            "                                                                                                  \n",
            " tf.compat.v1.transpose_10 (TFO  (None, 16, 50)      0           ['tf.math.add_5[0][0]']          \n",
            " pLambda)                                                                                         \n",
            "                                                                                                  \n",
            " tf.math.multiply_20 (TFOpLambd  (None, 50, 16)      0           ['tf.math.add_5[0][0]',          \n",
            " a)                                                               'tf.math.add_5[0][0]']          \n",
            "                                                                                                  \n",
            " tf.linalg.matmul_5 (TFOpLambda  (None, 50, 50)      0           ['tf.math.add_5[0][0]',          \n",
            " )                                                                'tf.compat.v1.transpose_10[0][0]\n",
            "                                                                 ']                               \n",
            "                                                                                                  \n",
            " tf.math.multiply_21 (TFOpLambd  (None, 50, 16)      0           ['tf.math.add_5[0][0]',          \n",
            " a)                                                               'tf.math.add_5[0][0]']          \n",
            "                                                                                                  \n",
            " tf.math.reduce_sum_10 (TFOpLam  (None, 50, 1)       0           ['tf.math.multiply_20[0][0]']    \n",
            " bda)                                                                                             \n",
            "                                                                                                  \n",
            " tf.math.multiply_22 (TFOpLambd  (None, 50, 50)      0           ['tf.linalg.matmul_5[0][0]']     \n",
            " a)                                                                                               \n",
            "                                                                                                  \n",
            " tf.math.reduce_sum_11 (TFOpLam  (None, 50, 1)       0           ['tf.math.multiply_21[0][0]']    \n",
            " bda)                                                                                             \n",
            "                                                                                                  \n",
            " tf.math.subtract_10 (TFOpLambd  (None, 50, 50)      0           ['tf.math.reduce_sum_10[0][0]',  \n",
            " a)                                                               'tf.math.multiply_22[0][0]']    \n",
            "                                                                                                  \n",
            " tf.compat.v1.transpose_11 (TFO  (None, 1, 50)       0           ['tf.math.reduce_sum_11[0][0]']  \n",
            " pLambda)                                                                                         \n",
            "                                                                                                  \n",
            " tf.compat.v1.shape_5 (TFOpLamb  (3,)                0           ['ParticleNet_EdgeConv0_sc_act[0]\n",
            " da)                                                             [0]']                            \n",
            "                                                                                                  \n",
            " tf.__operators__.add_10 (TFOpL  (None, 50, 50)      0           ['tf.math.subtract_10[0][0]',    \n",
            " ambda)                                                           'tf.compat.v1.transpose_11[0][0]\n",
            "                                                                 ']                               \n",
            "                                                                                                  \n",
            " tf.__operators__.getitem_11 (S  ()                  0           ['tf.compat.v1.shape_5[0][0]']   \n",
            " licingOpLambda)                                                                                  \n",
            "                                                                                                  \n",
            " tf.math.negative_5 (TFOpLambda  (None, 50, 50)      0           ['tf.__operators__.add_10[0][0]']\n",
            " )                                                                                                \n",
            "                                                                                                  \n",
            " tf.range_5 (TFOpLambda)        (None,)              0           ['tf.__operators__.getitem_11[0][\n",
            "                                                                 0]']                             \n",
            "                                                                                                  \n",
            " tf.math.top_k_5 (TFOpLambda)   TopKV2(values=(None  0           ['tf.math.negative_5[0][0]']     \n",
            "                                , 50, 4),                                                         \n",
            "                                 indices=(None, 50,                                               \n",
            "                                 4))                                                              \n",
            "                                                                                                  \n",
            " tf.reshape_5 (TFOpLambda)      (None, 1, 1, 1)      0           ['tf.range_5[0][0]']             \n",
            "                                                                                                  \n",
            " tf.__operators__.getitem_10 (S  (None, 50, 3)       0           ['tf.math.top_k_5[0][1]']        \n",
            " licingOpLambda)                                                                                  \n",
            "                                                                                                  \n",
            " tf.tile_10 (TFOpLambda)        (None, 50, 3, 1)     0           ['tf.reshape_5[0][0]']           \n",
            "                                                                                                  \n",
            " tf.expand_dims_18 (TFOpLambda)  (None, 50, 3, 1)    0           ['tf.__operators__.getitem_10[0][\n",
            "                                                                 0]']                             \n",
            "                                                                                                  \n",
            " tf.expand_dims_19 (TFOpLambda)  (None, 50, 1, 16)   0           ['ParticleNet_EdgeConv0_sc_act[0]\n",
            "                                                                 [0]']                            \n",
            "                                                                                                  \n",
            " tf.concat_12 (TFOpLambda)      (None, 50, 3, 2)     0           ['tf.tile_10[0][0]',             \n",
            "                                                                  'tf.expand_dims_18[0][0]']      \n",
            "                                                                                                  \n",
            " tf.tile_11 (TFOpLambda)        (None, 50, 3, 16)    0           ['tf.expand_dims_19[0][0]']      \n",
            "                                                                                                  \n",
            " tf.compat.v1.gather_nd_5 (TFOp  (None, 50, 3, 16)   0           ['ParticleNet_EdgeConv0_sc_act[0]\n",
            " Lambda)                                                         [0]',                            \n",
            "                                                                  'tf.concat_12[0][0]']           \n",
            "                                                                                                  \n",
            " tf.math.subtract_11 (TFOpLambd  (None, 50, 3, 16)   0           ['tf.compat.v1.gather_nd_5[0][0]'\n",
            " a)                                                              , 'tf.tile_11[0][0]']            \n",
            "                                                                                                  \n",
            " tf.concat_13 (TFOpLambda)      (None, 50, 3, 32)    0           ['tf.tile_11[0][0]',             \n",
            "                                                                  'tf.math.subtract_11[0][0]']    \n",
            "                                                                                                  \n",
            " ParticleNet_EdgeConv1_conv0 (C  (None, 50, 3, 32)   1024        ['tf.concat_13[0][0]']           \n",
            " onv2D)                                                                                           \n",
            "                                                                                                  \n",
            " ParticleNet_EdgeConv1_bn0 (Bat  (None, 50, 3, 32)   128         ['ParticleNet_EdgeConv1_conv0[0][\n",
            " chNormalization)                                                0]']                             \n",
            "                                                                                                  \n",
            " ParticleNet_EdgeConv1_act0 (Ac  (None, 50, 3, 32)   0           ['ParticleNet_EdgeConv1_bn0[0][0]\n",
            " tivation)                                                       ']                               \n",
            "                                                                                                  \n",
            " ParticleNet_EdgeConv1_conv1 (C  (None, 50, 3, 32)   1024        ['ParticleNet_EdgeConv1_act0[0][0\n",
            " onv2D)                                                          ]']                              \n",
            "                                                                                                  \n",
            " ParticleNet_EdgeConv1_bn1 (Bat  (None, 50, 3, 32)   128         ['ParticleNet_EdgeConv1_conv1[0][\n",
            " chNormalization)                                                0]']                             \n",
            "                                                                                                  \n",
            " ParticleNet_EdgeConv1_act1 (Ac  (None, 50, 3, 32)   0           ['ParticleNet_EdgeConv1_bn1[0][0]\n",
            " tivation)                                                       ']                               \n",
            "                                                                                                  \n",
            " tf.expand_dims_20 (TFOpLambda)  (None, 50, 1, 16)   0           ['ParticleNet_EdgeConv0_sc_act[0]\n",
            "                                                                 [0]']                            \n",
            "                                                                                                  \n",
            " ParticleNet_EdgeConv1_conv2 (C  (None, 50, 3, 32)   1024        ['ParticleNet_EdgeConv1_act1[0][0\n",
            " onv2D)                                                          ]']                              \n",
            "                                                                                                  \n",
            " ParticleNet_EdgeConv1_sc_conv   (None, 50, 1, 32)   512         ['tf.expand_dims_20[0][0]']      \n",
            " (Conv2D)                                                                                         \n",
            "                                                                                                  \n",
            " ParticleNet_EdgeConv1_bn2 (Bat  (None, 50, 3, 32)   128         ['ParticleNet_EdgeConv1_conv2[0][\n",
            " chNormalization)                                                0]']                             \n",
            "                                                                                                  \n",
            " ParticleNet_EdgeConv1_sc_bn (B  (None, 50, 1, 32)   128         ['ParticleNet_EdgeConv1_sc_conv[0\n",
            " atchNormalization)                                              ][0]']                           \n",
            "                                                                                                  \n",
            " ParticleNet_EdgeConv1_act2 (Ac  (None, 50, 3, 32)   0           ['ParticleNet_EdgeConv1_bn2[0][0]\n",
            " tivation)                                                       ']                               \n",
            "                                                                                                  \n",
            " tf.compat.v1.squeeze_8 (TFOpLa  (None, 50, 32)      0           ['ParticleNet_EdgeConv1_sc_bn[0][\n",
            " mbda)                                                           0]']                             \n",
            "                                                                                                  \n",
            " tf.math.reduce_max_5 (TFOpLamb  (None, 50, 32)      0           ['ParticleNet_EdgeConv1_act2[0][0\n",
            " da)                                                             ]']                              \n",
            "                                                                                                  \n",
            " tf.__operators__.add_11 (TFOpL  (None, 50, 32)      0           ['tf.compat.v1.squeeze_8[0][0]', \n",
            " ambda)                                                           'tf.math.reduce_max_5[0][0]']   \n",
            "                                                                                                  \n",
            " ParticleNet_EdgeConv1_sc_act (  (None, 50, 32)      0           ['tf.__operators__.add_11[0][0]']\n",
            " Activation)                                                                                      \n",
            "                                                                                                  \n",
            " tf.math.multiply_23 (TFOpLambd  (None, 50, 32)      0           ['ParticleNet_EdgeConv1_sc_act[0]\n",
            " a)                                                              [0]',                            \n",
            "                                                                  'tf.cast_4[0][0]']              \n",
            "                                                                                                  \n",
            " tf.math.reduce_mean_2 (TFOpLam  (None, 32)          0           ['tf.math.multiply_23[0][0]']    \n",
            " bda)                                                                                             \n",
            "                                                                                                  \n",
            " summary (InputLayer)           [(None, 4)]          0           []                               \n",
            "                                                                                                  \n",
            " tf.concat_14 (TFOpLambda)      (None, 36)           0           ['tf.math.reduce_mean_2[0][0]',  \n",
            "                                                                  'summary[0][0]']                \n",
            "                                                                                                  \n",
            " dense_4 (Dense)                (None, 32)           1184        ['tf.concat_14[0][0]']           \n",
            "                                                                                                  \n",
            " dropout_2 (Dropout)            (None, 32)           0           ['dense_4[0][0]']                \n",
            "                                                                                                  \n",
            " dense_5 (Dense)                (None, 1)            33          ['dropout_2[0][0]']              \n",
            "                                                                                                  \n",
            "==================================================================================================\n",
            "Total params: 6,185\n",
            "Trainable params: 5,797\n",
            "Non-trainable params: 388\n",
            "__________________________________________________________________________________________________\n"
          ]
        }
      ],
      "source": [
        "model.compile(loss='binary_crossentropy',\n",
        "              optimizer=keras.optimizers.Adam(learning_rate=lr_schedule(0)),\n",
        "              metrics=['accuracy', keras.metrics.Precision(), keras.metrics.Recall()])\n",
        "model.summary()"
      ]
    },
    {
      "cell_type": "code",
      "execution_count": 41,
      "metadata": {
        "id": "hc6CsvjZ2g84"
      },
      "outputs": [],
      "source": [
        "# Prepare model model saving directory.\n",
        "import os\n",
        "save_dir = 'model_checkpoints'\n",
        "model_name = '%s_model.{epoch:03d}.h5' % model_type\n",
        "if not os.path.isdir(save_dir):\n",
        "    os.makedirs(save_dir)\n",
        "filepath = os.path.join(save_dir, model_name)\n",
        "\n",
        "# Prepare callbacks for model saving and for learning rate adjustment.\n",
        "checkpoint = keras.callbacks.ModelCheckpoint(filepath=filepath,\n",
        "                             monitor='val_accuracy',\n",
        "                             verbose=1,\n",
        "                             save_best_only=True)\n",
        "\n",
        "lr_scheduler = keras.callbacks.LearningRateScheduler(lr_schedule)\n",
        "progress_bar = keras.callbacks.ProgbarLogger()\n",
        "callbacks = [checkpoint, progress_bar, lr_scheduler]"
      ]
    },
    {
      "cell_type": "code",
      "execution_count": 42,
      "metadata": {
        "scrolled": true,
        "id": "98kE3T-I2g85",
        "outputId": "e15f14f2-dc0f-4a49-b5d7-2c2670c553e2",
        "colab": {
          "base_uri": "https://localhost:8080/"
        }
      },
      "outputs": [
        {
          "output_type": "stream",
          "name": "stdout",
          "text": [
            "Epoch 1/30\n"
          ]
        },
        {
          "output_type": "stream",
          "name": "stderr",
          "text": [
            "[2022-06-16 15:03:38,897] INFO: Learning rate: 0.001000\n"
          ]
        },
        {
          "output_type": "stream",
          "name": "stdout",
          "text": [
            "      0/Unknown - 11s 0s/sample - loss: 0.1828 - accuracy: 0.5566 - precision_2: 0.5824 - recall_2: 0.3499\n",
            "Epoch 1: val_accuracy improved from -inf to 0.55748, saving model to model_checkpoints/particle_net_lite_model.001.h5\n",
            "58/58 [==============================] - 14s 241ms/sample - loss: 0.1828 - accuracy: 0.5566 - precision_2: 0.5824 - recall_2: 0.3499 - val_loss: 0.2144 - val_accuracy: 0.5575 - val_precision_2: 0.5525 - val_recall_2: 0.4966\n",
            "Epoch 2/30\n"
          ]
        },
        {
          "output_type": "stream",
          "name": "stderr",
          "text": [
            "[2022-06-16 15:03:52,851] INFO: Learning rate: 0.001000\n"
          ]
        },
        {
          "output_type": "stream",
          "name": "stdout",
          "text": [
            " 0/58 [..............................] - ETA: 0s - loss: 0.1215 - accuracy: 0.5819 - precision_2: 0.5604 - recall_2: 0.6968\n",
            "Epoch 2: val_accuracy improved from 0.55748 to 0.60587, saving model to model_checkpoints/particle_net_lite_model.002.h5\n",
            "58/58 [==============================] - 10s 166ms/sample - loss: 0.1215 - accuracy: 0.5819 - precision_2: 0.5604 - recall_2: 0.6968 - val_loss: 0.1994 - val_accuracy: 0.6059 - val_precision_2: 0.5935 - val_recall_2: 0.6139\n",
            "Epoch 3/30\n"
          ]
        },
        {
          "output_type": "stream",
          "name": "stderr",
          "text": [
            "[2022-06-16 15:04:02,473] INFO: Learning rate: 0.001000\n"
          ]
        },
        {
          "output_type": "stream",
          "name": "stdout",
          "text": [
            " 0/58 [..............................] - ETA: 0s - loss: 0.0989 - accuracy: 0.6224 - precision_2: 0.5945 - recall_2: 0.7320\n",
            "Epoch 3: val_accuracy improved from 0.60587 to 0.65890, saving model to model_checkpoints/particle_net_lite_model.003.h5\n",
            "58/58 [==============================] - 10s 168ms/sample - loss: 0.0989 - accuracy: 0.6224 - precision_2: 0.5945 - recall_2: 0.7320 - val_loss: 0.1958 - val_accuracy: 0.6589 - val_precision_2: 0.6193 - val_recall_2: 0.7837\n",
            "Epoch 4/30\n"
          ]
        },
        {
          "output_type": "stream",
          "name": "stderr",
          "text": [
            "[2022-06-16 15:04:12,231] INFO: Learning rate: 0.001000\n"
          ]
        },
        {
          "output_type": "stream",
          "name": "stdout",
          "text": [
            " 0/58 [..............................] - ETA: 0s - loss: 0.0868 - accuracy: 0.6681 - precision_2: 0.6278 - recall_2: 0.7997\n",
            "Epoch 4: val_accuracy improved from 0.65890 to 0.68601, saving model to model_checkpoints/particle_net_lite_model.004.h5\n",
            "58/58 [==============================] - 10s 170ms/sample - loss: 0.0868 - accuracy: 0.6681 - precision_2: 0.6278 - recall_2: 0.7997 - val_loss: 0.1553 - val_accuracy: 0.6860 - val_precision_2: 0.6455 - val_recall_2: 0.7929\n",
            "Epoch 5/30\n"
          ]
        },
        {
          "output_type": "stream",
          "name": "stderr",
          "text": [
            "[2022-06-16 15:04:22,075] INFO: Learning rate: 0.001000\n"
          ]
        },
        {
          "output_type": "stream",
          "name": "stdout",
          "text": [
            " 0/58 [..............................] - ETA: 0s - loss: 0.0789 - accuracy: 0.6979 - precision_2: 0.6547 - recall_2: 0.8172\n",
            "Epoch 5: val_accuracy improved from 0.68601 to 0.71276, saving model to model_checkpoints/particle_net_lite_model.005.h5\n",
            "58/58 [==============================] - 10s 168ms/sample - loss: 0.0789 - accuracy: 0.6979 - precision_2: 0.6547 - recall_2: 0.8172 - val_loss: 0.1429 - val_accuracy: 0.7128 - val_precision_2: 0.6459 - val_recall_2: 0.9124\n",
            "Epoch 6/30\n"
          ]
        },
        {
          "output_type": "stream",
          "name": "stderr",
          "text": [
            "[2022-06-16 15:04:31,807] INFO: Learning rate: 0.001000\n"
          ]
        },
        {
          "output_type": "stream",
          "name": "stdout",
          "text": [
            " 0/58 [..............................] - ETA: 0s - loss: 0.0758 - accuracy: 0.7138 - precision_2: 0.6673 - recall_2: 0.8347\n",
            "Epoch 6: val_accuracy improved from 0.71276 to 0.72762, saving model to model_checkpoints/particle_net_lite_model.006.h5\n",
            "58/58 [==============================] - 10s 167ms/sample - loss: 0.0758 - accuracy: 0.7138 - precision_2: 0.6673 - recall_2: 0.8347 - val_loss: 0.0884 - val_accuracy: 0.7276 - val_precision_2: 0.6631 - val_recall_2: 0.8998\n",
            "Epoch 7/30\n"
          ]
        },
        {
          "output_type": "stream",
          "name": "stderr",
          "text": [
            "[2022-06-16 15:04:41,489] INFO: Learning rate: 0.001000\n"
          ]
        },
        {
          "output_type": "stream",
          "name": "stdout",
          "text": [
            " 0/58 [..............................] - ETA: 0s - loss: 0.0714 - accuracy: 0.7274 - precision_2: 0.6795 - recall_2: 0.8441\n",
            "Epoch 7: val_accuracy improved from 0.72762 to 0.74034, saving model to model_checkpoints/particle_net_lite_model.007.h5\n",
            "58/58 [==============================] - 10s 165ms/sample - loss: 0.0714 - accuracy: 0.7274 - precision_2: 0.6795 - recall_2: 0.8441 - val_loss: 0.0832 - val_accuracy: 0.7403 - val_precision_2: 0.6753 - val_recall_2: 0.9024\n",
            "Epoch 8/30\n"
          ]
        },
        {
          "output_type": "stream",
          "name": "stderr",
          "text": [
            "[2022-06-16 15:04:51,071] INFO: Learning rate: 0.001000\n"
          ]
        },
        {
          "output_type": "stream",
          "name": "stdout",
          "text": [
            " 0/58 [..............................] - ETA: 0s - loss: 0.0677 - accuracy: 0.7479 - precision_2: 0.6990 - recall_2: 0.8563\n",
            "Epoch 8: val_accuracy improved from 0.74034 to 0.77090, saving model to model_checkpoints/particle_net_lite_model.008.h5\n",
            "58/58 [==============================] - 10s 164ms/sample - loss: 0.0677 - accuracy: 0.7479 - precision_2: 0.6990 - recall_2: 0.8563 - val_loss: 0.0716 - val_accuracy: 0.7709 - val_precision_2: 0.7141 - val_recall_2: 0.8856\n",
            "Epoch 9/30\n"
          ]
        },
        {
          "output_type": "stream",
          "name": "stderr",
          "text": [
            "[2022-06-16 15:05:00,590] INFO: Learning rate: 0.001000\n"
          ]
        },
        {
          "output_type": "stream",
          "name": "stdout",
          "text": [
            " 0/58 [..............................] - ETA: 0s - loss: 0.0642 - accuracy: 0.7616 - precision_2: 0.7148 - recall_2: 0.8580\n",
            "Epoch 9: val_accuracy improved from 0.77090 to 0.77886, saving model to model_checkpoints/particle_net_lite_model.009.h5\n",
            "58/58 [==============================] - 10s 164ms/sample - loss: 0.0642 - accuracy: 0.7616 - precision_2: 0.7148 - recall_2: 0.8580 - val_loss: 0.0618 - val_accuracy: 0.7789 - val_precision_2: 0.7178 - val_recall_2: 0.9022\n",
            "Epoch 10/30\n"
          ]
        },
        {
          "output_type": "stream",
          "name": "stderr",
          "text": [
            "[2022-06-16 15:05:10,121] INFO: Learning rate: 0.001000\n"
          ]
        },
        {
          "output_type": "stream",
          "name": "stdout",
          "text": [
            " 0/58 [..............................] - ETA: 0s - loss: 0.0592 - accuracy: 0.7708 - precision_2: 0.7178 - recall_2: 0.8803\n",
            "Epoch 10: val_accuracy improved from 0.77886 to 0.78171, saving model to model_checkpoints/particle_net_lite_model.010.h5\n",
            "58/58 [==============================] - 10s 165ms/sample - loss: 0.0592 - accuracy: 0.7708 - precision_2: 0.7178 - recall_2: 0.8803 - val_loss: 0.0584 - val_accuracy: 0.7817 - val_precision_2: 0.7316 - val_recall_2: 0.8740\n",
            "Epoch 11/30\n"
          ]
        },
        {
          "output_type": "stream",
          "name": "stderr",
          "text": [
            "[2022-06-16 15:05:19,699] INFO: Learning rate: 0.001000\n"
          ]
        },
        {
          "output_type": "stream",
          "name": "stdout",
          "text": [
            " 0/58 [..............................] - ETA: 0s - loss: 0.0633 - accuracy: 0.7778 - precision_2: 0.7316 - recall_2: 0.8663\n",
            "Epoch 11: val_accuracy improved from 0.78171 to 0.80050, saving model to model_checkpoints/particle_net_lite_model.011.h5\n",
            "58/58 [==============================] - 10s 165ms/sample - loss: 0.0633 - accuracy: 0.7778 - precision_2: 0.7316 - recall_2: 0.8663 - val_loss: 0.0705 - val_accuracy: 0.8005 - val_precision_2: 0.7458 - val_recall_2: 0.8978\n",
            "Epoch 12/30\n"
          ]
        },
        {
          "output_type": "stream",
          "name": "stderr",
          "text": [
            "[2022-06-16 15:05:29,296] INFO: Learning rate: 0.000100\n"
          ]
        },
        {
          "output_type": "stream",
          "name": "stdout",
          "text": [
            " 0/58 [..............................] - ETA: 0s - loss: 0.0539 - accuracy: 0.7929 - precision_2: 0.7444 - recall_2: 0.8822\n",
            "Epoch 12: val_accuracy improved from 0.80050 to 0.80371, saving model to model_checkpoints/particle_net_lite_model.012.h5\n",
            "58/58 [==============================] - 10s 169ms/sample - loss: 0.0539 - accuracy: 0.7929 - precision_2: 0.7444 - recall_2: 0.8822 - val_loss: 0.0579 - val_accuracy: 0.8037 - val_precision_2: 0.7460 - val_recall_2: 0.9071\n",
            "Epoch 13/30\n"
          ]
        },
        {
          "output_type": "stream",
          "name": "stderr",
          "text": [
            "[2022-06-16 15:05:39,098] INFO: Learning rate: 0.000100\n"
          ]
        },
        {
          "output_type": "stream",
          "name": "stdout",
          "text": [
            " 0/58 [..............................] - ETA: 0s - loss: 0.0528 - accuracy: 0.7957 - precision_2: 0.7432 - recall_2: 0.8935\n",
            "Epoch 13: val_accuracy did not improve from 0.80371\n",
            "58/58 [==============================] - 10s 164ms/sample - loss: 0.0528 - accuracy: 0.7957 - precision_2: 0.7432 - recall_2: 0.8935 - val_loss: 0.0556 - val_accuracy: 0.8015 - val_precision_2: 0.7477 - val_recall_2: 0.8961\n",
            "Epoch 14/30\n"
          ]
        },
        {
          "output_type": "stream",
          "name": "stderr",
          "text": [
            "[2022-06-16 15:05:48,618] INFO: Learning rate: 0.000100\n"
          ]
        },
        {
          "output_type": "stream",
          "name": "stdout",
          "text": [
            " 0/58 [..............................] - ETA: 0s - loss: 0.0518 - accuracy: 0.7956 - precision_2: 0.7425 - recall_2: 0.8950\n",
            "Epoch 14: val_accuracy did not improve from 0.80371\n",
            "58/58 [==============================] - 9s 164ms/sample - loss: 0.0518 - accuracy: 0.7956 - precision_2: 0.7425 - recall_2: 0.8950 - val_loss: 0.0535 - val_accuracy: 0.7999 - val_precision_2: 0.7516 - val_recall_2: 0.8820\n",
            "Epoch 15/30\n"
          ]
        },
        {
          "output_type": "stream",
          "name": "stderr",
          "text": [
            "[2022-06-16 15:05:58,114] INFO: Learning rate: 0.000100\n"
          ]
        },
        {
          "output_type": "stream",
          "name": "stdout",
          "text": [
            " 0/58 [..............................] - ETA: 0s - loss: 0.0507 - accuracy: 0.7955 - precision_2: 0.7446 - recall_2: 0.8894\n",
            "Epoch 15: val_accuracy improved from 0.80371 to 0.80858, saving model to model_checkpoints/particle_net_lite_model.015.h5\n",
            "58/58 [==============================] - 10s 166ms/sample - loss: 0.0507 - accuracy: 0.7955 - precision_2: 0.7446 - recall_2: 0.8894 - val_loss: 0.0536 - val_accuracy: 0.8086 - val_precision_2: 0.7519 - val_recall_2: 0.9078\n",
            "Epoch 16/30\n"
          ]
        },
        {
          "output_type": "stream",
          "name": "stderr",
          "text": [
            "[2022-06-16 15:06:07,729] INFO: Learning rate: 0.000100\n"
          ]
        },
        {
          "output_type": "stream",
          "name": "stdout",
          "text": [
            " 0/58 [..............................] - ETA: 0s - loss: 0.0499 - accuracy: 0.8000 - precision_2: 0.7458 - recall_2: 0.9004\n",
            "Epoch 16: val_accuracy did not improve from 0.80858\n",
            "58/58 [==============================] - 9s 163ms/sample - loss: 0.0499 - accuracy: 0.8000 - precision_2: 0.7458 - recall_2: 0.9004 - val_loss: 0.0526 - val_accuracy: 0.8022 - val_precision_2: 0.7536 - val_recall_2: 0.8842\n",
            "Epoch 17/30\n"
          ]
        },
        {
          "output_type": "stream",
          "name": "stderr",
          "text": [
            "[2022-06-16 15:06:17,201] INFO: Learning rate: 0.000100\n"
          ]
        },
        {
          "output_type": "stream",
          "name": "stdout",
          "text": [
            " 0/58 [..............................] - ETA: 0s - loss: 0.0491 - accuracy: 0.7976 - precision_2: 0.7455 - recall_2: 0.8939\n",
            "Epoch 17: val_accuracy did not improve from 0.80858\n",
            "58/58 [==============================] - 9s 163ms/sample - loss: 0.0491 - accuracy: 0.7976 - precision_2: 0.7455 - recall_2: 0.8939 - val_loss: 0.0528 - val_accuracy: 0.8044 - val_precision_2: 0.7539 - val_recall_2: 0.8905\n",
            "Epoch 18/30\n"
          ]
        },
        {
          "output_type": "stream",
          "name": "stderr",
          "text": [
            "[2022-06-16 15:06:26,639] INFO: Learning rate: 0.000100\n"
          ]
        },
        {
          "output_type": "stream",
          "name": "stdout",
          "text": [
            " 0/58 [..............................] - ETA: 0s - loss: 0.0493 - accuracy: 0.8005 - precision_2: 0.7473 - recall_2: 0.8984\n",
            "Epoch 18: val_accuracy did not improve from 0.80858\n",
            "58/58 [==============================] - 9s 162ms/sample - loss: 0.0493 - accuracy: 0.8005 - precision_2: 0.7473 - recall_2: 0.8984 - val_loss: 0.0518 - val_accuracy: 0.8074 - val_precision_2: 0.7547 - val_recall_2: 0.8976\n",
            "Epoch 19/30\n"
          ]
        },
        {
          "output_type": "stream",
          "name": "stderr",
          "text": [
            "[2022-06-16 15:06:36,074] INFO: Learning rate: 0.000100\n"
          ]
        },
        {
          "output_type": "stream",
          "name": "stdout",
          "text": [
            " 0/58 [..............................] - ETA: 0s - loss: 0.0487 - accuracy: 0.8042 - precision_2: 0.7515 - recall_2: 0.8996\n",
            "Epoch 19: val_accuracy improved from 0.80858 to 0.81013, saving model to model_checkpoints/particle_net_lite_model.019.h5\n",
            "58/58 [==============================] - 10s 165ms/sample - loss: 0.0487 - accuracy: 0.8042 - precision_2: 0.7515 - recall_2: 0.8996 - val_loss: 0.0510 - val_accuracy: 0.8101 - val_precision_2: 0.7570 - val_recall_2: 0.9005\n",
            "Epoch 20/30\n"
          ]
        },
        {
          "output_type": "stream",
          "name": "stderr",
          "text": [
            "[2022-06-16 15:06:45,635] INFO: Learning rate: 0.000100\n"
          ]
        },
        {
          "output_type": "stream",
          "name": "stdout",
          "text": [
            " 0/58 [..............................] - ETA: 0s - loss: 0.0489 - accuracy: 0.8038 - precision_2: 0.7520 - recall_2: 0.8970\n",
            "Epoch 20: val_accuracy improved from 0.81013 to 0.81286, saving model to model_checkpoints/particle_net_lite_model.020.h5\n",
            "58/58 [==============================] - 10s 165ms/sample - loss: 0.0489 - accuracy: 0.8038 - precision_2: 0.7520 - recall_2: 0.8970 - val_loss: 0.0521 - val_accuracy: 0.8129 - val_precision_2: 0.7584 - val_recall_2: 0.9056\n",
            "Epoch 21/30\n"
          ]
        },
        {
          "output_type": "stream",
          "name": "stderr",
          "text": [
            "[2022-06-16 15:06:55,210] INFO: Learning rate: 0.000100\n"
          ]
        },
        {
          "output_type": "stream",
          "name": "stdout",
          "text": [
            " 0/58 [..............................] - ETA: 0s - loss: 0.0512 - accuracy: 0.8020 - precision_2: 0.7526 - recall_2: 0.8904\n",
            "Epoch 21: val_accuracy did not improve from 0.81286\n",
            "58/58 [==============================] - 9s 163ms/sample - loss: 0.0512 - accuracy: 0.8020 - precision_2: 0.7526 - recall_2: 0.8904 - val_loss: 0.0558 - val_accuracy: 0.8114 - val_precision_2: 0.7661 - val_recall_2: 0.8839\n",
            "Epoch 22/30\n"
          ]
        },
        {
          "output_type": "stream",
          "name": "stderr",
          "text": [
            "[2022-06-16 15:07:04,668] INFO: Learning rate: 0.000100\n"
          ]
        },
        {
          "output_type": "stream",
          "name": "stdout",
          "text": [
            " 0/58 [..............................] - ETA: 0s - loss: 0.0475 - accuracy: 0.8075 - precision_2: 0.7536 - recall_2: 0.9045\n",
            "Epoch 22: val_accuracy improved from 0.81286 to 0.81524, saving model to model_checkpoints/particle_net_lite_model.022.h5\n",
            "58/58 [==============================] - 10s 165ms/sample - loss: 0.0475 - accuracy: 0.8075 - precision_2: 0.7536 - recall_2: 0.9045 - val_loss: 0.0528 - val_accuracy: 0.8152 - val_precision_2: 0.7619 - val_recall_2: 0.9046\n",
            "Epoch 23/30\n"
          ]
        },
        {
          "output_type": "stream",
          "name": "stderr",
          "text": [
            "[2022-06-16 15:07:14,251] INFO: Learning rate: 0.000100\n"
          ]
        },
        {
          "output_type": "stream",
          "name": "stdout",
          "text": [
            " 0/58 [..............................] - ETA: 0s - loss: 0.0481 - accuracy: 0.8075 - precision_2: 0.7548 - recall_2: 0.9017\n",
            "Epoch 23: val_accuracy did not improve from 0.81524\n",
            "58/58 [==============================] - 9s 163ms/sample - loss: 0.0481 - accuracy: 0.8075 - precision_2: 0.7548 - recall_2: 0.9017 - val_loss: 0.0518 - val_accuracy: 0.8152 - val_precision_2: 0.7632 - val_recall_2: 0.9017\n",
            "Epoch 24/30\n"
          ]
        },
        {
          "output_type": "stream",
          "name": "stderr",
          "text": [
            "[2022-06-16 15:07:23,699] INFO: Learning rate: 0.000100\n"
          ]
        },
        {
          "output_type": "stream",
          "name": "stdout",
          "text": [
            " 0/58 [..............................] - ETA: 0s - loss: 0.0461 - accuracy: 0.8102 - precision_2: 0.7578 - recall_2: 0.9030\n",
            "Epoch 24: val_accuracy improved from 0.81524 to 0.81857, saving model to model_checkpoints/particle_net_lite_model.024.h5\n",
            "58/58 [==============================] - 10s 165ms/sample - loss: 0.0461 - accuracy: 0.8102 - precision_2: 0.7578 - recall_2: 0.9030 - val_loss: 0.0513 - val_accuracy: 0.8186 - val_precision_2: 0.7646 - val_recall_2: 0.9083\n",
            "Epoch 25/30\n"
          ]
        },
        {
          "output_type": "stream",
          "name": "stderr",
          "text": [
            "[2022-06-16 15:07:33,265] INFO: Learning rate: 0.000100\n"
          ]
        },
        {
          "output_type": "stream",
          "name": "stdout",
          "text": [
            " 0/58 [..............................] - ETA: 0s - loss: 0.0480 - accuracy: 0.8097 - precision_2: 0.7580 - recall_2: 0.9009\n",
            "Epoch 25: val_accuracy did not improve from 0.81857\n",
            "58/58 [==============================] - 9s 164ms/sample - loss: 0.0480 - accuracy: 0.8097 - precision_2: 0.7580 - recall_2: 0.9009 - val_loss: 0.0512 - val_accuracy: 0.8168 - val_precision_2: 0.7662 - val_recall_2: 0.8995\n",
            "Epoch 26/30\n"
          ]
        },
        {
          "output_type": "stream",
          "name": "stderr",
          "text": [
            "[2022-06-16 15:07:42,761] INFO: Learning rate: 0.000100\n"
          ]
        },
        {
          "output_type": "stream",
          "name": "stdout",
          "text": [
            " 0/58 [..............................] - ETA: 0s - loss: 0.0481 - accuracy: 0.8105 - precision_2: 0.7598 - recall_2: 0.8993\n",
            "Epoch 26: val_accuracy did not improve from 0.81857\n",
            "58/58 [==============================] - 9s 164ms/sample - loss: 0.0481 - accuracy: 0.8105 - precision_2: 0.7598 - recall_2: 0.8993 - val_loss: 0.0534 - val_accuracy: 0.8168 - val_precision_2: 0.7728 - val_recall_2: 0.8854\n",
            "Epoch 27/30\n"
          ]
        },
        {
          "output_type": "stream",
          "name": "stderr",
          "text": [
            "[2022-06-16 15:07:52,258] INFO: Learning rate: 0.000100\n"
          ]
        },
        {
          "output_type": "stream",
          "name": "stdout",
          "text": [
            " 0/58 [..............................] - ETA: 0s - loss: 0.0465 - accuracy: 0.8140 - precision_2: 0.7608 - recall_2: 0.9072\n",
            "Epoch 27: val_accuracy improved from 0.81857 to 0.82178, saving model to model_checkpoints/particle_net_lite_model.027.h5\n",
            "58/58 [==============================] - 10s 165ms/sample - loss: 0.0465 - accuracy: 0.8140 - precision_2: 0.7608 - recall_2: 0.9072 - val_loss: 0.0513 - val_accuracy: 0.8218 - val_precision_2: 0.7717 - val_recall_2: 0.9022\n",
            "Epoch 28/30\n"
          ]
        },
        {
          "output_type": "stream",
          "name": "stderr",
          "text": [
            "[2022-06-16 15:08:01,861] INFO: Learning rate: 0.000100\n"
          ]
        },
        {
          "output_type": "stream",
          "name": "stdout",
          "text": [
            " 0/58 [..............................] - ETA: 0s - loss: 0.0477 - accuracy: 0.8137 - precision_2: 0.7648 - recall_2: 0.8972\n",
            "Epoch 28: val_accuracy improved from 0.82178 to 0.82594, saving model to model_checkpoints/particle_net_lite_model.028.h5\n",
            "58/58 [==============================] - 10s 165ms/sample - loss: 0.0477 - accuracy: 0.8137 - precision_2: 0.7648 - recall_2: 0.8972 - val_loss: 0.0524 - val_accuracy: 0.8259 - val_precision_2: 0.7743 - val_recall_2: 0.9088\n",
            "Epoch 29/30\n"
          ]
        },
        {
          "output_type": "stream",
          "name": "stderr",
          "text": [
            "[2022-06-16 15:08:11,448] INFO: Learning rate: 0.000100\n"
          ]
        },
        {
          "output_type": "stream",
          "name": "stdout",
          "text": [
            " 0/58 [..............................] - ETA: 0s - loss: 0.0461 - accuracy: 0.8171 - precision_2: 0.7657 - recall_2: 0.9054\n",
            "Epoch 29: val_accuracy improved from 0.82594 to 0.82725, saving model to model_checkpoints/particle_net_lite_model.029.h5\n",
            "58/58 [==============================] - 10s 166ms/sample - loss: 0.0461 - accuracy: 0.8171 - precision_2: 0.7657 - recall_2: 0.9054 - val_loss: 0.0511 - val_accuracy: 0.8273 - val_precision_2: 0.7752 - val_recall_2: 0.9105\n",
            "Epoch 30/30\n"
          ]
        },
        {
          "output_type": "stream",
          "name": "stderr",
          "text": [
            "[2022-06-16 15:08:21,058] INFO: Learning rate: 0.000100\n"
          ]
        },
        {
          "output_type": "stream",
          "name": "stdout",
          "text": [
            " 0/58 [..............................] - ETA: 0s - loss: 0.0456 - accuracy: 0.8198 - precision_2: 0.7674 - recall_2: 0.9094\n",
            "Epoch 30: val_accuracy did not improve from 0.82725\n",
            "58/58 [==============================] - 9s 163ms/sample - loss: 0.0456 - accuracy: 0.8198 - precision_2: 0.7674 - recall_2: 0.9094 - val_loss: 0.0508 - val_accuracy: 0.8231 - val_precision_2: 0.7743 - val_recall_2: 0.9005\n"
          ]
        }
      ],
      "source": [
        "history = model.fit(\n",
        "    [train_data[\"points\"], train_data[\"features\"], train_data[\"mask\"], train_data[\"summary\"]], \n",
        "    train_label,\n",
        "    batch_size=batch_size,\n",
        "    epochs=epochs,\n",
        "    validation_data=([val_data[\"points\"], val_data[\"features\"], val_data[\"mask\"], val_data[\"summary\"]], val_label, val_weight),\n",
        "    shuffle=True,\n",
        "    sample_weight=train_weight,\n",
        "    callbacks=callbacks\n",
        ")"
      ]
    },
    {
      "cell_type": "code",
      "source": [
        "plt.plot(history.history['loss'], label=\"Train Loss\")\n",
        "plt.plot(history.history['val_loss'], label=\"Validation Loss\")\n",
        "plt.legend()"
      ],
      "metadata": {
        "id": "-irxBo-j0Ifg",
        "colab": {
          "base_uri": "https://localhost:8080/",
          "height": 282
        },
        "outputId": "bdbe341e-cf3e-443b-dae2-39b2fefa6152"
      },
      "execution_count": 43,
      "outputs": [
        {
          "output_type": "execute_result",
          "data": {
            "text/plain": [
              "<matplotlib.legend.Legend at 0x7fc47cc2e750>"
            ]
          },
          "metadata": {},
          "execution_count": 43
        },
        {
          "output_type": "display_data",
          "data": {
            "text/plain": [
              "<Figure size 432x288 with 1 Axes>"
            ],
            "image/png": "[encoded data removed]"
          },
          "metadata": {
            "needs_background": "light"
          }
        }
      ]
    },
    {
      "cell_type": "code",
      "source": [
        "plt.plot(history.history['accuracy'], label=\"Train Accuracy\")\n",
        "plt.plot(history.history['val_accuracy'], label=\"Validation Accuracy\")\n",
        "plt.legend()"
      ],
      "metadata": {
        "id": "Fw0L9XiUEril",
        "colab": {
          "base_uri": "https://localhost:8080/",
          "height": 282
        },
        "outputId": "fe2316d4-22c2-4a3d-bddd-dc427a40ba52"
      },
      "execution_count": 44,
      "outputs": [
        {
          "output_type": "execute_result",
          "data": {
            "text/plain": [
              "<matplotlib.legend.Legend at 0x7fc47cc08410>"
            ]
          },
          "metadata": {},
          "execution_count": 44
        },
        {
          "output_type": "display_data",
          "data": {
            "text/plain": [
              "<Figure size 432x288 with 1 Axes>"
            ],
            "image/png": "[encoded data removed]"
          },
          "metadata": {
            "needs_background": "light"
          }
        }
      ]
    },
    {
      "cell_type": "code",
      "source": [
        "plt.plot(history.history['precision_2'], label=\"Train Purity\")\n",
        "plt.plot(history.history['val_precision_2'], label=\"Validation Purity\")\n",
        "plt.legend()"
      ],
      "metadata": {
        "id": "EvZiOlA1E1V-",
        "colab": {
          "base_uri": "https://localhost:8080/",
          "height": 282
        },
        "outputId": "a682fbb9-7968-4c27-b28a-302b5e384e3a"
      },
      "execution_count": 50,
      "outputs": [
        {
          "output_type": "execute_result",
          "data": {
            "text/plain": [
              "<matplotlib.legend.Legend at 0x7fc47c726ed0>"
            ]
          },
          "metadata": {},
          "execution_count": 50
        },
        {
          "output_type": "display_data",
          "data": {
            "text/plain": [
              "<Figure size 432x288 with 1 Axes>"
            ],
            "image/png": "[encoded data removed]"
          },
          "metadata": {
            "needs_background": "light"
          }
        }
      ]
    },
    {
      "cell_type": "code",
      "source": [
        "plt.plot(history.history['recall_2'], label=\"Train Effciency\")\n",
        "plt.plot(history.history['val_recall_2'], label=\"Validation Efficiency\")\n",
        "plt.legend()"
      ],
      "metadata": {
        "id": "Wg0JLZOcE_89",
        "colab": {
          "base_uri": "https://localhost:8080/",
          "height": 282
        },
        "outputId": "856ffd30-768b-495f-ef30-9ed3447cc9c2"
      },
      "execution_count": 49,
      "outputs": [
        {
          "output_type": "execute_result",
          "data": {
            "text/plain": [
              "<matplotlib.legend.Legend at 0x7fc47c6d1710>"
            ]
          },
          "metadata": {},
          "execution_count": 49
        },
        {
          "output_type": "display_data",
          "data": {
            "text/plain": [
              "<Figure size 432x288 with 1 Axes>"
            ],
            "image/png": "[encoded data removed]"
          },
          "metadata": {
            "needs_background": "light"
          }
        }
      ]
    },
    {
      "cell_type": "code",
      "source": [
        "model.load_weights(\"model_checkpoints/particle_net_lite_model.029.h5\")"
      ],
      "metadata": {
        "id": "NGw0cUyR5TxX"
      },
      "execution_count": 51,
      "outputs": []
    },
    {
      "cell_type": "code",
      "source": [
        "probs = model.predict_on_batch(test_data)"
      ],
      "metadata": {
        "id": "Ldx5QeBFF_N3"
      },
      "execution_count": 52,
      "outputs": []
    },
    {
      "cell_type": "code",
      "execution_count": 53,
      "metadata": {
        "id": "je0DvhbX2g86",
        "colab": {
          "base_uri": "https://localhost:8080/",
          "height": 282
        },
        "outputId": "fab87d04-a8db-45b3-9430-0839aad56518"
      },
      "outputs": [
        {
          "output_type": "execute_result",
          "data": {
            "text/plain": [
              "[<matplotlib.lines.Line2D at 0x7fc4a72ffbd0>]"
            ]
          },
          "metadata": {},
          "execution_count": 53
        },
        {
          "output_type": "display_data",
          "data": {
            "text/plain": [
              "<Figure size 432x288 with 1 Axes>"
            ],
            "image/png": "[encoded data removed]"
          },
          "metadata": {
            "needs_background": "light"
          }
        }
      ],
      "source": [
        "precision, recall, thresholds = precision_recall_curve(test_label, probs, sample_weight=test_weight)\n",
        "plt.plot(recall, precision)"
      ]
    }
  ],
  "metadata": {
    "kernelspec": {
      "display_name": "Python 3 (ipykernel)",
      "language": "python",
      "name": "python3"
    },
    "language_info": {
      "codemirror_mode": {
        "name": "ipython",
        "version": 3
      },
      "file_extension": ".py",
      "mimetype": "text/x-python",
      "name": "python",
      "nbconvert_exporter": "python",
      "pygments_lexer": "ipython3",
      "version": "3.8.10"
    },
    "colab": {
      "name": "keras_train.ipynb",
      "provenance": []
    },
    "accelerator": "GPU",
    "gpuClass": "standard"
  },
  "nbformat": 4,
  "nbformat_minor": 0
}