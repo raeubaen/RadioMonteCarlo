{
  "cells": [
    {
      "cell_type": "code",
      "execution_count": 1,
      "metadata": {
        "id": "qIv6ffW82g8W"
      },
      "outputs": [],
      "source": [
        "import numpy as np"
      ]
    },
    {
      "cell_type": "code",
      "execution_count": 2,
      "metadata": {
        "id": "rabKUfn02g8b"
      },
      "outputs": [],
      "source": [
        "import logging\n",
        "logging.basicConfig(level=logging.INFO, format='[%(asctime)s] %(levelname)s: %(message)s')"
      ]
    },
    {
      "cell_type": "code",
      "source": [
        "!wget https://raw.githubusercontent.com/raeubaen/RadioMonteCarlo/main/tf_keras_model.py"
      ],
      "metadata": {
        "id": "3gI9EJ0R2j5v",
        "outputId": "a133b643-1ba1-464a-c34b-d8e740ce2453",
        "colab": {
          "base_uri": "https://localhost:8080/"
        }
      },
      "execution_count": 3,
      "outputs": [
        {
          "output_type": "stream",
          "name": "stdout",
          "text": [
            "--2022-06-15 13:28:08--  https://raw.githubusercontent.com/raeubaen/RadioMonteCarlo/main/tf_keras_model.py\n",
            "Resolving raw.githubusercontent.com (raw.githubusercontent.com)... 185.199.109.133, 185.199.110.133, 185.199.108.133, ...\n",
            "Connecting to raw.githubusercontent.com (raw.githubusercontent.com)|185.199.109.133|:443... connected.\n",
            "HTTP request sent, awaiting response... 200 OK\n",
            "Length: 7649 (7.5K) [text/plain]\n",
            "Saving to: ‘tf_keras_model.py’\n",
            "\n",
            "\rtf_keras_model.py     0%[                    ]       0  --.-KB/s               \rtf_keras_model.py   100%[===================>]   7.47K  --.-KB/s    in 0s      \n",
            "\n",
            "2022-06-15 13:28:08 (36.7 MB/s) - ‘tf_keras_model.py’ saved [7649/7649]\n",
            "\n"
          ]
        }
      ]
    },
    {
      "cell_type": "code",
      "source": [
        "from google.colab import drive\n",
        "drive.mount('/content/drive')"
      ],
      "metadata": {
        "colab": {
          "base_uri": "https://localhost:8080/"
        },
        "id": "qMTnts0q2qFw",
        "outputId": "28c3d5a7-3f42-4895-a22d-6b9194a10da8"
      },
      "execution_count": 4,
      "outputs": [
        {
          "output_type": "stream",
          "name": "stdout",
          "text": [
            "Mounted at /content/drive\n"
          ]
        }
      ]
    },
    {
      "cell_type": "code",
      "source": [
        "# VANNO TUTTI CAMBIATI\n",
        "\n",
        "# !wget https://www.dropbox.com/s/6s5khncrval4rz9/bkg_et.npy?dl=1 -o bkg_et.npy\n",
        "# !wget https://www.dropbox.com/s/qc7z1nhqh5xvpbg/bkg_mask.npy?dl=1 -o bkg_mask.npy\n",
        "# !wget https://www.dropbox.com/s/fs5e9wuhqtr66xh/bkg_xy.npy?dl=1 -o bkg_xy.npy\n",
        "# !wget https://www.dropbox.com/s/w0b94xzyk2wg7y4/signal_et.npy?dl=1 -o signal_et.npy\n",
        "# !wget https://www.dropbox.com/s/3k6b0u3zz65xnyf/signal_mask.npy?dl=1 -o signal_mask.npy\n",
        "# !wget https://www.dropbox.com/s/chcep3q8terrj4k/signal_xy.npy?dl=1 -o signal_xy.npy"
      ],
      "metadata": {
        "id": "Ez9vWLA_7qaP"
      },
      "execution_count": null,
      "outputs": []
    },
    {
      "cell_type": "code",
      "execution_count": 5,
      "metadata": {
        "id": "S3ag941H2g8d",
        "outputId": "bb9cb7bd-edd6-4d0b-a777-bc3c574666f2",
        "colab": {
          "base_uri": "https://localhost:8080/"
        }
      },
      "outputs": [
        {
          "output_type": "stream",
          "name": "stderr",
          "text": [
            "[2022-06-15 13:28:36,559] INFO: NumExpr defaulting to 2 threads.\n"
          ]
        }
      ],
      "source": [
        "import tensorflow as tf\n",
        "from tensorflow import keras\n",
        "from tf_keras_model import get_particle_net, get_particle_net_lite, edge_conv"
      ]
    },
    {
      "cell_type": "code",
      "execution_count": 6,
      "metadata": {
        "id": "Se9xg25k2g8f"
      },
      "outputs": [],
      "source": [
        "data_folder = \"/content/drive/MyDrive/datiML\"\n",
        "\n",
        "name_map = {\"points\": \"rphi\", \"features\": \"et\", \"mask\": \"mask\"} # va provato sia xy che rphi\n",
        "\n",
        "\n",
        "signal  = {key: np.load(f\"{data_folder}/signal_{ name_map[key]}.npy\") for key in name_map}\n",
        "\n",
        "mnbs    = {key: np.load(f\"{data_folder}/mnbs_{   name_map[key]}.npy\") for key in name_map}\n",
        "\n",
        "cosmics = {key: np.load(f\"{data_folder}/cosmics_{name_map[key]}.npy\") for key in name_map}"
      ]
    },
    {
      "cell_type": "code",
      "execution_count": 8,
      "metadata": {
        "id": "ZS-UFF0G2g8i",
        "outputId": "428d3f6b-b86b-42ca-d72e-fac940b69e69",
        "colab": {
          "base_uri": "https://localhost:8080/",
          "height": 236
        }
      },
      "outputs": [
        {
          "output_type": "error",
          "ename": "NameError",
          "evalue": "ignored",
          "traceback": [
            "\u001b[0;31m---------------------------------------------------------------------------\u001b[0m",
            "\u001b[0;31mNameError\u001b[0m                                 Traceback (most recent call last)",
            "\u001b[0;32m<ipython-input-8-10c3e3dda995>\u001b[0m in \u001b[0;36m<module>\u001b[0;34m()\u001b[0m\n\u001b[1;32m      1\u001b[0m \u001b[0mS\u001b[0m \u001b[0;34m=\u001b[0m  \u001b[0msignal\u001b[0m\u001b[0;34m[\u001b[0m\u001b[0;34m\"mask\"\u001b[0m\u001b[0;34m]\u001b[0m\u001b[0;34m.\u001b[0m\u001b[0mshape\u001b[0m\u001b[0;34m[\u001b[0m\u001b[0;36m0\u001b[0m\u001b[0;34m]\u001b[0m\u001b[0;34m\u001b[0m\u001b[0;34m\u001b[0m\u001b[0m\n\u001b[0;32m----> 2\u001b[0;31m \u001b[0mF\u001b[0m \u001b[0;34m=\u001b[0m    \u001b[0mmnbs\u001b[0m\u001b[0;34m[\u001b[0m\u001b[0;34m\"mask\"\u001b[0m\u001b[0;34m]\u001b[0m\u001b[0;34m.\u001b[0m\u001b[0mshape\u001b[0m\u001b[0;34m[\u001b[0m\u001b[0;36m0\u001b[0m\u001b[0;34m]\u001b[0m\u001b[0;34m\u001b[0m\u001b[0;34m\u001b[0m\u001b[0m\n\u001b[0m\u001b[1;32m      3\u001b[0m \u001b[0mC\u001b[0m \u001b[0;34m=\u001b[0m \u001b[0mcosmics\u001b[0m\u001b[0;34m[\u001b[0m\u001b[0;34m\"mask\"\u001b[0m\u001b[0;34m]\u001b[0m\u001b[0;34m.\u001b[0m\u001b[0mshape\u001b[0m\u001b[0;34m[\u001b[0m\u001b[0;36m0\u001b[0m\u001b[0;34m]\u001b[0m\u001b[0;34m\u001b[0m\u001b[0;34m\u001b[0m\u001b[0m\n\u001b[1;32m      4\u001b[0m \u001b[0;34m\u001b[0m\u001b[0m\n\u001b[1;32m      5\u001b[0m \u001b[0mN\u001b[0m \u001b[0;34m=\u001b[0m \u001b[0mS\u001b[0m \u001b[0;34m+\u001b[0m \u001b[0mF\u001b[0m \u001b[0;34m+\u001b[0m \u001b[0mC\u001b[0m\u001b[0;34m\u001b[0m\u001b[0;34m\u001b[0m\u001b[0m\n",
            "\u001b[0;31mNameError\u001b[0m: name 'mnbs' is not defined"
          ]
        }
      ],
      "source": [
        "S =  signal[\"mask\"].shape[0]\n",
        "F =    mnbs[\"mask\"].shape[0]\n",
        "C = cosmics[\"mask\"].shape[0]\n",
        "\n",
        "N = S + F + C\n",
        "\n",
        "p = np.random.permutation(N)"
      ]
    },
    {
      "cell_type": "code",
      "source": [
        "'''\n",
        "cluster su disco 0 sopra 50 MeV in un injection cycle\n",
        "RMC: 66\n",
        "MNBS: 107k\n",
        "cosmici: 4\n",
        "\n",
        "cluster simulati su disco 0 sopra i 50 MeV:\n",
        "RMC: 150k\n",
        "MNBS: 16505 * 5 = 82k\n",
        "cosmici: 53k\n",
        "\n",
        "pesi:\n",
        "RMC: 66/150k \n",
        "MNBS: 107k/82k\n",
        "Cosmici: 4/53k"
      ],
      "metadata": {
        "id": "m1CHQLiEAXZQ"
      },
      "execution_count": null,
      "outputs": []
    },
    {
      "cell_type": "code",
      "execution_count": null,
      "metadata": {
        "id": "aXZ6qndr2g8m"
      },
      "outputs": [],
      "source": [
        "data = {key: np.concatenate( (signal[key], bkg[key]) )[p] for key in name_map}\n",
        "\n",
        "label = np.concatenate( ( np.ones( (S) ), np.zeros( (B) ) ) )[p]"
      ]
    },
    {
      "cell_type": "code",
      "execution_count": null,
      "metadata": {
        "id": "ZFNtoo8s2g8s"
      },
      "outputs": [],
      "source": [
        "train_data  = {key: data[key][int(N*0.0) : int(N*0.7)] for key in name_map}\n",
        "test_data   = {key: data[key][int(N*0.7) : int(N*0.9)] for key in name_map}\n",
        "val_data    = {key: data[key][int(N*0.9) : int(N*1.0)] for key in name_map}\n",
        "\n",
        "train_label = label[int(N*0.0) : int(N*0.7)]\n",
        "test_label  = label[int(N*0.7) : int(N*0.9)]\n",
        "val_label   = label[int(N*0.9) : int(N*1.0)]"
      ]
    },
    {
      "cell_type": "code",
      "execution_count": null,
      "metadata": {
        "scrolled": true,
        "id": "nfCI_M2d2g8u"
      },
      "outputs": [],
      "source": [
        "model_type = 'particle_net_lite' # choose between 'particle_net' and 'particle_net_lite'\n",
        "num_classes = 2\n",
        "input_shapes = {'points': (50, 2), 'features': (50, 2), 'mask':(50, 1)}\n",
        "\n",
        "if 'lite' in model_type:\n",
        "    model = get_particle_net_lite(num_classes, input_shapes)\n",
        "else:\n",
        "    model = get_particle_net(num_classes, input_shapes)"
      ]
    },
    {
      "cell_type": "code",
      "execution_count": null,
      "metadata": {
        "id": "LFRJXncU2g8x"
      },
      "outputs": [],
      "source": [
        "# Training parameters\n",
        "batch_size = 1024 if 'lite' in model_type else 384\n",
        "epochs = 30"
      ]
    },
    {
      "cell_type": "code",
      "execution_count": null,
      "metadata": {
        "id": "RHvU72JY2g8z"
      },
      "outputs": [],
      "source": [
        "def lr_schedule(epoch):\n",
        "    lr = 1e-3\n",
        "    if epoch > 10:\n",
        "        lr *= 0.1\n",
        "    elif epoch > 20:\n",
        "        lr *= 0.01\n",
        "    logging.info('Learning rate: %f'%lr)\n",
        "    return lr"
      ]
    },
    {
      "cell_type": "code",
      "execution_count": null,
      "metadata": {
        "scrolled": true,
        "id": "2IlFncmO2g82",
        "outputId": "b7243b9b-3e98-408a-a77f-93d895095ed4",
        "colab": {
          "base_uri": "https://localhost:8080/"
        }
      },
      "outputs": [
        {
          "output_type": "stream",
          "name": "stderr",
          "text": [
            "[2022-06-13 00:04:47,207] INFO: Learning rate: 0.001000\n"
          ]
        },
        {
          "output_type": "stream",
          "name": "stdout",
          "text": [
            "Model: \"ParticleNet\"\n",
            "__________________________________________________________________________________________________\n",
            " Layer (type)                   Output Shape         Param #     Connected to                     \n",
            "==================================================================================================\n",
            " mask (InputLayer)              [(None, 50, 1)]      0           []                               \n",
            "                                                                                                  \n",
            " tf.math.not_equal_4 (TFOpLambd  (None, 50, 1)       0           ['mask[0][0]']                   \n",
            " a)                                                                                               \n",
            "                                                                                                  \n",
            " tf.cast_8 (TFOpLambda)         (None, 50, 1)        0           ['tf.math.not_equal_4[0][0]']    \n",
            "                                                                                                  \n",
            " tf.math.equal_4 (TFOpLambda)   (None, 50, 1)        0           ['tf.cast_8[0][0]']              \n",
            "                                                                                                  \n",
            " tf.cast_9 (TFOpLambda)         (None, 50, 1)        0           ['tf.math.equal_4[0][0]']        \n",
            "                                                                                                  \n",
            " tf.math.multiply_32 (TFOpLambd  (None, 50, 1)       0           ['tf.cast_9[0][0]']              \n",
            " a)                                                                                               \n",
            "                                                                                                  \n",
            " points (InputLayer)            [(None, 50, 2)]      0           []                               \n",
            "                                                                                                  \n",
            " tf.math.add_8 (TFOpLambda)     (None, 50, 2)        0           ['tf.math.multiply_32[0][0]',    \n",
            "                                                                  'points[0][0]']                 \n",
            "                                                                                                  \n",
            " features (InputLayer)          [(None, 50, 2)]      0           []                               \n",
            "                                                                                                  \n",
            " tf.compat.v1.transpose_16 (TFO  (None, 2, 50)       0           ['tf.math.add_8[0][0]']          \n",
            " pLambda)                                                                                         \n",
            "                                                                                                  \n",
            " tf.expand_dims_28 (TFOpLambda)  (None, 50, 1, 2)    0           ['features[0][0]']               \n",
            "                                                                                                  \n",
            " tf.math.multiply_33 (TFOpLambd  (None, 50, 2)       0           ['tf.math.add_8[0][0]',          \n",
            " a)                                                               'tf.math.add_8[0][0]']          \n",
            "                                                                                                  \n",
            " tf.linalg.matmul_8 (TFOpLambda  (None, 50, 50)      0           ['tf.math.add_8[0][0]',          \n",
            " )                                                                'tf.compat.v1.transpose_16[0][0]\n",
            "                                                                 ']                               \n",
            "                                                                                                  \n",
            " tf.math.multiply_34 (TFOpLambd  (None, 50, 2)       0           ['tf.math.add_8[0][0]',          \n",
            " a)                                                               'tf.math.add_8[0][0]']          \n",
            "                                                                                                  \n",
            " ParticleNet_fts_bn (BatchNorma  (None, 50, 1, 2)    8           ['tf.expand_dims_28[0][0]']      \n",
            " lization)                                                                                        \n",
            "                                                                                                  \n",
            " tf.math.reduce_sum_16 (TFOpLam  (None, 50, 1)       0           ['tf.math.multiply_33[0][0]']    \n",
            " bda)                                                                                             \n",
            "                                                                                                  \n",
            " tf.math.multiply_35 (TFOpLambd  (None, 50, 50)      0           ['tf.linalg.matmul_8[0][0]']     \n",
            " a)                                                                                               \n",
            "                                                                                                  \n",
            " tf.math.reduce_sum_17 (TFOpLam  (None, 50, 1)       0           ['tf.math.multiply_34[0][0]']    \n",
            " bda)                                                                                             \n",
            "                                                                                                  \n",
            " tf.compat.v1.squeeze_12 (TFOpL  (None, 50, 2)       0           ['ParticleNet_fts_bn[0][0]']     \n",
            " ambda)                                                                                           \n",
            "                                                                                                  \n",
            " tf.math.subtract_16 (TFOpLambd  (None, 50, 50)      0           ['tf.math.reduce_sum_16[0][0]',  \n",
            " a)                                                               'tf.math.multiply_35[0][0]']    \n",
            "                                                                                                  \n",
            " tf.compat.v1.transpose_17 (TFO  (None, 1, 50)       0           ['tf.math.reduce_sum_17[0][0]']  \n",
            " pLambda)                                                                                         \n",
            "                                                                                                  \n",
            " tf.compat.v1.shape_8 (TFOpLamb  (3,)                0           ['tf.compat.v1.squeeze_12[0][0]']\n",
            " da)                                                                                              \n",
            "                                                                                                  \n",
            " tf.__operators__.add_16 (TFOpL  (None, 50, 50)      0           ['tf.math.subtract_16[0][0]',    \n",
            " ambda)                                                           'tf.compat.v1.transpose_17[0][0]\n",
            "                                                                 ']                               \n",
            "                                                                                                  \n",
            " tf.__operators__.getitem_17 (S  ()                  0           ['tf.compat.v1.shape_8[0][0]']   \n",
            " licingOpLambda)                                                                                  \n",
            "                                                                                                  \n",
            " tf.math.negative_8 (TFOpLambda  (None, 50, 50)      0           ['tf.__operators__.add_16[0][0]']\n",
            " )                                                                                                \n",
            "                                                                                                  \n",
            " tf.range_8 (TFOpLambda)        (None,)              0           ['tf.__operators__.getitem_17[0][\n",
            "                                                                 0]']                             \n",
            "                                                                                                  \n",
            " tf.math.top_k_8 (TFOpLambda)   TopKV2(values=(None  0           ['tf.math.negative_8[0][0]']     \n",
            "                                , 50, 8),                                                         \n",
            "                                 indices=(None, 50,                                               \n",
            "                                 8))                                                              \n",
            "                                                                                                  \n",
            " tf.reshape_8 (TFOpLambda)      (None, 1, 1, 1)      0           ['tf.range_8[0][0]']             \n",
            "                                                                                                  \n",
            " tf.__operators__.getitem_16 (S  (None, 50, 7)       0           ['tf.math.top_k_8[0][1]']        \n",
            " licingOpLambda)                                                                                  \n",
            "                                                                                                  \n",
            " tf.tile_16 (TFOpLambda)        (None, 50, 7, 1)     0           ['tf.reshape_8[0][0]']           \n",
            "                                                                                                  \n",
            " tf.expand_dims_29 (TFOpLambda)  (None, 50, 7, 1)    0           ['tf.__operators__.getitem_16[0][\n",
            "                                                                 0]']                             \n",
            "                                                                                                  \n",
            " tf.expand_dims_30 (TFOpLambda)  (None, 50, 1, 2)    0           ['tf.compat.v1.squeeze_12[0][0]']\n",
            "                                                                                                  \n",
            " tf.concat_16 (TFOpLambda)      (None, 50, 7, 2)     0           ['tf.tile_16[0][0]',             \n",
            "                                                                  'tf.expand_dims_29[0][0]']      \n",
            "                                                                                                  \n",
            " tf.tile_17 (TFOpLambda)        (None, 50, 7, 2)     0           ['tf.expand_dims_30[0][0]']      \n",
            "                                                                                                  \n",
            " tf.compat.v1.gather_nd_8 (TFOp  (None, 50, 7, 2)    0           ['tf.compat.v1.squeeze_12[0][0]',\n",
            " Lambda)                                                          'tf.concat_16[0][0]']           \n",
            "                                                                                                  \n",
            " tf.math.subtract_17 (TFOpLambd  (None, 50, 7, 2)    0           ['tf.compat.v1.gather_nd_8[0][0]'\n",
            " a)                                                              , 'tf.tile_17[0][0]']            \n",
            "                                                                                                  \n",
            " tf.concat_17 (TFOpLambda)      (None, 50, 7, 4)     0           ['tf.tile_17[0][0]',             \n",
            "                                                                  'tf.math.subtract_17[0][0]']    \n",
            "                                                                                                  \n",
            " ParticleNet_EdgeConv0_conv0 (C  (None, 50, 7, 32)   128         ['tf.concat_17[0][0]']           \n",
            " onv2D)                                                                                           \n",
            "                                                                                                  \n",
            " ParticleNet_EdgeConv0_bn0 (Bat  (None, 50, 7, 32)   128         ['ParticleNet_EdgeConv0_conv0[0][\n",
            " chNormalization)                                                0]']                             \n",
            "                                                                                                  \n",
            " ParticleNet_EdgeConv0_act0 (Ac  (None, 50, 7, 32)   0           ['ParticleNet_EdgeConv0_bn0[0][0]\n",
            " tivation)                                                       ']                               \n",
            "                                                                                                  \n",
            " ParticleNet_EdgeConv0_conv1 (C  (None, 50, 7, 32)   1024        ['ParticleNet_EdgeConv0_act0[0][0\n",
            " onv2D)                                                          ]']                              \n",
            "                                                                                                  \n",
            " ParticleNet_EdgeConv0_bn1 (Bat  (None, 50, 7, 32)   128         ['ParticleNet_EdgeConv0_conv1[0][\n",
            " chNormalization)                                                0]']                             \n",
            "                                                                                                  \n",
            " ParticleNet_EdgeConv0_act1 (Ac  (None, 50, 7, 32)   0           ['ParticleNet_EdgeConv0_bn1[0][0]\n",
            " tivation)                                                       ']                               \n",
            "                                                                                                  \n",
            " tf.expand_dims_31 (TFOpLambda)  (None, 50, 1, 2)    0           ['tf.compat.v1.squeeze_12[0][0]']\n",
            "                                                                                                  \n",
            " ParticleNet_EdgeConv0_conv2 (C  (None, 50, 7, 32)   1024        ['ParticleNet_EdgeConv0_act1[0][0\n",
            " onv2D)                                                          ]']                              \n",
            "                                                                                                  \n",
            " ParticleNet_EdgeConv0_sc_conv   (None, 50, 1, 32)   64          ['tf.expand_dims_31[0][0]']      \n",
            " (Conv2D)                                                                                         \n",
            "                                                                                                  \n",
            " ParticleNet_EdgeConv0_bn2 (Bat  (None, 50, 7, 32)   128         ['ParticleNet_EdgeConv0_conv2[0][\n",
            " chNormalization)                                                0]']                             \n",
            "                                                                                                  \n",
            " ParticleNet_EdgeConv0_sc_bn (B  (None, 50, 1, 32)   128         ['ParticleNet_EdgeConv0_sc_conv[0\n",
            " atchNormalization)                                              ][0]']                           \n",
            "                                                                                                  \n",
            " ParticleNet_EdgeConv0_act2 (Ac  (None, 50, 7, 32)   0           ['ParticleNet_EdgeConv0_bn2[0][0]\n",
            " tivation)                                                       ']                               \n",
            "                                                                                                  \n",
            " tf.compat.v1.squeeze_13 (TFOpL  (None, 50, 32)      0           ['ParticleNet_EdgeConv0_sc_bn[0][\n",
            " ambda)                                                          0]']                             \n",
            "                                                                                                  \n",
            " tf.math.reduce_mean_12 (TFOpLa  (None, 50, 32)      0           ['ParticleNet_EdgeConv0_act2[0][0\n",
            " mbda)                                                           ]']                              \n",
            "                                                                                                  \n",
            " tf.__operators__.add_17 (TFOpL  (None, 50, 32)      0           ['tf.compat.v1.squeeze_13[0][0]',\n",
            " ambda)                                                           'tf.math.reduce_mean_12[0][0]'] \n",
            "                                                                                                  \n",
            " ParticleNet_EdgeConv0_sc_act (  (None, 50, 32)      0           ['tf.__operators__.add_17[0][0]']\n",
            " Activation)                                                                                      \n",
            "                                                                                                  \n",
            " tf.math.add_9 (TFOpLambda)     (None, 50, 32)       0           ['tf.math.multiply_32[0][0]',    \n",
            "                                                                  'ParticleNet_EdgeConv0_sc_act[0]\n",
            "                                                                 [0]']                            \n",
            "                                                                                                  \n",
            " tf.compat.v1.transpose_18 (TFO  (None, 32, 50)      0           ['tf.math.add_9[0][0]']          \n",
            " pLambda)                                                                                         \n",
            "                                                                                                  \n",
            " tf.math.multiply_36 (TFOpLambd  (None, 50, 32)      0           ['tf.math.add_9[0][0]',          \n",
            " a)                                                               'tf.math.add_9[0][0]']          \n",
            "                                                                                                  \n",
            " tf.linalg.matmul_9 (TFOpLambda  (None, 50, 50)      0           ['tf.math.add_9[0][0]',          \n",
            " )                                                                'tf.compat.v1.transpose_18[0][0]\n",
            "                                                                 ']                               \n",
            "                                                                                                  \n",
            " tf.math.multiply_37 (TFOpLambd  (None, 50, 32)      0           ['tf.math.add_9[0][0]',          \n",
            " a)                                                               'tf.math.add_9[0][0]']          \n",
            "                                                                                                  \n",
            " tf.math.reduce_sum_18 (TFOpLam  (None, 50, 1)       0           ['tf.math.multiply_36[0][0]']    \n",
            " bda)                                                                                             \n",
            "                                                                                                  \n",
            " tf.math.multiply_38 (TFOpLambd  (None, 50, 50)      0           ['tf.linalg.matmul_9[0][0]']     \n",
            " a)                                                                                               \n",
            "                                                                                                  \n",
            " tf.math.reduce_sum_19 (TFOpLam  (None, 50, 1)       0           ['tf.math.multiply_37[0][0]']    \n",
            " bda)                                                                                             \n",
            "                                                                                                  \n",
            " tf.math.subtract_18 (TFOpLambd  (None, 50, 50)      0           ['tf.math.reduce_sum_18[0][0]',  \n",
            " a)                                                               'tf.math.multiply_38[0][0]']    \n",
            "                                                                                                  \n",
            " tf.compat.v1.transpose_19 (TFO  (None, 1, 50)       0           ['tf.math.reduce_sum_19[0][0]']  \n",
            " pLambda)                                                                                         \n",
            "                                                                                                  \n",
            " tf.compat.v1.shape_9 (TFOpLamb  (3,)                0           ['ParticleNet_EdgeConv0_sc_act[0]\n",
            " da)                                                             [0]']                            \n",
            "                                                                                                  \n",
            " tf.__operators__.add_18 (TFOpL  (None, 50, 50)      0           ['tf.math.subtract_18[0][0]',    \n",
            " ambda)                                                           'tf.compat.v1.transpose_19[0][0]\n",
            "                                                                 ']                               \n",
            "                                                                                                  \n",
            " tf.__operators__.getitem_19 (S  ()                  0           ['tf.compat.v1.shape_9[0][0]']   \n",
            " licingOpLambda)                                                                                  \n",
            "                                                                                                  \n",
            " tf.math.negative_9 (TFOpLambda  (None, 50, 50)      0           ['tf.__operators__.add_18[0][0]']\n",
            " )                                                                                                \n",
            "                                                                                                  \n",
            " tf.range_9 (TFOpLambda)        (None,)              0           ['tf.__operators__.getitem_19[0][\n",
            "                                                                 0]']                             \n",
            "                                                                                                  \n",
            " tf.math.top_k_9 (TFOpLambda)   TopKV2(values=(None  0           ['tf.math.negative_9[0][0]']     \n",
            "                                , 50, 8),                                                         \n",
            "                                 indices=(None, 50,                                               \n",
            "                                 8))                                                              \n",
            "                                                                                                  \n",
            " tf.reshape_9 (TFOpLambda)      (None, 1, 1, 1)      0           ['tf.range_9[0][0]']             \n",
            "                                                                                                  \n",
            " tf.__operators__.getitem_18 (S  (None, 50, 7)       0           ['tf.math.top_k_9[0][1]']        \n",
            " licingOpLambda)                                                                                  \n",
            "                                                                                                  \n",
            " tf.tile_18 (TFOpLambda)        (None, 50, 7, 1)     0           ['tf.reshape_9[0][0]']           \n",
            "                                                                                                  \n",
            " tf.expand_dims_32 (TFOpLambda)  (None, 50, 7, 1)    0           ['tf.__operators__.getitem_18[0][\n",
            "                                                                 0]']                             \n",
            "                                                                                                  \n",
            " tf.expand_dims_33 (TFOpLambda)  (None, 50, 1, 32)   0           ['ParticleNet_EdgeConv0_sc_act[0]\n",
            "                                                                 [0]']                            \n",
            "                                                                                                  \n",
            " tf.concat_18 (TFOpLambda)      (None, 50, 7, 2)     0           ['tf.tile_18[0][0]',             \n",
            "                                                                  'tf.expand_dims_32[0][0]']      \n",
            "                                                                                                  \n",
            " tf.tile_19 (TFOpLambda)        (None, 50, 7, 32)    0           ['tf.expand_dims_33[0][0]']      \n",
            "                                                                                                  \n",
            " tf.compat.v1.gather_nd_9 (TFOp  (None, 50, 7, 32)   0           ['ParticleNet_EdgeConv0_sc_act[0]\n",
            " Lambda)                                                         [0]',                            \n",
            "                                                                  'tf.concat_18[0][0]']           \n",
            "                                                                                                  \n",
            " tf.math.subtract_19 (TFOpLambd  (None, 50, 7, 32)   0           ['tf.compat.v1.gather_nd_9[0][0]'\n",
            " a)                                                              , 'tf.tile_19[0][0]']            \n",
            "                                                                                                  \n",
            " tf.concat_19 (TFOpLambda)      (None, 50, 7, 64)    0           ['tf.tile_19[0][0]',             \n",
            "                                                                  'tf.math.subtract_19[0][0]']    \n",
            "                                                                                                  \n",
            " ParticleNet_EdgeConv1_conv0 (C  (None, 50, 7, 64)   4096        ['tf.concat_19[0][0]']           \n",
            " onv2D)                                                                                           \n",
            "                                                                                                  \n",
            " ParticleNet_EdgeConv1_bn0 (Bat  (None, 50, 7, 64)   256         ['ParticleNet_EdgeConv1_conv0[0][\n",
            " chNormalization)                                                0]']                             \n",
            "                                                                                                  \n",
            " ParticleNet_EdgeConv1_act0 (Ac  (None, 50, 7, 64)   0           ['ParticleNet_EdgeConv1_bn0[0][0]\n",
            " tivation)                                                       ']                               \n",
            "                                                                                                  \n",
            " ParticleNet_EdgeConv1_conv1 (C  (None, 50, 7, 64)   4096        ['ParticleNet_EdgeConv1_act0[0][0\n",
            " onv2D)                                                          ]']                              \n",
            "                                                                                                  \n",
            " ParticleNet_EdgeConv1_bn1 (Bat  (None, 50, 7, 64)   256         ['ParticleNet_EdgeConv1_conv1[0][\n",
            " chNormalization)                                                0]']                             \n",
            "                                                                                                  \n",
            " ParticleNet_EdgeConv1_act1 (Ac  (None, 50, 7, 64)   0           ['ParticleNet_EdgeConv1_bn1[0][0]\n",
            " tivation)                                                       ']                               \n",
            "                                                                                                  \n",
            " tf.expand_dims_34 (TFOpLambda)  (None, 50, 1, 32)   0           ['ParticleNet_EdgeConv0_sc_act[0]\n",
            "                                                                 [0]']                            \n",
            "                                                                                                  \n",
            " ParticleNet_EdgeConv1_conv2 (C  (None, 50, 7, 64)   4096        ['ParticleNet_EdgeConv1_act1[0][0\n",
            " onv2D)                                                          ]']                              \n",
            "                                                                                                  \n",
            " ParticleNet_EdgeConv1_sc_conv   (None, 50, 1, 64)   2048        ['tf.expand_dims_34[0][0]']      \n",
            " (Conv2D)                                                                                         \n",
            "                                                                                                  \n",
            " ParticleNet_EdgeConv1_bn2 (Bat  (None, 50, 7, 64)   256         ['ParticleNet_EdgeConv1_conv2[0][\n",
            " chNormalization)                                                0]']                             \n",
            "                                                                                                  \n",
            " ParticleNet_EdgeConv1_sc_bn (B  (None, 50, 1, 64)   256         ['ParticleNet_EdgeConv1_sc_conv[0\n",
            " atchNormalization)                                              ][0]']                           \n",
            "                                                                                                  \n",
            " ParticleNet_EdgeConv1_act2 (Ac  (None, 50, 7, 64)   0           ['ParticleNet_EdgeConv1_bn2[0][0]\n",
            " tivation)                                                       ']                               \n",
            "                                                                                                  \n",
            " tf.compat.v1.squeeze_14 (TFOpL  (None, 50, 64)      0           ['ParticleNet_EdgeConv1_sc_bn[0][\n",
            " ambda)                                                          0]']                             \n",
            "                                                                                                  \n",
            " tf.math.reduce_mean_13 (TFOpLa  (None, 50, 64)      0           ['ParticleNet_EdgeConv1_act2[0][0\n",
            " mbda)                                                           ]']                              \n",
            "                                                                                                  \n",
            " tf.__operators__.add_19 (TFOpL  (None, 50, 64)      0           ['tf.compat.v1.squeeze_14[0][0]',\n",
            " ambda)                                                           'tf.math.reduce_mean_13[0][0]'] \n",
            "                                                                                                  \n",
            " ParticleNet_EdgeConv1_sc_act (  (None, 50, 64)      0           ['tf.__operators__.add_19[0][0]']\n",
            " Activation)                                                                                      \n",
            "                                                                                                  \n",
            " tf.math.multiply_39 (TFOpLambd  (None, 50, 64)      0           ['ParticleNet_EdgeConv1_sc_act[0]\n",
            " a)                                                              [0]',                            \n",
            "                                                                  'tf.cast_8[0][0]']              \n",
            "                                                                                                  \n",
            " tf.math.reduce_mean_14 (TFOpLa  (None, 64)          0           ['tf.math.multiply_39[0][0]']    \n",
            " mbda)                                                                                            \n",
            "                                                                                                  \n",
            " dense_8 (Dense)                (None, 128)          8320        ['tf.math.reduce_mean_14[0][0]'] \n",
            "                                                                                                  \n",
            " dropout_4 (Dropout)            (None, 128)          0           ['dense_8[0][0]']                \n",
            "                                                                                                  \n",
            " dense_9 (Dense)                (None, 1)            129         ['dropout_4[0][0]']              \n",
            "                                                                                                  \n",
            "==================================================================================================\n",
            "Total params: 26,569\n",
            "Trainable params: 25,797\n",
            "Non-trainable params: 772\n",
            "__________________________________________________________________________________________________\n"
          ]
        }
      ],
      "source": [
        "model.compile(loss='binary_crossentropy',\n",
        "              optimizer=keras.optimizers.Adam(learning_rate=lr_schedule(0)),\n",
        "              metrics=['accuracy', keras.metrics.Precision(), keras.metrics.Recall()])\n",
        "model.summary()"
      ]
    },
    {
      "cell_type": "code",
      "execution_count": null,
      "metadata": {
        "id": "hc6CsvjZ2g84"
      },
      "outputs": [],
      "source": [
        "# Prepare model model saving directory.\n",
        "import os\n",
        "save_dir = 'model_checkpoints'\n",
        "model_name = '%s_model.{epoch:03d}.h5' % model_type\n",
        "if not os.path.isdir(save_dir):\n",
        "    os.makedirs(save_dir)\n",
        "filepath = os.path.join(save_dir, model_name)\n",
        "\n",
        "# Prepare callbacks for model saving and for learning rate adjustment.\n",
        "checkpoint = keras.callbacks.ModelCheckpoint(filepath=filepath,\n",
        "                             monitor='val_acc',\n",
        "                             verbose=1,\n",
        "                             save_best_only=True)\n",
        "\n",
        "lr_scheduler = keras.callbacks.LearningRateScheduler(lr_schedule)\n",
        "progress_bar = keras.callbacks.ProgbarLogger()\n",
        "callbacks = [checkpoint, lr_scheduler, progress_bar]"
      ]
    },
    {
      "cell_type": "code",
      "source": [
        "#val_sample_weights = val_targets*class_weight[1] + (1-val_targets)*class_weight[0]\n",
        "#test_sample_weights = val_targets*class_weight[1] + (1-val_targets)*class_weight[0]"
      ],
      "metadata": {
        "id": "hRxzbSiumPku"
      },
      "execution_count": null,
      "outputs": []
    },
    {
      "cell_type": "code",
      "execution_count": null,
      "metadata": {
        "scrolled": true,
        "id": "98kE3T-I2g85",
        "outputId": "2b75776b-d534-43ec-92ae-72a75fee2d5c",
        "colab": {
          "base_uri": "https://localhost:8080/",
          "height": 662
        }
      },
      "outputs": [
        {
          "output_type": "stream",
          "name": "stdout",
          "text": [
            "Epoch 1/10\n",
            "271/271 [==============================] - 65s 231ms/step - loss: 0.3496 - accuracy: 0.8622 - precision_2: 0.8691 - recall_2: 0.5769 - val_loss: 0.4705 - val_accuracy: 0.7701 - val_precision_2: 0.5516 - val_recall_2: 0.8193\n",
            "Epoch 2/10\n",
            "271/271 [==============================] - 61s 224ms/step - loss: 0.3158 - accuracy: 0.8794 - precision_2: 0.8886 - recall_2: 0.6331 - val_loss: 0.3362 - val_accuracy: 0.8729 - val_precision_2: 0.9240 - val_recall_2: 0.5794\n",
            "Epoch 3/10\n",
            "271/271 [==============================] - 60s 223ms/step - loss: 0.3128 - accuracy: 0.8809 - precision_2: 0.8932 - recall_2: 0.6354 - val_loss: 0.3226 - val_accuracy: 0.8771 - val_precision_2: 0.8398 - val_recall_2: 0.6766\n",
            "Epoch 4/10\n",
            "271/271 [==============================] - 61s 224ms/step - loss: 0.3119 - accuracy: 0.8810 - precision_2: 0.8937 - recall_2: 0.6354 - val_loss: 0.3116 - val_accuracy: 0.8814 - val_precision_2: 0.9131 - val_recall_2: 0.6227\n",
            "Epoch 5/10\n",
            "271/271 [==============================] - 60s 223ms/step - loss: 0.3115 - accuracy: 0.8811 - precision_2: 0.8935 - recall_2: 0.6359 - val_loss: 0.3096 - val_accuracy: 0.8822 - val_precision_2: 0.8785 - val_recall_2: 0.6568\n",
            "Epoch 6/10\n",
            "271/271 [==============================] - 60s 223ms/step - loss: 0.3103 - accuracy: 0.8817 - precision_2: 0.8948 - recall_2: 0.6373 - val_loss: 0.3143 - val_accuracy: 0.8801 - val_precision_2: 0.8491 - val_recall_2: 0.6789\n",
            "Epoch 7/10\n",
            " 39/271 [===>..........................] - ETA: 47s - loss: 0.3129 - accuracy: 0.8807 - precision_2: 0.8977 - recall_2: 0.6307"
          ]
        },
        {
          "output_type": "error",
          "ename": "KeyboardInterrupt",
          "evalue": "ignored",
          "traceback": [
            "\u001b[0;31m---------------------------------------------------------------------------\u001b[0m",
            "\u001b[0;31mKeyboardInterrupt\u001b[0m                         Traceback (most recent call last)",
            "\u001b[0;32m<ipython-input-90-4e38dfb2e1e5>\u001b[0m in \u001b[0;36m<module>\u001b[0;34m()\u001b[0m\n\u001b[1;32m      5\u001b[0m     \u001b[0mepochs\u001b[0m\u001b[0;34m=\u001b[0m\u001b[0;36m10\u001b[0m\u001b[0;34m,\u001b[0m \u001b[0;31m# --- train only for 1 epoch here for demonstration ---\u001b[0m\u001b[0;34m\u001b[0m\u001b[0;34m\u001b[0m\u001b[0m\n\u001b[1;32m      6\u001b[0m     \u001b[0mvalidation_data\u001b[0m\u001b[0;34m=\u001b[0m\u001b[0;34m(\u001b[0m\u001b[0;34m[\u001b[0m\u001b[0mval_data\u001b[0m\u001b[0;34m[\u001b[0m\u001b[0;34m\"points\"\u001b[0m\u001b[0;34m]\u001b[0m\u001b[0;34m,\u001b[0m \u001b[0mval_data\u001b[0m\u001b[0;34m[\u001b[0m\u001b[0;34m\"features\"\u001b[0m\u001b[0;34m]\u001b[0m\u001b[0;34m,\u001b[0m \u001b[0mval_data\u001b[0m\u001b[0;34m[\u001b[0m\u001b[0;34m\"mask\"\u001b[0m\u001b[0;34m]\u001b[0m\u001b[0;34m]\u001b[0m\u001b[0;34m,\u001b[0m \u001b[0mval_label\u001b[0m\u001b[0;34m)\u001b[0m\u001b[0;34m,\u001b[0m\u001b[0;34m\u001b[0m\u001b[0;34m\u001b[0m\u001b[0m\n\u001b[0;32m----> 7\u001b[0;31m     \u001b[0mshuffle\u001b[0m\u001b[0;34m=\u001b[0m\u001b[0;32mTrue\u001b[0m\u001b[0;34m,\u001b[0m\u001b[0;34m\u001b[0m\u001b[0;34m\u001b[0m\u001b[0m\n\u001b[0m\u001b[1;32m      8\u001b[0m     \u001b[0;31m#callbacks=callbacks\u001b[0m\u001b[0;34m\u001b[0m\u001b[0;34m\u001b[0m\u001b[0;34m\u001b[0m\u001b[0m\n\u001b[1;32m      9\u001b[0m )\n",
            "\u001b[0;32m/usr/local/lib/python3.7/dist-packages/keras/utils/traceback_utils.py\u001b[0m in \u001b[0;36merror_handler\u001b[0;34m(*args, **kwargs)\u001b[0m\n\u001b[1;32m     62\u001b[0m     \u001b[0mfiltered_tb\u001b[0m \u001b[0;34m=\u001b[0m \u001b[0;32mNone\u001b[0m\u001b[0;34m\u001b[0m\u001b[0;34m\u001b[0m\u001b[0m\n\u001b[1;32m     63\u001b[0m     \u001b[0;32mtry\u001b[0m\u001b[0;34m:\u001b[0m\u001b[0;34m\u001b[0m\u001b[0;34m\u001b[0m\u001b[0m\n\u001b[0;32m---> 64\u001b[0;31m       \u001b[0;32mreturn\u001b[0m \u001b[0mfn\u001b[0m\u001b[0;34m(\u001b[0m\u001b[0;34m*\u001b[0m\u001b[0margs\u001b[0m\u001b[0;34m,\u001b[0m \u001b[0;34m**\u001b[0m\u001b[0mkwargs\u001b[0m\u001b[0;34m)\u001b[0m\u001b[0;34m\u001b[0m\u001b[0;34m\u001b[0m\u001b[0m\n\u001b[0m\u001b[1;32m     65\u001b[0m     \u001b[0;32mexcept\u001b[0m \u001b[0mException\u001b[0m \u001b[0;32mas\u001b[0m \u001b[0me\u001b[0m\u001b[0;34m:\u001b[0m  \u001b[0;31m# pylint: disable=broad-except\u001b[0m\u001b[0;34m\u001b[0m\u001b[0;34m\u001b[0m\u001b[0m\n\u001b[1;32m     66\u001b[0m       \u001b[0mfiltered_tb\u001b[0m \u001b[0;34m=\u001b[0m \u001b[0m_process_traceback_frames\u001b[0m\u001b[0;34m(\u001b[0m\u001b[0me\u001b[0m\u001b[0;34m.\u001b[0m\u001b[0m__traceback__\u001b[0m\u001b[0;34m)\u001b[0m\u001b[0;34m\u001b[0m\u001b[0;34m\u001b[0m\u001b[0m\n",
            "\u001b[0;32m/usr/local/lib/python3.7/dist-packages/keras/engine/training.py\u001b[0m in \u001b[0;36mfit\u001b[0;34m(self, x, y, batch_size, epochs, verbose, callbacks, validation_split, validation_data, shuffle, class_weight, sample_weight, initial_epoch, steps_per_epoch, validation_steps, validation_batch_size, validation_freq, max_queue_size, workers, use_multiprocessing)\u001b[0m\n\u001b[1;32m   1382\u001b[0m                 _r=1):\n\u001b[1;32m   1383\u001b[0m               \u001b[0mcallbacks\u001b[0m\u001b[0;34m.\u001b[0m\u001b[0mon_train_batch_begin\u001b[0m\u001b[0;34m(\u001b[0m\u001b[0mstep\u001b[0m\u001b[0;34m)\u001b[0m\u001b[0;34m\u001b[0m\u001b[0;34m\u001b[0m\u001b[0m\n\u001b[0;32m-> 1384\u001b[0;31m               \u001b[0mtmp_logs\u001b[0m \u001b[0;34m=\u001b[0m \u001b[0mself\u001b[0m\u001b[0;34m.\u001b[0m\u001b[0mtrain_function\u001b[0m\u001b[0;34m(\u001b[0m\u001b[0miterator\u001b[0m\u001b[0;34m)\u001b[0m\u001b[0;34m\u001b[0m\u001b[0;34m\u001b[0m\u001b[0m\n\u001b[0m\u001b[1;32m   1385\u001b[0m               \u001b[0;32mif\u001b[0m \u001b[0mdata_handler\u001b[0m\u001b[0;34m.\u001b[0m\u001b[0mshould_sync\u001b[0m\u001b[0;34m:\u001b[0m\u001b[0;34m\u001b[0m\u001b[0;34m\u001b[0m\u001b[0m\n\u001b[1;32m   1386\u001b[0m                 \u001b[0mcontext\u001b[0m\u001b[0;34m.\u001b[0m\u001b[0masync_wait\u001b[0m\u001b[0;34m(\u001b[0m\u001b[0;34m)\u001b[0m\u001b[0;34m\u001b[0m\u001b[0;34m\u001b[0m\u001b[0m\n",
            "\u001b[0;32m/usr/local/lib/python3.7/dist-packages/tensorflow/python/util/traceback_utils.py\u001b[0m in \u001b[0;36merror_handler\u001b[0;34m(*args, **kwargs)\u001b[0m\n\u001b[1;32m    148\u001b[0m     \u001b[0mfiltered_tb\u001b[0m \u001b[0;34m=\u001b[0m \u001b[0;32mNone\u001b[0m\u001b[0;34m\u001b[0m\u001b[0;34m\u001b[0m\u001b[0m\n\u001b[1;32m    149\u001b[0m     \u001b[0;32mtry\u001b[0m\u001b[0;34m:\u001b[0m\u001b[0;34m\u001b[0m\u001b[0;34m\u001b[0m\u001b[0m\n\u001b[0;32m--> 150\u001b[0;31m       \u001b[0;32mreturn\u001b[0m \u001b[0mfn\u001b[0m\u001b[0;34m(\u001b[0m\u001b[0;34m*\u001b[0m\u001b[0margs\u001b[0m\u001b[0;34m,\u001b[0m \u001b[0;34m**\u001b[0m\u001b[0mkwargs\u001b[0m\u001b[0;34m)\u001b[0m\u001b[0;34m\u001b[0m\u001b[0;34m\u001b[0m\u001b[0m\n\u001b[0m\u001b[1;32m    151\u001b[0m     \u001b[0;32mexcept\u001b[0m \u001b[0mException\u001b[0m \u001b[0;32mas\u001b[0m \u001b[0me\u001b[0m\u001b[0;34m:\u001b[0m\u001b[0;34m\u001b[0m\u001b[0;34m\u001b[0m\u001b[0m\n\u001b[1;32m    152\u001b[0m       \u001b[0mfiltered_tb\u001b[0m \u001b[0;34m=\u001b[0m \u001b[0m_process_traceback_frames\u001b[0m\u001b[0;34m(\u001b[0m\u001b[0me\u001b[0m\u001b[0;34m.\u001b[0m\u001b[0m__traceback__\u001b[0m\u001b[0;34m)\u001b[0m\u001b[0;34m\u001b[0m\u001b[0;34m\u001b[0m\u001b[0m\n",
            "\u001b[0;32m/usr/local/lib/python3.7/dist-packages/tensorflow/python/eager/def_function.py\u001b[0m in \u001b[0;36m__call__\u001b[0;34m(self, *args, **kwds)\u001b[0m\n\u001b[1;32m    913\u001b[0m \u001b[0;34m\u001b[0m\u001b[0m\n\u001b[1;32m    914\u001b[0m       \u001b[0;32mwith\u001b[0m \u001b[0mOptionalXlaContext\u001b[0m\u001b[0;34m(\u001b[0m\u001b[0mself\u001b[0m\u001b[0;34m.\u001b[0m\u001b[0m_jit_compile\u001b[0m\u001b[0;34m)\u001b[0m\u001b[0;34m:\u001b[0m\u001b[0;34m\u001b[0m\u001b[0;34m\u001b[0m\u001b[0m\n\u001b[0;32m--> 915\u001b[0;31m         \u001b[0mresult\u001b[0m \u001b[0;34m=\u001b[0m \u001b[0mself\u001b[0m\u001b[0;34m.\u001b[0m\u001b[0m_call\u001b[0m\u001b[0;34m(\u001b[0m\u001b[0;34m*\u001b[0m\u001b[0margs\u001b[0m\u001b[0;34m,\u001b[0m \u001b[0;34m**\u001b[0m\u001b[0mkwds\u001b[0m\u001b[0;34m)\u001b[0m\u001b[0;34m\u001b[0m\u001b[0;34m\u001b[0m\u001b[0m\n\u001b[0m\u001b[1;32m    916\u001b[0m \u001b[0;34m\u001b[0m\u001b[0m\n\u001b[1;32m    917\u001b[0m       \u001b[0mnew_tracing_count\u001b[0m \u001b[0;34m=\u001b[0m \u001b[0mself\u001b[0m\u001b[0;34m.\u001b[0m\u001b[0mexperimental_get_tracing_count\u001b[0m\u001b[0;34m(\u001b[0m\u001b[0;34m)\u001b[0m\u001b[0;34m\u001b[0m\u001b[0;34m\u001b[0m\u001b[0m\n",
            "\u001b[0;32m/usr/local/lib/python3.7/dist-packages/tensorflow/python/eager/def_function.py\u001b[0m in \u001b[0;36m_call\u001b[0;34m(self, *args, **kwds)\u001b[0m\n\u001b[1;32m    945\u001b[0m       \u001b[0;31m# In this case we have created variables on the first call, so we run the\u001b[0m\u001b[0;34m\u001b[0m\u001b[0;34m\u001b[0m\u001b[0;34m\u001b[0m\u001b[0m\n\u001b[1;32m    946\u001b[0m       \u001b[0;31m# defunned version which is guaranteed to never create variables.\u001b[0m\u001b[0;34m\u001b[0m\u001b[0;34m\u001b[0m\u001b[0;34m\u001b[0m\u001b[0m\n\u001b[0;32m--> 947\u001b[0;31m       \u001b[0;32mreturn\u001b[0m \u001b[0mself\u001b[0m\u001b[0;34m.\u001b[0m\u001b[0m_stateless_fn\u001b[0m\u001b[0;34m(\u001b[0m\u001b[0;34m*\u001b[0m\u001b[0margs\u001b[0m\u001b[0;34m,\u001b[0m \u001b[0;34m**\u001b[0m\u001b[0mkwds\u001b[0m\u001b[0;34m)\u001b[0m  \u001b[0;31m# pylint: disable=not-callable\u001b[0m\u001b[0;34m\u001b[0m\u001b[0;34m\u001b[0m\u001b[0m\n\u001b[0m\u001b[1;32m    948\u001b[0m     \u001b[0;32melif\u001b[0m \u001b[0mself\u001b[0m\u001b[0;34m.\u001b[0m\u001b[0m_stateful_fn\u001b[0m \u001b[0;32mis\u001b[0m \u001b[0;32mnot\u001b[0m \u001b[0;32mNone\u001b[0m\u001b[0;34m:\u001b[0m\u001b[0;34m\u001b[0m\u001b[0;34m\u001b[0m\u001b[0m\n\u001b[1;32m    949\u001b[0m       \u001b[0;31m# Release the lock early so that multiple threads can perform the call\u001b[0m\u001b[0;34m\u001b[0m\u001b[0;34m\u001b[0m\u001b[0;34m\u001b[0m\u001b[0m\n",
            "\u001b[0;32m/usr/local/lib/python3.7/dist-packages/tensorflow/python/eager/function.py\u001b[0m in \u001b[0;36m__call__\u001b[0;34m(self, *args, **kwargs)\u001b[0m\n\u001b[1;32m   2955\u001b[0m        filtered_flat_args) = self._maybe_define_function(args, kwargs)\n\u001b[1;32m   2956\u001b[0m     return graph_function._call_flat(\n\u001b[0;32m-> 2957\u001b[0;31m         filtered_flat_args, captured_inputs=graph_function.captured_inputs)  # pylint: disable=protected-access\n\u001b[0m\u001b[1;32m   2958\u001b[0m \u001b[0;34m\u001b[0m\u001b[0m\n\u001b[1;32m   2959\u001b[0m   \u001b[0;34m@\u001b[0m\u001b[0mproperty\u001b[0m\u001b[0;34m\u001b[0m\u001b[0;34m\u001b[0m\u001b[0m\n",
            "\u001b[0;32m/usr/local/lib/python3.7/dist-packages/tensorflow/python/eager/function.py\u001b[0m in \u001b[0;36m_call_flat\u001b[0;34m(self, args, captured_inputs, cancellation_manager)\u001b[0m\n\u001b[1;32m   1852\u001b[0m       \u001b[0;31m# No tape is watching; skip to running the function.\u001b[0m\u001b[0;34m\u001b[0m\u001b[0;34m\u001b[0m\u001b[0;34m\u001b[0m\u001b[0m\n\u001b[1;32m   1853\u001b[0m       return self._build_call_outputs(self._inference_function.call(\n\u001b[0;32m-> 1854\u001b[0;31m           ctx, args, cancellation_manager=cancellation_manager))\n\u001b[0m\u001b[1;32m   1855\u001b[0m     forward_backward = self._select_forward_and_backward_functions(\n\u001b[1;32m   1856\u001b[0m         \u001b[0margs\u001b[0m\u001b[0;34m,\u001b[0m\u001b[0;34m\u001b[0m\u001b[0;34m\u001b[0m\u001b[0m\n",
            "\u001b[0;32m/usr/local/lib/python3.7/dist-packages/tensorflow/python/eager/function.py\u001b[0m in \u001b[0;36mcall\u001b[0;34m(self, ctx, args, cancellation_manager)\u001b[0m\n\u001b[1;32m    502\u001b[0m               \u001b[0minputs\u001b[0m\u001b[0;34m=\u001b[0m\u001b[0margs\u001b[0m\u001b[0;34m,\u001b[0m\u001b[0;34m\u001b[0m\u001b[0;34m\u001b[0m\u001b[0m\n\u001b[1;32m    503\u001b[0m               \u001b[0mattrs\u001b[0m\u001b[0;34m=\u001b[0m\u001b[0mattrs\u001b[0m\u001b[0;34m,\u001b[0m\u001b[0;34m\u001b[0m\u001b[0;34m\u001b[0m\u001b[0m\n\u001b[0;32m--> 504\u001b[0;31m               ctx=ctx)\n\u001b[0m\u001b[1;32m    505\u001b[0m         \u001b[0;32melse\u001b[0m\u001b[0;34m:\u001b[0m\u001b[0;34m\u001b[0m\u001b[0;34m\u001b[0m\u001b[0m\n\u001b[1;32m    506\u001b[0m           outputs = execute.execute_with_cancellation(\n",
            "\u001b[0;32m/usr/local/lib/python3.7/dist-packages/tensorflow/python/eager/execute.py\u001b[0m in \u001b[0;36mquick_execute\u001b[0;34m(op_name, num_outputs, inputs, attrs, ctx, name)\u001b[0m\n\u001b[1;32m     53\u001b[0m     \u001b[0mctx\u001b[0m\u001b[0;34m.\u001b[0m\u001b[0mensure_initialized\u001b[0m\u001b[0;34m(\u001b[0m\u001b[0;34m)\u001b[0m\u001b[0;34m\u001b[0m\u001b[0;34m\u001b[0m\u001b[0m\n\u001b[1;32m     54\u001b[0m     tensors = pywrap_tfe.TFE_Py_Execute(ctx._handle, device_name, op_name,\n\u001b[0;32m---> 55\u001b[0;31m                                         inputs, attrs, num_outputs)\n\u001b[0m\u001b[1;32m     56\u001b[0m   \u001b[0;32mexcept\u001b[0m \u001b[0mcore\u001b[0m\u001b[0;34m.\u001b[0m\u001b[0m_NotOkStatusException\u001b[0m \u001b[0;32mas\u001b[0m \u001b[0me\u001b[0m\u001b[0;34m:\u001b[0m\u001b[0;34m\u001b[0m\u001b[0;34m\u001b[0m\u001b[0m\n\u001b[1;32m     57\u001b[0m     \u001b[0;32mif\u001b[0m \u001b[0mname\u001b[0m \u001b[0;32mis\u001b[0m \u001b[0;32mnot\u001b[0m \u001b[0;32mNone\u001b[0m\u001b[0;34m:\u001b[0m\u001b[0;34m\u001b[0m\u001b[0;34m\u001b[0m\u001b[0m\n",
            "\u001b[0;31mKeyboardInterrupt\u001b[0m: "
          ]
        }
      ],
      "source": [
        "model.fit(\n",
        "    [train_data[\"points\"], train_data[\"features\"], train_data[\"mask\"]], \n",
        "    train_label,\n",
        "    batch_size=batch_size,\n",
        "    epochs=10, # --- train only for 1 epoch here for demonstration ---\n",
        "    validation_data=([val_data[\"points\"], val_data[\"features\"], val_data[\"mask\"]], val_label),\n",
        "    shuffle=True,\n",
        "    #callbacks=callbacks\n",
        ")"
      ]
    },
    {
      "cell_type": "code",
      "execution_count": null,
      "metadata": {
        "id": "je0DvhbX2g86"
      },
      "outputs": [],
      "source": [
        ""
      ]
    }
  ],
  "metadata": {
    "kernelspec": {
      "display_name": "Python 3 (ipykernel)",
      "language": "python",
      "name": "python3"
    },
    "language_info": {
      "codemirror_mode": {
        "name": "ipython",
        "version": 3
      },
      "file_extension": ".py",
      "mimetype": "text/x-python",
      "name": "python",
      "nbconvert_exporter": "python",
      "pygments_lexer": "ipython3",
      "version": "3.8.10"
    },
    "colab": {
      "name": "keras_train.ipynb",
      "provenance": []
    },
    "accelerator": "GPU",
    "gpuClass": "standard"
  },
  "nbformat": 4,
  "nbformat_minor": 0
}