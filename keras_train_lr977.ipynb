{
  "cells": [
    {
      "cell_type": "code",
      "execution_count": 22,
      "metadata": {
        "id": "qIv6ffW82g8W"
      },
      "outputs": [],
      "source": [
        "import numpy as np\n",
        "from sklearn.metrics import precision_recall_curve\n",
        "import matplotlib.pyplot as plt"
      ]
    },
    {
      "cell_type": "code",
      "execution_count": 23,
      "metadata": {
        "id": "rabKUfn02g8b"
      },
      "outputs": [],
      "source": [
        "import logging\n",
        "logging.basicConfig(level=logging.INFO, format='[%(asctime)s] %(levelname)s: %(message)s')"
      ]
    },
    {
      "cell_type": "code",
      "source": [
        "!wget https://raw.githubusercontent.com/raeubaen/RadioMonteCarlo/main/tf_keras_model.py -O tf_keras_model.py"
      ],
      "metadata": {
        "id": "3gI9EJ0R2j5v",
        "outputId": "ed68535b-a732-4ddd-ff92-a5dac804bf22",
        "colab": {
          "base_uri": "https://localhost:8080/"
        }
      },
      "execution_count": 24,
      "outputs": [
        {
          "output_type": "stream",
          "name": "stdout",
          "text": [
            "--2022-06-16 21:17:50--  https://raw.githubusercontent.com/raeubaen/RadioMonteCarlo/main/tf_keras_model.py\n",
            "Resolving raw.githubusercontent.com (raw.githubusercontent.com)... 185.199.108.133, 185.199.109.133, 185.199.110.133, ...\n",
            "Connecting to raw.githubusercontent.com (raw.githubusercontent.com)|185.199.108.133|:443... connected.\n",
            "HTTP request sent, awaiting response... 200 OK\n",
            "Length: 6795 (6.6K) [text/plain]\n",
            "Saving to: ‘tf_keras_model.py’\n",
            "\n",
            "\rtf_keras_model.py     0%[                    ]       0  --.-KB/s               \rtf_keras_model.py   100%[===================>]   6.64K  --.-KB/s    in 0s      \n",
            "\n",
            "2022-06-16 21:17:51 (64.6 MB/s) - ‘tf_keras_model.py’ saved [6795/6795]\n",
            "\n"
          ]
        }
      ]
    },
    {
      "cell_type": "code",
      "source": [
        "!wget https://raw.githubusercontent.com/raeubaen/RadioMonteCarlo/main/lr_finder.py -O lr_finder.py"
      ],
      "metadata": {
        "colab": {
          "base_uri": "https://localhost:8080/"
        },
        "id": "aiNg1oOpajGC",
        "outputId": "eec6f800-be13-4bf6-dce1-2f4f2fec0377"
      },
      "execution_count": 56,
      "outputs": [
        {
          "output_type": "stream",
          "name": "stdout",
          "text": [
            "--2022-06-16 21:36:05--  https://raw.githubusercontent.com/raeubaen/RadioMonteCarlo/main/lr_finder.py\n",
            "Resolving raw.githubusercontent.com (raw.githubusercontent.com)... 185.199.108.133, 185.199.109.133, 185.199.110.133, ...\n",
            "Connecting to raw.githubusercontent.com (raw.githubusercontent.com)|185.199.108.133|:443... connected.\n",
            "HTTP request sent, awaiting response... 200 OK\n",
            "Length: 815 [text/plain]\n",
            "Saving to: ‘lr_finder.py’\n",
            "\n",
            "\rlr_finder.py          0%[                    ]       0  --.-KB/s               \rlr_finder.py        100%[===================>]     815  --.-KB/s    in 0s      \n",
            "\n",
            "2022-06-16 21:36:05 (55.0 MB/s) - ‘lr_finder.py’ saved [815/815]\n",
            "\n"
          ]
        }
      ]
    },
    {
      "cell_type": "code",
      "source": [
        "from google.colab import drive\n",
        "drive.mount('/content/drive')"
      ],
      "metadata": {
        "colab": {
          "base_uri": "https://localhost:8080/"
        },
        "id": "qMTnts0q2qFw",
        "outputId": "a4ec626a-1969-4fb9-b3d0-7527e0049558"
      },
      "execution_count": 25,
      "outputs": [
        {
          "output_type": "stream",
          "name": "stdout",
          "text": [
            "Drive already mounted at /content/drive; to attempt to forcibly remount, call drive.mount(\"/content/drive\", force_remount=True).\n"
          ]
        }
      ]
    },
    {
      "cell_type": "code",
      "source": [
        "# VANNO TUTTI CAMBIATI\n",
        "\n",
        "# !wget https://www.dropbox.com/s/6s5khncrval4rz9/bkg_et.npy?dl=1 -o bkg_et.npy\n",
        "# !wget https://www.dropbox.com/s/qc7z1nhqh5xvpbg/bkg_mask.npy?dl=1 -o bkg_mask.npy\n",
        "# !wget https://www.dropbox.com/s/fs5e9wuhqtr66xh/bkg_xy.npy?dl=1 -o bkg_xy.npy\n",
        "# !wget https://www.dropbox.com/s/w0b94xzyk2wg7y4/signal_et.npy?dl=1 -o signal_et.npy\n",
        "# !wget https://www.dropbox.com/s/3k6b0u3zz65xnyf/signal_mask.npy?dl=1 -o signal_mask.npy\n",
        "# !wget https://www.dropbox.com/s/chcep3q8terrj4k/signal_xy.npy?dl=1 -o signal_xy.npy"
      ],
      "metadata": {
        "id": "Ez9vWLA_7qaP"
      },
      "execution_count": null,
      "outputs": []
    },
    {
      "cell_type": "code",
      "execution_count": 60,
      "metadata": {
        "id": "S3ag941H2g8d"
      },
      "outputs": [],
      "source": [
        "import tensorflow as tf\n",
        "from tensorflow import keras\n",
        "from tf_keras_model import get_particle_net_lite_custom, edge_conv\n",
        "from lr_finder import LRFind"
      ]
    },
    {
      "cell_type": "code",
      "execution_count": 61,
      "metadata": {
        "id": "Se9xg25k2g8f"
      },
      "outputs": [],
      "source": [
        "data_folder = \"/content/drive/MyDrive/datiML\"\n",
        "\n",
        "name_map = {\"points\": \"xy\", \"features\": \"et\", \"mask\": \"mask\", \"summary\": \"etrn\"} # va provato sia xy che rphi\n",
        "\n",
        "signal  = {key: np.load(f\"{data_folder}/signal_{ name_map[key]}.npy\") for key in name_map}\n",
        "\n",
        "mnbs    = {key: np.load(f\"{data_folder}/mnbs_{   name_map[key]}.npy\") for key in name_map}\n",
        "\n",
        "cosmics = {key: np.load(f\"{data_folder}/cosmics_{name_map[key]}.npy\") for key in name_map}"
      ]
    },
    {
      "cell_type": "code",
      "execution_count": 62,
      "metadata": {
        "id": "ZS-UFF0G2g8i"
      },
      "outputs": [],
      "source": [
        "S =  signal[\"mask\"].shape[0] #entries segnale\n",
        "F =    mnbs[\"mask\"].shape[0] #entries mnbs (background flash da fascio)\n",
        "C = cosmics[\"mask\"].shape[0] #entries cosmici\n",
        "\n",
        "N = S + F + C\n",
        "\n",
        "p = np.random.permutation(N) #"
      ]
    },
    {
      "cell_type": "code",
      "source": [
        "'''\n",
        "cluster su disco 0 in un injection cycle (1.33s):\n",
        "RMC: 330\n",
        "MNBS: 1.3M\n",
        "cosmici: 4\n",
        "\n",
        "cluster simulati su disco 0:\n",
        "RMC: 150k\n",
        "MNBS: 1.05M\n",
        "cosmici: 53k\n",
        "\n",
        "pesi:\n",
        "RMC: 66/150k \n",
        "MNBS: \n",
        "Cosmici: 4/53k\n",
        "'''\n",
        "\n",
        "signal_weight = 330/150e3 * 100\n",
        "mnbs_weight = 0.24 * 100\n",
        "cosmics_weight = 4/53e3 * 100\n",
        "\n",
        "'''\n",
        "il campione MC è stato filtrato con ROOT\n",
        "effettuando due tagli di preselezione:\n",
        "E del cluster > 50 MeV  &&  R del centroide del cluster > 480 mm\n",
        "'''\n",
        "\n",
        "print(end=\"\")"
      ],
      "metadata": {
        "id": "m1CHQLiEAXZQ"
      },
      "execution_count": 63,
      "outputs": []
    },
    {
      "cell_type": "code",
      "execution_count": 64,
      "metadata": {
        "id": "aXZ6qndr2g8m",
        "colab": {
          "base_uri": "https://localhost:8080/"
        },
        "outputId": "51bb5c09-0dff-44a3-879a-4fda116f204d"
      },
      "outputs": [
        {
          "output_type": "stream",
          "name": "stdout",
          "text": [
            "- Entries per signale, mnbs e cosmici:[41372, 1132, 41598]\n",
            "- Pesi per signale, mnbs e cosmici:[0.22, 24.0, 0.007547169811320755]\n"
          ]
        }
      ],
      "source": [
        "data = {key: np.concatenate( (signal[key], mnbs[key], cosmics[key]) )[p] for key in name_map}\n",
        "\n",
        "label_list = [1, 0, 0]\n",
        "entries_list = [S, F, C]\n",
        "weight_list = [signal_weight, mnbs_weight, cosmics_weight]\n",
        "\n",
        "print(f\"- Entries per signale, mnbs e cosmici:{entries_list}\")\n",
        "print(f\"- Pesi per signale, mnbs e cosmici:{weight_list}\")\n",
        "\n",
        "label = np.concatenate( \n",
        "    [ np.ones((e))*l for e, l in zip(entries_list,  label_list) ]\n",
        ")[p]\n",
        "\n",
        "sample_weight = np.concatenate( \n",
        "    [ np.ones((e))*w for e, w in zip(entries_list, weight_list) ]\n",
        ")[p]"
      ]
    },
    {
      "cell_type": "code",
      "source": [
        "from sklearn.preprocessing import StandardScaler\n",
        "scaler = StandardScaler()\n",
        "\n",
        "for key in [\"points\", \"features\"]:\n",
        "  data[key][data[\"mask\"].reshape(N, 50)] = scaler.fit_transform(data[key][data[\"mask\"].reshape(N, 50)])\n",
        "\n",
        "data[\"summary\"] = scaler.fit_transform(data[\"summary\"])"
      ],
      "metadata": {
        "id": "xTsETQ4OAxEd"
      },
      "execution_count": 65,
      "outputs": []
    },
    {
      "cell_type": "code",
      "execution_count": 66,
      "metadata": {
        "id": "ZFNtoo8s2g8s"
      },
      "outputs": [],
      "source": [
        "train_data  = {key: data[key][int(N*0.0) : int(N*0.7)] for key in name_map}\n",
        "test_data   = {key: data[key][int(N*0.7) : int(N*0.9)] for key in name_map}\n",
        "val_data    = {key: data[key][int(N*0.9) : int(N*1.0)] for key in name_map}\n",
        "\n",
        "train_label = label[int(N*0.0) : int(N*0.7)]\n",
        "test_label  = label[int(N*0.7) : int(N*0.9)]\n",
        "val_label   = label[int(N*0.9) : int(N*1.0)]\n",
        "\n",
        "train_weight = sample_weight[int(N*0.0) : int(N*0.7)]\n",
        "test_weight  = sample_weight[int(N*0.7) : int(N*0.9)]\n",
        "val_weight   = sample_weight[int(N*0.9) : int(N*1.0)]"
      ]
    },
    {
      "cell_type": "code",
      "execution_count": 84,
      "metadata": {
        "scrolled": true,
        "id": "nfCI_M2d2g8u"
      },
      "outputs": [],
      "source": [
        "input_shapes = {'points': (50, 2), 'features': (50, 2), 'mask':(50, 1)}\n",
        "\n",
        "model = get_particle_net_lite_custom(num_classes, input_shapes)"
      ]
    },
    {
      "cell_type": "code",
      "execution_count": 68,
      "metadata": {
        "id": "LFRJXncU2g8x"
      },
      "outputs": [],
      "source": [
        "# Training parameters\n",
        "batch_size = 1024 if 'lite' in model_type else 384\n",
        "epochs = 30"
      ]
    },
    {
      "cell_type": "code",
      "execution_count": 85,
      "metadata": {
        "id": "RHvU72JY2g8z"
      },
      "outputs": [],
      "source": [
        "def lr_schedule(epoch):\n",
        "    lr = 1e-2\n",
        "    if epoch > 10:\n",
        "        lr *= 0.1\n",
        "    elif epoch > 20:\n",
        "        lr *= 0.01\n",
        "    logging.info('Learning rate: %f'%lr)\n",
        "    return lr"
      ]
    },
    {
      "cell_type": "code",
      "execution_count": 86,
      "metadata": {
        "scrolled": true,
        "id": "2IlFncmO2g82",
        "outputId": "424d0501-c53a-4d5a-ed02-83f1719f12e6",
        "colab": {
          "base_uri": "https://localhost:8080/"
        }
      },
      "outputs": [
        {
          "output_type": "stream",
          "name": "stderr",
          "text": [
            "[2022-06-16 21:45:05,867] INFO: Learning rate: 0.010000\n"
          ]
        },
        {
          "output_type": "stream",
          "name": "stdout",
          "text": [
            "Model: \"ParticleNet\"\n",
            "__________________________________________________________________________________________________\n",
            " Layer (type)                   Output Shape         Param #     Connected to                     \n",
            "==================================================================================================\n",
            " mask (InputLayer)              [(None, 50, 1)]      0           []                               \n",
            "                                                                                                  \n",
            " tf.math.not_equal_3 (TFOpLambd  (None, 50, 1)       0           ['mask[0][0]']                   \n",
            " a)                                                                                               \n",
            "                                                                                                  \n",
            " tf.cast_6 (TFOpLambda)         (None, 50, 1)        0           ['tf.math.not_equal_3[0][0]']    \n",
            "                                                                                                  \n",
            " tf.math.equal_3 (TFOpLambda)   (None, 50, 1)        0           ['tf.cast_6[0][0]']              \n",
            "                                                                                                  \n",
            " tf.cast_7 (TFOpLambda)         (None, 50, 1)        0           ['tf.math.equal_3[0][0]']        \n",
            "                                                                                                  \n",
            " tf.math.multiply_24 (TFOpLambd  (None, 50, 1)       0           ['tf.cast_7[0][0]']              \n",
            " a)                                                                                               \n",
            "                                                                                                  \n",
            " points (InputLayer)            [(None, 50, 2)]      0           []                               \n",
            "                                                                                                  \n",
            " tf.math.add_6 (TFOpLambda)     (None, 50, 2)        0           ['tf.math.multiply_24[0][0]',    \n",
            "                                                                  'points[0][0]']                 \n",
            "                                                                                                  \n",
            " features (InputLayer)          [(None, 50, 2)]      0           []                               \n",
            "                                                                                                  \n",
            " tf.compat.v1.transpose_12 (TFO  (None, 2, 50)       0           ['tf.math.add_6[0][0]']          \n",
            " pLambda)                                                                                         \n",
            "                                                                                                  \n",
            " tf.expand_dims_21 (TFOpLambda)  (None, 50, 1, 2)    0           ['features[0][0]']               \n",
            "                                                                                                  \n",
            " tf.math.multiply_25 (TFOpLambd  (None, 50, 2)       0           ['tf.math.add_6[0][0]',          \n",
            " a)                                                               'tf.math.add_6[0][0]']          \n",
            "                                                                                                  \n",
            " tf.linalg.matmul_6 (TFOpLambda  (None, 50, 50)      0           ['tf.math.add_6[0][0]',          \n",
            " )                                                                'tf.compat.v1.transpose_12[0][0]\n",
            "                                                                 ']                               \n",
            "                                                                                                  \n",
            " tf.math.multiply_26 (TFOpLambd  (None, 50, 2)       0           ['tf.math.add_6[0][0]',          \n",
            " a)                                                               'tf.math.add_6[0][0]']          \n",
            "                                                                                                  \n",
            " ParticleNet_fts_bn (BatchNorma  (None, 50, 1, 2)    8           ['tf.expand_dims_21[0][0]']      \n",
            " lization)                                                                                        \n",
            "                                                                                                  \n",
            " tf.math.reduce_sum_12 (TFOpLam  (None, 50, 1)       0           ['tf.math.multiply_25[0][0]']    \n",
            " bda)                                                                                             \n",
            "                                                                                                  \n",
            " tf.math.multiply_27 (TFOpLambd  (None, 50, 50)      0           ['tf.linalg.matmul_6[0][0]']     \n",
            " a)                                                                                               \n",
            "                                                                                                  \n",
            " tf.math.reduce_sum_13 (TFOpLam  (None, 50, 1)       0           ['tf.math.multiply_26[0][0]']    \n",
            " bda)                                                                                             \n",
            "                                                                                                  \n",
            " tf.compat.v1.squeeze_9 (TFOpLa  (None, 50, 2)       0           ['ParticleNet_fts_bn[0][0]']     \n",
            " mbda)                                                                                            \n",
            "                                                                                                  \n",
            " tf.math.subtract_12 (TFOpLambd  (None, 50, 50)      0           ['tf.math.reduce_sum_12[0][0]',  \n",
            " a)                                                               'tf.math.multiply_27[0][0]']    \n",
            "                                                                                                  \n",
            " tf.compat.v1.transpose_13 (TFO  (None, 1, 50)       0           ['tf.math.reduce_sum_13[0][0]']  \n",
            " pLambda)                                                                                         \n",
            "                                                                                                  \n",
            " tf.compat.v1.shape_6 (TFOpLamb  (3,)                0           ['tf.compat.v1.squeeze_9[0][0]'] \n",
            " da)                                                                                              \n",
            "                                                                                                  \n",
            " tf.__operators__.add_12 (TFOpL  (None, 50, 50)      0           ['tf.math.subtract_12[0][0]',    \n",
            " ambda)                                                           'tf.compat.v1.transpose_13[0][0]\n",
            "                                                                 ']                               \n",
            "                                                                                                  \n",
            " tf.__operators__.getitem_13 (S  ()                  0           ['tf.compat.v1.shape_6[0][0]']   \n",
            " licingOpLambda)                                                                                  \n",
            "                                                                                                  \n",
            " tf.math.negative_6 (TFOpLambda  (None, 50, 50)      0           ['tf.__operators__.add_12[0][0]']\n",
            " )                                                                                                \n",
            "                                                                                                  \n",
            " tf.range_6 (TFOpLambda)        (None,)              0           ['tf.__operators__.getitem_13[0][\n",
            "                                                                 0]']                             \n",
            "                                                                                                  \n",
            " tf.math.top_k_6 (TFOpLambda)   TopKV2(values=(None  0           ['tf.math.negative_6[0][0]']     \n",
            "                                , 50, 4),                                                         \n",
            "                                 indices=(None, 50,                                               \n",
            "                                 4))                                                              \n",
            "                                                                                                  \n",
            " tf.reshape_6 (TFOpLambda)      (None, 1, 1, 1)      0           ['tf.range_6[0][0]']             \n",
            "                                                                                                  \n",
            " tf.__operators__.getitem_12 (S  (None, 50, 3)       0           ['tf.math.top_k_6[0][1]']        \n",
            " licingOpLambda)                                                                                  \n",
            "                                                                                                  \n",
            " tf.tile_12 (TFOpLambda)        (None, 50, 3, 1)     0           ['tf.reshape_6[0][0]']           \n",
            "                                                                                                  \n",
            " tf.expand_dims_22 (TFOpLambda)  (None, 50, 3, 1)    0           ['tf.__operators__.getitem_12[0][\n",
            "                                                                 0]']                             \n",
            "                                                                                                  \n",
            " tf.expand_dims_23 (TFOpLambda)  (None, 50, 1, 2)    0           ['tf.compat.v1.squeeze_9[0][0]'] \n",
            "                                                                                                  \n",
            " tf.concat_15 (TFOpLambda)      (None, 50, 3, 2)     0           ['tf.tile_12[0][0]',             \n",
            "                                                                  'tf.expand_dims_22[0][0]']      \n",
            "                                                                                                  \n",
            " tf.tile_13 (TFOpLambda)        (None, 50, 3, 2)     0           ['tf.expand_dims_23[0][0]']      \n",
            "                                                                                                  \n",
            " tf.compat.v1.gather_nd_6 (TFOp  (None, 50, 3, 2)    0           ['tf.compat.v1.squeeze_9[0][0]', \n",
            " Lambda)                                                          'tf.concat_15[0][0]']           \n",
            "                                                                                                  \n",
            " tf.math.subtract_13 (TFOpLambd  (None, 50, 3, 2)    0           ['tf.compat.v1.gather_nd_6[0][0]'\n",
            " a)                                                              , 'tf.tile_13[0][0]']            \n",
            "                                                                                                  \n",
            " tf.concat_16 (TFOpLambda)      (None, 50, 3, 4)     0           ['tf.tile_13[0][0]',             \n",
            "                                                                  'tf.math.subtract_13[0][0]']    \n",
            "                                                                                                  \n",
            " ParticleNet_EdgeConv0_conv0 (C  (None, 50, 3, 16)   64          ['tf.concat_16[0][0]']           \n",
            " onv2D)                                                                                           \n",
            "                                                                                                  \n",
            " ParticleNet_EdgeConv0_bn0 (Bat  (None, 50, 3, 16)   64          ['ParticleNet_EdgeConv0_conv0[0][\n",
            " chNormalization)                                                0]']                             \n",
            "                                                                                                  \n",
            " ParticleNet_EdgeConv0_act0 (Ac  (None, 50, 3, 16)   0           ['ParticleNet_EdgeConv0_bn0[0][0]\n",
            " tivation)                                                       ']                               \n",
            "                                                                                                  \n",
            " ParticleNet_EdgeConv0_conv1 (C  (None, 50, 3, 16)   256         ['ParticleNet_EdgeConv0_act0[0][0\n",
            " onv2D)                                                          ]']                              \n",
            "                                                                                                  \n",
            " ParticleNet_EdgeConv0_bn1 (Bat  (None, 50, 3, 16)   64          ['ParticleNet_EdgeConv0_conv1[0][\n",
            " chNormalization)                                                0]']                             \n",
            "                                                                                                  \n",
            " ParticleNet_EdgeConv0_act1 (Ac  (None, 50, 3, 16)   0           ['ParticleNet_EdgeConv0_bn1[0][0]\n",
            " tivation)                                                       ']                               \n",
            "                                                                                                  \n",
            " tf.expand_dims_24 (TFOpLambda)  (None, 50, 1, 2)    0           ['tf.compat.v1.squeeze_9[0][0]'] \n",
            "                                                                                                  \n",
            " ParticleNet_EdgeConv0_conv2 (C  (None, 50, 3, 16)   256         ['ParticleNet_EdgeConv0_act1[0][0\n",
            " onv2D)                                                          ]']                              \n",
            "                                                                                                  \n",
            " ParticleNet_EdgeConv0_sc_conv   (None, 50, 1, 16)   32          ['tf.expand_dims_24[0][0]']      \n",
            " (Conv2D)                                                                                         \n",
            "                                                                                                  \n",
            " ParticleNet_EdgeConv0_bn2 (Bat  (None, 50, 3, 16)   64          ['ParticleNet_EdgeConv0_conv2[0][\n",
            " chNormalization)                                                0]']                             \n",
            "                                                                                                  \n",
            " ParticleNet_EdgeConv0_sc_bn (B  (None, 50, 1, 16)   64          ['ParticleNet_EdgeConv0_sc_conv[0\n",
            " atchNormalization)                                              ][0]']                           \n",
            "                                                                                                  \n",
            " ParticleNet_EdgeConv0_act2 (Ac  (None, 50, 3, 16)   0           ['ParticleNet_EdgeConv0_bn2[0][0]\n",
            " tivation)                                                       ']                               \n",
            "                                                                                                  \n",
            " tf.compat.v1.squeeze_10 (TFOpL  (None, 50, 16)      0           ['ParticleNet_EdgeConv0_sc_bn[0][\n",
            " ambda)                                                          0]']                             \n",
            "                                                                                                  \n",
            " tf.math.reduce_max_6 (TFOpLamb  (None, 50, 16)      0           ['ParticleNet_EdgeConv0_act2[0][0\n",
            " da)                                                             ]']                              \n",
            "                                                                                                  \n",
            " tf.__operators__.add_13 (TFOpL  (None, 50, 16)      0           ['tf.compat.v1.squeeze_10[0][0]',\n",
            " ambda)                                                           'tf.math.reduce_max_6[0][0]']   \n",
            "                                                                                                  \n",
            " ParticleNet_EdgeConv0_sc_act (  (None, 50, 16)      0           ['tf.__operators__.add_13[0][0]']\n",
            " Activation)                                                                                      \n",
            "                                                                                                  \n",
            " tf.math.add_7 (TFOpLambda)     (None, 50, 16)       0           ['tf.math.multiply_24[0][0]',    \n",
            "                                                                  'ParticleNet_EdgeConv0_sc_act[0]\n",
            "                                                                 [0]']                            \n",
            "                                                                                                  \n",
            " tf.compat.v1.transpose_14 (TFO  (None, 16, 50)      0           ['tf.math.add_7[0][0]']          \n",
            " pLambda)                                                                                         \n",
            "                                                                                                  \n",
            " tf.math.multiply_28 (TFOpLambd  (None, 50, 16)      0           ['tf.math.add_7[0][0]',          \n",
            " a)                                                               'tf.math.add_7[0][0]']          \n",
            "                                                                                                  \n",
            " tf.linalg.matmul_7 (TFOpLambda  (None, 50, 50)      0           ['tf.math.add_7[0][0]',          \n",
            " )                                                                'tf.compat.v1.transpose_14[0][0]\n",
            "                                                                 ']                               \n",
            "                                                                                                  \n",
            " tf.math.multiply_29 (TFOpLambd  (None, 50, 16)      0           ['tf.math.add_7[0][0]',          \n",
            " a)                                                               'tf.math.add_7[0][0]']          \n",
            "                                                                                                  \n",
            " tf.math.reduce_sum_14 (TFOpLam  (None, 50, 1)       0           ['tf.math.multiply_28[0][0]']    \n",
            " bda)                                                                                             \n",
            "                                                                                                  \n",
            " tf.math.multiply_30 (TFOpLambd  (None, 50, 50)      0           ['tf.linalg.matmul_7[0][0]']     \n",
            " a)                                                                                               \n",
            "                                                                                                  \n",
            " tf.math.reduce_sum_15 (TFOpLam  (None, 50, 1)       0           ['tf.math.multiply_29[0][0]']    \n",
            " bda)                                                                                             \n",
            "                                                                                                  \n",
            " tf.math.subtract_14 (TFOpLambd  (None, 50, 50)      0           ['tf.math.reduce_sum_14[0][0]',  \n",
            " a)                                                               'tf.math.multiply_30[0][0]']    \n",
            "                                                                                                  \n",
            " tf.compat.v1.transpose_15 (TFO  (None, 1, 50)       0           ['tf.math.reduce_sum_15[0][0]']  \n",
            " pLambda)                                                                                         \n",
            "                                                                                                  \n",
            " tf.compat.v1.shape_7 (TFOpLamb  (3,)                0           ['ParticleNet_EdgeConv0_sc_act[0]\n",
            " da)                                                             [0]']                            \n",
            "                                                                                                  \n",
            " tf.__operators__.add_14 (TFOpL  (None, 50, 50)      0           ['tf.math.subtract_14[0][0]',    \n",
            " ambda)                                                           'tf.compat.v1.transpose_15[0][0]\n",
            "                                                                 ']                               \n",
            "                                                                                                  \n",
            " tf.__operators__.getitem_15 (S  ()                  0           ['tf.compat.v1.shape_7[0][0]']   \n",
            " licingOpLambda)                                                                                  \n",
            "                                                                                                  \n",
            " tf.math.negative_7 (TFOpLambda  (None, 50, 50)      0           ['tf.__operators__.add_14[0][0]']\n",
            " )                                                                                                \n",
            "                                                                                                  \n",
            " tf.range_7 (TFOpLambda)        (None,)              0           ['tf.__operators__.getitem_15[0][\n",
            "                                                                 0]']                             \n",
            "                                                                                                  \n",
            " tf.math.top_k_7 (TFOpLambda)   TopKV2(values=(None  0           ['tf.math.negative_7[0][0]']     \n",
            "                                , 50, 4),                                                         \n",
            "                                 indices=(None, 50,                                               \n",
            "                                 4))                                                              \n",
            "                                                                                                  \n",
            " tf.reshape_7 (TFOpLambda)      (None, 1, 1, 1)      0           ['tf.range_7[0][0]']             \n",
            "                                                                                                  \n",
            " tf.__operators__.getitem_14 (S  (None, 50, 3)       0           ['tf.math.top_k_7[0][1]']        \n",
            " licingOpLambda)                                                                                  \n",
            "                                                                                                  \n",
            " tf.tile_14 (TFOpLambda)        (None, 50, 3, 1)     0           ['tf.reshape_7[0][0]']           \n",
            "                                                                                                  \n",
            " tf.expand_dims_25 (TFOpLambda)  (None, 50, 3, 1)    0           ['tf.__operators__.getitem_14[0][\n",
            "                                                                 0]']                             \n",
            "                                                                                                  \n",
            " tf.expand_dims_26 (TFOpLambda)  (None, 50, 1, 16)   0           ['ParticleNet_EdgeConv0_sc_act[0]\n",
            "                                                                 [0]']                            \n",
            "                                                                                                  \n",
            " tf.concat_17 (TFOpLambda)      (None, 50, 3, 2)     0           ['tf.tile_14[0][0]',             \n",
            "                                                                  'tf.expand_dims_25[0][0]']      \n",
            "                                                                                                  \n",
            " tf.tile_15 (TFOpLambda)        (None, 50, 3, 16)    0           ['tf.expand_dims_26[0][0]']      \n",
            "                                                                                                  \n",
            " tf.compat.v1.gather_nd_7 (TFOp  (None, 50, 3, 16)   0           ['ParticleNet_EdgeConv0_sc_act[0]\n",
            " Lambda)                                                         [0]',                            \n",
            "                                                                  'tf.concat_17[0][0]']           \n",
            "                                                                                                  \n",
            " tf.math.subtract_15 (TFOpLambd  (None, 50, 3, 16)   0           ['tf.compat.v1.gather_nd_7[0][0]'\n",
            " a)                                                              , 'tf.tile_15[0][0]']            \n",
            "                                                                                                  \n",
            " tf.concat_18 (TFOpLambda)      (None, 50, 3, 32)    0           ['tf.tile_15[0][0]',             \n",
            "                                                                  'tf.math.subtract_15[0][0]']    \n",
            "                                                                                                  \n",
            " ParticleNet_EdgeConv1_conv0 (C  (None, 50, 3, 32)   1024        ['tf.concat_18[0][0]']           \n",
            " onv2D)                                                                                           \n",
            "                                                                                                  \n",
            " ParticleNet_EdgeConv1_bn0 (Bat  (None, 50, 3, 32)   128         ['ParticleNet_EdgeConv1_conv0[0][\n",
            " chNormalization)                                                0]']                             \n",
            "                                                                                                  \n",
            " ParticleNet_EdgeConv1_act0 (Ac  (None, 50, 3, 32)   0           ['ParticleNet_EdgeConv1_bn0[0][0]\n",
            " tivation)                                                       ']                               \n",
            "                                                                                                  \n",
            " ParticleNet_EdgeConv1_conv1 (C  (None, 50, 3, 32)   1024        ['ParticleNet_EdgeConv1_act0[0][0\n",
            " onv2D)                                                          ]']                              \n",
            "                                                                                                  \n",
            " ParticleNet_EdgeConv1_bn1 (Bat  (None, 50, 3, 32)   128         ['ParticleNet_EdgeConv1_conv1[0][\n",
            " chNormalization)                                                0]']                             \n",
            "                                                                                                  \n",
            " ParticleNet_EdgeConv1_act1 (Ac  (None, 50, 3, 32)   0           ['ParticleNet_EdgeConv1_bn1[0][0]\n",
            " tivation)                                                       ']                               \n",
            "                                                                                                  \n",
            " tf.expand_dims_27 (TFOpLambda)  (None, 50, 1, 16)   0           ['ParticleNet_EdgeConv0_sc_act[0]\n",
            "                                                                 [0]']                            \n",
            "                                                                                                  \n",
            " ParticleNet_EdgeConv1_conv2 (C  (None, 50, 3, 32)   1024        ['ParticleNet_EdgeConv1_act1[0][0\n",
            " onv2D)                                                          ]']                              \n",
            "                                                                                                  \n",
            " ParticleNet_EdgeConv1_sc_conv   (None, 50, 1, 32)   512         ['tf.expand_dims_27[0][0]']      \n",
            " (Conv2D)                                                                                         \n",
            "                                                                                                  \n",
            " ParticleNet_EdgeConv1_bn2 (Bat  (None, 50, 3, 32)   128         ['ParticleNet_EdgeConv1_conv2[0][\n",
            " chNormalization)                                                0]']                             \n",
            "                                                                                                  \n",
            " ParticleNet_EdgeConv1_sc_bn (B  (None, 50, 1, 32)   128         ['ParticleNet_EdgeConv1_sc_conv[0\n",
            " atchNormalization)                                              ][0]']                           \n",
            "                                                                                                  \n",
            " ParticleNet_EdgeConv1_act2 (Ac  (None, 50, 3, 32)   0           ['ParticleNet_EdgeConv1_bn2[0][0]\n",
            " tivation)                                                       ']                               \n",
            "                                                                                                  \n",
            " tf.compat.v1.squeeze_11 (TFOpL  (None, 50, 32)      0           ['ParticleNet_EdgeConv1_sc_bn[0][\n",
            " ambda)                                                          0]']                             \n",
            "                                                                                                  \n",
            " tf.math.reduce_max_7 (TFOpLamb  (None, 50, 32)      0           ['ParticleNet_EdgeConv1_act2[0][0\n",
            " da)                                                             ]']                              \n",
            "                                                                                                  \n",
            " tf.__operators__.add_15 (TFOpL  (None, 50, 32)      0           ['tf.compat.v1.squeeze_11[0][0]',\n",
            " ambda)                                                           'tf.math.reduce_max_7[0][0]']   \n",
            "                                                                                                  \n",
            " ParticleNet_EdgeConv1_sc_act (  (None, 50, 32)      0           ['tf.__operators__.add_15[0][0]']\n",
            " Activation)                                                                                      \n",
            "                                                                                                  \n",
            " tf.math.multiply_31 (TFOpLambd  (None, 50, 32)      0           ['ParticleNet_EdgeConv1_sc_act[0]\n",
            " a)                                                              [0]',                            \n",
            "                                                                  'tf.cast_6[0][0]']              \n",
            "                                                                                                  \n",
            " tf.math.reduce_mean_3 (TFOpLam  (None, 32)          0           ['tf.math.multiply_31[0][0]']    \n",
            " bda)                                                                                             \n",
            "                                                                                                  \n",
            " summary (InputLayer)           [(None, 4)]          0           []                               \n",
            "                                                                                                  \n",
            " tf.concat_19 (TFOpLambda)      (None, 36)           0           ['tf.math.reduce_mean_3[0][0]',  \n",
            "                                                                  'summary[0][0]']                \n",
            "                                                                                                  \n",
            " dense_6 (Dense)                (None, 64)           2368        ['tf.concat_19[0][0]']           \n",
            "                                                                                                  \n",
            " dropout_3 (Dropout)            (None, 64)           0           ['dense_6[0][0]']                \n",
            "                                                                                                  \n",
            " dense_7 (Dense)                (None, 1)            65          ['dropout_3[0][0]']              \n",
            "                                                                                                  \n",
            "==================================================================================================\n",
            "Total params: 7,401\n",
            "Trainable params: 7,013\n",
            "Non-trainable params: 388\n",
            "__________________________________________________________________________________________________\n"
          ]
        }
      ],
      "source": [
        "model.compile(loss='binary_crossentropy',\n",
        "              optimizer=keras.optimizers.Adam(learning_rate=lr_schedule(0)),\n",
        "              metrics=['accuracy', keras.metrics.Precision(), keras.metrics.Recall()])\n",
        "model.summary()"
      ]
    },
    {
      "cell_type": "code",
      "execution_count": 87,
      "metadata": {
        "id": "hc6CsvjZ2g84"
      },
      "outputs": [],
      "source": [
        "# Prepare model model saving directory.\n",
        "import os\n",
        "save_dir = 'model_checkpoints'\n",
        "model_name = '%s_model.{epoch:03d}.h5' % model_type\n",
        "if not os.path.isdir(save_dir):\n",
        "    os.makedirs(save_dir)\n",
        "filepath = os.path.join(save_dir, model_name)\n",
        "\n",
        "# Prepare callbacks for model saving and for learning rate adjustment.\n",
        "checkpoint = keras.callbacks.ModelCheckpoint(filepath=filepath,\n",
        "                             monitor='val_accuracy',\n",
        "                             verbose=1,\n",
        "                             save_best_only=True)\n",
        "\n",
        "lr_scheduler = keras.callbacks.LearningRateScheduler(lr_schedule)\n",
        "progress_bar = keras.callbacks.ProgbarLogger()\n",
        "'''\n",
        "lr_finder_steps = 400\n",
        "lr_find = LRFind(1e-6, 1e1, lr_finder_steps)\n",
        "'''\n",
        "callbacks = [checkpoint, progress_bar, lr_scheduler]"
      ]
    },
    {
      "cell_type": "code",
      "execution_count": 88,
      "metadata": {
        "scrolled": true,
        "id": "98kE3T-I2g85",
        "outputId": "0a3d25ec-c77c-480e-ed5a-e6057f8f018c",
        "colab": {
          "base_uri": "https://localhost:8080/"
        }
      },
      "outputs": [
        {
          "metadata": {
            "tags": null
          },
          "name": "stdout",
          "output_type": "stream",
          "text": [
            "Epoch 1/40\n"
          ]
        },
        {
          "metadata": {
            "tags": null
          },
          "name": "stderr",
          "output_type": "stream",
          "text": [
            "[2022-06-16 21:45:20,929] INFO: Learning rate: 0.010000\n"
          ]
        },
        {
          "metadata": {
            "tags": null
          },
          "name": "stdout",
          "output_type": "stream",
          "text": [
            "      0/Unknown - 10s 0s/sample - loss: 0.1336 - accuracy: 0.6147 - precision_3: 0.6089 - recall_3: 0.6127\n",
            "Epoch 1: val_accuracy improved from -inf to 0.67055, saving model to model_checkpoints/particle_net_lite_model.001.h5\n",
            "58/58 [==============================] - 14s 233ms/sample - loss: 0.1336 - accuracy: 0.6147 - precision_3: 0.6089 - recall_3: 0.6127 - val_loss: 0.1620 - val_accuracy: 0.6706 - val_precision_3: 0.6443 - val_recall_3: 0.7089\n",
            "Epoch 2/40\n"
          ]
        },
        {
          "metadata": {
            "tags": null
          },
          "name": "stderr",
          "output_type": "stream",
          "text": [
            "[2022-06-16 21:45:34,446] INFO: Learning rate: 0.010000\n"
          ]
        },
        {
          "metadata": {
            "tags": null
          },
          "name": "stdout",
          "output_type": "stream",
          "text": [
            " 0/58 [..............................] - ETA: 0s - loss: 0.0893 - accuracy: 0.7090 - precision_3: 0.6686 - recall_3: 0.8137\n",
            "Epoch 2: val_accuracy did not improve from 0.67055\n",
            "58/58 [==============================] - 10s 168ms/sample - loss: 0.0893 - accuracy: 0.7090 - precision_3: 0.6686 - recall_3: 0.8137 - val_loss: 0.1475 - val_accuracy: 0.5653 - val_precision_3: 0.5693 - val_recall_3: 0.4089\n",
            "Epoch 3/40\n"
          ]
        },
        {
          "metadata": {
            "tags": null
          },
          "name": "stderr",
          "output_type": "stream",
          "text": [
            "[2022-06-16 21:45:44,191] INFO: Learning rate: 0.010000\n"
          ]
        },
        {
          "metadata": {
            "tags": null
          },
          "name": "stdout",
          "output_type": "stream",
          "text": [
            " 0/58 [..............................] - ETA: 0s - loss: 0.0787 - accuracy: 0.7041 - precision_3: 0.6613 - recall_3: 0.8209\n",
            "Epoch 3: val_accuracy improved from 0.67055 to 0.75805, saving model to model_checkpoints/particle_net_lite_model.003.h5\n",
            "58/58 [==============================] - 10s 171ms/sample - loss: 0.0787 - accuracy: 0.7041 - precision_3: 0.6613 - recall_3: 0.8209 - val_loss: 0.0842 - val_accuracy: 0.7581 - val_precision_3: 0.7169 - val_recall_3: 0.8241\n",
            "Epoch 4/40\n"
          ]
        },
        {
          "metadata": {
            "tags": null
          },
          "name": "stderr",
          "output_type": "stream",
          "text": [
            "[2022-06-16 21:45:54,122] INFO: Learning rate: 0.010000\n"
          ]
        },
        {
          "metadata": {
            "tags": null
          },
          "name": "stdout",
          "output_type": "stream",
          "text": [
            " 0/58 [..............................] - ETA: 0s - loss: 0.0746 - accuracy: 0.7722 - precision_3: 0.7287 - recall_3: 0.8579\n",
            "Epoch 4: val_accuracy improved from 0.75805 to 0.77839, saving model to model_checkpoints/particle_net_lite_model.004.h5\n",
            "58/58 [==============================] - 10s 168ms/sample - loss: 0.0746 - accuracy: 0.7722 - precision_3: 0.7287 - recall_3: 0.8579 - val_loss: 0.0621 - val_accuracy: 0.7784 - val_precision_3: 0.7342 - val_recall_3: 0.8478\n",
            "Epoch 5/40\n"
          ]
        },
        {
          "metadata": {
            "tags": null
          },
          "name": "stderr",
          "output_type": "stream",
          "text": [
            "[2022-06-16 21:46:03,902] INFO: Learning rate: 0.010000\n"
          ]
        },
        {
          "metadata": {
            "tags": null
          },
          "name": "stdout",
          "output_type": "stream",
          "text": [
            " 0/58 [..............................] - ETA: 0s - loss: 0.0636 - accuracy: 0.7943 - precision_3: 0.7497 - recall_3: 0.8756\n",
            "Epoch 5: val_accuracy improved from 0.77839 to 0.80442, saving model to model_checkpoints/particle_net_lite_model.005.h5\n",
            "58/58 [==============================] - 10s 166ms/sample - loss: 0.0636 - accuracy: 0.7943 - precision_3: 0.7497 - recall_3: 0.8756 - val_loss: 0.0577 - val_accuracy: 0.8044 - val_precision_3: 0.7376 - val_recall_3: 0.9234\n",
            "Epoch 6/40\n"
          ]
        },
        {
          "metadata": {
            "tags": null
          },
          "name": "stderr",
          "output_type": "stream",
          "text": [
            "[2022-06-16 21:46:13,545] INFO: Learning rate: 0.010000\n"
          ]
        },
        {
          "metadata": {
            "tags": null
          },
          "name": "stdout",
          "output_type": "stream",
          "text": [
            " 0/58 [..............................] - ETA: 0s - loss: 0.0611 - accuracy: 0.8046 - precision_3: 0.7579 - recall_3: 0.8875\n",
            "Epoch 6: val_accuracy improved from 0.80442 to 0.85519, saving model to model_checkpoints/particle_net_lite_model.006.h5\n",
            "58/58 [==============================] - 10s 166ms/sample - loss: 0.0611 - accuracy: 0.8046 - precision_3: 0.7579 - recall_3: 0.8875 - val_loss: 0.1931 - val_accuracy: 0.8552 - val_precision_3: 0.7943 - val_recall_3: 0.9446\n",
            "Epoch 7/40\n"
          ]
        },
        {
          "metadata": {
            "tags": null
          },
          "name": "stderr",
          "output_type": "stream",
          "text": [
            "[2022-06-16 21:46:23,180] INFO: Learning rate: 0.010000\n"
          ]
        },
        {
          "metadata": {
            "tags": null
          },
          "name": "stdout",
          "output_type": "stream",
          "text": [
            " 0/58 [..............................] - ETA: 0s - loss: 0.0612 - accuracy: 0.8316 - precision_3: 0.7957 - recall_3: 0.8865\n",
            "Epoch 7: val_accuracy did not improve from 0.85519\n",
            "58/58 [==============================] - 9s 163ms/sample - loss: 0.0612 - accuracy: 0.8316 - precision_3: 0.7957 - recall_3: 0.8865 - val_loss: 0.0582 - val_accuracy: 0.8507 - val_precision_3: 0.8268 - val_recall_3: 0.8736\n",
            "Epoch 8/40\n"
          ]
        },
        {
          "metadata": {
            "tags": null
          },
          "name": "stderr",
          "output_type": "stream",
          "text": [
            "[2022-06-16 21:46:32,660] INFO: Learning rate: 0.010000\n"
          ]
        },
        {
          "metadata": {
            "tags": null
          },
          "name": "stdout",
          "output_type": "stream",
          "text": [
            " 0/58 [..............................] - ETA: 0s - loss: 0.0621 - accuracy: 0.8373 - precision_3: 0.8105 - recall_3: 0.8751\n",
            "Epoch 8: val_accuracy improved from 0.85519 to 0.87516, saving model to model_checkpoints/particle_net_lite_model.008.h5\n",
            "58/58 [==============================] - 10s 165ms/sample - loss: 0.0621 - accuracy: 0.8373 - precision_3: 0.8105 - recall_3: 0.8751 - val_loss: 0.0705 - val_accuracy: 0.8752 - val_precision_3: 0.8272 - val_recall_3: 0.9372\n",
            "Epoch 9/40\n"
          ]
        },
        {
          "metadata": {
            "tags": null
          },
          "name": "stderr",
          "output_type": "stream",
          "text": [
            "[2022-06-16 21:46:42,257] INFO: Learning rate: 0.010000\n"
          ]
        },
        {
          "metadata": {
            "tags": null
          },
          "name": "stdout",
          "output_type": "stream",
          "text": [
            " 0/58 [..............................] - ETA: 0s - loss: 0.0518 - accuracy: 0.8637 - precision_3: 0.8341 - recall_3: 0.9035\n",
            "Epoch 9: val_accuracy improved from 0.87516 to 0.90358, saving model to model_checkpoints/particle_net_lite_model.009.h5\n",
            "58/58 [==============================] - 10s 166ms/sample - loss: 0.0518 - accuracy: 0.8637 - precision_3: 0.8341 - recall_3: 0.9035 - val_loss: 0.0643 - val_accuracy: 0.9036 - val_precision_3: 0.8784 - val_recall_3: 0.9288\n",
            "Epoch 10/40\n"
          ]
        },
        {
          "metadata": {
            "tags": null
          },
          "name": "stderr",
          "output_type": "stream",
          "text": [
            "[2022-06-16 21:46:51,881] INFO: Learning rate: 0.010000\n"
          ]
        },
        {
          "metadata": {
            "tags": null
          },
          "name": "stdout",
          "output_type": "stream",
          "text": [
            " 0/58 [..............................] - ETA: 0s - loss: 0.0545 - accuracy: 0.8681 - precision_3: 0.8457 - recall_3: 0.8961\n",
            "Epoch 10: val_accuracy did not improve from 0.90358\n",
            "58/58 [==============================] - 9s 164ms/sample - loss: 0.0545 - accuracy: 0.8681 - precision_3: 0.8457 - recall_3: 0.8961 - val_loss: 0.0496 - val_accuracy: 0.8798 - val_precision_3: 0.8636 - val_recall_3: 0.8919\n",
            "Epoch 11/40\n"
          ]
        },
        {
          "metadata": {
            "tags": null
          },
          "name": "stderr",
          "output_type": "stream",
          "text": [
            "[2022-06-16 21:47:01,402] INFO: Learning rate: 0.010000\n"
          ]
        },
        {
          "metadata": {
            "tags": null
          },
          "name": "stdout",
          "output_type": "stream",
          "text": [
            " 0/58 [..............................] - ETA: 0s - loss: 0.0501 - accuracy: 0.8782 - precision_3: 0.8546 - recall_3: 0.9077\n",
            "Epoch 11: val_accuracy did not improve from 0.90358\n",
            "58/58 [==============================] - 10s 165ms/sample - loss: 0.0501 - accuracy: 0.8782 - precision_3: 0.8546 - recall_3: 0.9077 - val_loss: 0.0495 - val_accuracy: 0.8993 - val_precision_3: 0.8749 - val_recall_3: 0.9234\n",
            "Epoch 12/40\n"
          ]
        },
        {
          "metadata": {
            "tags": null
          },
          "name": "stderr",
          "output_type": "stream",
          "text": [
            "[2022-06-16 21:47:10,967] INFO: Learning rate: 0.001000\n"
          ]
        },
        {
          "metadata": {
            "tags": null
          },
          "name": "stdout",
          "output_type": "stream",
          "text": [
            " 0/58 [..............................] - ETA: 0s - loss: 0.0444 - accuracy: 0.8834 - precision_3: 0.8583 - recall_3: 0.9148\n",
            "Epoch 12: val_accuracy improved from 0.90358 to 0.90572, saving model to model_checkpoints/particle_net_lite_model.012.h5\n",
            "58/58 [==============================] - 10s 167ms/sample - loss: 0.0444 - accuracy: 0.8834 - precision_3: 0.8583 - recall_3: 0.9148 - val_loss: 0.0491 - val_accuracy: 0.9057 - val_precision_3: 0.8713 - val_recall_3: 0.9441\n",
            "Epoch 13/40\n"
          ]
        },
        {
          "metadata": {
            "tags": null
          },
          "name": "stderr",
          "output_type": "stream",
          "text": [
            "[2022-06-16 21:47:20,649] INFO: Learning rate: 0.001000\n"
          ]
        },
        {
          "metadata": {
            "tags": null
          },
          "name": "stdout",
          "output_type": "stream",
          "text": [
            " 0/58 [..............................] - ETA: 0s - loss: 0.0402 - accuracy: 0.8919 - precision_3: 0.8604 - recall_3: 0.9322\n",
            "Epoch 13: val_accuracy improved from 0.90572 to 0.90655, saving model to model_checkpoints/particle_net_lite_model.013.h5\n",
            "58/58 [==============================] - 10s 167ms/sample - loss: 0.0402 - accuracy: 0.8919 - precision_3: 0.8604 - recall_3: 0.9322 - val_loss: 0.0475 - val_accuracy: 0.9066 - val_precision_3: 0.8772 - val_recall_3: 0.9377\n",
            "Epoch 14/40\n"
          ]
        },
        {
          "metadata": {
            "tags": null
          },
          "name": "stderr",
          "output_type": "stream",
          "text": [
            "[2022-06-16 21:47:30,342] INFO: Learning rate: 0.001000\n"
          ]
        },
        {
          "metadata": {
            "tags": null
          },
          "name": "stdout",
          "output_type": "stream",
          "text": [
            " 0/58 [..............................] - ETA: 0s - loss: 0.0405 - accuracy: 0.8936 - precision_3: 0.8682 - recall_3: 0.9248\n",
            "Epoch 14: val_accuracy improved from 0.90655 to 0.90762, saving model to model_checkpoints/particle_net_lite_model.014.h5\n",
            "58/58 [==============================] - 10s 167ms/sample - loss: 0.0405 - accuracy: 0.8936 - precision_3: 0.8682 - recall_3: 0.9248 - val_loss: 0.0462 - val_accuracy: 0.9076 - val_precision_3: 0.8799 - val_recall_3: 0.9365\n",
            "Epoch 15/40\n"
          ]
        },
        {
          "metadata": {
            "tags": null
          },
          "name": "stderr",
          "output_type": "stream",
          "text": [
            "[2022-06-16 21:47:40,007] INFO: Learning rate: 0.001000\n"
          ]
        },
        {
          "metadata": {
            "tags": null
          },
          "name": "stdout",
          "output_type": "stream",
          "text": [
            " 0/58 [..............................] - ETA: 0s - loss: 0.0401 - accuracy: 0.8947 - precision_3: 0.8693 - recall_3: 0.9257\n",
            "Epoch 15: val_accuracy did not improve from 0.90762\n",
            "58/58 [==============================] - 10s 164ms/sample - loss: 0.0401 - accuracy: 0.8947 - precision_3: 0.8693 - recall_3: 0.9257 - val_loss: 0.0460 - val_accuracy: 0.9060 - val_precision_3: 0.8811 - val_recall_3: 0.9308\n",
            "Epoch 16/40\n"
          ]
        },
        {
          "metadata": {
            "tags": null
          },
          "name": "stderr",
          "output_type": "stream",
          "text": [
            "[2022-06-16 21:47:49,562] INFO: Learning rate: 0.001000\n"
          ]
        },
        {
          "metadata": {
            "tags": null
          },
          "name": "stdout",
          "output_type": "stream",
          "text": [
            " 0/58 [..............................] - ETA: 0s - loss: 0.0376 - accuracy: 0.8996 - precision_3: 0.8718 - recall_3: 0.9338\n",
            "Epoch 16: val_accuracy improved from 0.90762 to 0.91214, saving model to model_checkpoints/particle_net_lite_model.016.h5\n",
            "58/58 [==============================] - 10s 169ms/sample - loss: 0.0376 - accuracy: 0.8996 - precision_3: 0.8718 - recall_3: 0.9338 - val_loss: 0.0464 - val_accuracy: 0.9121 - val_precision_3: 0.8861 - val_recall_3: 0.9387\n",
            "Epoch 17/40\n"
          ]
        },
        {
          "metadata": {
            "tags": null
          },
          "name": "stderr",
          "output_type": "stream",
          "text": [
            "[2022-06-16 21:47:59,359] INFO: Learning rate: 0.001000\n"
          ]
        },
        {
          "metadata": {
            "tags": null
          },
          "name": "stdout",
          "output_type": "stream",
          "text": [
            " 0/58 [..............................] - ETA: 0s - loss: 0.0390 - accuracy: 0.8988 - precision_3: 0.8735 - recall_3: 0.9296\n",
            "Epoch 17: val_accuracy improved from 0.91214 to 0.91499, saving model to model_checkpoints/particle_net_lite_model.017.h5\n",
            "58/58 [==============================] - 10s 166ms/sample - loss: 0.0390 - accuracy: 0.8988 - precision_3: 0.8735 - recall_3: 0.9296 - val_loss: 0.0478 - val_accuracy: 0.9150 - val_precision_3: 0.8869 - val_recall_3: 0.9443\n",
            "Epoch 18/40\n"
          ]
        },
        {
          "metadata": {
            "tags": null
          },
          "name": "stderr",
          "output_type": "stream",
          "text": [
            "[2022-06-16 21:48:08,972] INFO: Learning rate: 0.001000\n"
          ]
        },
        {
          "metadata": {
            "tags": null
          },
          "name": "stdout",
          "output_type": "stream",
          "text": [
            " 0/58 [..............................] - ETA: 0s - loss: 0.0356 - accuracy: 0.9041 - precision_3: 0.8767 - recall_3: 0.9375\n",
            "Epoch 18: val_accuracy improved from 0.91499 to 0.91654, saving model to model_checkpoints/particle_net_lite_model.018.h5\n",
            "58/58 [==============================] - 10s 166ms/sample - loss: 0.0356 - accuracy: 0.9041 - precision_3: 0.8767 - recall_3: 0.9375 - val_loss: 0.0471 - val_accuracy: 0.9165 - val_precision_3: 0.8867 - val_recall_3: 0.9483\n",
            "Epoch 19/40\n"
          ]
        },
        {
          "metadata": {
            "tags": null
          },
          "name": "stderr",
          "output_type": "stream",
          "text": [
            "[2022-06-16 21:48:18,622] INFO: Learning rate: 0.001000\n"
          ]
        },
        {
          "metadata": {
            "tags": null
          },
          "name": "stdout",
          "output_type": "stream",
          "text": [
            " 0/58 [..............................] - ETA: 0s - loss: 0.0354 - accuracy: 0.9024 - precision_3: 0.8770 - recall_3: 0.9332\n",
            "Epoch 19: val_accuracy did not improve from 0.91654\n",
            "58/58 [==============================] - 10s 164ms/sample - loss: 0.0354 - accuracy: 0.9024 - precision_3: 0.8770 - recall_3: 0.9332 - val_loss: 0.0444 - val_accuracy: 0.9096 - val_precision_3: 0.8877 - val_recall_3: 0.9305\n",
            "Epoch 20/40\n"
          ]
        },
        {
          "metadata": {
            "tags": null
          },
          "name": "stderr",
          "output_type": "stream",
          "text": [
            "[2022-06-16 21:48:28,162] INFO: Learning rate: 0.001000\n"
          ]
        },
        {
          "metadata": {
            "tags": null
          },
          "name": "stdout",
          "output_type": "stream",
          "text": [
            " 0/58 [..............................] - ETA: 0s - loss: 0.0362 - accuracy: 0.9052 - precision_3: 0.8788 - recall_3: 0.9373\n",
            "Epoch 20: val_accuracy did not improve from 0.91654\n",
            "58/58 [==============================] - 10s 165ms/sample - loss: 0.0362 - accuracy: 0.9052 - precision_3: 0.8788 - recall_3: 0.9373 - val_loss: 0.0456 - val_accuracy: 0.9133 - val_precision_3: 0.8867 - val_recall_3: 0.9406\n",
            "Epoch 21/40\n"
          ]
        },
        {
          "metadata": {
            "tags": null
          },
          "name": "stderr",
          "output_type": "stream",
          "text": [
            "[2022-06-16 21:48:37,718] INFO: Learning rate: 0.001000\n"
          ]
        },
        {
          "metadata": {
            "tags": null
          },
          "name": "stdout",
          "output_type": "stream",
          "text": [
            " 0/58 [..............................] - ETA: 0s - loss: 0.0357 - accuracy: 0.9054 - precision_3: 0.8801 - recall_3: 0.9359\n",
            "Epoch 21: val_accuracy did not improve from 0.91654\n",
            "58/58 [==============================] - 10s 164ms/sample - loss: 0.0357 - accuracy: 0.9054 - precision_3: 0.8801 - recall_3: 0.9359 - val_loss: 0.0460 - val_accuracy: 0.9011 - val_precision_3: 0.8882 - val_recall_3: 0.9096\n",
            "Epoch 22/40\n"
          ]
        },
        {
          "metadata": {
            "tags": null
          },
          "name": "stderr",
          "output_type": "stream",
          "text": [
            "[2022-06-16 21:48:47,249] INFO: Learning rate: 0.001000\n"
          ]
        },
        {
          "metadata": {
            "tags": null
          },
          "name": "stdout",
          "output_type": "stream",
          "text": [
            " 0/58 [..............................] - ETA: 0s - loss: 0.0357 - accuracy: 0.9045 - precision_3: 0.8812 - recall_3: 0.9322\n",
            "Epoch 22: val_accuracy did not improve from 0.91654\n",
            "58/58 [==============================] - 10s 165ms/sample - loss: 0.0357 - accuracy: 0.9045 - precision_3: 0.8812 - recall_3: 0.9322 - val_loss: 0.0459 - val_accuracy: 0.9070 - val_precision_3: 0.8914 - val_recall_3: 0.9195\n",
            "Epoch 23/40\n"
          ]
        },
        {
          "metadata": {
            "tags": null
          },
          "name": "stderr",
          "output_type": "stream",
          "text": [
            "[2022-06-16 21:48:56,855] INFO: Learning rate: 0.001000\n"
          ]
        },
        {
          "metadata": {
            "tags": null
          },
          "name": "stdout",
          "output_type": "stream",
          "text": [
            " 0/58 [..............................] - ETA: 0s - loss: 0.0346 - accuracy: 0.9063 - precision_3: 0.8811 - recall_3: 0.9365\n",
            "Epoch 23: val_accuracy did not improve from 0.91654\n",
            "58/58 [==============================] - 10s 166ms/sample - loss: 0.0346 - accuracy: 0.9063 - precision_3: 0.8811 - recall_3: 0.9365 - val_loss: 0.0456 - val_accuracy: 0.9156 - val_precision_3: 0.8947 - val_recall_3: 0.9352\n",
            "Epoch 24/40\n"
          ]
        },
        {
          "metadata": {
            "tags": null
          },
          "name": "stderr",
          "output_type": "stream",
          "text": [
            "[2022-06-16 21:49:06,478] INFO: Learning rate: 0.001000\n"
          ]
        },
        {
          "metadata": {
            "tags": null
          },
          "name": "stdout",
          "output_type": "stream",
          "text": [
            " 0/58 [..............................] - ETA: 0s - loss: 0.0330 - accuracy: 0.9075 - precision_3: 0.8816 - recall_3: 0.9386\n",
            "Epoch 24: val_accuracy improved from 0.91654 to 0.92236, saving model to model_checkpoints/particle_net_lite_model.024.h5\n",
            "58/58 [==============================] - 10s 167ms/sample - loss: 0.0330 - accuracy: 0.9075 - precision_3: 0.8816 - recall_3: 0.9386 - val_loss: 0.0483 - val_accuracy: 0.9224 - val_precision_3: 0.8933 - val_recall_3: 0.9530\n",
            "Epoch 25/40\n"
          ]
        },
        {
          "metadata": {
            "tags": null
          },
          "name": "stderr",
          "output_type": "stream",
          "text": [
            "[2022-06-16 21:49:16,190] INFO: Learning rate: 0.001000\n"
          ]
        },
        {
          "metadata": {
            "tags": null
          },
          "name": "stdout",
          "output_type": "stream",
          "text": [
            " 0/58 [..............................] - ETA: 0s - loss: 0.0337 - accuracy: 0.9094 - precision_3: 0.8844 - recall_3: 0.9393\n",
            "Epoch 25: val_accuracy improved from 0.92236 to 0.92569, saving model to model_checkpoints/particle_net_lite_model.025.h5\n",
            "58/58 [==============================] - 10s 166ms/sample - loss: 0.0337 - accuracy: 0.9094 - precision_3: 0.8844 - recall_3: 0.9393 - val_loss: 0.0511 - val_accuracy: 0.9257 - val_precision_3: 0.8958 - val_recall_3: 0.9574\n",
            "Epoch 26/40\n"
          ]
        },
        {
          "metadata": {
            "tags": null
          },
          "name": "stderr",
          "output_type": "stream",
          "text": [
            "[2022-06-16 21:49:25,849] INFO: Learning rate: 0.001000\n"
          ]
        },
        {
          "metadata": {
            "tags": null
          },
          "name": "stdout",
          "output_type": "stream",
          "text": [
            " 0/58 [..............................] - ETA: 0s - loss: 0.0340 - accuracy: 0.9080 - precision_3: 0.8836 - recall_3: 0.9371\n",
            "Epoch 26: val_accuracy did not improve from 0.92569\n",
            "58/58 [==============================] - 10s 165ms/sample - loss: 0.0340 - accuracy: 0.9080 - precision_3: 0.8836 - recall_3: 0.9371 - val_loss: 0.0457 - val_accuracy: 0.9207 - val_precision_3: 0.8967 - val_recall_3: 0.9446\n",
            "Epoch 27/40\n"
          ]
        },
        {
          "metadata": {
            "tags": null
          },
          "name": "stderr",
          "output_type": "stream",
          "text": [
            "[2022-06-16 21:49:35,416] INFO: Learning rate: 0.001000\n"
          ]
        },
        {
          "metadata": {
            "tags": null
          },
          "name": "stdout",
          "output_type": "stream",
          "text": [
            " 0/58 [..............................] - ETA: 0s - loss: 0.0322 - accuracy: 0.9122 - precision_3: 0.8856 - recall_3: 0.9439\n",
            "Epoch 27: val_accuracy did not improve from 0.92569\n",
            "58/58 [==============================] - 10s 164ms/sample - loss: 0.0322 - accuracy: 0.9122 - precision_3: 0.8856 - recall_3: 0.9439 - val_loss: 0.0475 - val_accuracy: 0.9188 - val_precision_3: 0.8991 - val_recall_3: 0.9369\n",
            "Epoch 28/40\n"
          ]
        },
        {
          "metadata": {
            "tags": null
          },
          "name": "stderr",
          "output_type": "stream",
          "text": [
            "[2022-06-16 21:49:44,946] INFO: Learning rate: 0.001000\n"
          ]
        },
        {
          "metadata": {
            "tags": null
          },
          "name": "stdout",
          "output_type": "stream",
          "text": [
            " 0/58 [..............................] - ETA: 0s - loss: 0.0322 - accuracy: 0.9116 - precision_3: 0.8859 - recall_3: 0.9422\n",
            "Epoch 28: val_accuracy did not improve from 0.92569\n",
            "58/58 [==============================] - 9s 164ms/sample - loss: 0.0322 - accuracy: 0.9116 - precision_3: 0.8859 - recall_3: 0.9422 - val_loss: 0.0485 - val_accuracy: 0.9211 - val_precision_3: 0.8965 - val_recall_3: 0.9456\n",
            "Epoch 29/40\n"
          ]
        },
        {
          "metadata": {
            "tags": null
          },
          "name": "stderr",
          "output_type": "stream",
          "text": [
            "[2022-06-16 21:49:54,446] INFO: Learning rate: 0.001000\n"
          ]
        },
        {
          "metadata": {
            "tags": null
          },
          "name": "stdout",
          "output_type": "stream",
          "text": [
            " 0/58 [..............................] - ETA: 0s - loss: 0.0317 - accuracy: 0.9101 - precision_3: 0.8859 - recall_3: 0.9386\n",
            "Epoch 29: val_accuracy did not improve from 0.92569\n",
            "58/58 [==============================] - 9s 164ms/sample - loss: 0.0317 - accuracy: 0.9101 - precision_3: 0.8859 - recall_3: 0.9386 - val_loss: 0.0492 - val_accuracy: 0.9149 - val_precision_3: 0.8955 - val_recall_3: 0.9325\n",
            "Epoch 30/40\n"
          ]
        },
        {
          "metadata": {
            "tags": null
          },
          "name": "stderr",
          "output_type": "stream",
          "text": [
            "[2022-06-16 21:50:03,950] INFO: Learning rate: 0.001000\n"
          ]
        },
        {
          "metadata": {
            "tags": null
          },
          "name": "stdout",
          "output_type": "stream",
          "text": [
            " 0/58 [..............................] - ETA: 0s - loss: 0.0322 - accuracy: 0.9128 - precision_3: 0.8878 - recall_3: 0.9425\n",
            "Epoch 30: val_accuracy did not improve from 0.92569\n",
            "58/58 [==============================] - 10s 164ms/sample - loss: 0.0322 - accuracy: 0.9128 - precision_3: 0.8878 - recall_3: 0.9425 - val_loss: 0.0503 - val_accuracy: 0.9023 - val_precision_3: 0.8958 - val_recall_3: 0.9025\n",
            "Epoch 31/40\n"
          ]
        },
        {
          "metadata": {
            "tags": null
          },
          "name": "stderr",
          "output_type": "stream",
          "text": [
            "[2022-06-16 21:50:13,479] INFO: Learning rate: 0.001000\n"
          ]
        },
        {
          "output_type": "stream",
          "name": "stdout",
          "text": [
            " 0/58 [..............................] - ETA: 0s - loss: 0.0321 - accuracy: 0.9115 - precision_3: 0.8897 - recall_3: 0.9368\n",
            "Epoch 31: val_accuracy did not improve from 0.92569\n",
            "58/58 [==============================] - 10s 165ms/sample - loss: 0.0321 - accuracy: 0.9115 - precision_3: 0.8897 - recall_3: 0.9368 - val_loss: 0.0506 - val_accuracy: 0.9182 - val_precision_3: 0.8971 - val_recall_3: 0.9382\n",
            "Epoch 32/40\n"
          ]
        },
        {
          "output_type": "stream",
          "name": "stderr",
          "text": [
            "[2022-06-16 21:50:23,047] INFO: Learning rate: 0.001000\n"
          ]
        },
        {
          "output_type": "stream",
          "name": "stdout",
          "text": [
            " 0/58 [..............................] - ETA: 0s - loss: 0.0309 - accuracy: 0.9119 - precision_3: 0.8888 - recall_3: 0.9389\n",
            "Epoch 32: val_accuracy did not improve from 0.92569\n",
            "58/58 [==============================] - 10s 164ms/sample - loss: 0.0309 - accuracy: 0.9119 - precision_3: 0.8888 - recall_3: 0.9389 - val_loss: 0.0481 - val_accuracy: 0.9164 - val_precision_3: 0.8965 - val_recall_3: 0.9347\n",
            "Epoch 33/40\n"
          ]
        },
        {
          "output_type": "stream",
          "name": "stderr",
          "text": [
            "[2022-06-16 21:50:32,595] INFO: Learning rate: 0.001000\n"
          ]
        },
        {
          "output_type": "stream",
          "name": "stdout",
          "text": [
            " 0/58 [..............................] - ETA: 0s - loss: 0.0321 - accuracy: 0.9130 - precision_3: 0.8893 - recall_3: 0.9408\n",
            "Epoch 33: val_accuracy improved from 0.92569 to 0.92688, saving model to model_checkpoints/particle_net_lite_model.033.h5\n",
            "58/58 [==============================] - 10s 166ms/sample - loss: 0.0321 - accuracy: 0.9130 - precision_3: 0.8893 - recall_3: 0.9408 - val_loss: 0.0534 - val_accuracy: 0.9269 - val_precision_3: 0.9005 - val_recall_3: 0.9539\n",
            "Epoch 34/40\n"
          ]
        },
        {
          "output_type": "stream",
          "name": "stderr",
          "text": [
            "[2022-06-16 21:50:42,228] INFO: Learning rate: 0.001000\n"
          ]
        },
        {
          "output_type": "stream",
          "name": "stdout",
          "text": [
            " 0/58 [..............................] - ETA: 0s - loss: 0.0310 - accuracy: 0.9139 - precision_3: 0.8904 - recall_3: 0.9415\n",
            "Epoch 34: val_accuracy did not improve from 0.92688\n",
            "58/58 [==============================] - 9s 164ms/sample - loss: 0.0310 - accuracy: 0.9139 - precision_3: 0.8904 - recall_3: 0.9415 - val_loss: 0.0478 - val_accuracy: 0.9102 - val_precision_3: 0.9002 - val_recall_3: 0.9155\n",
            "Epoch 35/40\n"
          ]
        },
        {
          "output_type": "stream",
          "name": "stderr",
          "text": [
            "[2022-06-16 21:50:51,723] INFO: Learning rate: 0.001000\n"
          ]
        },
        {
          "output_type": "stream",
          "name": "stdout",
          "text": [
            " 0/58 [..............................] - ETA: 0s - loss: 0.0329 - accuracy: 0.9117 - precision_3: 0.8906 - recall_3: 0.9362\n",
            "Epoch 35: val_accuracy did not improve from 0.92688\n",
            "58/58 [==============================] - 10s 166ms/sample - loss: 0.0329 - accuracy: 0.9117 - precision_3: 0.8906 - recall_3: 0.9362 - val_loss: 0.0511 - val_accuracy: 0.9077 - val_precision_3: 0.8949 - val_recall_3: 0.9165\n",
            "Epoch 36/40\n"
          ]
        },
        {
          "output_type": "stream",
          "name": "stderr",
          "text": [
            "[2022-06-16 21:51:01,370] INFO: Learning rate: 0.001000\n"
          ]
        },
        {
          "output_type": "stream",
          "name": "stdout",
          "text": [
            " 0/58 [..............................] - ETA: 0s - loss: 0.0307 - accuracy: 0.9162 - precision_3: 0.8919 - recall_3: 0.9446\n",
            "Epoch 36: val_accuracy did not improve from 0.92688\n",
            "58/58 [==============================] - 10s 164ms/sample - loss: 0.0307 - accuracy: 0.9162 - precision_3: 0.8919 - recall_3: 0.9446 - val_loss: 0.0522 - val_accuracy: 0.9268 - val_precision_3: 0.9020 - val_recall_3: 0.9517\n",
            "Epoch 37/40\n"
          ]
        },
        {
          "output_type": "stream",
          "name": "stderr",
          "text": [
            "[2022-06-16 21:51:10,913] INFO: Learning rate: 0.001000\n"
          ]
        },
        {
          "output_type": "stream",
          "name": "stdout",
          "text": [
            " 0/58 [..............................] - ETA: 0s - loss: 0.0325 - accuracy: 0.9135 - precision_3: 0.8907 - recall_3: 0.9402\n",
            "Epoch 37: val_accuracy did not improve from 0.92688\n",
            "58/58 [==============================] - 10s 164ms/sample - loss: 0.0325 - accuracy: 0.9135 - precision_3: 0.8907 - recall_3: 0.9402 - val_loss: 0.0447 - val_accuracy: 0.9193 - val_precision_3: 0.8971 - val_recall_3: 0.9406\n",
            "Epoch 38/40\n"
          ]
        },
        {
          "output_type": "stream",
          "name": "stderr",
          "text": [
            "[2022-06-16 21:51:20,460] INFO: Learning rate: 0.001000\n"
          ]
        },
        {
          "output_type": "stream",
          "name": "stdout",
          "text": [
            " 0/58 [..............................] - ETA: 0s - loss: 0.0321 - accuracy: 0.9105 - precision_3: 0.8881 - recall_3: 0.9368\n",
            "Epoch 38: val_accuracy did not improve from 0.92688\n",
            "58/58 [==============================] - 10s 164ms/sample - loss: 0.0321 - accuracy: 0.9105 - precision_3: 0.8881 - recall_3: 0.9368 - val_loss: 0.0500 - val_accuracy: 0.9241 - val_precision_3: 0.9011 - val_recall_3: 0.9468\n",
            "Epoch 39/40\n"
          ]
        },
        {
          "output_type": "stream",
          "name": "stderr",
          "text": [
            "[2022-06-16 21:51:30,007] INFO: Learning rate: 0.001000\n"
          ]
        },
        {
          "output_type": "stream",
          "name": "stdout",
          "text": [
            " 0/58 [..............................] - ETA: 0s - loss: 0.0311 - accuracy: 0.9174 - precision_3: 0.8931 - recall_3: 0.9459\n",
            "Epoch 39: val_accuracy did not improve from 0.92688\n",
            "58/58 [==============================] - 10s 164ms/sample - loss: 0.0311 - accuracy: 0.9174 - precision_3: 0.8931 - recall_3: 0.9459 - val_loss: 0.0492 - val_accuracy: 0.9238 - val_precision_3: 0.9006 - val_recall_3: 0.9466\n",
            "Epoch 40/40\n"
          ]
        },
        {
          "output_type": "stream",
          "name": "stderr",
          "text": [
            "[2022-06-16 21:51:39,554] INFO: Learning rate: 0.001000\n"
          ]
        },
        {
          "output_type": "stream",
          "name": "stdout",
          "text": [
            " 0/58 [..............................] - ETA: 0s - loss: 0.0317 - accuracy: 0.9113 - precision_3: 0.8915 - recall_3: 0.9338\n",
            "Epoch 40: val_accuracy did not improve from 0.92688\n",
            "58/58 [==============================] - 10s 164ms/sample - loss: 0.0317 - accuracy: 0.9113 - precision_3: 0.8915 - recall_3: 0.9338 - val_loss: 0.0500 - val_accuracy: 0.9202 - val_precision_3: 0.8986 - val_recall_3: 0.9409\n"
          ]
        }
      ],
      "source": [
        "history = model.fit(\n",
        "    [train_data[\"points\"], train_data[\"features\"], train_data[\"mask\"], train_data[\"summary\"]], \n",
        "    train_label,\n",
        "    batch_size=batch_size,\n",
        "    epochs=40,\n",
        "    validation_data=(\n",
        "      [val_data[\"points\"], val_data[\"features\"], val_data[\"mask\"], val_data[\"summary\"]], \n",
        "      val_label, val_weight\n",
        "    ),\n",
        "    shuffle=True,\n",
        "    sample_weight=train_weight,\n",
        "    callbacks=callbacks,\n",
        ")\n"
      ]
    },
    {
      "cell_type": "code",
      "source": [
        "plt.plot(history.history['loss'], label=\"Train Loss\")\n",
        "plt.plot(history.history['val_loss'], label=\"Validation Loss\")\n",
        "plt.legend()"
      ],
      "metadata": {
        "id": "-irxBo-j0Ifg",
        "colab": {
          "base_uri": "https://localhost:8080/",
          "height": 285
        },
        "outputId": "dfa1b92b-d202-497e-bf23-0f41d73be18f"
      },
      "execution_count": 89,
      "outputs": [
        {
          "output_type": "execute_result",
          "data": {
            "text/plain": [
              "<matplotlib.legend.Legend at 0x7f9901206fd0>"
            ]
          },
          "metadata": {},
          "execution_count": 89
        },
        {
          "output_type": "display_data",
          "data": {
            "text/plain": [
              "<Figure size 432x288 with 1 Axes>"
            ],
            "image/png": "[encoded data removed]"
          },
          "metadata": {
            "needs_background": "light"
          }
        }
      ]
    },
    {
      "cell_type": "code",
      "source": [
        "plt.plot(history.history['accuracy'], label=\"Train Accuracy\")\n",
        "plt.plot(history.history['val_accuracy'], label=\"Validation Accuracy\")\n",
        "plt.legend()"
      ],
      "metadata": {
        "id": "Fw0L9XiUEril",
        "colab": {
          "base_uri": "https://localhost:8080/",
          "height": 282
        },
        "outputId": "0f468c43-9cb1-44c1-d101-0635e332a687"
      },
      "execution_count": 91,
      "outputs": [
        {
          "output_type": "execute_result",
          "data": {
            "text/plain": [
              "<matplotlib.legend.Legend at 0x7f9925f65710>"
            ]
          },
          "metadata": {},
          "execution_count": 91
        },
        {
          "output_type": "display_data",
          "data": {
            "text/plain": [
              "<Figure size 432x288 with 1 Axes>"
            ],
            "image/png": "[encoded data removed]"
          },
          "metadata": {
            "needs_background": "light"
          }
        }
      ]
    },
    {
      "cell_type": "code",
      "source": [
        "plt.plot(history.history['precision_3'], label=\"Train Purity\")\n",
        "plt.plot(history.history['val_precision_3'], label=\"Validation Purity\")\n",
        "plt.legend()"
      ],
      "metadata": {
        "id": "EvZiOlA1E1V-",
        "colab": {
          "base_uri": "https://localhost:8080/",
          "height": 201
        },
        "outputId": "b97cfb75-31ad-47b8-97c6-571c86e27b3d"
      },
      "execution_count": 92,
      "outputs": [
        {
          "output_type": "error",
          "ename": "KeyError",
          "evalue": "ignored",
          "traceback": [
            "\u001b[0;31m---------------------------------------------------------------------------\u001b[0m",
            "\u001b[0;31mKeyError\u001b[0m                                  Traceback (most recent call last)",
            "\u001b[0;32m<ipython-input-92-2af98e4dd846>\u001b[0m in \u001b[0;36m<module>\u001b[0;34m()\u001b[0m\n\u001b[0;32m----> 1\u001b[0;31m \u001b[0mplt\u001b[0m\u001b[0;34m.\u001b[0m\u001b[0mplot\u001b[0m\u001b[0;34m(\u001b[0m\u001b[0mhistory\u001b[0m\u001b[0;34m.\u001b[0m\u001b[0mhistory\u001b[0m\u001b[0;34m[\u001b[0m\u001b[0;34m'precision_2'\u001b[0m\u001b[0;34m]\u001b[0m\u001b[0;34m,\u001b[0m \u001b[0mlabel\u001b[0m\u001b[0;34m=\u001b[0m\u001b[0;34m\"Train Purity\"\u001b[0m\u001b[0;34m)\u001b[0m\u001b[0;34m\u001b[0m\u001b[0;34m\u001b[0m\u001b[0m\n\u001b[0m\u001b[1;32m      2\u001b[0m \u001b[0mplt\u001b[0m\u001b[0;34m.\u001b[0m\u001b[0mplot\u001b[0m\u001b[0;34m(\u001b[0m\u001b[0mhistory\u001b[0m\u001b[0;34m.\u001b[0m\u001b[0mhistory\u001b[0m\u001b[0;34m[\u001b[0m\u001b[0;34m'val_precision_2'\u001b[0m\u001b[0;34m]\u001b[0m\u001b[0;34m,\u001b[0m \u001b[0mlabel\u001b[0m\u001b[0;34m=\u001b[0m\u001b[0;34m\"Validation Purity\"\u001b[0m\u001b[0;34m)\u001b[0m\u001b[0;34m\u001b[0m\u001b[0;34m\u001b[0m\u001b[0m\n\u001b[1;32m      3\u001b[0m \u001b[0mplt\u001b[0m\u001b[0;34m.\u001b[0m\u001b[0mlegend\u001b[0m\u001b[0;34m(\u001b[0m\u001b[0;34m)\u001b[0m\u001b[0;34m\u001b[0m\u001b[0;34m\u001b[0m\u001b[0m\n",
            "\u001b[0;31mKeyError\u001b[0m: 'precision_2'"
          ]
        }
      ]
    },
    {
      "cell_type": "code",
      "source": [
        "plt.plot(history.history['recall_3'], label=\"Train Effciency\")\n",
        "plt.plot(history.history['val_recall_3'], label=\"Validation Efficiency\")\n",
        "plt.legend()"
      ],
      "metadata": {
        "id": "Wg0JLZOcE_89",
        "colab": {
          "base_uri": "https://localhost:8080/",
          "height": 282
        },
        "outputId": "8c850be1-941b-4e4e-8ecf-90f8c8ea35c1"
      },
      "execution_count": 93,
      "outputs": [
        {
          "output_type": "execute_result",
          "data": {
            "text/plain": [
              "<matplotlib.legend.Legend at 0x7f9925ea9cd0>"
            ]
          },
          "metadata": {},
          "execution_count": 93
        },
        {
          "output_type": "display_data",
          "data": {
            "text/plain": [
              "<Figure size 432x288 with 1 Axes>"
            ],
            "image/png": "[encoded data removed]"
          },
          "metadata": {
            "needs_background": "light"
          }
        }
      ]
    },
    {
      "cell_type": "code",
      "source": [
        "!ls -1rt model_checkpoints/*model*.h5 | tail -n 1\n",
        "!cp $(ls -1rt model_checkpoints/*model*.h5 | tail -n 1) model_checkpoints/last.h5"
      ],
      "metadata": {
        "colab": {
          "base_uri": "https://localhost:8080/"
        },
        "id": "euw0LvIGaxat",
        "outputId": "e2d9ad4f-073c-49ed-cf3b-284be9439694"
      },
      "execution_count": 101,
      "outputs": [
        {
          "output_type": "stream",
          "name": "stdout",
          "text": [
            "model_checkpoints/particle_net_lite_model.033.h5\n"
          ]
        }
      ]
    },
    {
      "cell_type": "code",
      "source": [
        "model.load_weights(\"model_checkpoints/last.h5\")"
      ],
      "metadata": {
        "id": "NGw0cUyR5TxX"
      },
      "execution_count": 102,
      "outputs": []
    },
    {
      "cell_type": "code",
      "source": [
        "probs = model.predict_on_batch(test_data)"
      ],
      "metadata": {
        "id": "Ldx5QeBFF_N3"
      },
      "execution_count": 103,
      "outputs": []
    },
    {
      "cell_type": "code",
      "execution_count": 104,
      "metadata": {
        "id": "je0DvhbX2g86",
        "colab": {
          "base_uri": "https://localhost:8080/",
          "height": 282
        },
        "outputId": "8c5ea776-e6f6-4298-e206-b5a5f0341b0b"
      },
      "outputs": [
        {
          "output_type": "stream",
          "name": "stdout",
          "text": [
            "0.9778539234569689\n"
          ]
        },
        {
          "output_type": "display_data",
          "data": {
            "text/plain": [
              "<Figure size 432x288 with 1 Axes>"
            ],
            "image/png": "[encoded data removed]"
          },
          "metadata": {
            "needs_background": "light"
          }
        }
      ],
      "source": [
        "precision, recall, thresholds = precision_recall_curve(test_label, probs, sample_weight=test_weight)\n",
        "plt.plot(recall, precision)\n",
        "print(auc(recall, precision))"
      ]
    }
  ],
  "metadata": {
    "kernelspec": {
      "display_name": "Python 3 (ipykernel)",
      "language": "python",
      "name": "python3"
    },
    "language_info": {
      "codemirror_mode": {
        "name": "ipython",
        "version": 3
      },
      "file_extension": ".py",
      "mimetype": "text/x-python",
      "name": "python",
      "nbconvert_exporter": "python",
      "pygments_lexer": "ipython3",
      "version": "3.8.10"
    },
    "colab": {
      "name": "keras_train.ipynb",
      "provenance": []
    },
    "accelerator": "GPU",
    "gpuClass": "standard"
  },
  "nbformat": 4,
  "nbformat_minor": 0
}