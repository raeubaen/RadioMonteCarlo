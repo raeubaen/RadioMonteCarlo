{
  "cells": [
    {
      "cell_type": "code",
      "execution_count": 1,
      "metadata": {
        "id": "qIv6ffW82g8W"
      },
      "outputs": [],
      "source": [
        "import numpy as np\n",
        "from sklearn.metrics import precision_recall_curve, auc\n",
        "import matplotlib.pyplot as plt"
      ]
    },
    {
      "cell_type": "code",
      "execution_count": 2,
      "metadata": {
        "id": "rabKUfn02g8b"
      },
      "outputs": [],
      "source": [
        "import logging\n",
        "logging.basicConfig(level=logging.INFO, format='[%(asctime)s] %(levelname)s: %(message)s')"
      ]
    },
    {
      "cell_type": "code",
      "source": [
        "# importing  custom particle_net keras model \n",
        "!wget https://raw.githubusercontent.com/raeubaen/RadioMonteCarlo/main/tf_keras_model.py -O tf_keras_model.py"
      ],
      "metadata": {
        "id": "3gI9EJ0R2j5v",
        "outputId": "f9a69b67-0eab-495c-b528-74e965f14fab",
        "colab": {
          "base_uri": "https://localhost:8080/"
        }
      },
      "execution_count": 4,
      "outputs": [
        {
          "output_type": "stream",
          "name": "stdout",
          "text": [
            "--2022-06-19 10:09:36--  https://raw.githubusercontent.com/raeubaen/RadioMonteCarlo/main/tf_keras_model.py\n",
            "Resolving raw.githubusercontent.com (raw.githubusercontent.com)... 185.199.109.133, 185.199.111.133, 185.199.108.133, ...\n",
            "Connecting to raw.githubusercontent.com (raw.githubusercontent.com)|185.199.109.133|:443... connected.\n",
            "HTTP request sent, awaiting response... 200 OK\n",
            "Length: 6795 (6.6K) [text/plain]\n",
            "Saving to: ‘tf_keras_model.py’\n",
            "\n",
            "\rtf_keras_model.py     0%[                    ]       0  --.-KB/s               \rtf_keras_model.py   100%[===================>]   6.64K  --.-KB/s    in 0s      \n",
            "\n",
            "2022-06-19 10:09:36 (64.8 MB/s) - ‘tf_keras_model.py’ saved [6795/6795]\n",
            "\n"
          ]
        }
      ]
    },
    {
      "cell_type": "code",
      "execution_count": 7,
      "metadata": {
        "id": "S3ag941H2g8d"
      },
      "outputs": [],
      "source": [
        "import tensorflow as tf\n",
        "from tensorflow import keras\n",
        "from tf_keras_model import get_particle_net_lite_custom"
      ]
    },
    {
      "cell_type": "markdown",
      "source": [
        "Data are imported in .npy format from Dropbox "
      ],
      "metadata": {
        "id": "F2FnfwfZc9Cx"
      }
    },
    {
      "cell_type": "code",
      "source": [
        "'''\n",
        "from google.colab import drive\n",
        "drive.mount('/content/drive')\n",
        "\n",
        "data_folder = \"/content/drive/MyDrive/datiML\"\n",
        "'''"
      ],
      "metadata": {
        "colab": {
          "base_uri": "https://localhost:8080/"
        },
        "id": "qMTnts0q2qFw",
        "outputId": "a4ec626a-1969-4fb9-b3d0-7527e0049558"
      },
      "execution_count": null,
      "outputs": [
        {
          "output_type": "stream",
          "name": "stdout",
          "text": [
            "Drive already mounted at /content/drive; to attempt to forcibly remount, call drive.mount(\"/content/drive\", force_remount=True).\n"
          ]
        }
      ]
    },
    {
      "cell_type": "code",
      "source": [
        "!wget https://www.dropbox.com/sh/oqlkgpajx6nu8i7/AABnJFTfOheRs2O3x_NT_q72a?dl=1 -O keras_input.zip\n",
        "!unzip keras_input.zip\n",
        "\n",
        "data_folder = \".\""
      ],
      "metadata": {
        "id": "Ez9vWLA_7qaP",
        "colab": {
          "base_uri": "https://localhost:8080/"
        },
        "outputId": "1ad6ee3a-f2eb-4a3d-d6a4-9905bc749406"
      },
      "execution_count": 11,
      "outputs": [
        {
          "output_type": "stream",
          "name": "stdout",
          "text": [
            "--2022-06-19 10:32:21--  https://www.dropbox.com/sh/oqlkgpajx6nu8i7/AABnJFTfOheRs2O3x_NT_q72a?dl=1\n",
            "Resolving www.dropbox.com (www.dropbox.com)... 162.125.81.18, 2620:100:6025:18::a27d:4512\n",
            "Connecting to www.dropbox.com (www.dropbox.com)|162.125.81.18|:443... connected.\n",
            "HTTP request sent, awaiting response... 301 Moved Permanently\n",
            "Location: /sh/dl/oqlkgpajx6nu8i7/AABnJFTfOheRs2O3x_NT_q72a [following]\n",
            "--2022-06-19 10:32:22--  https://www.dropbox.com/sh/dl/oqlkgpajx6nu8i7/AABnJFTfOheRs2O3x_NT_q72a\n",
            "Reusing existing connection to www.dropbox.com:443.\n",
            "HTTP request sent, awaiting response... 302 Found\n",
            "Location: https://ucb0f9650dcd34334644e4d1aac2.dl.dropboxusercontent.com/zip_download_get/BK7x6fMlPpq-LjqDVNBoeGDHsuJRVTPyRqHMv28TytfLzcE1-5GxSh8xzY5XwSIT0snFb3Zx7vHQgPUKy4JyIsinfcgt3oeOvOlG85BRP-zr3Q?dl=1# [following]\n",
            "--2022-06-19 10:32:22--  https://ucb0f9650dcd34334644e4d1aac2.dl.dropboxusercontent.com/zip_download_get/BK7x6fMlPpq-LjqDVNBoeGDHsuJRVTPyRqHMv28TytfLzcE1-5GxSh8xzY5XwSIT0snFb3Zx7vHQgPUKy4JyIsinfcgt3oeOvOlG85BRP-zr3Q?dl=1\n",
            "Resolving ucb0f9650dcd34334644e4d1aac2.dl.dropboxusercontent.com (ucb0f9650dcd34334644e4d1aac2.dl.dropboxusercontent.com)... 162.125.69.15, 2620:100:6031:15::a27d:510f\n",
            "Connecting to ucb0f9650dcd34334644e4d1aac2.dl.dropboxusercontent.com (ucb0f9650dcd34334644e4d1aac2.dl.dropboxusercontent.com)|162.125.69.15|:443... connected.\n",
            "HTTP request sent, awaiting response... 200 OK\n",
            "Length: 208745172 (199M) [application/zip]\n",
            "Saving to: ‘keras_input.zip’\n",
            "\n",
            "keras_input.zip     100%[===================>] 199.07M  8.97MB/s    in 17s     \n",
            "\n",
            "2022-06-19 10:32:40 (11.5 MB/s) - ‘keras_input.zip’ saved [208745172/208745172]\n",
            "\n",
            "Archive:  keras_input.zip\n",
            "warning:  stripped absolute path spec from /\n",
            "mapname:  conversion of  failed\n",
            "replace mnbs_et.npy? [y]es, [n]o, [A]ll, [N]one, [r]ename: A\n",
            " extracting: mnbs_et.npy             \n",
            " extracting: mnbs_xy.npy             \n",
            " extracting: mnbs_mask.npy           \n",
            " extracting: mnbs_rphi.npy           \n",
            " extracting: mnbs_etrn.npy           \n",
            " extracting: signal_xy.npy           \n",
            " extracting: signal_et.npy           \n",
            " extracting: cosmics_xy.npy          \n",
            " extracting: cosmics_et.npy          \n",
            " extracting: signal_rphi.npy         \n",
            " extracting: signal_etrn.npy         \n",
            " extracting: signal_mask.npy         \n",
            " extracting: cosmics_rphi.npy        \n",
            " extracting: cosmics_mask.npy        \n",
            " extracting: cosmics_etrn.npy        \n"
          ]
        }
      ]
    },
    {
      "cell_type": "markdown",
      "source": [
        "There are three type of samples:\n",
        "- Photons from Radiative Muon Capture, as signal\n",
        "- Min-bias events due to the beam, as background\n",
        "- Cosmic rays, as background\n",
        "\n",
        "All the samples represent clusters in the upstream calorimeter disk.\n",
        "\n",
        "The datasets are saved as dictionaries with 4 components:\n",
        "-  \"points\": Point Cloud (xy coordinates of each hit of a cluster) - padded to 50 maximum hits\n",
        "-  \"features\": Energy and Time of each hit of a cluster - paddes to 50 maximum hits\n",
        "-  \"mask\": Mask to distinguish real hits (the others are filled with 0) in a cluster\n",
        "-  \"summary\": Energy, Time, Radius, and Number of active cells for a cluster"
      ],
      "metadata": {
        "id": "au2FgZqAdFDh"
      }
    },
    {
      "cell_type": "code",
      "execution_count": 93,
      "metadata": {
        "id": "Se9xg25k2g8f"
      },
      "outputs": [],
      "source": [
        "name_map = {\"points\": \"xy\", \"features\": \"et\", \"mask\": \"mask\", \"summary\": \"etrn\"}\n",
        "\n",
        "signal  = {key: np.load(f\"{data_folder}/signal_{ name_map[key]}.npy\") for key in name_map}\n",
        "\n",
        "mnbs    = {key: np.load(f\"{data_folder}/mnbs_{   name_map[key]}.npy\") for key in name_map}\n",
        "\n",
        "cosmics = {key: np.load(f\"{data_folder}/cosmics_{name_map[key]}.npy\") for key in name_map}"
      ]
    },
    {
      "cell_type": "markdown",
      "source": [
        "The dataset (generated with Monte Carlo) is weighted to match the real statistics of the data in one Mu2e injection cycle (1.33 s).\n"
      ],
      "metadata": {
        "id": "OZX7Akk1fWBM"
      }
    },
    {
      "cell_type": "code",
      "source": [
        "'''\n",
        "cluster su disco upstream in un injection cycle (1.33s):\n",
        "RMC: 330\n",
        "MNBS: 1.3M\n",
        "cosmici: 4\n",
        "\n",
        "cluster simulati su disco 0:\n",
        "RMC: 150k\n",
        "MNBS: 1.05M\n",
        "cosmici: 53k\n",
        "\n",
        "pesi:\n",
        "RMC: 66/150k \n",
        "MNBS: \n",
        "Cosmici: 4/53k\n",
        "'''\n",
        "\n",
        "signal_weight = 330/150e3 * 100\n",
        "mnbs_weight = 0.24 * 100\n",
        "cosmics_weight = 4/53e3 * 100\n",
        "\n",
        "'''\n",
        "il campione MC è stato filtrato con ROOT\n",
        "effettuando due tagli di preselezione:\n",
        "E del cluster > 50 MeV  &&  R del centroide del cluster > 480 mm\n",
        "'''\n",
        "\n",
        "print(end=\"\")"
      ],
      "metadata": {
        "id": "m1CHQLiEAXZQ"
      },
      "execution_count": 94,
      "outputs": []
    },
    {
      "cell_type": "markdown",
      "source": [
        "The samples are merged into a unique dataset, which is then shuffled, saving also labels and weights"
      ],
      "metadata": {
        "id": "-RADS0WTfqjL"
      }
    },
    {
      "cell_type": "code",
      "execution_count": 95,
      "metadata": {
        "id": "ZS-UFF0G2g8i"
      },
      "outputs": [],
      "source": [
        "S =  signal[\"mask\"].shape[0] #entries segnale\n",
        "F =    mnbs[\"mask\"].shape[0] #entries mnbs (background flash da fascio)\n",
        "C = cosmics[\"mask\"].shape[0] #entries cosmici\n",
        "\n",
        "N = S + F + C\n",
        "\n",
        "p = np.random.permutation(N) #"
      ]
    },
    {
      "cell_type": "code",
      "execution_count": 96,
      "metadata": {
        "id": "aXZ6qndr2g8m",
        "colab": {
          "base_uri": "https://localhost:8080/"
        },
        "outputId": "8cd13532-1e07-468b-afcf-2cbe6e93bd0e"
      },
      "outputs": [
        {
          "output_type": "stream",
          "name": "stdout",
          "text": [
            "- Entries per signale, mnbs e cosmici:[41372, 1132, 41598]\n",
            "- Pesi per signale, mnbs e cosmici:[0.22, 24.0, 0.007547169811320755]\n"
          ]
        }
      ],
      "source": [
        "data = {key: np.concatenate( (signal[key], mnbs[key], cosmics[key]) )[p] for key in name_map}\n",
        "\n",
        "label_list = [1, 0, 0]\n",
        "entries_list = [S, F, C]\n",
        "weight_list = [signal_weight, mnbs_weight, cosmics_weight]\n",
        "\n",
        "print(f\"- Entries per signale, mnbs e cosmici:{entries_list}\")\n",
        "print(f\"- Pesi per signale, mnbs e cosmici:{weight_list}\")\n",
        "\n",
        "label = np.concatenate( \n",
        "    [ np.ones((e))*l for e, l in zip(entries_list,  label_list) ]\n",
        ")[p]\n",
        "\n",
        "sample_weight = np.concatenate( \n",
        "    [ np.ones((e))*w for e, w in zip(entries_list, weight_list) ]\n",
        ")[p]"
      ]
    },
    {
      "cell_type": "markdown",
      "source": [
        "The data are normalized to help the training "
      ],
      "metadata": {
        "id": "PsfwSDLcf9U-"
      }
    },
    {
      "cell_type": "code",
      "source": [
        "from sklearn.preprocessing import StandardScaler\n",
        "scaler = StandardScaler()\n",
        "\n",
        "for key in [\"points\", \"features\"]:\n",
        "  data[key][data[\"mask\"].reshape(N, 50)] = scaler.fit_transform(data[key][data[\"mask\"].reshape(N, 50)])\n",
        "\n",
        "data[\"summary\"] = scaler.fit_transform(data[\"summary\"])"
      ],
      "metadata": {
        "id": "xTsETQ4OAxEd"
      },
      "execution_count": 97,
      "outputs": []
    },
    {
      "cell_type": "markdown",
      "source": [
        "The dataset is split in training, validation and test set"
      ],
      "metadata": {
        "id": "FcLMyfjTgHsO"
      }
    },
    {
      "cell_type": "code",
      "execution_count": 98,
      "metadata": {
        "id": "ZFNtoo8s2g8s"
      },
      "outputs": [],
      "source": [
        "train_data  = {key: data[key][int(N*0.0) : int(N*0.7)] for key in name_map}\n",
        "test_data   = {key: data[key][int(N*0.7) : int(N*0.9)] for key in name_map}\n",
        "val_data    = {key: data[key][int(N*0.9) : int(N*1.0)] for key in name_map}\n",
        "\n",
        "train_label = label[int(N*0.0) : int(N*0.7)]\n",
        "test_label  = label[int(N*0.7) : int(N*0.9)]\n",
        "val_label   = label[int(N*0.9) : int(N*1.0)]\n",
        "\n",
        "train_weight = sample_weight[int(N*0.0) : int(N*0.7)]\n",
        "test_weight  = sample_weight[int(N*0.7) : int(N*0.9)]\n",
        "val_weight   = sample_weight[int(N*0.9) : int(N*1.0)]"
      ]
    },
    {
      "cell_type": "markdown",
      "source": [
        "The keras model is imported from the library "
      ],
      "metadata": {
        "id": "TEdNF_JlgM4Z"
      }
    },
    {
      "cell_type": "code",
      "execution_count": 99,
      "metadata": {
        "scrolled": true,
        "id": "nfCI_M2d2g8u"
      },
      "outputs": [],
      "source": [
        "input_shapes = {'points': (50, 2), 'features': (50, 2), 'mask':(50, 1)}\n",
        "\n",
        "model = get_particle_net_lite_custom(input_shapes)"
      ]
    },
    {
      "cell_type": "code",
      "execution_count": 100,
      "metadata": {
        "id": "LFRJXncU2g8x"
      },
      "outputs": [],
      "source": [
        "# Training parameters\n",
        "\n",
        "batch_size = 1024\n",
        "epochs = 30"
      ]
    },
    {
      "cell_type": "markdown",
      "source": [
        "The learning rate is exponentially decreased by a 0.1 factor after 10 epochs and 0.01 after 20 epochs, starting from 0.01 in the first epoch. The best initial learning rate was estimated using the learning rate finder technique (https://colab.research.google.com/github/sachinruk/blog/blob/master/_notebooks/2021-02-15-Tensorflow-Learning-Rate-Finder.ipynb)"
      ],
      "metadata": {
        "id": "3_gm4C99gebR"
      }
    },
    {
      "cell_type": "code",
      "execution_count": 101,
      "metadata": {
        "id": "RHvU72JY2g8z"
      },
      "outputs": [],
      "source": [
        "def lr_schedule(epoch):\n",
        "    lr = 1e-2\n",
        "    if epoch > 10:\n",
        "        lr *= 0.1\n",
        "    elif epoch > 20:\n",
        "        lr *= 0.01\n",
        "    logging.info('Learning rate: %f'%lr)\n",
        "    return lr"
      ]
    },
    {
      "cell_type": "markdown",
      "source": [
        "The model is compiled with:\n",
        "- Loss: binary crossentropy\n",
        "- Metrics (weighted to match the real statistics): precision and recall\n",
        "- Unweighted metrics: accuracy\n",
        "- Optimizer: Adam"
      ],
      "metadata": {
        "id": "NvIByldWgvyC"
      }
    },
    {
      "cell_type": "code",
      "execution_count": 102,
      "metadata": {
        "scrolled": true,
        "id": "2IlFncmO2g82",
        "outputId": "ca1592e9-6ae5-41b0-ad7f-abb1e126ed98",
        "colab": {
          "base_uri": "https://localhost:8080/"
        }
      },
      "outputs": [
        {
          "output_type": "stream",
          "name": "stderr",
          "text": [
            "[2022-06-19 11:10:46,316] INFO: Learning rate: 0.010000\n"
          ]
        },
        {
          "output_type": "stream",
          "name": "stdout",
          "text": [
            "Model: \"ParticleNet\"\n",
            "__________________________________________________________________________________________________\n",
            " Layer (type)                   Output Shape         Param #     Connected to                     \n",
            "==================================================================================================\n",
            " mask (InputLayer)              [(None, 50, 1)]      0           []                               \n",
            "                                                                                                  \n",
            " tf.math.not_equal_5 (TFOpLambd  (None, 50, 1)       0           ['mask[0][0]']                   \n",
            " a)                                                                                               \n",
            "                                                                                                  \n",
            " tf.cast_10 (TFOpLambda)        (None, 50, 1)        0           ['tf.math.not_equal_5[0][0]']    \n",
            "                                                                                                  \n",
            " tf.math.equal_5 (TFOpLambda)   (None, 50, 1)        0           ['tf.cast_10[0][0]']             \n",
            "                                                                                                  \n",
            " tf.cast_11 (TFOpLambda)        (None, 50, 1)        0           ['tf.math.equal_5[0][0]']        \n",
            "                                                                                                  \n",
            " tf.math.multiply_40 (TFOpLambd  (None, 50, 1)       0           ['tf.cast_11[0][0]']             \n",
            " a)                                                                                               \n",
            "                                                                                                  \n",
            " points (InputLayer)            [(None, 50, 2)]      0           []                               \n",
            "                                                                                                  \n",
            " tf.math.add_10 (TFOpLambda)    (None, 50, 2)        0           ['tf.math.multiply_40[0][0]',    \n",
            "                                                                  'points[0][0]']                 \n",
            "                                                                                                  \n",
            " features (InputLayer)          [(None, 50, 2)]      0           []                               \n",
            "                                                                                                  \n",
            " tf.compat.v1.transpose_20 (TFO  (None, 2, 50)       0           ['tf.math.add_10[0][0]']         \n",
            " pLambda)                                                                                         \n",
            "                                                                                                  \n",
            " tf.expand_dims_35 (TFOpLambda)  (None, 50, 1, 2)    0           ['features[0][0]']               \n",
            "                                                                                                  \n",
            " tf.math.multiply_41 (TFOpLambd  (None, 50, 2)       0           ['tf.math.add_10[0][0]',         \n",
            " a)                                                               'tf.math.add_10[0][0]']         \n",
            "                                                                                                  \n",
            " tf.linalg.matmul_10 (TFOpLambd  (None, 50, 50)      0           ['tf.math.add_10[0][0]',         \n",
            " a)                                                               'tf.compat.v1.transpose_20[0][0]\n",
            "                                                                 ']                               \n",
            "                                                                                                  \n",
            " tf.math.multiply_42 (TFOpLambd  (None, 50, 2)       0           ['tf.math.add_10[0][0]',         \n",
            " a)                                                               'tf.math.add_10[0][0]']         \n",
            "                                                                                                  \n",
            " ParticleNet_fts_bn (BatchNorma  (None, 50, 1, 2)    8           ['tf.expand_dims_35[0][0]']      \n",
            " lization)                                                                                        \n",
            "                                                                                                  \n",
            " tf.math.reduce_sum_20 (TFOpLam  (None, 50, 1)       0           ['tf.math.multiply_41[0][0]']    \n",
            " bda)                                                                                             \n",
            "                                                                                                  \n",
            " tf.math.multiply_43 (TFOpLambd  (None, 50, 50)      0           ['tf.linalg.matmul_10[0][0]']    \n",
            " a)                                                                                               \n",
            "                                                                                                  \n",
            " tf.math.reduce_sum_21 (TFOpLam  (None, 50, 1)       0           ['tf.math.multiply_42[0][0]']    \n",
            " bda)                                                                                             \n",
            "                                                                                                  \n",
            " tf.compat.v1.squeeze_15 (TFOpL  (None, 50, 2)       0           ['ParticleNet_fts_bn[0][0]']     \n",
            " ambda)                                                                                           \n",
            "                                                                                                  \n",
            " tf.math.subtract_20 (TFOpLambd  (None, 50, 50)      0           ['tf.math.reduce_sum_20[0][0]',  \n",
            " a)                                                               'tf.math.multiply_43[0][0]']    \n",
            "                                                                                                  \n",
            " tf.compat.v1.transpose_21 (TFO  (None, 1, 50)       0           ['tf.math.reduce_sum_21[0][0]']  \n",
            " pLambda)                                                                                         \n",
            "                                                                                                  \n",
            " tf.compat.v1.shape_10 (TFOpLam  (3,)                0           ['tf.compat.v1.squeeze_15[0][0]']\n",
            " bda)                                                                                             \n",
            "                                                                                                  \n",
            " tf.__operators__.add_20 (TFOpL  (None, 50, 50)      0           ['tf.math.subtract_20[0][0]',    \n",
            " ambda)                                                           'tf.compat.v1.transpose_21[0][0]\n",
            "                                                                 ']                               \n",
            "                                                                                                  \n",
            " tf.__operators__.getitem_21 (S  ()                  0           ['tf.compat.v1.shape_10[0][0]']  \n",
            " licingOpLambda)                                                                                  \n",
            "                                                                                                  \n",
            " tf.math.negative_10 (TFOpLambd  (None, 50, 50)      0           ['tf.__operators__.add_20[0][0]']\n",
            " a)                                                                                               \n",
            "                                                                                                  \n",
            " tf.range_10 (TFOpLambda)       (None,)              0           ['tf.__operators__.getitem_21[0][\n",
            "                                                                 0]']                             \n",
            "                                                                                                  \n",
            " tf.math.top_k_10 (TFOpLambda)  TopKV2(values=(None  0           ['tf.math.negative_10[0][0]']    \n",
            "                                , 50, 4),                                                         \n",
            "                                 indices=(None, 50,                                               \n",
            "                                 4))                                                              \n",
            "                                                                                                  \n",
            " tf.reshape_10 (TFOpLambda)     (None, 1, 1, 1)      0           ['tf.range_10[0][0]']            \n",
            "                                                                                                  \n",
            " tf.__operators__.getitem_20 (S  (None, 50, 3)       0           ['tf.math.top_k_10[0][1]']       \n",
            " licingOpLambda)                                                                                  \n",
            "                                                                                                  \n",
            " tf.tile_20 (TFOpLambda)        (None, 50, 3, 1)     0           ['tf.reshape_10[0][0]']          \n",
            "                                                                                                  \n",
            " tf.expand_dims_36 (TFOpLambda)  (None, 50, 3, 1)    0           ['tf.__operators__.getitem_20[0][\n",
            "                                                                 0]']                             \n",
            "                                                                                                  \n",
            " tf.expand_dims_37 (TFOpLambda)  (None, 50, 1, 2)    0           ['tf.compat.v1.squeeze_15[0][0]']\n",
            "                                                                                                  \n",
            " tf.concat_25 (TFOpLambda)      (None, 50, 3, 2)     0           ['tf.tile_20[0][0]',             \n",
            "                                                                  'tf.expand_dims_36[0][0]']      \n",
            "                                                                                                  \n",
            " tf.tile_21 (TFOpLambda)        (None, 50, 3, 2)     0           ['tf.expand_dims_37[0][0]']      \n",
            "                                                                                                  \n",
            " tf.compat.v1.gather_nd_10 (TFO  (None, 50, 3, 2)    0           ['tf.compat.v1.squeeze_15[0][0]',\n",
            " pLambda)                                                         'tf.concat_25[0][0]']           \n",
            "                                                                                                  \n",
            " tf.math.subtract_21 (TFOpLambd  (None, 50, 3, 2)    0           ['tf.compat.v1.gather_nd_10[0][0]\n",
            " a)                                                              ',                               \n",
            "                                                                  'tf.tile_21[0][0]']             \n",
            "                                                                                                  \n",
            " tf.concat_26 (TFOpLambda)      (None, 50, 3, 4)     0           ['tf.tile_21[0][0]',             \n",
            "                                                                  'tf.math.subtract_21[0][0]']    \n",
            "                                                                                                  \n",
            " ParticleNet_EdgeConv0_conv0 (C  (None, 50, 3, 16)   64          ['tf.concat_26[0][0]']           \n",
            " onv2D)                                                                                           \n",
            "                                                                                                  \n",
            " ParticleNet_EdgeConv0_bn0 (Bat  (None, 50, 3, 16)   64          ['ParticleNet_EdgeConv0_conv0[0][\n",
            " chNormalization)                                                0]']                             \n",
            "                                                                                                  \n",
            " ParticleNet_EdgeConv0_act0 (Ac  (None, 50, 3, 16)   0           ['ParticleNet_EdgeConv0_bn0[0][0]\n",
            " tivation)                                                       ']                               \n",
            "                                                                                                  \n",
            " ParticleNet_EdgeConv0_conv1 (C  (None, 50, 3, 16)   256         ['ParticleNet_EdgeConv0_act0[0][0\n",
            " onv2D)                                                          ]']                              \n",
            "                                                                                                  \n",
            " ParticleNet_EdgeConv0_bn1 (Bat  (None, 50, 3, 16)   64          ['ParticleNet_EdgeConv0_conv1[0][\n",
            " chNormalization)                                                0]']                             \n",
            "                                                                                                  \n",
            " ParticleNet_EdgeConv0_act1 (Ac  (None, 50, 3, 16)   0           ['ParticleNet_EdgeConv0_bn1[0][0]\n",
            " tivation)                                                       ']                               \n",
            "                                                                                                  \n",
            " tf.expand_dims_38 (TFOpLambda)  (None, 50, 1, 2)    0           ['tf.compat.v1.squeeze_15[0][0]']\n",
            "                                                                                                  \n",
            " ParticleNet_EdgeConv0_conv2 (C  (None, 50, 3, 16)   256         ['ParticleNet_EdgeConv0_act1[0][0\n",
            " onv2D)                                                          ]']                              \n",
            "                                                                                                  \n",
            " ParticleNet_EdgeConv0_sc_conv   (None, 50, 1, 16)   32          ['tf.expand_dims_38[0][0]']      \n",
            " (Conv2D)                                                                                         \n",
            "                                                                                                  \n",
            " ParticleNet_EdgeConv0_bn2 (Bat  (None, 50, 3, 16)   64          ['ParticleNet_EdgeConv0_conv2[0][\n",
            " chNormalization)                                                0]']                             \n",
            "                                                                                                  \n",
            " ParticleNet_EdgeConv0_sc_bn (B  (None, 50, 1, 16)   64          ['ParticleNet_EdgeConv0_sc_conv[0\n",
            " atchNormalization)                                              ][0]']                           \n",
            "                                                                                                  \n",
            " ParticleNet_EdgeConv0_act2 (Ac  (None, 50, 3, 16)   0           ['ParticleNet_EdgeConv0_bn2[0][0]\n",
            " tivation)                                                       ']                               \n",
            "                                                                                                  \n",
            " tf.compat.v1.squeeze_16 (TFOpL  (None, 50, 16)      0           ['ParticleNet_EdgeConv0_sc_bn[0][\n",
            " ambda)                                                          0]']                             \n",
            "                                                                                                  \n",
            " tf.math.reduce_max_10 (TFOpLam  (None, 50, 16)      0           ['ParticleNet_EdgeConv0_act2[0][0\n",
            " bda)                                                            ]']                              \n",
            "                                                                                                  \n",
            " tf.__operators__.add_21 (TFOpL  (None, 50, 16)      0           ['tf.compat.v1.squeeze_16[0][0]',\n",
            " ambda)                                                           'tf.math.reduce_max_10[0][0]']  \n",
            "                                                                                                  \n",
            " ParticleNet_EdgeConv0_sc_act (  (None, 50, 16)      0           ['tf.__operators__.add_21[0][0]']\n",
            " Activation)                                                                                      \n",
            "                                                                                                  \n",
            " tf.math.add_11 (TFOpLambda)    (None, 50, 16)       0           ['tf.math.multiply_40[0][0]',    \n",
            "                                                                  'ParticleNet_EdgeConv0_sc_act[0]\n",
            "                                                                 [0]']                            \n",
            "                                                                                                  \n",
            " tf.compat.v1.transpose_22 (TFO  (None, 16, 50)      0           ['tf.math.add_11[0][0]']         \n",
            " pLambda)                                                                                         \n",
            "                                                                                                  \n",
            " tf.math.multiply_44 (TFOpLambd  (None, 50, 16)      0           ['tf.math.add_11[0][0]',         \n",
            " a)                                                               'tf.math.add_11[0][0]']         \n",
            "                                                                                                  \n",
            " tf.linalg.matmul_11 (TFOpLambd  (None, 50, 50)      0           ['tf.math.add_11[0][0]',         \n",
            " a)                                                               'tf.compat.v1.transpose_22[0][0]\n",
            "                                                                 ']                               \n",
            "                                                                                                  \n",
            " tf.math.multiply_45 (TFOpLambd  (None, 50, 16)      0           ['tf.math.add_11[0][0]',         \n",
            " a)                                                               'tf.math.add_11[0][0]']         \n",
            "                                                                                                  \n",
            " tf.math.reduce_sum_22 (TFOpLam  (None, 50, 1)       0           ['tf.math.multiply_44[0][0]']    \n",
            " bda)                                                                                             \n",
            "                                                                                                  \n",
            " tf.math.multiply_46 (TFOpLambd  (None, 50, 50)      0           ['tf.linalg.matmul_11[0][0]']    \n",
            " a)                                                                                               \n",
            "                                                                                                  \n",
            " tf.math.reduce_sum_23 (TFOpLam  (None, 50, 1)       0           ['tf.math.multiply_45[0][0]']    \n",
            " bda)                                                                                             \n",
            "                                                                                                  \n",
            " tf.math.subtract_22 (TFOpLambd  (None, 50, 50)      0           ['tf.math.reduce_sum_22[0][0]',  \n",
            " a)                                                               'tf.math.multiply_46[0][0]']    \n",
            "                                                                                                  \n",
            " tf.compat.v1.transpose_23 (TFO  (None, 1, 50)       0           ['tf.math.reduce_sum_23[0][0]']  \n",
            " pLambda)                                                                                         \n",
            "                                                                                                  \n",
            " tf.compat.v1.shape_11 (TFOpLam  (3,)                0           ['ParticleNet_EdgeConv0_sc_act[0]\n",
            " bda)                                                            [0]']                            \n",
            "                                                                                                  \n",
            " tf.__operators__.add_22 (TFOpL  (None, 50, 50)      0           ['tf.math.subtract_22[0][0]',    \n",
            " ambda)                                                           'tf.compat.v1.transpose_23[0][0]\n",
            "                                                                 ']                               \n",
            "                                                                                                  \n",
            " tf.__operators__.getitem_23 (S  ()                  0           ['tf.compat.v1.shape_11[0][0]']  \n",
            " licingOpLambda)                                                                                  \n",
            "                                                                                                  \n",
            " tf.math.negative_11 (TFOpLambd  (None, 50, 50)      0           ['tf.__operators__.add_22[0][0]']\n",
            " a)                                                                                               \n",
            "                                                                                                  \n",
            " tf.range_11 (TFOpLambda)       (None,)              0           ['tf.__operators__.getitem_23[0][\n",
            "                                                                 0]']                             \n",
            "                                                                                                  \n",
            " tf.math.top_k_11 (TFOpLambda)  TopKV2(values=(None  0           ['tf.math.negative_11[0][0]']    \n",
            "                                , 50, 4),                                                         \n",
            "                                 indices=(None, 50,                                               \n",
            "                                 4))                                                              \n",
            "                                                                                                  \n",
            " tf.reshape_11 (TFOpLambda)     (None, 1, 1, 1)      0           ['tf.range_11[0][0]']            \n",
            "                                                                                                  \n",
            " tf.__operators__.getitem_22 (S  (None, 50, 3)       0           ['tf.math.top_k_11[0][1]']       \n",
            " licingOpLambda)                                                                                  \n",
            "                                                                                                  \n",
            " tf.tile_22 (TFOpLambda)        (None, 50, 3, 1)     0           ['tf.reshape_11[0][0]']          \n",
            "                                                                                                  \n",
            " tf.expand_dims_39 (TFOpLambda)  (None, 50, 3, 1)    0           ['tf.__operators__.getitem_22[0][\n",
            "                                                                 0]']                             \n",
            "                                                                                                  \n",
            " tf.expand_dims_40 (TFOpLambda)  (None, 50, 1, 16)   0           ['ParticleNet_EdgeConv0_sc_act[0]\n",
            "                                                                 [0]']                            \n",
            "                                                                                                  \n",
            " tf.concat_27 (TFOpLambda)      (None, 50, 3, 2)     0           ['tf.tile_22[0][0]',             \n",
            "                                                                  'tf.expand_dims_39[0][0]']      \n",
            "                                                                                                  \n",
            " tf.tile_23 (TFOpLambda)        (None, 50, 3, 16)    0           ['tf.expand_dims_40[0][0]']      \n",
            "                                                                                                  \n",
            " tf.compat.v1.gather_nd_11 (TFO  (None, 50, 3, 16)   0           ['ParticleNet_EdgeConv0_sc_act[0]\n",
            " pLambda)                                                        [0]',                            \n",
            "                                                                  'tf.concat_27[0][0]']           \n",
            "                                                                                                  \n",
            " tf.math.subtract_23 (TFOpLambd  (None, 50, 3, 16)   0           ['tf.compat.v1.gather_nd_11[0][0]\n",
            " a)                                                              ',                               \n",
            "                                                                  'tf.tile_23[0][0]']             \n",
            "                                                                                                  \n",
            " tf.concat_28 (TFOpLambda)      (None, 50, 3, 32)    0           ['tf.tile_23[0][0]',             \n",
            "                                                                  'tf.math.subtract_23[0][0]']    \n",
            "                                                                                                  \n",
            " ParticleNet_EdgeConv1_conv0 (C  (None, 50, 3, 32)   1024        ['tf.concat_28[0][0]']           \n",
            " onv2D)                                                                                           \n",
            "                                                                                                  \n",
            " ParticleNet_EdgeConv1_bn0 (Bat  (None, 50, 3, 32)   128         ['ParticleNet_EdgeConv1_conv0[0][\n",
            " chNormalization)                                                0]']                             \n",
            "                                                                                                  \n",
            " ParticleNet_EdgeConv1_act0 (Ac  (None, 50, 3, 32)   0           ['ParticleNet_EdgeConv1_bn0[0][0]\n",
            " tivation)                                                       ']                               \n",
            "                                                                                                  \n",
            " ParticleNet_EdgeConv1_conv1 (C  (None, 50, 3, 32)   1024        ['ParticleNet_EdgeConv1_act0[0][0\n",
            " onv2D)                                                          ]']                              \n",
            "                                                                                                  \n",
            " ParticleNet_EdgeConv1_bn1 (Bat  (None, 50, 3, 32)   128         ['ParticleNet_EdgeConv1_conv1[0][\n",
            " chNormalization)                                                0]']                             \n",
            "                                                                                                  \n",
            " ParticleNet_EdgeConv1_act1 (Ac  (None, 50, 3, 32)   0           ['ParticleNet_EdgeConv1_bn1[0][0]\n",
            " tivation)                                                       ']                               \n",
            "                                                                                                  \n",
            " tf.expand_dims_41 (TFOpLambda)  (None, 50, 1, 16)   0           ['ParticleNet_EdgeConv0_sc_act[0]\n",
            "                                                                 [0]']                            \n",
            "                                                                                                  \n",
            " ParticleNet_EdgeConv1_conv2 (C  (None, 50, 3, 32)   1024        ['ParticleNet_EdgeConv1_act1[0][0\n",
            " onv2D)                                                          ]']                              \n",
            "                                                                                                  \n",
            " ParticleNet_EdgeConv1_sc_conv   (None, 50, 1, 32)   512         ['tf.expand_dims_41[0][0]']      \n",
            " (Conv2D)                                                                                         \n",
            "                                                                                                  \n",
            " ParticleNet_EdgeConv1_bn2 (Bat  (None, 50, 3, 32)   128         ['ParticleNet_EdgeConv1_conv2[0][\n",
            " chNormalization)                                                0]']                             \n",
            "                                                                                                  \n",
            " ParticleNet_EdgeConv1_sc_bn (B  (None, 50, 1, 32)   128         ['ParticleNet_EdgeConv1_sc_conv[0\n",
            " atchNormalization)                                              ][0]']                           \n",
            "                                                                                                  \n",
            " ParticleNet_EdgeConv1_act2 (Ac  (None, 50, 3, 32)   0           ['ParticleNet_EdgeConv1_bn2[0][0]\n",
            " tivation)                                                       ']                               \n",
            "                                                                                                  \n",
            " tf.compat.v1.squeeze_17 (TFOpL  (None, 50, 32)      0           ['ParticleNet_EdgeConv1_sc_bn[0][\n",
            " ambda)                                                          0]']                             \n",
            "                                                                                                  \n",
            " tf.math.reduce_max_11 (TFOpLam  (None, 50, 32)      0           ['ParticleNet_EdgeConv1_act2[0][0\n",
            " bda)                                                            ]']                              \n",
            "                                                                                                  \n",
            " tf.__operators__.add_23 (TFOpL  (None, 50, 32)      0           ['tf.compat.v1.squeeze_17[0][0]',\n",
            " ambda)                                                           'tf.math.reduce_max_11[0][0]']  \n",
            "                                                                                                  \n",
            " ParticleNet_EdgeConv1_sc_act (  (None, 50, 32)      0           ['tf.__operators__.add_23[0][0]']\n",
            " Activation)                                                                                      \n",
            "                                                                                                  \n",
            " tf.math.multiply_47 (TFOpLambd  (None, 50, 32)      0           ['ParticleNet_EdgeConv1_sc_act[0]\n",
            " a)                                                              [0]',                            \n",
            "                                                                  'tf.cast_10[0][0]']             \n",
            "                                                                                                  \n",
            " tf.math.reduce_mean_5 (TFOpLam  (None, 32)          0           ['tf.math.multiply_47[0][0]']    \n",
            " bda)                                                                                             \n",
            "                                                                                                  \n",
            " summary (InputLayer)           [(None, 4)]          0           []                               \n",
            "                                                                                                  \n",
            " tf.concat_29 (TFOpLambda)      (None, 36)           0           ['tf.math.reduce_mean_5[0][0]',  \n",
            "                                                                  'summary[0][0]']                \n",
            "                                                                                                  \n",
            " dense_10 (Dense)               (None, 64)           2368        ['tf.concat_29[0][0]']           \n",
            "                                                                                                  \n",
            " dropout_5 (Dropout)            (None, 64)           0           ['dense_10[0][0]']               \n",
            "                                                                                                  \n",
            " dense_11 (Dense)               (None, 1)            65          ['dropout_5[0][0]']              \n",
            "                                                                                                  \n",
            "==================================================================================================\n",
            "Total params: 7,401\n",
            "Trainable params: 7,013\n",
            "Non-trainable params: 388\n",
            "__________________________________________________________________________________________________\n"
          ]
        }
      ],
      "source": [
        "model.compile(loss='binary_crossentropy',\n",
        "              optimizer=keras.optimizers.Adam(learning_rate=lr_schedule(0)),\n",
        "              weighted_metrics=[keras.metrics.Precision(), keras.metrics.Recall()],\n",
        "              metrics=['accuracy']\n",
        ")\n",
        "model.summary()"
      ]
    },
    {
      "cell_type": "markdown",
      "source": [
        "Keras checkpoints are employed to save the model with the best validation accuracy"
      ],
      "metadata": {
        "id": "_6fzlPPnhpJe"
      }
    },
    {
      "cell_type": "code",
      "execution_count": 84,
      "metadata": {
        "id": "hc6CsvjZ2g84"
      },
      "outputs": [],
      "source": [
        "# Prepare model model saving directory.\n",
        "import os\n",
        "save_dir = 'model_checkpoints'\n",
        "model_name = '%s_model.{epoch:03d}.h5' % \"lite\"\n",
        "if not os.path.isdir(save_dir):\n",
        "    os.makedirs(save_dir)\n",
        "filepath = os.path.join(save_dir, model_name)\n",
        "\n",
        "# Prepare callbacks for model saving and for learning rate adjustment.\n",
        "checkpoint = keras.callbacks.ModelCheckpoint(filepath=filepath,\n",
        "                             monitor='val_accuracy',\n",
        "                             verbose=1,\n",
        "                             save_best_only=True)\n",
        "\n",
        "lr_scheduler = keras.callbacks.LearningRateScheduler(lr_schedule)\n",
        "progress_bar = keras.callbacks.ProgbarLogger()\n",
        "callbacks = [checkpoint, progress_bar, lr_scheduler]"
      ]
    },
    {
      "cell_type": "markdown",
      "source": [
        "The model is trained and validated, weighting the data to match the real statistics"
      ],
      "metadata": {
        "id": "1ihs3qvIn0nI"
      }
    },
    {
      "cell_type": "code",
      "execution_count": 85,
      "metadata": {
        "scrolled": true,
        "id": "98kE3T-I2g85",
        "outputId": "08971fd7-74f3-499c-8aaf-fc284e5bcca8",
        "colab": {
          "base_uri": "https://localhost:8080/"
        }
      },
      "outputs": [
        {
          "output_type": "stream",
          "name": "stdout",
          "text": [
            "Epoch 1/30\n"
          ]
        },
        {
          "output_type": "stream",
          "name": "stderr",
          "text": [
            "[2022-06-19 11:00:55,200] INFO: Learning rate: 0.010000\n"
          ]
        },
        {
          "output_type": "stream",
          "name": "stdout",
          "text": [
            "      0/Unknown - 10s 0s/sample - loss: 0.1218 - accuracy: 0.6272 - precision_4: 0.8462 - recall_4: 0.6582\n",
            "Epoch 1: val_accuracy improved from -inf to 0.74082, saving model to model_checkpoints/lite_model.001.h5\n",
            "58/58 [==============================] - 14s 233ms/sample - loss: 0.1218 - accuracy: 0.6272 - precision_4: 0.8462 - recall_4: 0.6582 - val_loss: 0.1262 - val_accuracy: 0.7408 - val_precision_4: 0.7591 - val_recall_4: 0.7865\n",
            "Epoch 2/30\n"
          ]
        },
        {
          "output_type": "stream",
          "name": "stderr",
          "text": [
            "[2022-06-19 11:01:08,715] INFO: Learning rate: 0.010000\n"
          ]
        },
        {
          "output_type": "stream",
          "name": "stdout",
          "text": [
            " 0/58 [..............................] - ETA: 0s - loss: 0.0816 - accuracy: 0.7486 - precision_4: 0.8734 - recall_4: 0.8339\n",
            "Epoch 2: val_accuracy improved from 0.74082 to 0.77149, saving model to model_checkpoints/lite_model.002.h5\n",
            "58/58 [==============================] - 9s 160ms/sample - loss: 0.0816 - accuracy: 0.7486 - precision_4: 0.8734 - recall_4: 0.8339 - val_loss: 0.0935 - val_accuracy: 0.7715 - val_precision_4: 0.7631 - val_recall_4: 0.7982\n",
            "Epoch 3/30\n"
          ]
        },
        {
          "output_type": "stream",
          "name": "stderr",
          "text": [
            "[2022-06-19 11:01:18,021] INFO: Learning rate: 0.010000\n"
          ]
        },
        {
          "output_type": "stream",
          "name": "stdout",
          "text": [
            " 0/58 [..............................] - ETA: 0s - loss: 0.0735 - accuracy: 0.7906 - precision_4: 0.8716 - recall_4: 0.8579\n",
            "Epoch 3: val_accuracy improved from 0.77149 to 0.82987, saving model to model_checkpoints/lite_model.003.h5\n",
            "58/58 [==============================] - 9s 163ms/sample - loss: 0.0735 - accuracy: 0.7906 - precision_4: 0.8716 - recall_4: 0.8579 - val_loss: 0.1897 - val_accuracy: 0.8299 - val_precision_4: 0.5126 - val_recall_4: 0.9018\n",
            "Epoch 4/30\n"
          ]
        },
        {
          "output_type": "stream",
          "name": "stderr",
          "text": [
            "[2022-06-19 11:01:27,478] INFO: Learning rate: 0.010000\n"
          ]
        },
        {
          "output_type": "stream",
          "name": "stdout",
          "text": [
            " 0/58 [..............................] - ETA: 0s - loss: 0.0707 - accuracy: 0.8181 - precision_4: 0.8882 - recall_4: 0.8730\n",
            "Epoch 4: val_accuracy did not improve from 0.82987\n",
            "58/58 [==============================] - 9s 159ms/sample - loss: 0.0707 - accuracy: 0.8181 - precision_4: 0.8882 - recall_4: 0.8730 - val_loss: 0.0689 - val_accuracy: 0.8095 - val_precision_4: 0.8808 - val_recall_4: 0.8427\n",
            "Epoch 5/30\n"
          ]
        },
        {
          "output_type": "stream",
          "name": "stderr",
          "text": [
            "[2022-06-19 11:01:36,724] INFO: Learning rate: 0.010000\n"
          ]
        },
        {
          "output_type": "stream",
          "name": "stdout",
          "text": [
            " 0/58 [..............................] - ETA: 0s - loss: 0.0648 - accuracy: 0.8299 - precision_4: 0.9139 - recall_4: 0.8810\n",
            "Epoch 5: val_accuracy improved from 0.82987 to 0.84378, saving model to model_checkpoints/lite_model.005.h5\n",
            "58/58 [==============================] - 9s 161ms/sample - loss: 0.0648 - accuracy: 0.8299 - precision_4: 0.9139 - recall_4: 0.8810 - val_loss: 0.1376 - val_accuracy: 0.8438 - val_precision_4: 0.6841 - val_recall_4: 0.9382\n",
            "Epoch 6/30\n"
          ]
        },
        {
          "output_type": "stream",
          "name": "stderr",
          "text": [
            "[2022-06-19 11:01:46,084] INFO: Learning rate: 0.010000\n"
          ]
        },
        {
          "output_type": "stream",
          "name": "stdout",
          "text": [
            " 0/58 [..............................] - ETA: 0s - loss: 0.0611 - accuracy: 0.8515 - precision_4: 0.8949 - recall_4: 0.8878\n",
            "Epoch 6: val_accuracy did not improve from 0.84378\n",
            "58/58 [==============================] - 9s 160ms/sample - loss: 0.0611 - accuracy: 0.8515 - precision_4: 0.8949 - recall_4: 0.8878 - val_loss: 0.0637 - val_accuracy: 0.8357 - val_precision_4: 0.9079 - val_recall_4: 0.8456\n",
            "Epoch 7/30\n"
          ]
        },
        {
          "output_type": "stream",
          "name": "stderr",
          "text": [
            "[2022-06-19 11:01:55,343] INFO: Learning rate: 0.010000\n"
          ]
        },
        {
          "output_type": "stream",
          "name": "stdout",
          "text": [
            " 0/58 [..............................] - ETA: 0s - loss: 0.0613 - accuracy: 0.8610 - precision_4: 0.8988 - recall_4: 0.8863\n",
            "Epoch 7: val_accuracy improved from 0.84378 to 0.88467, saving model to model_checkpoints/lite_model.007.h5\n",
            "58/58 [==============================] - 9s 161ms/sample - loss: 0.0613 - accuracy: 0.8610 - precision_4: 0.8988 - recall_4: 0.8863 - val_loss: 0.0709 - val_accuracy: 0.8847 - val_precision_4: 0.7299 - val_recall_4: 0.9487\n",
            "Epoch 8/30\n"
          ]
        },
        {
          "output_type": "stream",
          "name": "stderr",
          "text": [
            "[2022-06-19 11:02:04,708] INFO: Learning rate: 0.010000\n"
          ]
        },
        {
          "output_type": "stream",
          "name": "stdout",
          "text": [
            " 0/58 [..............................] - ETA: 0s - loss: 0.0548 - accuracy: 0.8695 - precision_4: 0.9141 - recall_4: 0.9010\n",
            "Epoch 8: val_accuracy did not improve from 0.88467\n",
            "58/58 [==============================] - 9s 159ms/sample - loss: 0.0548 - accuracy: 0.8695 - precision_4: 0.9141 - recall_4: 0.9010 - val_loss: 0.0623 - val_accuracy: 0.8777 - val_precision_4: 0.8909 - val_recall_4: 0.9110\n",
            "Epoch 9/30\n"
          ]
        },
        {
          "output_type": "stream",
          "name": "stderr",
          "text": [
            "[2022-06-19 11:02:13,964] INFO: Learning rate: 0.010000\n"
          ]
        },
        {
          "output_type": "stream",
          "name": "stdout",
          "text": [
            " 0/58 [..............................] - ETA: 0s - loss: 0.0628 - accuracy: 0.8600 - precision_4: 0.8952 - recall_4: 0.8851\n",
            "Epoch 9: val_accuracy did not improve from 0.88467\n",
            "58/58 [==============================] - 9s 159ms/sample - loss: 0.0628 - accuracy: 0.8600 - precision_4: 0.8952 - recall_4: 0.8851 - val_loss: 0.0696 - val_accuracy: 0.8526 - val_precision_4: 0.8461 - val_recall_4: 0.9161\n",
            "Epoch 10/30\n"
          ]
        },
        {
          "output_type": "stream",
          "name": "stderr",
          "text": [
            "[2022-06-19 11:02:23,188] INFO: Learning rate: 0.010000\n"
          ]
        },
        {
          "output_type": "stream",
          "name": "stdout",
          "text": [
            " 0/58 [..............................] - ETA: 0s - loss: 0.0606 - accuracy: 0.8438 - precision_4: 0.8851 - recall_4: 0.8970\n",
            "Epoch 10: val_accuracy did not improve from 0.88467\n",
            "58/58 [==============================] - 9s 159ms/sample - loss: 0.0606 - accuracy: 0.8438 - precision_4: 0.8851 - recall_4: 0.8970 - val_loss: 0.0780 - val_accuracy: 0.8654 - val_precision_4: 0.8058 - val_recall_4: 0.9064\n",
            "Epoch 11/30\n"
          ]
        },
        {
          "output_type": "stream",
          "name": "stderr",
          "text": [
            "[2022-06-19 11:02:32,432] INFO: Learning rate: 0.010000\n"
          ]
        },
        {
          "output_type": "stream",
          "name": "stdout",
          "text": [
            " 0/58 [..............................] - ETA: 0s - loss: 0.0559 - accuracy: 0.8705 - precision_4: 0.9107 - recall_4: 0.9019\n",
            "Epoch 11: val_accuracy did not improve from 0.88467\n",
            "58/58 [==============================] - 9s 163ms/sample - loss: 0.0559 - accuracy: 0.8705 - precision_4: 0.9107 - recall_4: 0.9019 - val_loss: 0.0834 - val_accuracy: 0.8815 - val_precision_4: 0.7304 - val_recall_4: 0.9523\n",
            "Epoch 12/30\n"
          ]
        },
        {
          "output_type": "stream",
          "name": "stderr",
          "text": [
            "[2022-06-19 11:02:41,894] INFO: Learning rate: 0.001000\n"
          ]
        },
        {
          "output_type": "stream",
          "name": "stdout",
          "text": [
            " 0/58 [..............................] - ETA: 0s - loss: 0.0523 - accuracy: 0.8741 - precision_4: 0.9050 - recall_4: 0.9171\n",
            "Epoch 12: val_accuracy improved from 0.88467 to 0.89811, saving model to model_checkpoints/lite_model.012.h5\n",
            "58/58 [==============================] - 9s 161ms/sample - loss: 0.0523 - accuracy: 0.8741 - precision_4: 0.9050 - recall_4: 0.9171 - val_loss: 0.0567 - val_accuracy: 0.8981 - val_precision_4: 0.8726 - val_recall_4: 0.9441\n",
            "Epoch 13/30\n"
          ]
        },
        {
          "output_type": "stream",
          "name": "stderr",
          "text": [
            "[2022-06-19 11:02:51,238] INFO: Learning rate: 0.001000\n"
          ]
        },
        {
          "output_type": "stream",
          "name": "stdout",
          "text": [
            " 0/58 [..............................] - ETA: 0s - loss: 0.0456 - accuracy: 0.8873 - precision_4: 0.9167 - recall_4: 0.9282\n",
            "Epoch 13: val_accuracy improved from 0.89811 to 0.90227, saving model to model_checkpoints/lite_model.013.h5\n",
            "58/58 [==============================] - 9s 161ms/sample - loss: 0.0456 - accuracy: 0.8873 - precision_4: 0.9167 - recall_4: 0.9282 - val_loss: 0.0529 - val_accuracy: 0.9023 - val_precision_4: 0.8727 - val_recall_4: 0.9424\n",
            "Epoch 14/30\n"
          ]
        },
        {
          "output_type": "stream",
          "name": "stderr",
          "text": [
            "[2022-06-19 11:03:00,605] INFO: Learning rate: 0.001000\n"
          ]
        },
        {
          "output_type": "stream",
          "name": "stdout",
          "text": [
            " 0/58 [..............................] - ETA: 0s - loss: 0.0444 - accuracy: 0.8857 - precision_4: 0.9303 - recall_4: 0.9260\n",
            "Epoch 14: val_accuracy did not improve from 0.90227\n",
            "58/58 [==============================] - 9s 160ms/sample - loss: 0.0444 - accuracy: 0.8857 - precision_4: 0.9303 - recall_4: 0.9260 - val_loss: 0.0504 - val_accuracy: 0.8887 - val_precision_4: 0.9158 - val_recall_4: 0.9210\n",
            "Epoch 15/30\n"
          ]
        },
        {
          "output_type": "stream",
          "name": "stderr",
          "text": [
            "[2022-06-19 11:03:09,869] INFO: Learning rate: 0.001000\n"
          ]
        },
        {
          "output_type": "stream",
          "name": "stdout",
          "text": [
            " 0/58 [..............................] - ETA: 0s - loss: 0.0440 - accuracy: 0.8882 - precision_4: 0.9270 - recall_4: 0.9275\n",
            "Epoch 15: val_accuracy did not improve from 0.90227\n",
            "58/58 [==============================] - 9s 160ms/sample - loss: 0.0440 - accuracy: 0.8882 - precision_4: 0.9270 - recall_4: 0.9275 - val_loss: 0.0494 - val_accuracy: 0.8916 - val_precision_4: 0.9162 - val_recall_4: 0.9251\n",
            "Epoch 16/30\n"
          ]
        },
        {
          "output_type": "stream",
          "name": "stderr",
          "text": [
            "[2022-06-19 11:03:19,149] INFO: Learning rate: 0.001000\n"
          ]
        },
        {
          "output_type": "stream",
          "name": "stdout",
          "text": [
            " 0/58 [..............................] - ETA: 0s - loss: 0.0432 - accuracy: 0.8892 - precision_4: 0.9273 - recall_4: 0.9334\n",
            "Epoch 16: val_accuracy did not improve from 0.90227\n",
            "58/58 [==============================] - 9s 160ms/sample - loss: 0.0432 - accuracy: 0.8892 - precision_4: 0.9273 - recall_4: 0.9334 - val_loss: 0.0488 - val_accuracy: 0.8936 - val_precision_4: 0.9163 - val_recall_4: 0.9249\n",
            "Epoch 17/30\n"
          ]
        },
        {
          "output_type": "stream",
          "name": "stderr",
          "text": [
            "[2022-06-19 11:03:28,427] INFO: Learning rate: 0.001000\n"
          ]
        },
        {
          "output_type": "stream",
          "name": "stdout",
          "text": [
            " 0/58 [..............................] - ETA: 0s - loss: 0.0446 - accuracy: 0.8867 - precision_4: 0.9302 - recall_4: 0.9212\n",
            "Epoch 17: val_accuracy did not improve from 0.90227\n",
            "58/58 [==============================] - 9s 159ms/sample - loss: 0.0446 - accuracy: 0.8867 - precision_4: 0.9302 - recall_4: 0.9212 - val_loss: 0.0492 - val_accuracy: 0.8969 - val_precision_4: 0.8936 - val_recall_4: 0.9324\n",
            "Epoch 18/30\n"
          ]
        },
        {
          "output_type": "stream",
          "name": "stderr",
          "text": [
            "[2022-06-19 11:03:37,687] INFO: Learning rate: 0.001000\n"
          ]
        },
        {
          "output_type": "stream",
          "name": "stdout",
          "text": [
            " 0/58 [..............................] - ETA: 0s - loss: 0.0431 - accuracy: 0.8931 - precision_4: 0.9274 - recall_4: 0.9281\n",
            "Epoch 18: val_accuracy did not improve from 0.90227\n",
            "58/58 [==============================] - 9s 159ms/sample - loss: 0.0431 - accuracy: 0.8931 - precision_4: 0.9274 - recall_4: 0.9281 - val_loss: 0.0508 - val_accuracy: 0.8929 - val_precision_4: 0.8925 - val_recall_4: 0.9207\n",
            "Epoch 19/30\n"
          ]
        },
        {
          "output_type": "stream",
          "name": "stderr",
          "text": [
            "[2022-06-19 11:03:46,939] INFO: Learning rate: 0.001000\n"
          ]
        },
        {
          "output_type": "stream",
          "name": "stdout",
          "text": [
            " 0/58 [..............................] - ETA: 0s - loss: 0.0418 - accuracy: 0.8930 - precision_4: 0.9274 - recall_4: 0.9302\n",
            "Epoch 19: val_accuracy did not improve from 0.90227\n",
            "58/58 [==============================] - 9s 160ms/sample - loss: 0.0418 - accuracy: 0.8930 - precision_4: 0.9274 - recall_4: 0.9302 - val_loss: 0.0486 - val_accuracy: 0.8955 - val_precision_4: 0.8931 - val_recall_4: 0.9263\n",
            "Epoch 20/30\n"
          ]
        },
        {
          "output_type": "stream",
          "name": "stderr",
          "text": [
            "[2022-06-19 11:03:56,206] INFO: Learning rate: 0.001000\n"
          ]
        },
        {
          "output_type": "stream",
          "name": "stdout",
          "text": [
            " 0/58 [..............................] - ETA: 0s - loss: 0.0413 - accuracy: 0.8940 - precision_4: 0.9381 - recall_4: 0.9318\n",
            "Epoch 20: val_accuracy did not improve from 0.90227\n",
            "58/58 [==============================] - 9s 159ms/sample - loss: 0.0413 - accuracy: 0.8940 - precision_4: 0.9381 - recall_4: 0.9318 - val_loss: 0.0476 - val_accuracy: 0.8959 - val_precision_4: 0.8932 - val_recall_4: 0.9270\n",
            "Epoch 21/30\n"
          ]
        },
        {
          "output_type": "stream",
          "name": "stderr",
          "text": [
            "[2022-06-19 11:04:05,431] INFO: Learning rate: 0.001000\n"
          ]
        },
        {
          "output_type": "stream",
          "name": "stdout",
          "text": [
            " 0/58 [..............................] - ETA: 0s - loss: 0.0426 - accuracy: 0.8913 - precision_4: 0.9342 - recall_4: 0.9260\n",
            "Epoch 21: val_accuracy did not improve from 0.90227\n",
            "58/58 [==============================] - 9s 162ms/sample - loss: 0.0426 - accuracy: 0.8913 - precision_4: 0.9342 - recall_4: 0.9260 - val_loss: 0.0490 - val_accuracy: 0.8991 - val_precision_4: 0.8937 - val_recall_4: 0.9324\n",
            "Epoch 22/30\n"
          ]
        },
        {
          "output_type": "stream",
          "name": "stderr",
          "text": [
            "[2022-06-19 11:04:14,845] INFO: Learning rate: 0.001000\n"
          ]
        },
        {
          "output_type": "stream",
          "name": "stdout",
          "text": [
            " 0/58 [..............................] - ETA: 0s - loss: 0.0418 - accuracy: 0.8946 - precision_4: 0.9346 - recall_4: 0.9325\n",
            "Epoch 22: val_accuracy did not improve from 0.90227\n",
            "58/58 [==============================] - 9s 162ms/sample - loss: 0.0418 - accuracy: 0.8946 - precision_4: 0.9346 - recall_4: 0.9325 - val_loss: 0.0478 - val_accuracy: 0.8944 - val_precision_4: 0.9163 - val_recall_4: 0.9229\n",
            "Epoch 23/30\n"
          ]
        },
        {
          "output_type": "stream",
          "name": "stderr",
          "text": [
            "[2022-06-19 11:04:24,234] INFO: Learning rate: 0.001000\n"
          ]
        },
        {
          "output_type": "stream",
          "name": "stdout",
          "text": [
            " 0/58 [..............................] - ETA: 0s - loss: 0.0410 - accuracy: 0.8943 - precision_4: 0.9310 - recall_4: 0.9296\n",
            "Epoch 23: val_accuracy improved from 0.90227 to 0.90477, saving model to model_checkpoints/lite_model.023.h5\n",
            "58/58 [==============================] - 9s 162ms/sample - loss: 0.0410 - accuracy: 0.8943 - precision_4: 0.9310 - recall_4: 0.9296 - val_loss: 0.0495 - val_accuracy: 0.9048 - val_precision_4: 0.8724 - val_recall_4: 0.9380\n",
            "Epoch 24/30\n"
          ]
        },
        {
          "output_type": "stream",
          "name": "stderr",
          "text": [
            "[2022-06-19 11:04:33,642] INFO: Learning rate: 0.001000\n"
          ]
        },
        {
          "output_type": "stream",
          "name": "stdout",
          "text": [
            " 0/58 [..............................] - ETA: 0s - loss: 0.0400 - accuracy: 0.8978 - precision_4: 0.9314 - recall_4: 0.9350\n",
            "Epoch 24: val_accuracy did not improve from 0.90477\n",
            "58/58 [==============================] - 9s 161ms/sample - loss: 0.0400 - accuracy: 0.8978 - precision_4: 0.9314 - recall_4: 0.9350 - val_loss: 0.0478 - val_accuracy: 0.8972 - val_precision_4: 0.8932 - val_recall_4: 0.9261\n",
            "Epoch 25/30\n"
          ]
        },
        {
          "output_type": "stream",
          "name": "stderr",
          "text": [
            "[2022-06-19 11:04:42,993] INFO: Learning rate: 0.001000\n"
          ]
        },
        {
          "output_type": "stream",
          "name": "stdout",
          "text": [
            " 0/58 [..............................] - ETA: 0s - loss: 0.0419 - accuracy: 0.8949 - precision_4: 0.9172 - recall_4: 0.9297\n",
            "Epoch 25: val_accuracy did not improve from 0.90477\n",
            "58/58 [==============================] - 9s 159ms/sample - loss: 0.0419 - accuracy: 0.8949 - precision_4: 0.9172 - recall_4: 0.9297 - val_loss: 0.0467 - val_accuracy: 0.8983 - val_precision_4: 0.8932 - val_recall_4: 0.9258\n",
            "Epoch 26/30\n"
          ]
        },
        {
          "output_type": "stream",
          "name": "stderr",
          "text": [
            "[2022-06-19 11:04:52,238] INFO: Learning rate: 0.001000\n"
          ]
        },
        {
          "output_type": "stream",
          "name": "stdout",
          "text": [
            " 0/58 [..............................] - ETA: 0s - loss: 0.0400 - accuracy: 0.8964 - precision_4: 0.9348 - recall_4: 0.9330\n",
            "Epoch 26: val_accuracy improved from 0.90477 to 0.90584, saving model to model_checkpoints/lite_model.026.h5\n",
            "58/58 [==============================] - 9s 161ms/sample - loss: 0.0400 - accuracy: 0.8964 - precision_4: 0.9348 - recall_4: 0.9330 - val_loss: 0.0472 - val_accuracy: 0.9058 - val_precision_4: 0.9177 - val_recall_4: 0.9373\n",
            "Epoch 27/30\n"
          ]
        },
        {
          "output_type": "stream",
          "name": "stderr",
          "text": [
            "[2022-06-19 11:05:01,587] INFO: Learning rate: 0.001000\n"
          ]
        },
        {
          "output_type": "stream",
          "name": "stdout",
          "text": [
            " 0/58 [..............................] - ETA: 0s - loss: 0.0417 - accuracy: 0.8952 - precision_4: 0.9274 - recall_4: 0.9270\n",
            "Epoch 27: val_accuracy improved from 0.90584 to 0.90917, saving model to model_checkpoints/lite_model.027.h5\n",
            "58/58 [==============================] - 9s 161ms/sample - loss: 0.0417 - accuracy: 0.8952 - precision_4: 0.9274 - recall_4: 0.9270 - val_loss: 0.0479 - val_accuracy: 0.9092 - val_precision_4: 0.8950 - val_recall_4: 0.9421\n",
            "Epoch 28/30\n"
          ]
        },
        {
          "output_type": "stream",
          "name": "stderr",
          "text": [
            "[2022-06-19 11:05:10,928] INFO: Learning rate: 0.001000\n"
          ]
        },
        {
          "output_type": "stream",
          "name": "stdout",
          "text": [
            " 0/58 [..............................] - ETA: 0s - loss: 0.0394 - accuracy: 0.8987 - precision_4: 0.9384 - recall_4: 0.9325\n",
            "Epoch 28: val_accuracy improved from 0.90917 to 0.91059, saving model to model_checkpoints/lite_model.028.h5\n",
            "58/58 [==============================] - 9s 161ms/sample - loss: 0.0394 - accuracy: 0.8987 - precision_4: 0.9384 - recall_4: 0.9325 - val_loss: 0.0483 - val_accuracy: 0.9106 - val_precision_4: 0.8529 - val_recall_4: 0.9487\n",
            "Epoch 29/30\n"
          ]
        },
        {
          "output_type": "stream",
          "name": "stderr",
          "text": [
            "[2022-06-19 11:05:20,291] INFO: Learning rate: 0.001000\n"
          ]
        },
        {
          "output_type": "stream",
          "name": "stdout",
          "text": [
            " 0/58 [..............................] - ETA: 0s - loss: 0.0419 - accuracy: 0.8962 - precision_4: 0.9206 - recall_4: 0.9278\n",
            "Epoch 29: val_accuracy did not improve from 0.91059\n",
            "58/58 [==============================] - 9s 159ms/sample - loss: 0.0419 - accuracy: 0.8962 - precision_4: 0.9206 - recall_4: 0.9278 - val_loss: 0.0579 - val_accuracy: 0.8725 - val_precision_4: 0.9126 - val_recall_4: 0.8823\n",
            "Epoch 30/30\n"
          ]
        },
        {
          "output_type": "stream",
          "name": "stderr",
          "text": [
            "[2022-06-19 11:05:29,555] INFO: Learning rate: 0.001000\n"
          ]
        },
        {
          "output_type": "stream",
          "name": "stdout",
          "text": [
            " 0/58 [..............................] - ETA: 0s - loss: 0.0402 - accuracy: 0.8971 - precision_4: 0.9384 - recall_4: 0.9336\n",
            "Epoch 30: val_accuracy did not improve from 0.91059\n",
            "58/58 [==============================] - 9s 159ms/sample - loss: 0.0402 - accuracy: 0.8971 - precision_4: 0.9384 - recall_4: 0.9336 - val_loss: 0.0479 - val_accuracy: 0.9052 - val_precision_4: 0.8723 - val_recall_4: 0.9365\n"
          ]
        }
      ],
      "source": [
        "history = model.fit(\n",
        "    [train_data[\"points\"], train_data[\"features\"], train_data[\"mask\"], train_data[\"summary\"]], \n",
        "    train_label,\n",
        "    batch_size=batch_size,\n",
        "    epochs=epochs,\n",
        "    validation_data=([val_data[\"points\"], val_data[\"features\"], val_data[\"mask\"], val_data[\"summary\"]], val_label, val_weight),\n",
        "    shuffle=True,\n",
        "    sample_weight=train_weight,\n",
        "    callbacks=callbacks\n",
        ")"
      ]
    },
    {
      "cell_type": "code",
      "source": [
        "plt.plot(history.history['loss'], label=\"Train Loss\")\n",
        "plt.plot(history.history['val_loss'], label=\"Validation Loss\")\n",
        "plt.legend()"
      ],
      "metadata": {
        "id": "-irxBo-j0Ifg",
        "colab": {
          "base_uri": "https://localhost:8080/",
          "height": 282
        },
        "outputId": "dcf15edb-e3ac-4497-a7af-e4c4b9bb8e2d"
      },
      "execution_count": 86,
      "outputs": [
        {
          "output_type": "execute_result",
          "data": {
            "text/plain": [
              "<matplotlib.legend.Legend at 0x7fad7bac8390>"
            ]
          },
          "metadata": {},
          "execution_count": 86
        },
        {
          "output_type": "display_data",
          "data": {
            "text/plain": [
              "<Figure size 432x288 with 1 Axes>"
            ],
            "image/png": "[encoded data removed]"
          },
          "metadata": {
            "needs_background": "light"
          }
        }
      ]
    },
    {
      "cell_type": "code",
      "source": [
        "plt.plot(history.history['accuracy'], label=\"Train Accuracy\")\n",
        "plt.plot(history.history['val_accuracy'], label=\"Validation Accuracy\")\n",
        "plt.legend()"
      ],
      "metadata": {
        "id": "Fw0L9XiUEril",
        "colab": {
          "base_uri": "https://localhost:8080/",
          "height": 282
        },
        "outputId": "78e17649-eb41-4932-d041-c4511f10be11"
      },
      "execution_count": 88,
      "outputs": [
        {
          "output_type": "execute_result",
          "data": {
            "text/plain": [
              "<matplotlib.legend.Legend at 0x7fad7ae6ab90>"
            ]
          },
          "metadata": {},
          "execution_count": 88
        },
        {
          "output_type": "display_data",
          "data": {
            "text/plain": [
              "<Figure size 432x288 with 1 Axes>"
            ],
            "image/png": "[encoded data removed]"
          },
          "metadata": {
            "needs_background": "light"
          }
        }
      ]
    },
    {
      "cell_type": "code",
      "source": [
        "plt.plot(history.history['precision_4'], label=\"Train Purity\")\n",
        "plt.plot(history.history['val_precision_4'], label=\"Validation Purity\")\n",
        "plt.legend()"
      ],
      "metadata": {
        "id": "EvZiOlA1E1V-",
        "colab": {
          "base_uri": "https://localhost:8080/",
          "height": 282
        },
        "outputId": "fb8b2792-5f9f-4c55-9016-0f93f5d94697"
      },
      "execution_count": 87,
      "outputs": [
        {
          "output_type": "execute_result",
          "data": {
            "text/plain": [
              "<matplotlib.legend.Legend at 0x7fab9723b2d0>"
            ]
          },
          "metadata": {},
          "execution_count": 87
        },
        {
          "output_type": "display_data",
          "data": {
            "text/plain": [
              "<Figure size 432x288 with 1 Axes>"
            ],
            "image/png": "[encoded data removed]"
          },
          "metadata": {
            "needs_background": "light"
          }
        }
      ]
    },
    {
      "cell_type": "code",
      "source": [
        "plt.plot(history.history['recall_3'], label=\"Train Effciency\")\n",
        "plt.plot(history.history['val_recall_3'], label=\"Validation Efficiency\")\n",
        "plt.legend()"
      ],
      "metadata": {
        "id": "Wg0JLZOcE_89",
        "colab": {
          "base_uri": "https://localhost:8080/",
          "height": 284
        },
        "outputId": "e3f82952-7835-4fb8-d003-53c4cce73dbf"
      },
      "execution_count": 58,
      "outputs": [
        {
          "output_type": "execute_result",
          "data": {
            "text/plain": [
              "<matplotlib.legend.Legend at 0x7fad7bf0af90>"
            ]
          },
          "metadata": {},
          "execution_count": 58
        },
        {
          "output_type": "display_data",
          "data": {
            "text/plain": [
              "<Figure size 432x288 with 1 Axes>"
            ],
            "image/png": "[encoded data removed]"
          },
          "metadata": {
            "needs_background": "light"
          }
        }
      ]
    },
    {
      "cell_type": "code",
      "source": [
        "! ls -1rt model_checkpoints/*model*.h5 | tail -n 1\n",
        "!cp $(ls -1rt model_checkpoints/*model*.h5 | tail -n 1) model_checkpoints/last.h5"
      ],
      "metadata": {
        "colab": {
          "base_uri": "https://localhost:8080/"
        },
        "id": "ARM5hbprirZs",
        "outputId": "79c3c38e-b31e-4539-f5da-4f1aa93847bb"
      },
      "execution_count": 89,
      "outputs": [
        {
          "output_type": "stream",
          "name": "stdout",
          "text": [
            "model_checkpoints/lite_model.028.h5\n"
          ]
        }
      ]
    },
    {
      "cell_type": "code",
      "source": [
        "model.load_weights(\"model_checkpoints/last.h5\")"
      ],
      "metadata": {
        "id": "NGw0cUyR5TxX"
      },
      "execution_count": 90,
      "outputs": []
    },
    {
      "cell_type": "code",
      "source": [
        "probs = model.predict_on_batch(test_data)"
      ],
      "metadata": {
        "id": "Ldx5QeBFF_N3"
      },
      "execution_count": 91,
      "outputs": []
    },
    {
      "cell_type": "code",
      "execution_count": 92,
      "metadata": {
        "id": "je0DvhbX2g86",
        "colab": {
          "base_uri": "https://localhost:8080/",
          "height": 282
        },
        "outputId": "f7d748cf-7f12-46bb-bd0e-e5c847ab1b73"
      },
      "outputs": [
        {
          "output_type": "stream",
          "name": "stdout",
          "text": [
            "0.9639720612519779\n"
          ]
        },
        {
          "output_type": "display_data",
          "data": {
            "text/plain": [
              "<Figure size 432x288 with 1 Axes>"
            ],
            "image/png": "[encoded data removed]"
          },
          "metadata": {
            "needs_background": "light"
          }
        }
      ],
      "source": [
        "precision, recall, thresholds = precision_recall_curve(test_label, probs, sample_weight=test_weight)\n",
        "plt.plot(recall, precision)\n",
        "print(auc(recall, precision))"
      ]
    }
  ],
  "metadata": {
    "kernelspec": {
      "display_name": "Python 3 (ipykernel)",
      "language": "python",
      "name": "python3"
    },
    "language_info": {
      "codemirror_mode": {
        "name": "ipython",
        "version": 3
      },
      "file_extension": ".py",
      "mimetype": "text/x-python",
      "name": "python",
      "nbconvert_exporter": "python",
      "pygments_lexer": "ipython3",
      "version": "3.8.10"
    },
    "colab": {
      "name": "keras_train.ipynb",
      "provenance": []
    },
    "accelerator": "GPU",
    "gpuClass": "standard"
  },
  "nbformat": 4,
  "nbformat_minor": 0
}