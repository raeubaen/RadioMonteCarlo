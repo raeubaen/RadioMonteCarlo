{
  "cells": [
    {
      "cell_type": "markdown",
      "source": [
        "## Goal \n",
        "Our goal is to build a classifier for Radiative Muon Capture event selection (https://ui.adsabs.harvard.edu/abs/2021APS..DNP.FL004M/abstract - https://journals.aps.org/prd/abstract/10.1103/PhysRevD.103.033002) with the Mu2e calorimeter  (https://iopscience.iop.org/article/10.1088/1748-0221/15/09/C09035/pdf), using a custom version of the \"lite model' from the ParticleNet Dynamical Graph CNN architecture (https://arxiv.org/abs/1902.08570)"
      ],
      "metadata": {
        "id": "N-nIX7kI6MNK"
      }
    },
    {
      "cell_type": "markdown",
      "source": [
        "## Dataset\n",
        "There are three type of samples:\n",
        "- Photons from Radiative Muon Capture, as signal\n",
        "- Min-bias events due to the beam, as background\n",
        "- Cosmic rays, as background\n",
        "\n",
        "All the samples represent clusters in the upstream calorimeter disk. \n",
        "\n",
        "Each sample contains both summary information about the cluster (Energy, Time, Centroid Radius, Number of hits) and hits-level variables (Energy, Time and xy coordinates of each hit)."
      ],
      "metadata": {
        "id": "au2FgZqAdFDh"
      }
    },
    {
      "cell_type": "markdown",
      "source": [
        "  ### Model customization\n",
        "  - In order to help the training:​\n",
        "    - \"summary\" vector with Energy, centroid  Radius, Time and Number of active cells, directly sent to the 1st dense layer​​\n",
        "\n",
        "  - In order to adapt the model to the data:​\n",
        "      - Last layer changed from softmax to sigmoid, because we have only 2 classes​\n",
        "      - Number of nearest neighbors changed from 7 to 3, because the clusters are very small\n",
        "\n",
        "  - In order to reduce overfitting:​\n",
        "      - Number of edge-conv filters reduced​\n",
        "      - Number of neurons in 1st dense layer reduced​\n",
        "      - Dropout rate in 1st dense layer increased​"
      ],
      "metadata": {
        "id": "tLuwjFIt9XBO"
      }
    },
    {
      "cell_type": "markdown",
      "source": [
        "Original model: https://github.com/hqucms/ParticleNet/blob/master/tf-keras/tf_keras_model.py"
      ],
      "metadata": {
        "id": "6yYUA3CD-QaJ"
      }
    },
    {
      "cell_type": "markdown",
      "source": [
        "## Code"
      ],
      "metadata": {
        "id": "xILQ5Qfz-Mze"
      }
    },
    {
      "cell_type": "code",
      "execution_count": 32,
      "metadata": {
        "id": "rabKUfn02g8b"
      },
      "outputs": [],
      "source": [
        "import logging\n",
        "logging.basicConfig(level=logging.INFO, format='[%(asctime)s] %(levelname)s: %(message)s')"
      ]
    },
    {
      "cell_type": "code",
      "execution_count": 33,
      "metadata": {
        "id": "qIv6ffW82g8W"
      },
      "outputs": [],
      "source": [
        "import numpy as np\n",
        "from sklearn.metrics import precision_recall_curve, auc\n",
        "import matplotlib.pyplot as plt"
      ]
    },
    {
      "cell_type": "markdown",
      "source": [
        "Data are imported in .npy format from Dropbox "
      ],
      "metadata": {
        "id": "F2FnfwfZc9Cx"
      }
    },
    {
      "cell_type": "code",
      "source": [
        "!wget https://www.dropbox.com/sh/oqlkgpajx6nu8i7/AABnJFTfOheRs2O3x_NT_q72a?dl=1 -O keras_input.zip\n",
        "!unzip keras_input.zip\n",
        "\n",
        "data_folder = \".\""
      ],
      "metadata": {
        "id": "Ez9vWLA_7qaP",
        "outputId": "64216622-7f5a-4f04-b102-5b24fe37a081",
        "colab": {
          "base_uri": "https://localhost:8080/"
        }
      },
      "execution_count": 34,
      "outputs": [
        {
          "output_type": "stream",
          "name": "stdout",
          "text": [
            "--2022-07-07 21:48:44--  https://www.dropbox.com/sh/oqlkgpajx6nu8i7/AABnJFTfOheRs2O3x_NT_q72a?dl=1\n",
            "Resolving www.dropbox.com (www.dropbox.com)... 162.125.81.18, 2620:100:6031:18::a27d:5112\n",
            "Connecting to www.dropbox.com (www.dropbox.com)|162.125.81.18|:443... connected.\n",
            "HTTP request sent, awaiting response... 301 Moved Permanently\n",
            "Location: /sh/dl/oqlkgpajx6nu8i7/AABnJFTfOheRs2O3x_NT_q72a [following]\n",
            "--2022-07-07 21:48:44--  https://www.dropbox.com/sh/dl/oqlkgpajx6nu8i7/AABnJFTfOheRs2O3x_NT_q72a\n",
            "Reusing existing connection to www.dropbox.com:443.\n",
            "HTTP request sent, awaiting response... 302 Found\n",
            "Location: https://uc653988a275b9e3e8924cb42e37.dl.dropboxusercontent.com/zip_download_get/BMAUSfMx3VrzODo1QbKWfs4tGBc2tLyOhr4U32cterlZ98LJXJxH4WKwU81a16wsM-vr889gtbmElp_6Ysn9aTkjdw5FVEfh59F9jlmWKI_W9g?dl=1# [following]\n",
            "--2022-07-07 21:48:45--  https://uc653988a275b9e3e8924cb42e37.dl.dropboxusercontent.com/zip_download_get/BMAUSfMx3VrzODo1QbKWfs4tGBc2tLyOhr4U32cterlZ98LJXJxH4WKwU81a16wsM-vr889gtbmElp_6Ysn9aTkjdw5FVEfh59F9jlmWKI_W9g?dl=1\n",
            "Resolving uc653988a275b9e3e8924cb42e37.dl.dropboxusercontent.com (uc653988a275b9e3e8924cb42e37.dl.dropboxusercontent.com)... 162.125.64.15, 2620:100:6031:15::a27d:510f\n",
            "Connecting to uc653988a275b9e3e8924cb42e37.dl.dropboxusercontent.com (uc653988a275b9e3e8924cb42e37.dl.dropboxusercontent.com)|162.125.64.15|:443... connected.\n",
            "HTTP request sent, awaiting response... 200 OK\n",
            "Length: 208745172 (199M) [application/zip]\n",
            "Saving to: ‘keras_input.zip’\n",
            "\n",
            "keras_input.zip     100%[===================>] 199.07M  12.3MB/s    in 18s     \n",
            "\n",
            "2022-07-07 21:49:04 (10.8 MB/s) - ‘keras_input.zip’ saved [208745172/208745172]\n",
            "\n",
            "Archive:  keras_input.zip\n",
            "warning:  stripped absolute path spec from /\n",
            "mapname:  conversion of  failed\n",
            "replace mnbs_et.npy? [y]es, [n]o, [A]ll, [N]one, [r]ename: N\n"
          ]
        }
      ]
    },
    {
      "cell_type": "markdown",
      "source": [
        "The three datasets are saved as dictionaries with 4 components:\n",
        "-  \"points\": Point Cloud (xy coordinates of each hit of a cluster) - padded to 50 maximum hits\n",
        "-  \"features\": Energy and Time of each hit of a cluster - paddes to 50 maximum hits\n",
        "-  \"mask\": Mask to distinguish real hits (the others are filled with 0) in a cluster\n",
        "-  \"summary\": Energy, Time, centroid Radius, and Number of active cells for a cluster"
      ],
      "metadata": {
        "id": "fexKfaUI_Mzi"
      }
    },
    {
      "cell_type": "code",
      "execution_count": 81,
      "metadata": {
        "id": "Se9xg25k2g8f"
      },
      "outputs": [],
      "source": [
        "name_map = {\"points\": \"xy\", \"features\": \"et\", \"mask\": \"mask\", \"summary\": \"etrn\"}\n",
        "\n",
        "signal  = {key: np.load(f\"{data_folder}/signal_{ name_map[key]}.npy\") for key in name_map}\n",
        "\n",
        "mnbs    = {key: np.load(f\"{data_folder}/mnbs_{   name_map[key]}.npy\") for key in name_map}\n",
        "\n",
        "cosmics = {key: np.load(f\"{data_folder}/cosmics_{name_map[key]}.npy\") for key in name_map}"
      ]
    },
    {
      "cell_type": "markdown",
      "source": [
        "#### Data Visualization"
      ],
      "metadata": {
        "id": "1sW-MTeBHeu0"
      }
    },
    {
      "cell_type": "markdown",
      "source": [
        "Images of calorimeter hits are showed for the three classes of events"
      ],
      "metadata": {
        "id": "RFcQj6azOttz"
      }
    },
    {
      "cell_type": "code",
      "source": [
        "chs = [signal, mnbs, cosmics]\n",
        "ch_names = [\"signal\", \"min-bias\", \"cosmic\"]\n",
        "\n",
        "cmap = plt.get_cmap('viridis', 20)\n",
        "cmap.set_under('white')\n",
        "\n",
        "N = 10\n",
        "for ch, name in zip(chs, ch_names):\n",
        "  evs = np.random.randint(0, high=len(ch[\"points\"]), size=N, dtype=int)\n",
        "  print(len(evs))\n",
        "  plt.figure(figsize=(15, 10), dpi=60)\n",
        "  plt.scatter(cosmics[\"points\"][:, :, 0], cosmics[\"points\"][:, :, 1], marker=\"s\", s=80, color=\"lightgrey\")\n",
        "  arr_xy = ch[\"points\"][evs]\n",
        "  x, y = arr_xy[:, :, 0], arr_xy[:, :, 1]\n",
        "  e = ch[\"features\"][evs][:, :, 0]\n",
        "  plt.scatter(x, y, c=e, cmap=cmap, vmin=1, marker=\"s\", s=80)\n",
        "  plt.title(f\"{N} random clusters from {name} events\", fontsize=22)\n",
        "  plt.xlabel(\"X [mm]\", fontsize=22)\n",
        "  plt.ylabel(\"Y [mm]\", fontsize=22)\n",
        "  plt.xticks(fontsize=22)\n",
        "  plt.yticks(fontsize=22)\n",
        "  clb = plt.colorbar()\n",
        "  clb.ax.set_title('Energy [MeV]',fontsize=22)\n",
        "  clb.ax.tick_params(labelsize=22)\n",
        "  plt.show()"
      ],
      "metadata": {
        "id": "4KuZ0SoqHkbM",
        "outputId": "8eec6cdd-44aa-40dc-bcf3-d386beadbea2",
        "colab": {
          "base_uri": "https://localhost:8080/",
          "height": 1000
        }
      },
      "execution_count": 36,
      "outputs": [
        {
          "output_type": "stream",
          "name": "stdout",
          "text": [
            "10\n"
          ]
        },
        {
          "output_type": "display_data",
          "data": {
            "text/plain": [
              "<Figure size 900x600 with 2 Axes>"
            ],
            "image/png": "[encoded data removed]"
          },
          "metadata": {
            "needs_background": "light"
          }
        },
        {
          "output_type": "stream",
          "name": "stdout",
          "text": [
            "10\n"
          ]
        },
        {
          "output_type": "display_data",
          "data": {
            "text/plain": [
              "<Figure size 900x600 with 2 Axes>"
            ],
            "image/png": "[encoded data removed]"
          },
          "metadata": {
            "needs_background": "light"
          }
        },
        {
          "output_type": "stream",
          "name": "stdout",
          "text": [
            "10\n"
          ]
        },
        {
          "output_type": "display_data",
          "data": {
            "text/plain": [
              "<Figure size 900x600 with 2 Axes>"
            ],
            "image/png": "[encoded data removed]"
          },
          "metadata": {
            "needs_background": "light"
          }
        }
      ]
    },
    {
      "cell_type": "markdown",
      "source": [
        "#### Training"
      ],
      "metadata": {
        "id": "4edxS1ysHhUL"
      }
    },
    {
      "cell_type": "markdown",
      "source": [
        "The datasets (generated with Monte Carlo) are weighted to match the real statistics of the data in one Mu2e injection cycle (1.33 s).\n"
      ],
      "metadata": {
        "id": "OZX7Akk1fWBM"
      }
    },
    {
      "cell_type": "code",
      "source": [
        "'''\n",
        "cluster on upstream disk in one injection cycle (1.33s):\n",
        "RMC: 330\n",
        "MNBS: 1.3M\n",
        "cosmici: 4\n",
        "\n",
        "MC cluster on upstream disk:\n",
        "RMC: 150k\n",
        "MNBS: 1.05M\n",
        "cosmici: 53k\n",
        "\n",
        "'''\n",
        "\n",
        "signal_weight = 330/150e3 * 100\n",
        "mnbs_weight = 0.24 * 100\n",
        "cosmics_weight = 4/53e3 * 100\n",
        "\n",
        "'''\n",
        "the MC has been filtered with ROOT\n",
        "using two pre-selection cuts:\n",
        "E > 50 MeV  &&  R > 480 mm\n",
        "The cuts are necessary because in the low-energy low-radius ragion the \n",
        "background due to the beam is huge\n",
        "'''\n",
        "\n",
        "print(end=\"\")"
      ],
      "metadata": {
        "id": "m1CHQLiEAXZQ"
      },
      "execution_count": 37,
      "outputs": []
    },
    {
      "cell_type": "markdown",
      "source": [
        "The samples are merged into a unique dataset, which is then shuffled, saving also labels and weights"
      ],
      "metadata": {
        "id": "-RADS0WTfqjL"
      }
    },
    {
      "cell_type": "code",
      "execution_count": 38,
      "metadata": {
        "id": "ZS-UFF0G2g8i"
      },
      "outputs": [],
      "source": [
        "S =  signal[\"mask\"].shape[0] \n",
        "F =    mnbs[\"mask\"].shape[0] \n",
        "C = cosmics[\"mask\"].shape[0]\n",
        "\n",
        "N = S + F + C\n",
        "\n",
        "p = np.random.permutation(N) "
      ]
    },
    {
      "cell_type": "code",
      "execution_count": 82,
      "metadata": {
        "id": "aXZ6qndr2g8m",
        "colab": {
          "base_uri": "https://localhost:8080/"
        },
        "outputId": "5fc70273-82c5-4d99-dbf9-ea86dcff81f6"
      },
      "outputs": [
        {
          "output_type": "stream",
          "name": "stdout",
          "text": [
            "- Entries per signale, mnbs e cosmici:[41372, 1132, 41598]\n",
            "- Pesi per signale, mnbs e cosmici:[0.22, 24.0, 0.007547169811320755]\n"
          ]
        }
      ],
      "source": [
        "data = {key: np.concatenate( (signal[key], mnbs[key], cosmics[key]) )[p] for key in name_map}\n",
        "\n",
        "label_list = [1, 0, 0]\n",
        "entries_list = [S, F, C]\n",
        "weight_list = [signal_weight, mnbs_weight, cosmics_weight]\n",
        "\n",
        "print(f\"- Entries per signale, mnbs e cosmici:{entries_list}\")\n",
        "print(f\"- Pesi per signale, mnbs e cosmici:{weight_list}\")\n",
        "\n",
        "label = np.concatenate( \n",
        "    [ np.ones((e))*l for e, l in zip(entries_list,  label_list) ]\n",
        ")[p]\n",
        "\n",
        "sample_weight = np.concatenate( \n",
        "    [ np.ones((e))*w for e, w in zip(entries_list, weight_list) ]\n",
        ")[p]"
      ]
    },
    {
      "cell_type": "markdown",
      "source": [
        "The data are normalized to help the training "
      ],
      "metadata": {
        "id": "PsfwSDLcf9U-"
      }
    },
    {
      "cell_type": "code",
      "source": [
        "from sklearn.preprocessing import StandardScaler\n",
        "import copy\n",
        "scaler = StandardScaler()\n",
        "\n",
        "virgin_data = copy.deepcopy(data)\n",
        "\n",
        "for key in [\"points\", \"features\"]:\n",
        "  data[key][data[\"mask\"].reshape(N, 50)] = scaler.fit_transform(data[key][data[\"mask\"].reshape(N, 50)])\n",
        "\n",
        "data[\"summary\"] = scaler.fit_transform(data[\"summary\"])"
      ],
      "metadata": {
        "id": "xTsETQ4OAxEd"
      },
      "execution_count": 83,
      "outputs": []
    },
    {
      "cell_type": "markdown",
      "source": [
        "The dataset is split in training, validation and test set, with a 7:2:1 ratio "
      ],
      "metadata": {
        "id": "FcLMyfjTgHsO"
      }
    },
    {
      "cell_type": "code",
      "execution_count": 84,
      "metadata": {
        "id": "ZFNtoo8s2g8s"
      },
      "outputs": [],
      "source": [
        "train_data  = {key: data[key][int(N*0.0) : int(N*0.7)] for key in name_map}\n",
        "test_data   = {key: data[key][int(N*0.7) : int(N*0.9)] for key in name_map}\n",
        "val_data    = {key: data[key][int(N*0.9) : int(N*1.0)] for key in name_map}\n",
        "\n",
        "train_label = label[int(N*0.0) : int(N*0.7)]\n",
        "test_label  = label[int(N*0.7) : int(N*0.9)]\n",
        "val_label   = label[int(N*0.9) : int(N*1.0)]\n",
        "\n",
        "train_weight = sample_weight[int(N*0.0) : int(N*0.7)]\n",
        "test_weight  = sample_weight[int(N*0.7) : int(N*0.9)]\n",
        "val_weight   = sample_weight[int(N*0.9) : int(N*1.0)]"
      ]
    },
    {
      "cell_type": "markdown",
      "source": [
        "The custom keras model is imported from our github repo "
      ],
      "metadata": {
        "id": "TEdNF_JlgM4Z"
      }
    },
    {
      "cell_type": "code",
      "execution_count": 42,
      "metadata": {
        "id": "S3ag941H2g8d",
        "outputId": "96c1e75e-a35e-44a3-a491-0a0754c83202",
        "colab": {
          "base_uri": "https://localhost:8080/"
        }
      },
      "outputs": [
        {
          "output_type": "stream",
          "name": "stdout",
          "text": [
            "--2022-07-07 21:49:54--  https://raw.githubusercontent.com/raeubaen/RadioMonteCarlo/main/tf_keras_model.py\n",
            "Resolving raw.githubusercontent.com (raw.githubusercontent.com)... 185.199.108.133, 185.199.109.133, 185.199.110.133, ...\n",
            "Connecting to raw.githubusercontent.com (raw.githubusercontent.com)|185.199.108.133|:443... connected.\n",
            "HTTP request sent, awaiting response... 200 OK\n",
            "Length: 6767 (6.6K) [text/plain]\n",
            "Saving to: ‘tf_keras_model.py’\n",
            "\n",
            "tf_keras_model.py   100%[===================>]   6.61K  --.-KB/s    in 0s      \n",
            "\n",
            "2022-07-07 21:49:55 (75.5 MB/s) - ‘tf_keras_model.py’ saved [6767/6767]\n",
            "\n"
          ]
        }
      ],
      "source": [
        "# downloading custom particle_net_lite keras model from out github repo\n",
        "!wget https://raw.githubusercontent.com/raeubaen/RadioMonteCarlo/main/tf_keras_model.py -O tf_keras_model.py\n",
        "\n",
        "import tensorflow as tf\n",
        "from tensorflow import keras\n",
        "from tf_keras_model import get_particle_net_lite_custom"
      ]
    },
    {
      "cell_type": "code",
      "execution_count": 56,
      "metadata": {
        "scrolled": true,
        "id": "nfCI_M2d2g8u"
      },
      "outputs": [],
      "source": [
        "input_shapes = {'points': (50, 2), 'features': (50, 2), 'mask':(50, 1)}\n",
        "\n",
        "model = get_particle_net_lite_custom(input_shapes)"
      ]
    },
    {
      "cell_type": "code",
      "execution_count": 57,
      "metadata": {
        "id": "LFRJXncU2g8x"
      },
      "outputs": [],
      "source": [
        "# Training parameters\n",
        "batch_size = 1024\n",
        "epochs = 30"
      ]
    },
    {
      "cell_type": "markdown",
      "source": [
        "The learning rate is exponentially decreased by a 0.1 factor every 10 epochs,\n",
        "for a maximum of 30 epochs. The best initial learning rate was estimated using the learning rate finder technique (https://colab.research.google.com/github/sachinruk/blog/blob/master/_notebooks/2021-02-15-Tensorflow-Learning-Rate-Finder.ipynb)"
      ],
      "metadata": {
        "id": "3_gm4C99gebR"
      }
    },
    {
      "cell_type": "code",
      "execution_count": 58,
      "metadata": {
        "id": "RHvU72JY2g8z"
      },
      "outputs": [],
      "source": [
        "# original particle_net learning rate schedule\n",
        "def lr_schedule(epoch):\n",
        "    lr = 1e-3\n",
        "    if epoch > 10:\n",
        "        lr *= 0.1\n",
        "    elif epoch > 20:\n",
        "        lr *= 0.01\n",
        "    logging.info('Learning rate: %f'%lr)\n",
        "    return lr"
      ]
    },
    {
      "cell_type": "markdown",
      "source": [
        "The model is compiled with:\n",
        "- Loss: Binary crossentropy\n",
        "- Metric: Area under the Precision Recall curve (AURPC)\n",
        "- Optimizer: Adam\n",
        "\n",
        "The loss and the metric are weighted to match the real statistics"
      ],
      "metadata": {
        "id": "NvIByldWgvyC"
      }
    },
    {
      "cell_type": "code",
      "execution_count": 59,
      "metadata": {
        "scrolled": true,
        "id": "2IlFncmO2g82",
        "outputId": "cea4f830-d310-4d6c-e712-5061711609a7",
        "colab": {
          "base_uri": "https://localhost:8080/"
        }
      },
      "outputs": [
        {
          "output_type": "stream",
          "name": "stderr",
          "text": [
            "[2022-07-07 21:56:21,131] INFO: Learning rate: 0.001000\n"
          ]
        },
        {
          "output_type": "stream",
          "name": "stdout",
          "text": [
            "Model: \"ParticleNet\"\n",
            "__________________________________________________________________________________________________\n",
            " Layer (type)                   Output Shape         Param #     Connected to                     \n",
            "==================================================================================================\n",
            " mask (InputLayer)              [(None, 50, 1)]      0           []                               \n",
            "                                                                                                  \n",
            " tf.math.not_equal_2 (TFOpLambd  (None, 50, 1)       0           ['mask[0][0]']                   \n",
            " a)                                                                                               \n",
            "                                                                                                  \n",
            " tf.cast_4 (TFOpLambda)         (None, 50, 1)        0           ['tf.math.not_equal_2[0][0]']    \n",
            "                                                                                                  \n",
            " tf.math.equal_2 (TFOpLambda)   (None, 50, 1)        0           ['tf.cast_4[0][0]']              \n",
            "                                                                                                  \n",
            " tf.cast_5 (TFOpLambda)         (None, 50, 1)        0           ['tf.math.equal_2[0][0]']        \n",
            "                                                                                                  \n",
            " tf.math.multiply_16 (TFOpLambd  (None, 50, 1)       0           ['tf.cast_5[0][0]']              \n",
            " a)                                                                                               \n",
            "                                                                                                  \n",
            " points (InputLayer)            [(None, 50, 2)]      0           []                               \n",
            "                                                                                                  \n",
            " tf.math.add_4 (TFOpLambda)     (None, 50, 2)        0           ['tf.math.multiply_16[0][0]',    \n",
            "                                                                  'points[0][0]']                 \n",
            "                                                                                                  \n",
            " features (InputLayer)          [(None, 50, 2)]      0           []                               \n",
            "                                                                                                  \n",
            " tf.compat.v1.transpose_8 (TFOp  (None, 2, 50)       0           ['tf.math.add_4[0][0]']          \n",
            " Lambda)                                                                                          \n",
            "                                                                                                  \n",
            " tf.expand_dims_14 (TFOpLambda)  (None, 50, 1, 2)    0           ['features[0][0]']               \n",
            "                                                                                                  \n",
            " tf.math.multiply_17 (TFOpLambd  (None, 50, 2)       0           ['tf.math.add_4[0][0]',          \n",
            " a)                                                               'tf.math.add_4[0][0]']          \n",
            "                                                                                                  \n",
            " tf.linalg.matmul_4 (TFOpLambda  (None, 50, 50)      0           ['tf.math.add_4[0][0]',          \n",
            " )                                                                'tf.compat.v1.transpose_8[0][0]'\n",
            "                                                                 ]                                \n",
            "                                                                                                  \n",
            " tf.math.multiply_18 (TFOpLambd  (None, 50, 2)       0           ['tf.math.add_4[0][0]',          \n",
            " a)                                                               'tf.math.add_4[0][0]']          \n",
            "                                                                                                  \n",
            " ParticleNet_fts_bn (BatchNorma  (None, 50, 1, 2)    8           ['tf.expand_dims_14[0][0]']      \n",
            " lization)                                                                                        \n",
            "                                                                                                  \n",
            " tf.math.reduce_sum_8 (TFOpLamb  (None, 50, 1)       0           ['tf.math.multiply_17[0][0]']    \n",
            " da)                                                                                              \n",
            "                                                                                                  \n",
            " tf.math.multiply_19 (TFOpLambd  (None, 50, 50)      0           ['tf.linalg.matmul_4[0][0]']     \n",
            " a)                                                                                               \n",
            "                                                                                                  \n",
            " tf.math.reduce_sum_9 (TFOpLamb  (None, 50, 1)       0           ['tf.math.multiply_18[0][0]']    \n",
            " da)                                                                                              \n",
            "                                                                                                  \n",
            " tf.compat.v1.squeeze_6 (TFOpLa  (None, 50, 2)       0           ['ParticleNet_fts_bn[0][0]']     \n",
            " mbda)                                                                                            \n",
            "                                                                                                  \n",
            " tf.math.subtract_8 (TFOpLambda  (None, 50, 50)      0           ['tf.math.reduce_sum_8[0][0]',   \n",
            " )                                                                'tf.math.multiply_19[0][0]']    \n",
            "                                                                                                  \n",
            " tf.compat.v1.transpose_9 (TFOp  (None, 1, 50)       0           ['tf.math.reduce_sum_9[0][0]']   \n",
            " Lambda)                                                                                          \n",
            "                                                                                                  \n",
            " tf.compat.v1.shape_4 (TFOpLamb  (3,)                0           ['tf.compat.v1.squeeze_6[0][0]'] \n",
            " da)                                                                                              \n",
            "                                                                                                  \n",
            " tf.__operators__.add_8 (TFOpLa  (None, 50, 50)      0           ['tf.math.subtract_8[0][0]',     \n",
            " mbda)                                                            'tf.compat.v1.transpose_9[0][0]'\n",
            "                                                                 ]                                \n",
            "                                                                                                  \n",
            " tf.__operators__.getitem_9 (Sl  ()                  0           ['tf.compat.v1.shape_4[0][0]']   \n",
            " icingOpLambda)                                                                                   \n",
            "                                                                                                  \n",
            " tf.math.negative_4 (TFOpLambda  (None, 50, 50)      0           ['tf.__operators__.add_8[0][0]'] \n",
            " )                                                                                                \n",
            "                                                                                                  \n",
            " tf.range_4 (TFOpLambda)        (None,)              0           ['tf.__operators__.getitem_9[0][0\n",
            "                                                                 ]']                              \n",
            "                                                                                                  \n",
            " tf.math.top_k_4 (TFOpLambda)   TopKV2(values=(None  0           ['tf.math.negative_4[0][0]']     \n",
            "                                , 50, 4),                                                         \n",
            "                                 indices=(None, 50,                                               \n",
            "                                 4))                                                              \n",
            "                                                                                                  \n",
            " tf.reshape_4 (TFOpLambda)      (None, 1, 1, 1)      0           ['tf.range_4[0][0]']             \n",
            "                                                                                                  \n",
            " tf.__operators__.getitem_8 (Sl  (None, 50, 3)       0           ['tf.math.top_k_4[0][1]']        \n",
            " icingOpLambda)                                                                                   \n",
            "                                                                                                  \n",
            " tf.tile_8 (TFOpLambda)         (None, 50, 3, 1)     0           ['tf.reshape_4[0][0]']           \n",
            "                                                                                                  \n",
            " tf.expand_dims_15 (TFOpLambda)  (None, 50, 3, 1)    0           ['tf.__operators__.getitem_8[0][0\n",
            "                                                                 ]']                              \n",
            "                                                                                                  \n",
            " tf.expand_dims_16 (TFOpLambda)  (None, 50, 1, 2)    0           ['tf.compat.v1.squeeze_6[0][0]'] \n",
            "                                                                                                  \n",
            " tf.concat_10 (TFOpLambda)      (None, 50, 3, 2)     0           ['tf.tile_8[0][0]',              \n",
            "                                                                  'tf.expand_dims_15[0][0]']      \n",
            "                                                                                                  \n",
            " tf.tile_9 (TFOpLambda)         (None, 50, 3, 2)     0           ['tf.expand_dims_16[0][0]']      \n",
            "                                                                                                  \n",
            " tf.compat.v1.gather_nd_4 (TFOp  (None, 50, 3, 2)    0           ['tf.compat.v1.squeeze_6[0][0]', \n",
            " Lambda)                                                          'tf.concat_10[0][0]']           \n",
            "                                                                                                  \n",
            " tf.math.subtract_9 (TFOpLambda  (None, 50, 3, 2)    0           ['tf.compat.v1.gather_nd_4[0][0]'\n",
            " )                                                               , 'tf.tile_9[0][0]']             \n",
            "                                                                                                  \n",
            " tf.concat_11 (TFOpLambda)      (None, 50, 3, 4)     0           ['tf.tile_9[0][0]',              \n",
            "                                                                  'tf.math.subtract_9[0][0]']     \n",
            "                                                                                                  \n",
            " ParticleNet_EdgeConv0_conv0 (C  (None, 50, 3, 16)   64          ['tf.concat_11[0][0]']           \n",
            " onv2D)                                                                                           \n",
            "                                                                                                  \n",
            " ParticleNet_EdgeConv0_bn0 (Bat  (None, 50, 3, 16)   64          ['ParticleNet_EdgeConv0_conv0[0][\n",
            " chNormalization)                                                0]']                             \n",
            "                                                                                                  \n",
            " ParticleNet_EdgeConv0_act0 (Ac  (None, 50, 3, 16)   0           ['ParticleNet_EdgeConv0_bn0[0][0]\n",
            " tivation)                                                       ']                               \n",
            "                                                                                                  \n",
            " ParticleNet_EdgeConv0_conv1 (C  (None, 50, 3, 16)   256         ['ParticleNet_EdgeConv0_act0[0][0\n",
            " onv2D)                                                          ]']                              \n",
            "                                                                                                  \n",
            " ParticleNet_EdgeConv0_bn1 (Bat  (None, 50, 3, 16)   64          ['ParticleNet_EdgeConv0_conv1[0][\n",
            " chNormalization)                                                0]']                             \n",
            "                                                                                                  \n",
            " ParticleNet_EdgeConv0_act1 (Ac  (None, 50, 3, 16)   0           ['ParticleNet_EdgeConv0_bn1[0][0]\n",
            " tivation)                                                       ']                               \n",
            "                                                                                                  \n",
            " tf.expand_dims_17 (TFOpLambda)  (None, 50, 1, 2)    0           ['tf.compat.v1.squeeze_6[0][0]'] \n",
            "                                                                                                  \n",
            " ParticleNet_EdgeConv0_conv2 (C  (None, 50, 3, 16)   256         ['ParticleNet_EdgeConv0_act1[0][0\n",
            " onv2D)                                                          ]']                              \n",
            "                                                                                                  \n",
            " ParticleNet_EdgeConv0_sc_conv   (None, 50, 1, 16)   32          ['tf.expand_dims_17[0][0]']      \n",
            " (Conv2D)                                                                                         \n",
            "                                                                                                  \n",
            " ParticleNet_EdgeConv0_bn2 (Bat  (None, 50, 3, 16)   64          ['ParticleNet_EdgeConv0_conv2[0][\n",
            " chNormalization)                                                0]']                             \n",
            "                                                                                                  \n",
            " ParticleNet_EdgeConv0_sc_bn (B  (None, 50, 1, 16)   64          ['ParticleNet_EdgeConv0_sc_conv[0\n",
            " atchNormalization)                                              ][0]']                           \n",
            "                                                                                                  \n",
            " ParticleNet_EdgeConv0_act2 (Ac  (None, 50, 3, 16)   0           ['ParticleNet_EdgeConv0_bn2[0][0]\n",
            " tivation)                                                       ']                               \n",
            "                                                                                                  \n",
            " tf.compat.v1.squeeze_7 (TFOpLa  (None, 50, 16)      0           ['ParticleNet_EdgeConv0_sc_bn[0][\n",
            " mbda)                                                           0]']                             \n",
            "                                                                                                  \n",
            " tf.math.reduce_max_4 (TFOpLamb  (None, 50, 16)      0           ['ParticleNet_EdgeConv0_act2[0][0\n",
            " da)                                                             ]']                              \n",
            "                                                                                                  \n",
            " tf.__operators__.add_9 (TFOpLa  (None, 50, 16)      0           ['tf.compat.v1.squeeze_7[0][0]', \n",
            " mbda)                                                            'tf.math.reduce_max_4[0][0]']   \n",
            "                                                                                                  \n",
            " ParticleNet_EdgeConv0_sc_act (  (None, 50, 16)      0           ['tf.__operators__.add_9[0][0]'] \n",
            " Activation)                                                                                      \n",
            "                                                                                                  \n",
            " tf.math.add_5 (TFOpLambda)     (None, 50, 16)       0           ['tf.math.multiply_16[0][0]',    \n",
            "                                                                  'ParticleNet_EdgeConv0_sc_act[0]\n",
            "                                                                 [0]']                            \n",
            "                                                                                                  \n",
            " tf.compat.v1.transpose_10 (TFO  (None, 16, 50)      0           ['tf.math.add_5[0][0]']          \n",
            " pLambda)                                                                                         \n",
            "                                                                                                  \n",
            " tf.math.multiply_20 (TFOpLambd  (None, 50, 16)      0           ['tf.math.add_5[0][0]',          \n",
            " a)                                                               'tf.math.add_5[0][0]']          \n",
            "                                                                                                  \n",
            " tf.linalg.matmul_5 (TFOpLambda  (None, 50, 50)      0           ['tf.math.add_5[0][0]',          \n",
            " )                                                                'tf.compat.v1.transpose_10[0][0]\n",
            "                                                                 ']                               \n",
            "                                                                                                  \n",
            " tf.math.multiply_21 (TFOpLambd  (None, 50, 16)      0           ['tf.math.add_5[0][0]',          \n",
            " a)                                                               'tf.math.add_5[0][0]']          \n",
            "                                                                                                  \n",
            " tf.math.reduce_sum_10 (TFOpLam  (None, 50, 1)       0           ['tf.math.multiply_20[0][0]']    \n",
            " bda)                                                                                             \n",
            "                                                                                                  \n",
            " tf.math.multiply_22 (TFOpLambd  (None, 50, 50)      0           ['tf.linalg.matmul_5[0][0]']     \n",
            " a)                                                                                               \n",
            "                                                                                                  \n",
            " tf.math.reduce_sum_11 (TFOpLam  (None, 50, 1)       0           ['tf.math.multiply_21[0][0]']    \n",
            " bda)                                                                                             \n",
            "                                                                                                  \n",
            " tf.math.subtract_10 (TFOpLambd  (None, 50, 50)      0           ['tf.math.reduce_sum_10[0][0]',  \n",
            " a)                                                               'tf.math.multiply_22[0][0]']    \n",
            "                                                                                                  \n",
            " tf.compat.v1.transpose_11 (TFO  (None, 1, 50)       0           ['tf.math.reduce_sum_11[0][0]']  \n",
            " pLambda)                                                                                         \n",
            "                                                                                                  \n",
            " tf.compat.v1.shape_5 (TFOpLamb  (3,)                0           ['ParticleNet_EdgeConv0_sc_act[0]\n",
            " da)                                                             [0]']                            \n",
            "                                                                                                  \n",
            " tf.__operators__.add_10 (TFOpL  (None, 50, 50)      0           ['tf.math.subtract_10[0][0]',    \n",
            " ambda)                                                           'tf.compat.v1.transpose_11[0][0]\n",
            "                                                                 ']                               \n",
            "                                                                                                  \n",
            " tf.__operators__.getitem_11 (S  ()                  0           ['tf.compat.v1.shape_5[0][0]']   \n",
            " licingOpLambda)                                                                                  \n",
            "                                                                                                  \n",
            " tf.math.negative_5 (TFOpLambda  (None, 50, 50)      0           ['tf.__operators__.add_10[0][0]']\n",
            " )                                                                                                \n",
            "                                                                                                  \n",
            " tf.range_5 (TFOpLambda)        (None,)              0           ['tf.__operators__.getitem_11[0][\n",
            "                                                                 0]']                             \n",
            "                                                                                                  \n",
            " tf.math.top_k_5 (TFOpLambda)   TopKV2(values=(None  0           ['tf.math.negative_5[0][0]']     \n",
            "                                , 50, 4),                                                         \n",
            "                                 indices=(None, 50,                                               \n",
            "                                 4))                                                              \n",
            "                                                                                                  \n",
            " tf.reshape_5 (TFOpLambda)      (None, 1, 1, 1)      0           ['tf.range_5[0][0]']             \n",
            "                                                                                                  \n",
            " tf.__operators__.getitem_10 (S  (None, 50, 3)       0           ['tf.math.top_k_5[0][1]']        \n",
            " licingOpLambda)                                                                                  \n",
            "                                                                                                  \n",
            " tf.tile_10 (TFOpLambda)        (None, 50, 3, 1)     0           ['tf.reshape_5[0][0]']           \n",
            "                                                                                                  \n",
            " tf.expand_dims_18 (TFOpLambda)  (None, 50, 3, 1)    0           ['tf.__operators__.getitem_10[0][\n",
            "                                                                 0]']                             \n",
            "                                                                                                  \n",
            " tf.expand_dims_19 (TFOpLambda)  (None, 50, 1, 16)   0           ['ParticleNet_EdgeConv0_sc_act[0]\n",
            "                                                                 [0]']                            \n",
            "                                                                                                  \n",
            " tf.concat_12 (TFOpLambda)      (None, 50, 3, 2)     0           ['tf.tile_10[0][0]',             \n",
            "                                                                  'tf.expand_dims_18[0][0]']      \n",
            "                                                                                                  \n",
            " tf.tile_11 (TFOpLambda)        (None, 50, 3, 16)    0           ['tf.expand_dims_19[0][0]']      \n",
            "                                                                                                  \n",
            " tf.compat.v1.gather_nd_5 (TFOp  (None, 50, 3, 16)   0           ['ParticleNet_EdgeConv0_sc_act[0]\n",
            " Lambda)                                                         [0]',                            \n",
            "                                                                  'tf.concat_12[0][0]']           \n",
            "                                                                                                  \n",
            " tf.math.subtract_11 (TFOpLambd  (None, 50, 3, 16)   0           ['tf.compat.v1.gather_nd_5[0][0]'\n",
            " a)                                                              , 'tf.tile_11[0][0]']            \n",
            "                                                                                                  \n",
            " tf.concat_13 (TFOpLambda)      (None, 50, 3, 32)    0           ['tf.tile_11[0][0]',             \n",
            "                                                                  'tf.math.subtract_11[0][0]']    \n",
            "                                                                                                  \n",
            " ParticleNet_EdgeConv1_conv0 (C  (None, 50, 3, 32)   1024        ['tf.concat_13[0][0]']           \n",
            " onv2D)                                                                                           \n",
            "                                                                                                  \n",
            " ParticleNet_EdgeConv1_bn0 (Bat  (None, 50, 3, 32)   128         ['ParticleNet_EdgeConv1_conv0[0][\n",
            " chNormalization)                                                0]']                             \n",
            "                                                                                                  \n",
            " ParticleNet_EdgeConv1_act0 (Ac  (None, 50, 3, 32)   0           ['ParticleNet_EdgeConv1_bn0[0][0]\n",
            " tivation)                                                       ']                               \n",
            "                                                                                                  \n",
            " ParticleNet_EdgeConv1_conv1 (C  (None, 50, 3, 32)   1024        ['ParticleNet_EdgeConv1_act0[0][0\n",
            " onv2D)                                                          ]']                              \n",
            "                                                                                                  \n",
            " ParticleNet_EdgeConv1_bn1 (Bat  (None, 50, 3, 32)   128         ['ParticleNet_EdgeConv1_conv1[0][\n",
            " chNormalization)                                                0]']                             \n",
            "                                                                                                  \n",
            " ParticleNet_EdgeConv1_act1 (Ac  (None, 50, 3, 32)   0           ['ParticleNet_EdgeConv1_bn1[0][0]\n",
            " tivation)                                                       ']                               \n",
            "                                                                                                  \n",
            " tf.expand_dims_20 (TFOpLambda)  (None, 50, 1, 16)   0           ['ParticleNet_EdgeConv0_sc_act[0]\n",
            "                                                                 [0]']                            \n",
            "                                                                                                  \n",
            " ParticleNet_EdgeConv1_conv2 (C  (None, 50, 3, 32)   1024        ['ParticleNet_EdgeConv1_act1[0][0\n",
            " onv2D)                                                          ]']                              \n",
            "                                                                                                  \n",
            " ParticleNet_EdgeConv1_sc_conv   (None, 50, 1, 32)   512         ['tf.expand_dims_20[0][0]']      \n",
            " (Conv2D)                                                                                         \n",
            "                                                                                                  \n",
            " ParticleNet_EdgeConv1_bn2 (Bat  (None, 50, 3, 32)   128         ['ParticleNet_EdgeConv1_conv2[0][\n",
            " chNormalization)                                                0]']                             \n",
            "                                                                                                  \n",
            " ParticleNet_EdgeConv1_sc_bn (B  (None, 50, 1, 32)   128         ['ParticleNet_EdgeConv1_sc_conv[0\n",
            " atchNormalization)                                              ][0]']                           \n",
            "                                                                                                  \n",
            " ParticleNet_EdgeConv1_act2 (Ac  (None, 50, 3, 32)   0           ['ParticleNet_EdgeConv1_bn2[0][0]\n",
            " tivation)                                                       ']                               \n",
            "                                                                                                  \n",
            " tf.compat.v1.squeeze_8 (TFOpLa  (None, 50, 32)      0           ['ParticleNet_EdgeConv1_sc_bn[0][\n",
            " mbda)                                                           0]']                             \n",
            "                                                                                                  \n",
            " tf.math.reduce_max_5 (TFOpLamb  (None, 50, 32)      0           ['ParticleNet_EdgeConv1_act2[0][0\n",
            " da)                                                             ]']                              \n",
            "                                                                                                  \n",
            " tf.__operators__.add_11 (TFOpL  (None, 50, 32)      0           ['tf.compat.v1.squeeze_8[0][0]', \n",
            " ambda)                                                           'tf.math.reduce_max_5[0][0]']   \n",
            "                                                                                                  \n",
            " ParticleNet_EdgeConv1_sc_act (  (None, 50, 32)      0           ['tf.__operators__.add_11[0][0]']\n",
            " Activation)                                                                                      \n",
            "                                                                                                  \n",
            " tf.math.multiply_23 (TFOpLambd  (None, 50, 32)      0           ['ParticleNet_EdgeConv1_sc_act[0]\n",
            " a)                                                              [0]',                            \n",
            "                                                                  'tf.cast_4[0][0]']              \n",
            "                                                                                                  \n",
            " tf.math.reduce_mean_2 (TFOpLam  (None, 32)          0           ['tf.math.multiply_23[0][0]']    \n",
            " bda)                                                                                             \n",
            "                                                                                                  \n",
            " summary (InputLayer)           [(None, 4)]          0           []                               \n",
            "                                                                                                  \n",
            " tf.concat_14 (TFOpLambda)      (None, 36)           0           ['tf.math.reduce_mean_2[0][0]',  \n",
            "                                                                  'summary[0][0]']                \n",
            "                                                                                                  \n",
            " dense_4 (Dense)                (None, 64)           2368        ['tf.concat_14[0][0]']           \n",
            "                                                                                                  \n",
            " dropout_2 (Dropout)            (None, 64)           0           ['dense_4[0][0]']                \n",
            "                                                                                                  \n",
            " dense_5 (Dense)                (None, 1)            65          ['dropout_2[0][0]']              \n",
            "                                                                                                  \n",
            "==================================================================================================\n",
            "Total params: 7,401\n",
            "Trainable params: 7,013\n",
            "Non-trainable params: 388\n",
            "__________________________________________________________________________________________________\n"
          ]
        }
      ],
      "source": [
        "model.compile(loss='binary_crossentropy',\n",
        "              optimizer=keras.optimizers.Adam(learning_rate=lr_schedule(0)),\n",
        "              weighted_metrics=[keras.metrics.AUC(curve=\"PR\")],\n",
        ")\n",
        "model.summary()"
      ]
    },
    {
      "cell_type": "markdown",
      "source": [
        "Keras checkpoints are employed to save the model with the best validation AURPC"
      ],
      "metadata": {
        "id": "_6fzlPPnhpJe"
      }
    },
    {
      "cell_type": "code",
      "execution_count": 60,
      "metadata": {
        "id": "hc6CsvjZ2g84"
      },
      "outputs": [],
      "source": [
        "# Prepare model model saving directory.\n",
        "import os\n",
        "save_dir = 'model_checkpoints'\n",
        "model_name = '%s_model-{val_auc:0.2f}-{epoch:03d}.h5' % \"lite\"\n",
        "if not os.path.isdir(save_dir):\n",
        "    os.makedirs(save_dir)\n",
        "filepath = os.path.join(save_dir, model_name)\n",
        "\n",
        "# Prepare callbacks for model saving and for learning rate adjustment.\n",
        "checkpoint = keras.callbacks.ModelCheckpoint(filepath=filepath,\n",
        "                             monitor='val_auc',\n",
        "                             verbose=1,\n",
        "                            )\n",
        "\n",
        "lr_scheduler = keras.callbacks.LearningRateScheduler(lr_schedule)\n",
        "progress_bar = keras.callbacks.ProgbarLogger()\n",
        "callbacks = [checkpoint, progress_bar, lr_scheduler]"
      ]
    },
    {
      "cell_type": "markdown",
      "source": [
        "The model is trained, weighting the data to match the real statistics, by means of the sample_weight attribute (for the training).\n",
        "Also the validation set is weighted, in order to select the model with the best performances on the real statistics."
      ],
      "metadata": {
        "id": "1ihs3qvIn0nI"
      }
    },
    {
      "cell_type": "code",
      "execution_count": 63,
      "metadata": {
        "scrolled": true,
        "id": "98kE3T-I2g85",
        "outputId": "9a36b6a1-896a-4fbf-fd01-daf0b59856dc",
        "colab": {
          "base_uri": "https://localhost:8080/"
        }
      },
      "outputs": [
        {
          "output_type": "stream",
          "name": "stdout",
          "text": [
            "Epoch 1/15\n",
            "58/58 [==============================] - 9s 159ms/step - loss: 0.1099 - auc_2: 0.8729 - val_loss: 0.1778 - val_auc_2: 0.7672\n",
            "Epoch 2/15\n",
            "58/58 [==============================] - 9s 161ms/step - loss: 0.0889 - auc_2: 0.9136 - val_loss: 0.1652 - val_auc_2: 0.7917\n",
            "Epoch 3/15\n",
            "58/58 [==============================] - 9s 162ms/step - loss: 0.0774 - auc_2: 0.9319 - val_loss: 0.1347 - val_auc_2: 0.8474\n",
            "Epoch 4/15\n",
            "58/58 [==============================] - 9s 162ms/step - loss: 0.0716 - auc_2: 0.9399 - val_loss: 0.1038 - val_auc_2: 0.8970\n",
            "Epoch 5/15\n",
            "58/58 [==============================] - 9s 161ms/step - loss: 0.0686 - auc_2: 0.9463 - val_loss: 0.0892 - val_auc_2: 0.9221\n",
            "Epoch 6/15\n",
            "58/58 [==============================] - 9s 160ms/step - loss: 0.0630 - auc_2: 0.9545 - val_loss: 0.0727 - val_auc_2: 0.9434\n",
            "Epoch 7/15\n",
            "58/58 [==============================] - 9s 161ms/step - loss: 0.0611 - auc_2: 0.9576 - val_loss: 0.0739 - val_auc_2: 0.9479\n",
            "Epoch 8/15\n",
            "58/58 [==============================] - 9s 161ms/step - loss: 0.0605 - auc_2: 0.9583 - val_loss: 0.0620 - val_auc_2: 0.9573\n",
            "Epoch 9/15\n",
            "58/58 [==============================] - 9s 161ms/step - loss: 0.0637 - auc_2: 0.9560 - val_loss: 0.0677 - val_auc_2: 0.9501\n",
            "Epoch 10/15\n",
            "58/58 [==============================] - 9s 163ms/step - loss: 0.0623 - auc_2: 0.9557 - val_loss: 0.0556 - val_auc_2: 0.9662\n",
            "Epoch 11/15\n",
            "58/58 [==============================] - 9s 162ms/step - loss: 0.0554 - auc_2: 0.9644 - val_loss: 0.0654 - val_auc_2: 0.9601\n",
            "Epoch 12/15\n",
            "58/58 [==============================] - 9s 162ms/step - loss: 0.0517 - auc_2: 0.9686 - val_loss: 0.0572 - val_auc_2: 0.9644\n",
            "Epoch 13/15\n",
            "58/58 [==============================] - 9s 162ms/step - loss: 0.0518 - auc_2: 0.9670 - val_loss: 0.0574 - val_auc_2: 0.9626\n",
            "Epoch 14/15\n",
            "58/58 [==============================] - 9s 162ms/step - loss: 0.0476 - auc_2: 0.9733 - val_loss: 0.0551 - val_auc_2: 0.9652\n",
            "Epoch 15/15\n",
            "58/58 [==============================] - 9s 162ms/step - loss: 0.0457 - auc_2: 0.9747 - val_loss: 0.0626 - val_auc_2: 0.9661\n"
          ]
        }
      ],
      "source": [
        "history = model.fit(\n",
        "    [train_data[\"points\"], train_data[\"features\"], train_data[\"mask\"], train_data[\"summary\"]], \n",
        "    train_label,\n",
        "    batch_size=batch_size,\n",
        "    epochs=15,\n",
        "    validation_data=([val_data[\"points\"], val_data[\"features\"], val_data[\"mask\"], val_data[\"summary\"]], val_label, val_weight),\n",
        "    shuffle=True,\n",
        "    sample_weight=train_weight,\n",
        "    #callbacks=callbacks\n",
        ")"
      ]
    },
    {
      "cell_type": "code",
      "source": [
        "plt.plot(history.history['loss'], label=\"Train Loss\")\n",
        "plt.plot(history.history['val_loss'], label=\"Validation Loss\")\n",
        "plt.legend()"
      ],
      "metadata": {
        "id": "-irxBo-j0Ifg"
      },
      "execution_count": null,
      "outputs": []
    },
    {
      "cell_type": "code",
      "source": [
        "plt.plot(history.history['auc'], label=\"Train AUPRC\")\n",
        "plt.plot(history.history['val_auc'], label=\"Validation AURPC\")\n",
        "plt.legend()"
      ],
      "metadata": {
        "id": "Fw0L9XiUEril"
      },
      "execution_count": null,
      "outputs": []
    },
    {
      "cell_type": "markdown",
      "source": [
        "The network weights from best model are loaded\n"
      ],
      "metadata": {
        "id": "BBYFXZ15C3AE"
      }
    },
    {
      "cell_type": "code",
      "source": [
        "# unfortunately we were not able to use save_best_only=True in ModelCheckpoint\n",
        "# so we are using a workaround to select the model with the best val_auc\n",
        "! ls -1 model_checkpoints/*model*.h5 | sort -n | tail -n 1\n",
        "!cp $(ls -1 model_checkpoints/*model*.h5 | sort -n | tail -n 1) model_checkpoints/last.h5"
      ],
      "metadata": {
        "id": "ARM5hbprirZs"
      },
      "execution_count": null,
      "outputs": []
    },
    {
      "cell_type": "code",
      "source": [
        "model.load_weights(\"model_checkpoints/last.h5\")"
      ],
      "metadata": {
        "id": "NGw0cUyR5TxX"
      },
      "execution_count": null,
      "outputs": []
    },
    {
      "cell_type": "markdown",
      "source": [
        "Prediction probabilities are evaluated on the test set"
      ],
      "metadata": {
        "id": "y0UDcZstC7Zd"
      }
    },
    {
      "cell_type": "code",
      "source": [
        "probs = model.predict_on_batch(test_data)"
      ],
      "metadata": {
        "id": "Ldx5QeBFF_N3"
      },
      "execution_count": 79,
      "outputs": []
    },
    {
      "cell_type": "markdown",
      "source": [
        "Precision-recalll curve is plotted and weighted AURPC is calculated"
      ],
      "metadata": {
        "id": "ZhjxRS0-Dp2H"
      }
    },
    {
      "cell_type": "code",
      "execution_count": 86,
      "metadata": {
        "id": "je0DvhbX2g86",
        "colab": {
          "base_uri": "https://localhost:8080/",
          "height": 296
        },
        "outputId": "a06a87a5-e737-419d-e115-268598ed47fb"
      },
      "outputs": [
        {
          "output_type": "stream",
          "name": "stdout",
          "text": [
            "0.9838633843336997\n"
          ]
        },
        {
          "output_type": "display_data",
          "data": {
            "text/plain": [
              "<Figure size 432x288 with 1 Axes>"
            ],
            "image/png": "[encoded data removed]"
          },
          "metadata": {
            "needs_background": "light"
          }
        }
      ],
      "source": [
        "precision, recall, thresholds = precision_recall_curve(test_label, probs, sample_weight=test_weight)\n",
        "plt.plot(recall, precision)\n",
        "plt.xlabel(\"Recall\")\n",
        "plt.ylabel(\"Precision\")\n",
        "print(auc(recall, precision))"
      ]
    },
    {
      "cell_type": "code",
      "source": [
        "test_data"
      ],
      "metadata": {
        "id": "zsZ0Ni0IrlTl",
        "outputId": "d636ed68-9efb-4dbe-9ac7-81fb47992053",
        "colab": {
          "base_uri": "https://localhost:8080/"
        }
      },
      "execution_count": 67,
      "outputs": [
        {
          "output_type": "execute_result",
          "data": {
            "text/plain": [
              "{'features': array([[[ 1.31016977, -1.11112754],\n",
              "         [ 0.67206725, -1.11187643],\n",
              "         [ 0.51008005, -1.11253301],\n",
              "         ...,\n",
              "         [ 0.        ,  0.        ],\n",
              "         [ 0.        ,  0.        ],\n",
              "         [ 0.        ,  0.        ]],\n",
              " \n",
              "        [[ 0.40908446,  1.4413959 ],\n",
              "         [ 0.25415026,  1.44420437],\n",
              "         [ 0.21883467,  1.44225899],\n",
              "         ...,\n",
              "         [ 0.        ,  0.        ],\n",
              "         [ 0.        ,  0.        ],\n",
              "         [ 0.        ,  0.        ]],\n",
              " \n",
              "        [[ 0.90036026, -0.19134283],\n",
              "         [ 0.62924027, -0.19158887],\n",
              "         [ 0.59687364, -0.19157069],\n",
              "         ...,\n",
              "         [ 0.        ,  0.        ],\n",
              "         [ 0.        ,  0.        ],\n",
              "         [ 0.        ,  0.        ]],\n",
              " \n",
              "        ...,\n",
              " \n",
              "        [[ 1.30267523,  0.06206795],\n",
              "         [ 1.06644627,  0.06145126],\n",
              "         [ 0.70190986,  0.05870527],\n",
              "         ...,\n",
              "         [ 0.        ,  0.        ],\n",
              "         [ 0.        ,  0.        ],\n",
              "         [ 0.        ,  0.        ]],\n",
              " \n",
              "        [[ 2.95432556, -0.31419752],\n",
              "         [-0.96682469, -0.31338439],\n",
              "         [-0.98417063, -0.31182236],\n",
              "         ...,\n",
              "         [ 0.        ,  0.        ],\n",
              "         [ 0.        ,  0.        ],\n",
              "         [ 0.        ,  0.        ]],\n",
              " \n",
              "        [[ 0.30815852, -1.017853  ],\n",
              "         [ 0.30770237, -1.01755895],\n",
              "         [ 0.29687201, -1.01763308],\n",
              "         ...,\n",
              "         [ 0.        ,  0.        ],\n",
              "         [ 0.        ,  0.        ],\n",
              "         [ 0.        ,  0.        ]]]), 'mask': array([[[ True],\n",
              "         [ True],\n",
              "         [ True],\n",
              "         ...,\n",
              "         [False],\n",
              "         [False],\n",
              "         [False]],\n",
              " \n",
              "        [[ True],\n",
              "         [ True],\n",
              "         [ True],\n",
              "         ...,\n",
              "         [False],\n",
              "         [False],\n",
              "         [False]],\n",
              " \n",
              "        [[ True],\n",
              "         [ True],\n",
              "         [ True],\n",
              "         ...,\n",
              "         [False],\n",
              "         [False],\n",
              "         [False]],\n",
              " \n",
              "        ...,\n",
              " \n",
              "        [[ True],\n",
              "         [ True],\n",
              "         [ True],\n",
              "         ...,\n",
              "         [False],\n",
              "         [False],\n",
              "         [False]],\n",
              " \n",
              "        [[ True],\n",
              "         [ True],\n",
              "         [ True],\n",
              "         ...,\n",
              "         [False],\n",
              "         [False],\n",
              "         [False]],\n",
              " \n",
              "        [[ True],\n",
              "         [ True],\n",
              "         [ True],\n",
              "         ...,\n",
              "         [False],\n",
              "         [False],\n",
              "         [False]]]), 'points': array([[[-1.31904408,  0.85237344],\n",
              "         [-1.27440941,  0.94101908],\n",
              "         [-1.22977474,  1.02966471],\n",
              "         ...,\n",
              "         [ 0.        ,  0.        ],\n",
              "         [ 0.        ,  0.        ],\n",
              "         [ 0.        ,  0.        ]],\n",
              " \n",
              "        [[ 0.5556121 , -1.45241305],\n",
              "         [ 0.82342013, -1.45241305],\n",
              "         [ 0.64488144, -1.45241305],\n",
              "         ...,\n",
              "         [ 0.        ,  0.        ],\n",
              "         [ 0.        ,  0.        ],\n",
              "         [ 0.        ,  0.        ]],\n",
              " \n",
              "        [[-1.18514007, -0.65460234],\n",
              "         [-1.22977474, -0.74324798],\n",
              "         [-1.27440941, -0.83189361],\n",
              "         ...,\n",
              "         [ 0.        ,  0.        ],\n",
              "         [ 0.        ,  0.        ],\n",
              "         [ 0.        ,  0.        ]],\n",
              " \n",
              "        ...,\n",
              " \n",
              "        [[-0.42635066,  1.02966471],\n",
              "         [-0.38171599,  1.11831035],\n",
              "         [-0.33708132,  1.56153852],\n",
              "         ...,\n",
              "         [ 0.        ,  0.        ],\n",
              "         [ 0.        ,  0.        ],\n",
              "         [ 0.        ,  0.        ]],\n",
              " \n",
              "        [[ 1.13586283,  0.76372781],\n",
              "         [ 0.91268947,  0.85237344],\n",
              "         [ 1.22513217,  0.76372781],\n",
              "         ...,\n",
              "         [ 0.        ,  0.        ],\n",
              "         [ 0.        ,  0.        ],\n",
              "         [ 0.        ,  0.        ]],\n",
              " \n",
              "        [[ 0.60024677,  1.47289289],\n",
              "         [ 0.5556121 ,  1.38424725],\n",
              "         [ 0.51097743,  1.29560162],\n",
              "         ...,\n",
              "         [ 0.        ,  0.        ],\n",
              "         [ 0.        ,  0.        ],\n",
              "         [ 0.        ,  0.        ]]]), 'summary': array([[-0.34576986, -1.04439114,  1.76991767, -0.87688709],\n",
              "        [-0.21850888,  1.52895457,  1.0185879 , -0.23897128],\n",
              "        [ 0.52633891, -0.11710326, -0.48360822,  0.39894453],\n",
              "        ...,\n",
              "        [ 1.15976794,  0.13837472, -0.33008876,  1.67477614],\n",
              "        [-0.58195485, -0.24096014, -0.60876344, -0.66424849],\n",
              "        [-0.54055609, -0.9503557 ,  0.56942459, -0.66424849]])}"
            ]
          },
          "metadata": {},
          "execution_count": 67
        }
      ]
    },
    {
      "cell_type": "code",
      "source": [
        "bin = model.predict(test_data)"
      ],
      "metadata": {
        "id": "DzN_L2Sbl-PL"
      },
      "execution_count": 87,
      "outputs": []
    },
    {
      "cell_type": "code",
      "source": [
        "bin_sig = bin[test_label == 1][:, 0]\n",
        "bin_bkg = bin[test_label == 0][:, 0]\n",
        "weight_sig = test_weight[test_label == 1]\n",
        "weight_bkg = test_weight[test_label == 0]\n",
        "\n",
        "test_virgin_data = {key: virgin_data[key][int(N*0.7) : int(N*0.9)] for key in name_map}\n",
        "\n",
        "en = test_virgin_data[\"summary\"][:, 0]\n",
        "en_sig = en[test_label == 1]\n",
        "en_bkg = en[test_label == 0]\n",
        "\n",
        "plt.hist(en_sig, range=(50, 100), bins=50, weights=weight_sig * bin_sig, color=\"black\")\n",
        "plt.hist(en_bkg, range=(50, 100), bins=50, weights=weight_bkg * bin_bkg, color=\"red\")"
      ],
      "metadata": {
        "id": "FoO0WltJnw8Y",
        "outputId": "8c74be50-05b1-400b-f772-d1dc7467d7b2",
        "colab": {
          "base_uri": "https://localhost:8080/",
          "height": 595
        }
      },
      "execution_count": 97,
      "outputs": [
        {
          "output_type": "execute_result",
          "data": {
            "text/plain": [
              "(array([5.44873251e+01, 8.69295973e+01, 4.22663782e+01, 1.10606711e+01,\n",
              "        3.07184428e+01, 4.88239414e+00, 5.47987568e+00, 7.82707962e+00,\n",
              "        3.65253377e+00, 4.85258911e+00, 3.57661796e+00, 7.10565088e-01,\n",
              "        1.06478499e+00, 1.99004340e+00, 1.51781140e-01, 1.81160546e-01,\n",
              "        2.17998718e-01, 1.00092594e+00, 2.07026478e-01, 1.61935037e-01,\n",
              "        1.28439297e-01, 1.93918866e-01, 1.26605373e+01, 2.12986105e-01,\n",
              "        1.42990004e-01, 1.66674470e-01, 7.65389934e-01, 1.43595289e+01,\n",
              "        2.48464860e-01, 2.33216918e-01, 1.33751220e-01, 1.53573824e-01,\n",
              "        1.75878551e-01, 8.65983081e-02, 1.83885298e-01, 1.83139855e-01,\n",
              "        1.19141762e-01, 2.00291940e-01, 1.43941527e-01, 1.71992214e-01,\n",
              "        7.42119894e-02, 1.44020200e-01, 1.52953705e-01, 1.84544337e-01,\n",
              "        1.49845306e-01, 1.66344400e-01, 1.63562233e-01, 1.58368380e-01,\n",
              "        1.29482928e-01, 1.09117140e-01]),\n",
              " array([ 50.,  51.,  52.,  53.,  54.,  55.,  56.,  57.,  58.,  59.,  60.,\n",
              "         61.,  62.,  63.,  64.,  65.,  66.,  67.,  68.,  69.,  70.,  71.,\n",
              "         72.,  73.,  74.,  75.,  76.,  77.,  78.,  79.,  80.,  81.,  82.,\n",
              "         83.,  84.,  85.,  86.,  87.,  88.,  89.,  90.,  91.,  92.,  93.,\n",
              "         94.,  95.,  96.,  97.,  98.,  99., 100.]),\n",
              " <a list of 50 Patch objects>)"
            ]
          },
          "metadata": {},
          "execution_count": 97
        },
        {
          "output_type": "display_data",
          "data": {
            "text/plain": [
              "<Figure size 432x288 with 1 Axes>"
            ],
            "image/png": "[encoded data removed]"
          },
          "metadata": {
            "needs_background": "light"
          }
        }
      ]
    }
  ],
  "metadata": {
    "kernelspec": {
      "display_name": "Python 3 (ipykernel)",
      "language": "python",
      "name": "python3"
    },
    "language_info": {
      "codemirror_mode": {
        "name": "ipython",
        "version": 3
      },
      "file_extension": ".py",
      "mimetype": "text/x-python",
      "name": "python",
      "nbconvert_exporter": "python",
      "pygments_lexer": "ipython3",
      "version": "3.8.10"
    },
    "colab": {
      "name": "keras_train.ipynb",
      "provenance": []
    },
    "accelerator": "GPU",
    "gpuClass": "standard"
  },
  "nbformat": 4,
  "nbformat_minor": 0
}