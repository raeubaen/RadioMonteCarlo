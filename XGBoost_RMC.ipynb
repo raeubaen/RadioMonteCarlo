{
  "cells": [
    {
      "cell_type": "markdown",
      "metadata": {
        "id": "view-in-github",
        "colab_type": "text"
      },
      "source": [
        "<a href=\"https://colab.research.google.com/github/raeubaen/RadioMonteCarlo/blob/main/XGBoost_RMC.ipynb\" target=\"_parent\"><img src=\"https://colab.research.google.com/assets/colab-badge.svg\" alt=\"Open In Colab\"/></a>"
      ]
    },
    {
      "cell_type": "code",
      "execution_count": 1,
      "metadata": {
        "colab": {
          "base_uri": "https://localhost:8080/"
        },
        "id": "VPFuzj2sxRv-",
        "outputId": "323d718f-86a8-4e4e-8997-53430545ee6c"
      },
      "outputs": [
        {
          "output_type": "stream",
          "name": "stdout",
          "text": [
            "Tue Jun 21 20:19:49 2022       \n",
            "+-----------------------------------------------------------------------------+\n",
            "| NVIDIA-SMI 460.32.03    Driver Version: 460.32.03    CUDA Version: 11.2     |\n",
            "|-------------------------------+----------------------+----------------------+\n",
            "| GPU  Name        Persistence-M| Bus-Id        Disp.A | Volatile Uncorr. ECC |\n",
            "| Fan  Temp  Perf  Pwr:Usage/Cap|         Memory-Usage | GPU-Util  Compute M. |\n",
            "|                               |                      |               MIG M. |\n",
            "|===============================+======================+======================|\n",
            "|   0  Tesla T4            Off  | 00000000:00:04.0 Off |                    0 |\n",
            "| N/A   74C    P8    13W /  70W |      0MiB / 15109MiB |      0%      Default |\n",
            "|                               |                      |                  N/A |\n",
            "+-------------------------------+----------------------+----------------------+\n",
            "                                                                               \n",
            "+-----------------------------------------------------------------------------+\n",
            "| Processes:                                                                  |\n",
            "|  GPU   GI   CI        PID   Type   Process name                  GPU Memory |\n",
            "|        ID   ID                                                   Usage      |\n",
            "|=============================================================================|\n",
            "|  No running processes found                                                 |\n",
            "+-----------------------------------------------------------------------------+\n"
          ]
        }
      ],
      "source": [
        "import numpy as np\n",
        "import os\n",
        "import xgboost as xgb\n",
        "import time\n",
        "\n",
        "import matplotlib.pyplot as plt\n",
        "from sklearn.metrics import precision_recall_curve, auc\n",
        "\n",
        "from sklearn.model_selection import train_test_split\n",
        "\n",
        "\n",
        "np.random.seed() # shuffle random seed generator\n",
        "\n",
        "\n",
        "!nvidia-smi"
      ]
    },
    {
      "cell_type": "code",
      "execution_count": 2,
      "metadata": {
        "colab": {
          "base_uri": "https://localhost:8080/"
        },
        "id": "6GmfOdecRx7K",
        "outputId": "3eb91f1c-a05e-4db5-d21c-9492ff68f5f1"
      },
      "outputs": [
        {
          "output_type": "stream",
          "name": "stdout",
          "text": [
            "--2022-06-21 20:19:49--  https://www.dropbox.com/s/fqxxodsx3xpe9ge/mnbs_etrn.npy?dl=1\n",
            "Resolving www.dropbox.com (www.dropbox.com)... 162.125.2.18, 2620:100:6018:18::a27d:312\n",
            "Connecting to www.dropbox.com (www.dropbox.com)|162.125.2.18|:443... connected.\n",
            "HTTP request sent, awaiting response... 301 Moved Permanently\n",
            "Location: /s/dl/fqxxodsx3xpe9ge/mnbs_etrn.npy [following]\n",
            "--2022-06-21 20:19:50--  https://www.dropbox.com/s/dl/fqxxodsx3xpe9ge/mnbs_etrn.npy\n",
            "Reusing existing connection to www.dropbox.com:443.\n",
            "HTTP request sent, awaiting response... 302 Found\n",
            "Location: https://uc8a831603f94f81578544a6c110.dl.dropboxusercontent.com/cd/0/get/BnoGQvv940GNYzJiMSuWanXnVLkSiAh1UpKBu-62EpzPEI1ivbgKkPnGiaT_ByJEg5aRniVsSeJfxPtjWikTiSZTr-l0_hVVscrQbswSdsihr2sYOjNVYEaORL9M_U9kGxh7yfa6pBoU_-IKq7I_5-F-ZVtZaXZVfzerwv3agDb-WZkHC_vBr5ow2_mjaAWW5u0/file?dl=1# [following]\n",
            "--2022-06-21 20:19:50--  https://uc8a831603f94f81578544a6c110.dl.dropboxusercontent.com/cd/0/get/BnoGQvv940GNYzJiMSuWanXnVLkSiAh1UpKBu-62EpzPEI1ivbgKkPnGiaT_ByJEg5aRniVsSeJfxPtjWikTiSZTr-l0_hVVscrQbswSdsihr2sYOjNVYEaORL9M_U9kGxh7yfa6pBoU_-IKq7I_5-F-ZVtZaXZVfzerwv3agDb-WZkHC_vBr5ow2_mjaAWW5u0/file?dl=1\n",
            "Resolving uc8a831603f94f81578544a6c110.dl.dropboxusercontent.com (uc8a831603f94f81578544a6c110.dl.dropboxusercontent.com)... 162.125.3.15, 2620:100:6018:15::a27d:30f\n",
            "Connecting to uc8a831603f94f81578544a6c110.dl.dropboxusercontent.com (uc8a831603f94f81578544a6c110.dl.dropboxusercontent.com)|162.125.3.15|:443... connected.\n",
            "HTTP request sent, awaiting response... 200 OK\n",
            "Length: 36304 (35K) [application/binary]\n",
            "Saving to: ‘bkg_etrn.npy’\n",
            "\n",
            "bkg_etrn.npy        100%[===================>]  35.45K  --.-KB/s    in 0.01s   \n",
            "\n",
            "2022-06-21 20:19:50 (3.13 MB/s) - ‘bkg_etrn.npy’ saved [36304/36304]\n",
            "\n",
            "--2022-06-21 20:19:51--  https://www.dropbox.com/s/bto89w1z2knnak7/signal_etrn.npy?dl=1\n",
            "Resolving www.dropbox.com (www.dropbox.com)... 162.125.2.18, 2620:100:6018:18::a27d:312\n",
            "Connecting to www.dropbox.com (www.dropbox.com)|162.125.2.18|:443... connected.\n",
            "HTTP request sent, awaiting response... 301 Moved Permanently\n",
            "Location: /s/dl/bto89w1z2knnak7/signal_etrn.npy [following]\n",
            "--2022-06-21 20:19:51--  https://www.dropbox.com/s/dl/bto89w1z2knnak7/signal_etrn.npy\n",
            "Reusing existing connection to www.dropbox.com:443.\n",
            "HTTP request sent, awaiting response... 302 Found\n",
            "Location: https://uc581d69dee9d28480a5682a4d88.dl.dropboxusercontent.com/cd/0/get/Bnq8YEoMuZN6f6pCfTj8NiZ7cihZE1w_BoD8WKSKMiG8W-Apx_4aVQeiRBnSqrKm8gs-qipgF5UIS1Qmbwx1QrQ4H30PvgfxnOJPnlSGwIOGiYz2Y_8ARVSdP6z758tTOIJSSMEnMTjEj94SuSOC5D50UxPJ9XWaP1T8gbou-jVNYIaIR_szxK1WQ30DVTSLH2c/file?dl=1# [following]\n",
            "--2022-06-21 20:19:51--  https://uc581d69dee9d28480a5682a4d88.dl.dropboxusercontent.com/cd/0/get/Bnq8YEoMuZN6f6pCfTj8NiZ7cihZE1w_BoD8WKSKMiG8W-Apx_4aVQeiRBnSqrKm8gs-qipgF5UIS1Qmbwx1QrQ4H30PvgfxnOJPnlSGwIOGiYz2Y_8ARVSdP6z758tTOIJSSMEnMTjEj94SuSOC5D50UxPJ9XWaP1T8gbou-jVNYIaIR_szxK1WQ30DVTSLH2c/file?dl=1\n",
            "Resolving uc581d69dee9d28480a5682a4d88.dl.dropboxusercontent.com (uc581d69dee9d28480a5682a4d88.dl.dropboxusercontent.com)... 162.125.3.15, 2620:100:6018:15::a27d:30f\n",
            "Connecting to uc581d69dee9d28480a5682a4d88.dl.dropboxusercontent.com (uc581d69dee9d28480a5682a4d88.dl.dropboxusercontent.com)|162.125.3.15|:443... connected.\n",
            "HTTP request sent, awaiting response... 200 OK\n",
            "Length: 1324032 (1.3M) [application/binary]\n",
            "Saving to: ‘signal_etrn.npy’\n",
            "\n",
            "signal_etrn.npy     100%[===================>]   1.26M  --.-KB/s    in 0.07s   \n",
            "\n",
            "2022-06-21 20:19:52 (18.6 MB/s) - ‘signal_etrn.npy’ saved [1324032/1324032]\n",
            "\n"
          ]
        }
      ],
      "source": [
        "'''\n",
        "!wget https://www.dropbox.com/s/qrv8y0l3wlcgx8f/bkg_etrn.npy?dl=1 -O bkg_etrn.npy\n",
        "!wget https://www.dropbox.com/s/va1mo6um1al1l5r/signal_etrn.npy?dl=1 -O signal_etrn.npy\n",
        "'''\n",
        "\n",
        "!wget https://www.dropbox.com/s/fqxxodsx3xpe9ge/mnbs_etrn.npy?dl=1 -O bkg_etrn.npy\n",
        "\n",
        "!wget https://www.dropbox.com/s/bto89w1z2knnak7/signal_etrn.npy?dl=1 -O signal_etrn.npy"
      ]
    },
    {
      "cell_type": "code",
      "execution_count": 3,
      "metadata": {
        "id": "4r6lNQX1yD7a"
      },
      "outputs": [],
      "source": [
        "def spectrum(x):\n",
        "  kmax = 90.4\n",
        "  x[x>kmax] = 0\n",
        "  return (1-2*x/kmax+2*x/kmax*x/kmax)*x/kmax*(1-x/kmax)**2\n",
        "\n",
        "def import_data(signal_file, bkg_file, emin, nlim, read_from_txt, cols_cut):\n",
        "  #nlim 150000 emin 40 cols_cut -1 senza etrn\n",
        "\n",
        "  np.random.seed() # shuffle random seed generator\n",
        "\n",
        "  if read_from_txt:\n",
        "    signal_numpy_data = np.loadtxt(signal_file)[:nlim, :cols_cut]\n",
        "\n",
        "    signal_numpy_data = signal_numpy_data[signal_numpy_data[:, 0]>emin]\n",
        "\n",
        "    print(signal_numpy_data[:, 0].shape)\n",
        "\n",
        "    signal_numpy_data = signal_numpy_data[np.random.choice(\n",
        "      len(signal_numpy_data), size=len(signal_numpy_data),\n",
        "      p=spectrum(signal_numpy_data[:, 0])/np.sum(spectrum(signal_numpy_data[:, 0]))\n",
        "    )]\n",
        "\n",
        "    np.save(signal_file, signal_numpy_data)\n",
        "\n",
        "  else:\n",
        "      signal_numpy_data = np.load(signal_file)[:nlim, :cols_cut]\n",
        "\n",
        "  signal_numpy_data = signal_numpy_data[signal_numpy_data[:, 0]>emin]\n",
        "\n",
        "  print(f\"Signal Data shape: {signal_numpy_data.shape}\")\n",
        "\n",
        "\n",
        "  if read_from_txt: \n",
        "      bkg_numpy_data = np.loadtxt(bkg_file)[:nlim, :cols_cut]\n",
        "      bkg_numpy_data = bkg_numpy_data[bkg_numpy_data[:, 0]>emin]\n",
        "      np.save(bkg_file, bkg_numpy_data)\n",
        "  else:\n",
        "      bkg_numpy_data = np.load(bkg_file)[:nlim, :cols_cut]\n",
        "\n",
        "  bkg_numpy_data = bkg_numpy_data[bkg_numpy_data[:, 0]>emin]\n",
        "\n",
        "  print(f\"bkg Data shape: {bkg_numpy_data.shape}\")\n",
        "\n",
        "  return (signal_numpy_data, bkg_numpy_data)"
      ]
    },
    {
      "cell_type": "code",
      "execution_count": 4,
      "metadata": {
        "colab": {
          "base_uri": "https://localhost:8080/"
        },
        "id": "GslyeioyTpO4",
        "outputId": "63e8c5c9-ed63-4027-9758-25f453213ac3"
      },
      "outputs": [
        {
          "output_type": "stream",
          "name": "stdout",
          "text": [
            "Signal Data shape: (41372, 4)\n",
            "bkg Data shape: (1132, 4)\n",
            "X shape: (42504, 4)\n",
            "Y shape: (42504,)\n"
          ]
        }
      ],
      "source": [
        "'''\n",
        "signal_numpy_data, bkg_numpy_data = import_data(\n",
        "    \"signal.npy\", \"bkg.npy\", 40, 150000, 0, -1\n",
        ")\n",
        "'''\n",
        "\n",
        "signal_numpy_data, bkg_numpy_data = import_data(\n",
        "    \"signal_etrn.npy\", \"bkg_etrn.npy\", 50, 1000000, 0, 4\n",
        ")\n",
        "\n",
        "train_to_test_ratio = 0.1\n",
        "\n",
        "X = np.concatenate((signal_numpy_data, bkg_numpy_data))\n",
        "Y = np.concatenate((np.ones(len(signal_numpy_data)), np.zeros(len(bkg_numpy_data))))\n",
        "\n",
        "\n",
        "signal_weight = 330/150e3 * 100\n",
        "mnbs_weight = 1.3/5.25 * 100\n",
        "\n",
        "W = np.concatenate(\n",
        "    [ np.ones((len(signal_numpy_data)))*signal_weight, np.ones((len(bkg_numpy_data)))*mnbs_weight ]\n",
        ")\n",
        "\n",
        "print(f\"X shape: {X.shape}\")\n",
        "print(f\"Y shape: {Y.shape}\")\n",
        "\n",
        "X_train, X_test, Y_train, Y_test, W_train, W_test = train_test_split(\n",
        "    X, Y, W,\n",
        "    train_size=train_to_test_ratio,\n",
        "    test_size=1.0 - train_to_test_ratio\n",
        ")\n",
        "\n",
        "X_train, X_val, Y_train, Y_val, W_train, W_val = train_test_split(\n",
        "    X, Y, W,\n",
        "    train_size=train_to_test_ratio,\n",
        "    test_size=1.0 - train_to_test_ratio\n",
        ")\n"
      ]
    },
    {
      "cell_type": "code",
      "execution_count": 14,
      "metadata": {
        "colab": {
          "base_uri": "https://localhost:8080/"
        },
        "id": "LDsguShJxTIp",
        "outputId": "9d101578-c02b-4b30-e62e-8890b13e4f90"
      },
      "outputs": [
        {
          "output_type": "stream",
          "name": "stdout",
          "text": [
            "[0]\ttrain-aucpr:0.958569\tval-aucpr:0.854916\n",
            "[1]\ttrain-aucpr:0.972456\tval-aucpr:0.870484\n",
            "[2]\ttrain-aucpr:0.986562\tval-aucpr:0.892551\n",
            "[3]\ttrain-aucpr:0.98664\tval-aucpr:0.891303\n",
            "[4]\ttrain-aucpr:0.988355\tval-aucpr:0.89333\n",
            "[5]\ttrain-aucpr:0.992631\tval-aucpr:0.918409\n",
            "[6]\ttrain-aucpr:0.993855\tval-aucpr:0.89998\n",
            "[7]\ttrain-aucpr:0.994924\tval-aucpr:0.905788\n",
            "[8]\ttrain-aucpr:0.996057\tval-aucpr:0.906556\n",
            "[9]\ttrain-aucpr:0.997098\tval-aucpr:0.907441\n",
            "[10]\ttrain-aucpr:0.997311\tval-aucpr:0.911835\n",
            "[11]\ttrain-aucpr:0.99752\tval-aucpr:0.906226\n",
            "[12]\ttrain-aucpr:0.997879\tval-aucpr:0.912767\n",
            "[13]\ttrain-aucpr:0.998079\tval-aucpr:0.91255\n",
            "[14]\ttrain-aucpr:0.998503\tval-aucpr:0.904083\n",
            "[15]\ttrain-aucpr:0.998633\tval-aucpr:0.904384\n",
            "[16]\ttrain-aucpr:0.998832\tval-aucpr:0.903838\n",
            "[17]\ttrain-aucpr:0.999058\tval-aucpr:0.905492\n",
            "[18]\ttrain-aucpr:0.999159\tval-aucpr:0.900833\n",
            "[19]\ttrain-aucpr:0.999219\tval-aucpr:0.904997\n",
            "[20]\ttrain-aucpr:0.999271\tval-aucpr:0.902589\n",
            "[21]\ttrain-aucpr:0.999533\tval-aucpr:0.909671\n",
            "[22]\ttrain-aucpr:0.999665\tval-aucpr:0.908994\n",
            "[23]\ttrain-aucpr:0.999695\tval-aucpr:0.909803\n",
            "[24]\ttrain-aucpr:0.999726\tval-aucpr:0.908974\n",
            "[25]\ttrain-aucpr:0.999759\tval-aucpr:0.906028\n",
            "[26]\ttrain-aucpr:0.999801\tval-aucpr:0.908615\n",
            "[27]\ttrain-aucpr:0.999821\tval-aucpr:0.910937\n",
            "[28]\ttrain-aucpr:0.999838\tval-aucpr:0.911823\n",
            "[29]\ttrain-aucpr:0.999864\tval-aucpr:0.914948\n",
            "[30]\ttrain-aucpr:0.999858\tval-aucpr:0.912162\n",
            "[31]\ttrain-aucpr:0.999863\tval-aucpr:0.911274\n",
            "[32]\ttrain-aucpr:0.999872\tval-aucpr:0.912924\n",
            "[33]\ttrain-aucpr:0.999916\tval-aucpr:0.911697\n",
            "[34]\ttrain-aucpr:0.999911\tval-aucpr:0.908864\n",
            "[35]\ttrain-aucpr:0.999904\tval-aucpr:0.907147\n",
            "[36]\ttrain-aucpr:0.999942\tval-aucpr:0.909102\n",
            "[37]\ttrain-aucpr:0.999961\tval-aucpr:0.909071\n",
            "[38]\ttrain-aucpr:0.999972\tval-aucpr:0.908333\n",
            "[39]\ttrain-aucpr:0.999988\tval-aucpr:0.906243\n",
            "[40]\ttrain-aucpr:1\tval-aucpr:0.904689\n",
            "[41]\ttrain-aucpr:1\tval-aucpr:0.906696\n",
            "[42]\ttrain-aucpr:1\tval-aucpr:0.908327\n",
            "[43]\ttrain-aucpr:1\tval-aucpr:0.908985\n",
            "[44]\ttrain-aucpr:1\tval-aucpr:0.907518\n",
            "[45]\ttrain-aucpr:1\tval-aucpr:0.908297\n",
            "[46]\ttrain-aucpr:1\tval-aucpr:0.908865\n",
            "[47]\ttrain-aucpr:1\tval-aucpr:0.908511\n",
            "[48]\ttrain-aucpr:1\tval-aucpr:0.908296\n",
            "[49]\ttrain-aucpr:1\tval-aucpr:0.909142\n",
            "0.6313269138336182\n"
          ]
        }
      ],
      "source": [
        "time_start = time.time()\n",
        "xg_train = xgb.DMatrix(X_train, label=Y_train, weight=W_train)\n",
        "xg_test = xgb.DMatrix(X_test, label=Y_test, weight=W_test)\n",
        "xg_val = xgb.DMatrix(X_val, label=Y_val, weight=W_val)\n",
        "\n",
        "param = {\n",
        "    # use softmax multi-class classification\n",
        "    # scale weight of positive examples\n",
        "    'objective': 'binary:logistic',\n",
        "    'n_estimators': 20,\n",
        "    'max_depth': 5,\n",
        "    'silent': 0,\n",
        "    'gpu_id': 0,\n",
        "    #'max_bin': 6,\n",
        "    'tree_method': 'gpu_hist',\n",
        "    \"eval_metric\": [\n",
        "      \"aucpr\",\n",
        "    ]\n",
        "}\n",
        "\n",
        "\n",
        "\n",
        "# watchlist allows us to monitor the evaluation result on all data in the list \n",
        "watchlist = [(xg_train, 'train'), (xg_val, 'val')]\n",
        "num_round = 50\n",
        "\n",
        "bst = xgb.train(param, xg_train, num_round, watchlist)\n",
        "\n",
        "print(time.time() - time_start)\n"
      ]
    },
    {
      "cell_type": "code",
      "execution_count": 15,
      "metadata": {
        "colab": {
          "base_uri": "https://localhost:8080/",
          "height": 318
        },
        "id": "j3qUosQ-4qSW",
        "outputId": "f92731a2-8fdd-4d3f-e8a6-2326aeae1b6a"
      },
      "outputs": [
        {
          "output_type": "stream",
          "name": "stdout",
          "text": [
            "AUprC: 0.9168530407539821\n"
          ]
        },
        {
          "output_type": "execute_result",
          "data": {
            "text/plain": [
              "Text(0, 0.5, 'Efficiency')"
            ]
          },
          "metadata": {},
          "execution_count": 15
        },
        {
          "output_type": "display_data",
          "data": {
            "text/plain": [
              "<Figure size 432x288 with 1 Axes>"
            ],
            "image/png": "[encoded data removed]"
          },
          "metadata": {
            "needs_background": "light"
          }
        }
      ],
      "source": [
        "probs = bst.predict(xg_test)\n",
        "\n",
        "prec, recall, thres = precision_recall_curve(Y_test, probs, sample_weight=W_test)\n",
        "\n",
        "print(f\"AUprC: {auc(recall, prec)}\")\n",
        "\n",
        "plt.plot(recall, prec)\n",
        "plt.plot([0, 1], [0, 1])\n",
        "\n",
        "plt.xlim(0, 1)\n",
        "plt.ylim(0, 1)\n",
        "plt.xlabel(\"Purity\")\n",
        "plt.ylabel(\"Efficiency\")"
      ]
    }
  ],
  "metadata": {
    "accelerator": "GPU",
    "colab": {
      "collapsed_sections": [],
      "name": "XGBoost RMC.ipynb",
      "provenance": [],
      "authorship_tag": "ABX9TyMyi6MbTTPp1H/ZnYzFxVqE",
      "include_colab_link": true
    },
    "kernelspec": {
      "display_name": "Python 3",
      "name": "python3"
    },
    "language_info": {
      "name": "python"
    }
  },
  "nbformat": 4,
  "nbformat_minor": 0
}